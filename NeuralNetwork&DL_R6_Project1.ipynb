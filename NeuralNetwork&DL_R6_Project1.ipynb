{
 "cells": [
  {
   "cell_type": "markdown",
   "metadata": {
    "colab_type": "text",
    "id": "R1-vF_jNMNVa"
   },
   "source": [
    "### The case study is from an open source dataset from Kaggle. \n",
    "\n",
    "##### Link to the Kaggle project site:\n",
    "\n",
    "https://www.kaggle.com/barelydedicated/bank-customer-churn-modeling (Links to an external site.)\n",
    "\n",
    "### Given a Bank customer, can we build a classifier which can determine whether they will leave or not using Neural networks?"
   ]
  },
  {
   "cell_type": "markdown",
   "metadata": {
    "colab_type": "text",
    "id": "Y3gWok_5MNVd"
   },
   "source": [
    "#### 1. Read the dataset"
   ]
  },
  {
   "cell_type": "code",
   "execution_count": 2,
   "metadata": {
    "colab": {},
    "colab_type": "code",
    "id": "PZStl6NOMNVe"
   },
   "outputs": [],
   "source": [
    "import numpy as np\n",
    "import pandas as pd\n",
    "\n",
    "bank = pd.read_csv(\"bank.csv\")"
   ]
  },
  {
   "cell_type": "code",
   "execution_count": 3,
   "metadata": {
    "colab": {
     "base_uri": "https://localhost:8080/",
     "height": 224
    },
    "colab_type": "code",
    "id": "4vAj5gInMNVk",
    "outputId": "152fa4f4-0904-4392-a985-1a528cf96fc1"
   },
   "outputs": [
    {
     "data": {
      "text/html": [
       "<div>\n",
       "<style scoped>\n",
       "    .dataframe tbody tr th:only-of-type {\n",
       "        vertical-align: middle;\n",
       "    }\n",
       "\n",
       "    .dataframe tbody tr th {\n",
       "        vertical-align: top;\n",
       "    }\n",
       "\n",
       "    .dataframe thead th {\n",
       "        text-align: right;\n",
       "    }\n",
       "</style>\n",
       "<table border=\"1\" class=\"dataframe\">\n",
       "  <thead>\n",
       "    <tr style=\"text-align: right;\">\n",
       "      <th></th>\n",
       "      <th>RowNumber</th>\n",
       "      <th>CustomerId</th>\n",
       "      <th>Surname</th>\n",
       "      <th>CreditScore</th>\n",
       "      <th>Geography</th>\n",
       "      <th>Gender</th>\n",
       "      <th>Age</th>\n",
       "      <th>Tenure</th>\n",
       "      <th>Balance</th>\n",
       "      <th>NumOfProducts</th>\n",
       "      <th>HasCrCard</th>\n",
       "      <th>IsActiveMember</th>\n",
       "      <th>EstimatedSalary</th>\n",
       "      <th>Exited</th>\n",
       "    </tr>\n",
       "  </thead>\n",
       "  <tbody>\n",
       "    <tr>\n",
       "      <th>0</th>\n",
       "      <td>1</td>\n",
       "      <td>15634602</td>\n",
       "      <td>Hargrave</td>\n",
       "      <td>619</td>\n",
       "      <td>France</td>\n",
       "      <td>Female</td>\n",
       "      <td>42</td>\n",
       "      <td>2</td>\n",
       "      <td>0.00</td>\n",
       "      <td>1</td>\n",
       "      <td>1</td>\n",
       "      <td>1</td>\n",
       "      <td>101348.88</td>\n",
       "      <td>1</td>\n",
       "    </tr>\n",
       "    <tr>\n",
       "      <th>1</th>\n",
       "      <td>2</td>\n",
       "      <td>15647311</td>\n",
       "      <td>Hill</td>\n",
       "      <td>608</td>\n",
       "      <td>Spain</td>\n",
       "      <td>Female</td>\n",
       "      <td>41</td>\n",
       "      <td>1</td>\n",
       "      <td>83807.86</td>\n",
       "      <td>1</td>\n",
       "      <td>0</td>\n",
       "      <td>1</td>\n",
       "      <td>112542.58</td>\n",
       "      <td>0</td>\n",
       "    </tr>\n",
       "    <tr>\n",
       "      <th>2</th>\n",
       "      <td>3</td>\n",
       "      <td>15619304</td>\n",
       "      <td>Onio</td>\n",
       "      <td>502</td>\n",
       "      <td>France</td>\n",
       "      <td>Female</td>\n",
       "      <td>42</td>\n",
       "      <td>8</td>\n",
       "      <td>159660.80</td>\n",
       "      <td>3</td>\n",
       "      <td>1</td>\n",
       "      <td>0</td>\n",
       "      <td>113931.57</td>\n",
       "      <td>1</td>\n",
       "    </tr>\n",
       "    <tr>\n",
       "      <th>3</th>\n",
       "      <td>4</td>\n",
       "      <td>15701354</td>\n",
       "      <td>Boni</td>\n",
       "      <td>699</td>\n",
       "      <td>France</td>\n",
       "      <td>Female</td>\n",
       "      <td>39</td>\n",
       "      <td>1</td>\n",
       "      <td>0.00</td>\n",
       "      <td>2</td>\n",
       "      <td>0</td>\n",
       "      <td>0</td>\n",
       "      <td>93826.63</td>\n",
       "      <td>0</td>\n",
       "    </tr>\n",
       "    <tr>\n",
       "      <th>4</th>\n",
       "      <td>5</td>\n",
       "      <td>15737888</td>\n",
       "      <td>Mitchell</td>\n",
       "      <td>850</td>\n",
       "      <td>Spain</td>\n",
       "      <td>Female</td>\n",
       "      <td>43</td>\n",
       "      <td>2</td>\n",
       "      <td>125510.82</td>\n",
       "      <td>1</td>\n",
       "      <td>1</td>\n",
       "      <td>1</td>\n",
       "      <td>79084.10</td>\n",
       "      <td>0</td>\n",
       "    </tr>\n",
       "  </tbody>\n",
       "</table>\n",
       "</div>"
      ],
      "text/plain": [
       "   RowNumber  CustomerId   Surname  CreditScore Geography  Gender  Age  \\\n",
       "0          1    15634602  Hargrave          619    France  Female   42   \n",
       "1          2    15647311      Hill          608     Spain  Female   41   \n",
       "2          3    15619304      Onio          502    France  Female   42   \n",
       "3          4    15701354      Boni          699    France  Female   39   \n",
       "4          5    15737888  Mitchell          850     Spain  Female   43   \n",
       "\n",
       "   Tenure    Balance  NumOfProducts  HasCrCard  IsActiveMember  \\\n",
       "0       2       0.00              1          1               1   \n",
       "1       1   83807.86              1          0               1   \n",
       "2       8  159660.80              3          1               0   \n",
       "3       1       0.00              2          0               0   \n",
       "4       2  125510.82              1          1               1   \n",
       "\n",
       "   EstimatedSalary  Exited  \n",
       "0        101348.88       1  \n",
       "1        112542.58       0  \n",
       "2        113931.57       1  \n",
       "3         93826.63       0  \n",
       "4         79084.10       0  "
      ]
     },
     "execution_count": 3,
     "metadata": {},
     "output_type": "execute_result"
    }
   ],
   "source": [
    "bank.head()"
   ]
  },
  {
   "cell_type": "code",
   "execution_count": 4,
   "metadata": {
    "colab": {
     "base_uri": "https://localhost:8080/",
     "height": 340
    },
    "colab_type": "code",
    "id": "Bqbu2t_-MNVr",
    "outputId": "860ae55c-fe7c-45ef-c818-8be9afcbddfa"
   },
   "outputs": [
    {
     "name": "stdout",
     "output_type": "stream",
     "text": [
      "<class 'pandas.core.frame.DataFrame'>\n",
      "RangeIndex: 10000 entries, 0 to 9999\n",
      "Data columns (total 14 columns):\n",
      "RowNumber          10000 non-null int64\n",
      "CustomerId         10000 non-null int64\n",
      "Surname            10000 non-null object\n",
      "CreditScore        10000 non-null int64\n",
      "Geography          10000 non-null object\n",
      "Gender             10000 non-null object\n",
      "Age                10000 non-null int64\n",
      "Tenure             10000 non-null int64\n",
      "Balance            10000 non-null float64\n",
      "NumOfProducts      10000 non-null int64\n",
      "HasCrCard          10000 non-null int64\n",
      "IsActiveMember     10000 non-null int64\n",
      "EstimatedSalary    10000 non-null float64\n",
      "Exited             10000 non-null int64\n",
      "dtypes: float64(2), int64(9), object(3)\n",
      "memory usage: 1.1+ MB\n"
     ]
    }
   ],
   "source": [
    "bank.info()"
   ]
  },
  {
   "cell_type": "markdown",
   "metadata": {
    "colab_type": "text",
    "id": "tO17c6JWMNVw"
   },
   "source": [
    "#### 2. Drop the columns which are unique for all users like IDs"
   ]
  },
  {
   "cell_type": "code",
   "execution_count": 5,
   "metadata": {
    "colab": {},
    "colab_type": "code",
    "id": "WP8Ijk-CMNV3"
   },
   "outputs": [],
   "source": [
    "bank.drop(['RowNumber', 'CustomerId', 'Surname'], axis=1, inplace=True)"
   ]
  },
  {
   "cell_type": "code",
   "execution_count": 6,
   "metadata": {
    "colab": {
     "base_uri": "https://localhost:8080/",
     "height": 224
    },
    "colab_type": "code",
    "id": "SUE46mTQMNV7",
    "outputId": "739bcaff-04a6-4d9e-eb18-6982be69aae6"
   },
   "outputs": [
    {
     "data": {
      "text/html": [
       "<div>\n",
       "<style scoped>\n",
       "    .dataframe tbody tr th:only-of-type {\n",
       "        vertical-align: middle;\n",
       "    }\n",
       "\n",
       "    .dataframe tbody tr th {\n",
       "        vertical-align: top;\n",
       "    }\n",
       "\n",
       "    .dataframe thead th {\n",
       "        text-align: right;\n",
       "    }\n",
       "</style>\n",
       "<table border=\"1\" class=\"dataframe\">\n",
       "  <thead>\n",
       "    <tr style=\"text-align: right;\">\n",
       "      <th></th>\n",
       "      <th>CreditScore</th>\n",
       "      <th>Geography</th>\n",
       "      <th>Gender</th>\n",
       "      <th>Age</th>\n",
       "      <th>Tenure</th>\n",
       "      <th>Balance</th>\n",
       "      <th>NumOfProducts</th>\n",
       "      <th>HasCrCard</th>\n",
       "      <th>IsActiveMember</th>\n",
       "      <th>EstimatedSalary</th>\n",
       "      <th>Exited</th>\n",
       "    </tr>\n",
       "  </thead>\n",
       "  <tbody>\n",
       "    <tr>\n",
       "      <th>0</th>\n",
       "      <td>619</td>\n",
       "      <td>France</td>\n",
       "      <td>Female</td>\n",
       "      <td>42</td>\n",
       "      <td>2</td>\n",
       "      <td>0.00</td>\n",
       "      <td>1</td>\n",
       "      <td>1</td>\n",
       "      <td>1</td>\n",
       "      <td>101348.88</td>\n",
       "      <td>1</td>\n",
       "    </tr>\n",
       "    <tr>\n",
       "      <th>1</th>\n",
       "      <td>608</td>\n",
       "      <td>Spain</td>\n",
       "      <td>Female</td>\n",
       "      <td>41</td>\n",
       "      <td>1</td>\n",
       "      <td>83807.86</td>\n",
       "      <td>1</td>\n",
       "      <td>0</td>\n",
       "      <td>1</td>\n",
       "      <td>112542.58</td>\n",
       "      <td>0</td>\n",
       "    </tr>\n",
       "    <tr>\n",
       "      <th>2</th>\n",
       "      <td>502</td>\n",
       "      <td>France</td>\n",
       "      <td>Female</td>\n",
       "      <td>42</td>\n",
       "      <td>8</td>\n",
       "      <td>159660.80</td>\n",
       "      <td>3</td>\n",
       "      <td>1</td>\n",
       "      <td>0</td>\n",
       "      <td>113931.57</td>\n",
       "      <td>1</td>\n",
       "    </tr>\n",
       "    <tr>\n",
       "      <th>3</th>\n",
       "      <td>699</td>\n",
       "      <td>France</td>\n",
       "      <td>Female</td>\n",
       "      <td>39</td>\n",
       "      <td>1</td>\n",
       "      <td>0.00</td>\n",
       "      <td>2</td>\n",
       "      <td>0</td>\n",
       "      <td>0</td>\n",
       "      <td>93826.63</td>\n",
       "      <td>0</td>\n",
       "    </tr>\n",
       "    <tr>\n",
       "      <th>4</th>\n",
       "      <td>850</td>\n",
       "      <td>Spain</td>\n",
       "      <td>Female</td>\n",
       "      <td>43</td>\n",
       "      <td>2</td>\n",
       "      <td>125510.82</td>\n",
       "      <td>1</td>\n",
       "      <td>1</td>\n",
       "      <td>1</td>\n",
       "      <td>79084.10</td>\n",
       "      <td>0</td>\n",
       "    </tr>\n",
       "  </tbody>\n",
       "</table>\n",
       "</div>"
      ],
      "text/plain": [
       "   CreditScore Geography  Gender  Age  Tenure    Balance  NumOfProducts  \\\n",
       "0          619    France  Female   42       2       0.00              1   \n",
       "1          608     Spain  Female   41       1   83807.86              1   \n",
       "2          502    France  Female   42       8  159660.80              3   \n",
       "3          699    France  Female   39       1       0.00              2   \n",
       "4          850     Spain  Female   43       2  125510.82              1   \n",
       "\n",
       "   HasCrCard  IsActiveMember  EstimatedSalary  Exited  \n",
       "0          1               1        101348.88       1  \n",
       "1          0               1        112542.58       0  \n",
       "2          1               0        113931.57       1  \n",
       "3          0               0         93826.63       0  \n",
       "4          1               1         79084.10       0  "
      ]
     },
     "execution_count": 6,
     "metadata": {},
     "output_type": "execute_result"
    }
   ],
   "source": [
    "bank.head()"
   ]
  },
  {
   "cell_type": "code",
   "execution_count": 7,
   "metadata": {
    "colab": {
     "base_uri": "https://localhost:8080/",
     "height": 224
    },
    "colab_type": "code",
    "id": "W4ivfblsMNWE",
    "outputId": "614a65bb-3dfc-46a3-913e-73c3120c7ee7"
   },
   "outputs": [
    {
     "data": {
      "text/html": [
       "<div>\n",
       "<style scoped>\n",
       "    .dataframe tbody tr th:only-of-type {\n",
       "        vertical-align: middle;\n",
       "    }\n",
       "\n",
       "    .dataframe tbody tr th {\n",
       "        vertical-align: top;\n",
       "    }\n",
       "\n",
       "    .dataframe thead th {\n",
       "        text-align: right;\n",
       "    }\n",
       "</style>\n",
       "<table border=\"1\" class=\"dataframe\">\n",
       "  <thead>\n",
       "    <tr style=\"text-align: right;\">\n",
       "      <th></th>\n",
       "      <th>CreditScore</th>\n",
       "      <th>Geography</th>\n",
       "      <th>Gender</th>\n",
       "      <th>Age</th>\n",
       "      <th>Tenure</th>\n",
       "      <th>Balance</th>\n",
       "      <th>NumOfProducts</th>\n",
       "      <th>HasCrCard</th>\n",
       "      <th>IsActiveMember</th>\n",
       "      <th>EstimatedSalary</th>\n",
       "      <th>Exited</th>\n",
       "    </tr>\n",
       "  </thead>\n",
       "  <tbody>\n",
       "    <tr>\n",
       "      <th>100</th>\n",
       "      <td>665</td>\n",
       "      <td>France</td>\n",
       "      <td>0</td>\n",
       "      <td>40</td>\n",
       "      <td>6</td>\n",
       "      <td>0.00</td>\n",
       "      <td>1</td>\n",
       "      <td>1</td>\n",
       "      <td>1</td>\n",
       "      <td>161848.03</td>\n",
       "      <td>0</td>\n",
       "    </tr>\n",
       "    <tr>\n",
       "      <th>6576</th>\n",
       "      <td>823</td>\n",
       "      <td>France</td>\n",
       "      <td>1</td>\n",
       "      <td>37</td>\n",
       "      <td>5</td>\n",
       "      <td>164858.18</td>\n",
       "      <td>1</td>\n",
       "      <td>1</td>\n",
       "      <td>1</td>\n",
       "      <td>173516.71</td>\n",
       "      <td>0</td>\n",
       "    </tr>\n",
       "    <tr>\n",
       "      <th>7975</th>\n",
       "      <td>641</td>\n",
       "      <td>Germany</td>\n",
       "      <td>1</td>\n",
       "      <td>42</td>\n",
       "      <td>3</td>\n",
       "      <td>121765.37</td>\n",
       "      <td>2</td>\n",
       "      <td>1</td>\n",
       "      <td>1</td>\n",
       "      <td>166516.84</td>\n",
       "      <td>0</td>\n",
       "    </tr>\n",
       "    <tr>\n",
       "      <th>3217</th>\n",
       "      <td>598</td>\n",
       "      <td>Spain</td>\n",
       "      <td>0</td>\n",
       "      <td>56</td>\n",
       "      <td>4</td>\n",
       "      <td>98365.33</td>\n",
       "      <td>1</td>\n",
       "      <td>1</td>\n",
       "      <td>1</td>\n",
       "      <td>44251.33</td>\n",
       "      <td>0</td>\n",
       "    </tr>\n",
       "    <tr>\n",
       "      <th>919</th>\n",
       "      <td>552</td>\n",
       "      <td>Spain</td>\n",
       "      <td>1</td>\n",
       "      <td>45</td>\n",
       "      <td>9</td>\n",
       "      <td>0.00</td>\n",
       "      <td>2</td>\n",
       "      <td>1</td>\n",
       "      <td>0</td>\n",
       "      <td>26752.56</td>\n",
       "      <td>0</td>\n",
       "    </tr>\n",
       "  </tbody>\n",
       "</table>\n",
       "</div>"
      ],
      "text/plain": [
       "      CreditScore Geography  Gender  Age  Tenure    Balance  NumOfProducts  \\\n",
       "100           665    France       0   40       6       0.00              1   \n",
       "6576          823    France       1   37       5  164858.18              1   \n",
       "7975          641   Germany       1   42       3  121765.37              2   \n",
       "3217          598     Spain       0   56       4   98365.33              1   \n",
       "919           552     Spain       1   45       9       0.00              2   \n",
       "\n",
       "      HasCrCard  IsActiveMember  EstimatedSalary  Exited  \n",
       "100           1               1        161848.03       0  \n",
       "6576          1               1        173516.71       0  \n",
       "7975          1               1        166516.84       0  \n",
       "3217          1               1         44251.33       0  \n",
       "919           1               0         26752.56       0  "
      ]
     },
     "execution_count": 7,
     "metadata": {},
     "output_type": "execute_result"
    }
   ],
   "source": [
    "bank[\"Gender\"], mapping_index = pd.factorize(bank[\"Gender\"])\n",
    "bank.sample(5)"
   ]
  },
  {
   "cell_type": "code",
   "execution_count": 8,
   "metadata": {
    "colab": {
     "base_uri": "https://localhost:8080/",
     "height": 472
    },
    "colab_type": "code",
    "id": "agREjYdZMNWJ",
    "outputId": "a709f538-c2dd-4507-bd3d-c6d028f3249a"
   },
   "outputs": [
    {
     "data": {
      "text/html": [
       "<div>\n",
       "<style scoped>\n",
       "    .dataframe tbody tr th:only-of-type {\n",
       "        vertical-align: middle;\n",
       "    }\n",
       "\n",
       "    .dataframe tbody tr th {\n",
       "        vertical-align: top;\n",
       "    }\n",
       "\n",
       "    .dataframe thead th {\n",
       "        text-align: right;\n",
       "    }\n",
       "</style>\n",
       "<table border=\"1\" class=\"dataframe\">\n",
       "  <thead>\n",
       "    <tr style=\"text-align: right;\">\n",
       "      <th></th>\n",
       "      <th>118</th>\n",
       "      <th>634</th>\n",
       "      <th>9199</th>\n",
       "      <th>2363</th>\n",
       "      <th>7371</th>\n",
       "      <th>1755</th>\n",
       "      <th>7814</th>\n",
       "      <th>3002</th>\n",
       "      <th>5283</th>\n",
       "      <th>9268</th>\n",
       "    </tr>\n",
       "  </thead>\n",
       "  <tbody>\n",
       "    <tr>\n",
       "      <th>CreditScore</th>\n",
       "      <td>524.00</td>\n",
       "      <td>850.00</td>\n",
       "      <td>544.0</td>\n",
       "      <td>571.00</td>\n",
       "      <td>850.00</td>\n",
       "      <td>533.00</td>\n",
       "      <td>647.00</td>\n",
       "      <td>786.00</td>\n",
       "      <td>656.00</td>\n",
       "      <td>596.00</td>\n",
       "    </tr>\n",
       "    <tr>\n",
       "      <th>Gender</th>\n",
       "      <td>0.00</td>\n",
       "      <td>1.00</td>\n",
       "      <td>0.0</td>\n",
       "      <td>0.00</td>\n",
       "      <td>1.00</td>\n",
       "      <td>0.00</td>\n",
       "      <td>0.00</td>\n",
       "      <td>0.00</td>\n",
       "      <td>0.00</td>\n",
       "      <td>1.00</td>\n",
       "    </tr>\n",
       "    <tr>\n",
       "      <th>Age</th>\n",
       "      <td>31.00</td>\n",
       "      <td>31.00</td>\n",
       "      <td>26.0</td>\n",
       "      <td>33.00</td>\n",
       "      <td>30.00</td>\n",
       "      <td>52.00</td>\n",
       "      <td>33.00</td>\n",
       "      <td>32.00</td>\n",
       "      <td>23.00</td>\n",
       "      <td>29.00</td>\n",
       "    </tr>\n",
       "    <tr>\n",
       "      <th>Tenure</th>\n",
       "      <td>8.00</td>\n",
       "      <td>6.00</td>\n",
       "      <td>6.0</td>\n",
       "      <td>9.00</td>\n",
       "      <td>10.00</td>\n",
       "      <td>7.00</td>\n",
       "      <td>3.00</td>\n",
       "      <td>2.00</td>\n",
       "      <td>4.00</td>\n",
       "      <td>2.00</td>\n",
       "    </tr>\n",
       "    <tr>\n",
       "      <th>Balance</th>\n",
       "      <td>107818.63</td>\n",
       "      <td>67996.23</td>\n",
       "      <td>0.0</td>\n",
       "      <td>0.00</td>\n",
       "      <td>153972.89</td>\n",
       "      <td>0.00</td>\n",
       "      <td>168560.46</td>\n",
       "      <td>104336.43</td>\n",
       "      <td>163549.63</td>\n",
       "      <td>0.00</td>\n",
       "    </tr>\n",
       "    <tr>\n",
       "      <th>NumOfProducts</th>\n",
       "      <td>1.00</td>\n",
       "      <td>2.00</td>\n",
       "      <td>1.0</td>\n",
       "      <td>2.00</td>\n",
       "      <td>2.00</td>\n",
       "      <td>1.00</td>\n",
       "      <td>2.00</td>\n",
       "      <td>2.00</td>\n",
       "      <td>1.00</td>\n",
       "      <td>2.00</td>\n",
       "    </tr>\n",
       "    <tr>\n",
       "      <th>HasCrCard</th>\n",
       "      <td>1.00</td>\n",
       "      <td>0.00</td>\n",
       "      <td>1.0</td>\n",
       "      <td>0.00</td>\n",
       "      <td>1.00</td>\n",
       "      <td>0.00</td>\n",
       "      <td>0.00</td>\n",
       "      <td>0.00</td>\n",
       "      <td>0.00</td>\n",
       "      <td>1.00</td>\n",
       "    </tr>\n",
       "    <tr>\n",
       "      <th>IsActiveMember</th>\n",
       "      <td>0.00</td>\n",
       "      <td>0.00</td>\n",
       "      <td>0.0</td>\n",
       "      <td>1.00</td>\n",
       "      <td>0.00</td>\n",
       "      <td>1.00</td>\n",
       "      <td>0.00</td>\n",
       "      <td>0.00</td>\n",
       "      <td>1.00</td>\n",
       "      <td>1.00</td>\n",
       "    </tr>\n",
       "    <tr>\n",
       "      <th>EstimatedSalary</th>\n",
       "      <td>199725.39</td>\n",
       "      <td>50129.87</td>\n",
       "      <td>100200.4</td>\n",
       "      <td>77519.62</td>\n",
       "      <td>62811.03</td>\n",
       "      <td>194113.99</td>\n",
       "      <td>90270.16</td>\n",
       "      <td>59559.81</td>\n",
       "      <td>21085.12</td>\n",
       "      <td>1591.19</td>\n",
       "    </tr>\n",
       "    <tr>\n",
       "      <th>Exited</th>\n",
       "      <td>1.00</td>\n",
       "      <td>1.00</td>\n",
       "      <td>1.0</td>\n",
       "      <td>0.00</td>\n",
       "      <td>0.00</td>\n",
       "      <td>1.00</td>\n",
       "      <td>0.00</td>\n",
       "      <td>0.00</td>\n",
       "      <td>0.00</td>\n",
       "      <td>0.00</td>\n",
       "    </tr>\n",
       "    <tr>\n",
       "      <th>Geography_Germany</th>\n",
       "      <td>1.00</td>\n",
       "      <td>0.00</td>\n",
       "      <td>0.0</td>\n",
       "      <td>0.00</td>\n",
       "      <td>0.00</td>\n",
       "      <td>0.00</td>\n",
       "      <td>1.00</td>\n",
       "      <td>1.00</td>\n",
       "      <td>1.00</td>\n",
       "      <td>0.00</td>\n",
       "    </tr>\n",
       "    <tr>\n",
       "      <th>Geography_Spain</th>\n",
       "      <td>0.00</td>\n",
       "      <td>0.00</td>\n",
       "      <td>0.0</td>\n",
       "      <td>0.00</td>\n",
       "      <td>0.00</td>\n",
       "      <td>1.00</td>\n",
       "      <td>0.00</td>\n",
       "      <td>0.00</td>\n",
       "      <td>0.00</td>\n",
       "      <td>1.00</td>\n",
       "    </tr>\n",
       "  </tbody>\n",
       "</table>\n",
       "</div>"
      ],
      "text/plain": [
       "                        118       634       9199      2363       7371  \\\n",
       "CreditScore           524.00    850.00     544.0    571.00     850.00   \n",
       "Gender                  0.00      1.00       0.0      0.00       1.00   \n",
       "Age                    31.00     31.00      26.0     33.00      30.00   \n",
       "Tenure                  8.00      6.00       6.0      9.00      10.00   \n",
       "Balance            107818.63  67996.23       0.0      0.00  153972.89   \n",
       "NumOfProducts           1.00      2.00       1.0      2.00       2.00   \n",
       "HasCrCard               1.00      0.00       1.0      0.00       1.00   \n",
       "IsActiveMember          0.00      0.00       0.0      1.00       0.00   \n",
       "EstimatedSalary    199725.39  50129.87  100200.4  77519.62   62811.03   \n",
       "Exited                  1.00      1.00       1.0      0.00       0.00   \n",
       "Geography_Germany       1.00      0.00       0.0      0.00       0.00   \n",
       "Geography_Spain         0.00      0.00       0.0      0.00       0.00   \n",
       "\n",
       "                        1755       7814       3002       5283     9268  \n",
       "CreditScore           533.00     647.00     786.00     656.00   596.00  \n",
       "Gender                  0.00       0.00       0.00       0.00     1.00  \n",
       "Age                    52.00      33.00      32.00      23.00    29.00  \n",
       "Tenure                  7.00       3.00       2.00       4.00     2.00  \n",
       "Balance                 0.00  168560.46  104336.43  163549.63     0.00  \n",
       "NumOfProducts           1.00       2.00       2.00       1.00     2.00  \n",
       "HasCrCard               0.00       0.00       0.00       0.00     1.00  \n",
       "IsActiveMember          1.00       0.00       0.00       1.00     1.00  \n",
       "EstimatedSalary    194113.99   90270.16   59559.81   21085.12  1591.19  \n",
       "Exited                  1.00       0.00       0.00       0.00     0.00  \n",
       "Geography_Germany       0.00       1.00       1.00       1.00     0.00  \n",
       "Geography_Spain         1.00       0.00       0.00       0.00     1.00  "
      ]
     },
     "execution_count": 8,
     "metadata": {},
     "output_type": "execute_result"
    }
   ],
   "source": [
    "bank_num = pd.get_dummies(bank, columns=[\"Geography\"], prefix=[\"Geography\"], drop_first=True, dtype='int64')\n",
    "bank_num.sample(10).T"
   ]
  },
  {
   "cell_type": "markdown",
   "metadata": {
    "colab_type": "text",
    "id": "pbdGaiT0MNWU"
   },
   "source": [
    "#### 3. Distinguish the feature and target set"
   ]
  },
  {
   "cell_type": "code",
   "execution_count": 9,
   "metadata": {
    "colab": {},
    "colab_type": "code",
    "id": "lBAQhc4qMNWW"
   },
   "outputs": [],
   "source": [
    "X = bank_num.drop(['Exited'], axis=1)\n",
    "Y = bank_num['Exited']"
   ]
  },
  {
   "cell_type": "markdown",
   "metadata": {
    "colab_type": "text",
    "id": "8T4msb4bMNWa"
   },
   "source": [
    "#### 4.Divide the data set into Train and test sets"
   ]
  },
  {
   "cell_type": "code",
   "execution_count": 10,
   "metadata": {
    "colab": {},
    "colab_type": "code",
    "id": "W5A1mZnXMNWb"
   },
   "outputs": [],
   "source": [
    "from sklearn.model_selection import train_test_split\n",
    "x_train, x_test, y_train, y_test = train_test_split(X, Y, test_size = 0.2, random_state = 0)"
   ]
  },
  {
   "cell_type": "markdown",
   "metadata": {
    "colab_type": "text",
    "id": "iiSUp3HfMNWf"
   },
   "source": [
    "#### 5. Normalize the train and test data"
   ]
  },
  {
   "cell_type": "code",
   "execution_count": 11,
   "metadata": {
    "colab": {},
    "colab_type": "code",
    "id": "Q9O6W1YuMNWh"
   },
   "outputs": [
    {
     "name": "stderr",
     "output_type": "stream",
     "text": [
      "D:\\Softwares\\anaconda3\\lib\\site-packages\\sklearn\\preprocessing\\data.py:625: DataConversionWarning: Data with input dtype int64, float64 were all converted to float64 by StandardScaler.\n",
      "  return self.partial_fit(X, y)\n",
      "D:\\Softwares\\anaconda3\\lib\\site-packages\\sklearn\\base.py:462: DataConversionWarning: Data with input dtype int64, float64 were all converted to float64 by StandardScaler.\n",
      "  return self.fit(X, **fit_params).transform(X)\n",
      "D:\\Softwares\\anaconda3\\lib\\site-packages\\ipykernel_launcher.py:4: DataConversionWarning: Data with input dtype int64, float64 were all converted to float64 by StandardScaler.\n",
      "  after removing the cwd from sys.path.\n"
     ]
    }
   ],
   "source": [
    "from sklearn.preprocessing import StandardScaler\n",
    "sc=StandardScaler()\n",
    "x_train = sc.fit_transform(x_train)\n",
    "x_test = sc.transform(x_test)"
   ]
  },
  {
   "cell_type": "markdown",
   "metadata": {
    "colab_type": "text",
    "id": "ISaH5FqTMNWl"
   },
   "source": [
    "#### 6. Initialize & build the model"
   ]
  },
  {
   "cell_type": "code",
   "execution_count": 33,
   "metadata": {
    "colab": {
     "base_uri": "https://localhost:8080/",
     "height": 751
    },
    "colab_type": "code",
    "id": "eUbULP48MNWm",
    "outputId": "c8fd9f70-2185-4309-ab95-479aaa521eb0"
   },
   "outputs": [
    {
     "name": "stdout",
     "output_type": "stream",
     "text": [
      "Train on 8000 samples, validate on 2000 samples\n",
      "Epoch 1/100\n",
      "8000/8000 [==============================] - 3s 351us/step - loss: 0.5490 - acc: 0.7960 - val_loss: 0.4411 - val_acc: 0.7975\n",
      "Epoch 2/100\n",
      "8000/8000 [==============================] - 1s 88us/step - loss: 0.4230 - acc: 0.7960 - val_loss: 0.4061 - val_acc: 0.7975\n",
      "Epoch 3/100\n",
      "8000/8000 [==============================] - 1s 95us/step - loss: 0.3990 - acc: 0.7960 - val_loss: 0.3905 - val_acc: 0.7975\n",
      "Epoch 4/100\n",
      "8000/8000 [==============================] - 1s 94us/step - loss: 0.3853 - acc: 0.8005 - val_loss: 0.3784 - val_acc: 0.8450\n",
      "Epoch 5/100\n",
      "8000/8000 [==============================] - 1s 93us/step - loss: 0.3792 - acc: 0.8430 - val_loss: 0.3750 - val_acc: 0.8415\n",
      "Epoch 6/100\n",
      "8000/8000 [==============================] - 1s 92us/step - loss: 0.3754 - acc: 0.8458 - val_loss: 0.3751 - val_acc: 0.8440\n",
      "Epoch 7/100\n",
      "8000/8000 [==============================] - 1s 92us/step - loss: 0.3733 - acc: 0.8464 - val_loss: 0.3685 - val_acc: 0.8470\n",
      "Epoch 8/100\n",
      "8000/8000 [==============================] - 1s 91us/step - loss: 0.3709 - acc: 0.8458 - val_loss: 0.3652 - val_acc: 0.8490\n",
      "Epoch 9/100\n",
      "8000/8000 [==============================] - 1s 97us/step - loss: 0.3685 - acc: 0.8491 - val_loss: 0.3622 - val_acc: 0.8510\n",
      "Epoch 10/100\n",
      "8000/8000 [==============================] - 1s 90us/step - loss: 0.3666 - acc: 0.8488 - val_loss: 0.3624 - val_acc: 0.8550\n",
      "Epoch 11/100\n",
      "8000/8000 [==============================] - 1s 92us/step - loss: 0.3638 - acc: 0.8506 - val_loss: 0.3610 - val_acc: 0.8560\n",
      "Epoch 12/100\n",
      "8000/8000 [==============================] - 1s 95us/step - loss: 0.3628 - acc: 0.8509 - val_loss: 0.3541 - val_acc: 0.8585\n",
      "Epoch 13/100\n",
      "8000/8000 [==============================] - 1s 98us/step - loss: 0.3611 - acc: 0.8536 - val_loss: 0.3556 - val_acc: 0.8580\n",
      "Epoch 14/100\n",
      "8000/8000 [==============================] - 1s 106us/step - loss: 0.3597 - acc: 0.8557 - val_loss: 0.3544 - val_acc: 0.8575\n",
      "Epoch 15/100\n",
      "8000/8000 [==============================] - 1s 106us/step - loss: 0.3586 - acc: 0.8555 - val_loss: 0.3502 - val_acc: 0.8620\n",
      "Epoch 16/100\n",
      "8000/8000 [==============================] - 1s 103us/step - loss: 0.3576 - acc: 0.8570 - val_loss: 0.3518 - val_acc: 0.8580\n",
      "Epoch 17/100\n",
      "8000/8000 [==============================] - 1s 106us/step - loss: 0.3572 - acc: 0.8545 - val_loss: 0.3538 - val_acc: 0.8585\n",
      "Epoch 18/100\n",
      "8000/8000 [==============================] - 1s 104us/step - loss: 0.3562 - acc: 0.8589 - val_loss: 0.3475 - val_acc: 0.8580\n",
      "Epoch 19/100\n",
      "8000/8000 [==============================] - 1s 107us/step - loss: 0.3554 - acc: 0.8554 - val_loss: 0.3498 - val_acc: 0.8590\n",
      "Epoch 20/100\n",
      "8000/8000 [==============================] - 1s 107us/step - loss: 0.3546 - acc: 0.8594 - val_loss: 0.3481 - val_acc: 0.8585\n"
     ]
    },
    {
     "data": {
      "text/plain": [
       "<keras.callbacks.History at 0x7f6d8db45dd8>"
      ]
     },
     "execution_count": 33,
     "metadata": {
      "tags": []
     },
     "output_type": "execute_result"
    }
   ],
   "source": [
    "import keras\n",
    "from keras.models import Sequential\n",
    "from keras.layers import Dense\n",
    "from keras.callbacks import EarlyStopping\n",
    "\n",
    "es = EarlyStopping(monitor='val_acc', patience=5)\n",
    "model = Sequential()\n",
    "model.add(Dense(units = 4, kernel_initializer = 'uniform', activation = 'relu', input_dim = 11))\n",
    "model.add(Dense(units = 4, kernel_initializer = 'uniform', activation = 'relu'))\n",
    "model.add(Dense(units = 6, kernel_initializer = 'uniform', activation = 'relu'))\n",
    "model.add(Dense(units = 6, kernel_initializer = 'uniform', activation = 'relu'))\n",
    "model.add(Dense(units = 1, kernel_initializer = 'uniform', activation = 'sigmoid'))\n",
    "model.compile(optimizer = 'adam', loss = \"binary_crossentropy\", metrics = ['accuracy'])\n",
    "model.fit(x_train,y_train, validation_data=(x_test, y_test), epochs=100, batch_size=20, callbacks=[es])"
   ]
  },
  {
   "cell_type": "markdown",
   "metadata": {
    "colab_type": "text",
    "id": "O70ckXe_MNWq"
   },
   "source": [
    "#### 7. Optimize the model (Optional)"
   ]
  },
  {
   "cell_type": "code",
   "execution_count": 39,
   "metadata": {
    "colab": {
     "base_uri": "https://localhost:8080/",
     "height": 581
    },
    "colab_type": "code",
    "id": "9zDzTdBTMNWs",
    "outputId": "3994d530-2003-4886-b10b-0a5bc051ac4d"
   },
   "outputs": [
    {
     "name": "stdout",
     "output_type": "stream",
     "text": [
      "Train on 8000 samples, validate on 2000 samples\n",
      "Epoch 1/100\n",
      "8000/8000 [==============================] - 5s 579us/step - loss: 0.5501 - acc: 0.7565 - val_loss: 0.3999 - val_acc: 0.8530\n",
      "Epoch 2/100\n",
      "8000/8000 [==============================] - 1s 137us/step - loss: 0.3955 - acc: 0.8368 - val_loss: 0.3404 - val_acc: 0.8600\n",
      "Epoch 3/100\n",
      "8000/8000 [==============================] - 1s 140us/step - loss: 0.3759 - acc: 0.8440 - val_loss: 0.3520 - val_acc: 0.8535\n",
      "Epoch 4/100\n",
      "8000/8000 [==============================] - 1s 139us/step - loss: 0.3713 - acc: 0.8458 - val_loss: 0.3481 - val_acc: 0.8570\n",
      "Epoch 5/100\n",
      "8000/8000 [==============================] - 1s 138us/step - loss: 0.3687 - acc: 0.8464 - val_loss: 0.3534 - val_acc: 0.8585\n",
      "Epoch 6/100\n",
      "8000/8000 [==============================] - 1s 144us/step - loss: 0.3663 - acc: 0.8486 - val_loss: 0.3463 - val_acc: 0.8625\n",
      "Epoch 7/100\n",
      "8000/8000 [==============================] - 1s 147us/step - loss: 0.3627 - acc: 0.8505 - val_loss: 0.3374 - val_acc: 0.8635\n",
      "Epoch 8/100\n",
      "8000/8000 [==============================] - 1s 143us/step - loss: 0.3609 - acc: 0.8484 - val_loss: 0.3382 - val_acc: 0.8585\n",
      "Epoch 9/100\n",
      "8000/8000 [==============================] - 1s 138us/step - loss: 0.3654 - acc: 0.8476 - val_loss: 0.3421 - val_acc: 0.8595\n",
      "Epoch 10/100\n",
      "8000/8000 [==============================] - 1s 138us/step - loss: 0.3585 - acc: 0.8531 - val_loss: 0.3354 - val_acc: 0.8675\n",
      "Epoch 11/100\n",
      "8000/8000 [==============================] - 1s 147us/step - loss: 0.3621 - acc: 0.8500 - val_loss: 0.3467 - val_acc: 0.8620\n",
      "Epoch 12/100\n",
      "8000/8000 [==============================] - 1s 140us/step - loss: 0.3611 - acc: 0.8504 - val_loss: 0.3443 - val_acc: 0.8635\n",
      "Epoch 13/100\n",
      "8000/8000 [==============================] - 1s 141us/step - loss: 0.3589 - acc: 0.8502 - val_loss: 0.3397 - val_acc: 0.8650\n",
      "Epoch 14/100\n",
      "8000/8000 [==============================] - 1s 140us/step - loss: 0.3581 - acc: 0.8508 - val_loss: 0.3393 - val_acc: 0.8655\n",
      "Epoch 15/100\n",
      "8000/8000 [==============================] - 1s 148us/step - loss: 0.3601 - acc: 0.8529 - val_loss: 0.3332 - val_acc: 0.8635\n"
     ]
    },
    {
     "data": {
      "text/plain": [
       "<keras.callbacks.History at 0x7f6d8a0019e8>"
      ]
     },
     "execution_count": 39,
     "metadata": {
      "tags": []
     },
     "output_type": "execute_result"
    }
   ],
   "source": [
    "from keras.layers.normalization import BatchNormalization\n",
    "\n",
    "model = Sequential()\n",
    "model.add(Dense(units = 4, kernel_initializer = 'uniform', activation = 'relu', input_dim = 11))\n",
    "model.add(BatchNormalization())\n",
    "model.add(Dense(units = 6, kernel_initializer = 'uniform', activation = 'relu'))\n",
    "model.add(BatchNormalization())\n",
    "model.add(Dense(units = 6, kernel_initializer = 'uniform', activation = 'relu'))\n",
    "model.add(BatchNormalization())\n",
    "model.add(Dense(units = 1, kernel_initializer = 'uniform', activation = 'sigmoid'))\n",
    "model.compile(optimizer = 'adam', loss = \"binary_crossentropy\", metrics = ['accuracy'])\n",
    "model.fit(x_train,y_train, validation_data=(x_test, y_test), epochs=100, batch_size=20, callbacks=[es])"
   ]
  },
  {
   "cell_type": "markdown",
   "metadata": {
    "colab_type": "text",
    "id": "evnRiimIMNWw"
   },
   "source": [
    "#### 8. Predict the results using 0.5 as a threshold (Optional)"
   ]
  },
  {
   "cell_type": "code",
   "execution_count": 0,
   "metadata": {
    "colab": {},
    "colab_type": "code",
    "id": "cak2L0FMMNWx"
   },
   "outputs": [],
   "source": [
    "y_pred = model.predict(x_test)\n",
    "y_pred = (y_pred > 0.5)"
   ]
  },
  {
   "cell_type": "markdown",
   "metadata": {
    "colab_type": "text",
    "id": "Wj4xatynMNW1"
   },
   "source": [
    "#### 9.Print the Accuracy score and confusion matrix"
   ]
  },
  {
   "cell_type": "code",
   "execution_count": 42,
   "metadata": {
    "colab": {
     "base_uri": "https://localhost:8080/",
     "height": 51
    },
    "colab_type": "code",
    "id": "af23725oVPkf",
    "outputId": "9721d416-c995-4ac8-a3bf-0ce6945b62f3"
   },
   "outputs": [
    {
     "name": "stdout",
     "output_type": "stream",
     "text": [
      "8000/8000 [==============================] - 0s 43us/step\n"
     ]
    },
    {
     "data": {
      "text/plain": [
       "86.2125"
      ]
     },
     "execution_count": 42,
     "metadata": {
      "tags": []
     },
     "output_type": "execute_result"
    }
   ],
   "source": [
    "scores = model.evaluate(x_train, y_train)\n",
    "scores[1]*100"
   ]
  },
  {
   "cell_type": "code",
   "execution_count": 43,
   "metadata": {
    "colab": {
     "base_uri": "https://localhost:8080/",
     "height": 51
    },
    "colab_type": "code",
    "id": "KNZvBgWyVWI_",
    "outputId": "3fbfb6aa-0101-47c9-bc26-66ac50ac8116"
   },
   "outputs": [
    {
     "name": "stdout",
     "output_type": "stream",
     "text": [
      "2000/2000 [==============================] - 0s 43us/step\n"
     ]
    },
    {
     "data": {
      "text/plain": [
       "86.35000000000001"
      ]
     },
     "execution_count": 43,
     "metadata": {
      "tags": []
     },
     "output_type": "execute_result"
    }
   ],
   "source": [
    "scores = model.evaluate(x_test, y_test)\n",
    "scores[1]*100"
   ]
  },
  {
   "cell_type": "code",
   "execution_count": 44,
   "metadata": {
    "colab": {
     "base_uri": "https://localhost:8080/",
     "height": 34
    },
    "colab_type": "code",
    "id": "yb7Urqu2VXKa",
    "outputId": "545b3e0f-2e09-49c1-f04d-204945ccdd48"
   },
   "outputs": [
    {
     "name": "stdout",
     "output_type": "stream",
     "text": [
      "Accuracy:  0.8635\n"
     ]
    }
   ],
   "source": [
    "from sklearn import metrics\n",
    "print('Accuracy: ' , metrics.accuracy_score(y_test,y_pred))"
   ]
  },
  {
   "cell_type": "code",
   "execution_count": 45,
   "metadata": {
    "colab": {
     "base_uri": "https://localhost:8080/",
     "height": 170
    },
    "colab_type": "code",
    "id": "gbFEin6cVmiT",
    "outputId": "9fb4721e-105b-4038-98f5-f0aae973450c"
   },
   "outputs": [
    {
     "name": "stdout",
     "output_type": "stream",
     "text": [
      "              precision    recall  f1-score   support\n",
      "\n",
      "           0       0.88      0.95      0.92      1595\n",
      "           1       0.74      0.50      0.60       405\n",
      "\n",
      "    accuracy                           0.86      2000\n",
      "   macro avg       0.81      0.73      0.76      2000\n",
      "weighted avg       0.85      0.86      0.85      2000\n",
      "\n"
     ]
    }
   ],
   "source": [
    "report=metrics.classification_report(y_test, y_pred)\n",
    "print(report)"
   ]
  },
  {
   "cell_type": "code",
   "execution_count": 46,
   "metadata": {
    "colab": {
     "base_uri": "https://localhost:8080/",
     "height": 51
    },
    "colab_type": "code",
    "id": "qE3b25XoVtK2",
    "outputId": "94149f41-1ddc-4c37-97a3-7bfb5c03e1fc"
   },
   "outputs": [
    {
     "name": "stdout",
     "output_type": "stream",
     "text": [
      "[[1523   72]\n",
      " [ 201  204]]\n"
     ]
    }
   ],
   "source": [
    "from sklearn.metrics import confusion_matrix\n",
    "confusion = confusion_matrix(y_test, y_pred)\n",
    "print (confusion)"
   ]
  }
 ],
 "metadata": {
  "accelerator": "TPU",
  "colab": {
   "name": "NeuralNetwork&DL_R6_Project1.ipynb",
   "provenance": [],
   "toc_visible": true,
   "version": "0.3.2"
  },
  "kernelspec": {
   "display_name": "Python 3",
   "language": "python",
   "name": "python3"
  },
  "language_info": {
   "codemirror_mode": {
    "name": "ipython",
    "version": 3
   },
   "file_extension": ".py",
   "mimetype": "text/x-python",
   "name": "python",
   "nbconvert_exporter": "python",
   "pygments_lexer": "ipython3",
   "version": "3.7.1"
  }
 },
 "nbformat": 4,
 "nbformat_minor": 1
}
