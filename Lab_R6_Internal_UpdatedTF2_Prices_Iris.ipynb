{
 "cells": [
  {
   "cell_type": "markdown",
   "metadata": {
    "colab_type": "text",
    "id": "84Q8JfvaeZZ6"
   },
   "source": [
    "## Linear Classifier in TensorFlow \n",
    "Using Low Level API in Eager Execution mode"
   ]
  },
  {
   "cell_type": "markdown",
   "metadata": {
    "colab_type": "text",
    "id": "sb7Epo0VOB58"
   },
   "source": [
    "### Load tensorflow"
   ]
  },
  {
   "cell_type": "code",
   "execution_count": 1,
   "metadata": {
    "colab": {},
    "colab_type": "code",
    "id": "fHpCNRv1OB5-"
   },
   "outputs": [],
   "source": [
    "import tensorflow as tf"
   ]
  },
  {
   "cell_type": "code",
   "execution_count": 2,
   "metadata": {
    "colab": {},
    "colab_type": "code",
    "id": "Mjtb-EMcm5K0"
   },
   "outputs": [],
   "source": [
    "#Enable Eager Execution if using tensflow version < 2.0\n",
    "#From tensorflow v2.0 onwards, Eager Execution will be enabled by default\n"
   ]
  },
  {
   "cell_type": "markdown",
   "metadata": {
    "colab_type": "text",
    "id": "DxJDmJqqOB6K",
    "slideshow": {
     "slide_type": "slide"
    }
   },
   "source": [
    "### Collect Data"
   ]
  },
  {
   "cell_type": "code",
   "execution_count": 3,
   "metadata": {
    "colab": {},
    "colab_type": "code",
    "id": "FhllFLyKOB6N"
   },
   "outputs": [],
   "source": [
    "#from google.colab import drive\n",
    "#drive.mount('/gdrive')"
   ]
  },
  {
   "cell_type": "code",
   "execution_count": 4,
   "metadata": {
    "colab": {},
    "colab_type": "code",
    "id": "KiObW4V4SIOz"
   },
   "outputs": [],
   "source": [
    "import pandas as pd"
   ]
  },
  {
   "cell_type": "code",
   "execution_count": 5,
   "metadata": {
    "colab": {},
    "colab_type": "code",
    "id": "B4yQKMiJOB6R"
   },
   "outputs": [],
   "source": [
    "data = pd.read_csv('prices.csv')"
   ]
  },
  {
   "cell_type": "markdown",
   "metadata": {
    "colab_type": "text",
    "id": "fgkX6SEqOB6W"
   },
   "source": [
    "### Check all columns in the dataset"
   ]
  },
  {
   "cell_type": "code",
   "execution_count": 6,
   "metadata": {
    "colab": {},
    "colab_type": "code",
    "id": "7K8pWsNQOB6X"
   },
   "outputs": [
    {
     "data": {
      "text/html": [
       "<div>\n",
       "<style scoped>\n",
       "    .dataframe tbody tr th:only-of-type {\n",
       "        vertical-align: middle;\n",
       "    }\n",
       "\n",
       "    .dataframe tbody tr th {\n",
       "        vertical-align: top;\n",
       "    }\n",
       "\n",
       "    .dataframe thead th {\n",
       "        text-align: right;\n",
       "    }\n",
       "</style>\n",
       "<table border=\"1\" class=\"dataframe\">\n",
       "  <thead>\n",
       "    <tr style=\"text-align: right;\">\n",
       "      <th></th>\n",
       "      <th>date</th>\n",
       "      <th>symbol</th>\n",
       "      <th>open</th>\n",
       "      <th>close</th>\n",
       "      <th>low</th>\n",
       "      <th>high</th>\n",
       "      <th>volume</th>\n",
       "    </tr>\n",
       "  </thead>\n",
       "  <tbody>\n",
       "    <tr>\n",
       "      <th>0</th>\n",
       "      <td>2016-01-05 00:00:00</td>\n",
       "      <td>WLTW</td>\n",
       "      <td>123.430000</td>\n",
       "      <td>125.839996</td>\n",
       "      <td>122.309998</td>\n",
       "      <td>126.250000</td>\n",
       "      <td>2163600.0</td>\n",
       "    </tr>\n",
       "    <tr>\n",
       "      <th>1</th>\n",
       "      <td>2016-01-06 00:00:00</td>\n",
       "      <td>WLTW</td>\n",
       "      <td>125.239998</td>\n",
       "      <td>119.980003</td>\n",
       "      <td>119.940002</td>\n",
       "      <td>125.540001</td>\n",
       "      <td>2386400.0</td>\n",
       "    </tr>\n",
       "    <tr>\n",
       "      <th>2</th>\n",
       "      <td>2016-01-07 00:00:00</td>\n",
       "      <td>WLTW</td>\n",
       "      <td>116.379997</td>\n",
       "      <td>114.949997</td>\n",
       "      <td>114.930000</td>\n",
       "      <td>119.739998</td>\n",
       "      <td>2489500.0</td>\n",
       "    </tr>\n",
       "    <tr>\n",
       "      <th>3</th>\n",
       "      <td>2016-01-08 00:00:00</td>\n",
       "      <td>WLTW</td>\n",
       "      <td>115.480003</td>\n",
       "      <td>116.620003</td>\n",
       "      <td>113.500000</td>\n",
       "      <td>117.440002</td>\n",
       "      <td>2006300.0</td>\n",
       "    </tr>\n",
       "    <tr>\n",
       "      <th>4</th>\n",
       "      <td>2016-01-11 00:00:00</td>\n",
       "      <td>WLTW</td>\n",
       "      <td>117.010002</td>\n",
       "      <td>114.970001</td>\n",
       "      <td>114.089996</td>\n",
       "      <td>117.330002</td>\n",
       "      <td>1408600.0</td>\n",
       "    </tr>\n",
       "  </tbody>\n",
       "</table>\n",
       "</div>"
      ],
      "text/plain": [
       "                  date symbol        open       close         low        high  \\\n",
       "0  2016-01-05 00:00:00   WLTW  123.430000  125.839996  122.309998  126.250000   \n",
       "1  2016-01-06 00:00:00   WLTW  125.239998  119.980003  119.940002  125.540001   \n",
       "2  2016-01-07 00:00:00   WLTW  116.379997  114.949997  114.930000  119.739998   \n",
       "3  2016-01-08 00:00:00   WLTW  115.480003  116.620003  113.500000  117.440002   \n",
       "4  2016-01-11 00:00:00   WLTW  117.010002  114.970001  114.089996  117.330002   \n",
       "\n",
       "      volume  \n",
       "0  2163600.0  \n",
       "1  2386400.0  \n",
       "2  2489500.0  \n",
       "3  2006300.0  \n",
       "4  1408600.0  "
      ]
     },
     "execution_count": 6,
     "metadata": {},
     "output_type": "execute_result"
    }
   ],
   "source": [
    "data.head()"
   ]
  },
  {
   "cell_type": "code",
   "execution_count": 7,
   "metadata": {},
   "outputs": [
    {
     "name": "stdout",
     "output_type": "stream",
     "text": [
      "<class 'pandas.core.frame.DataFrame'>\n",
      "RangeIndex: 851264 entries, 0 to 851263\n",
      "Data columns (total 7 columns):\n",
      "date      851264 non-null object\n",
      "symbol    851264 non-null object\n",
      "open      851264 non-null float64\n",
      "close     851264 non-null float64\n",
      "low       851264 non-null float64\n",
      "high      851264 non-null float64\n",
      "volume    851264 non-null float64\n",
      "dtypes: float64(5), object(2)\n",
      "memory usage: 45.5+ MB\n"
     ]
    }
   ],
   "source": [
    "data.info()"
   ]
  },
  {
   "cell_type": "markdown",
   "metadata": {
    "colab_type": "text",
    "id": "7dU6X7MpOB6c"
   },
   "source": [
    "### Drop columns `date` and  `symbol`"
   ]
  },
  {
   "cell_type": "code",
   "execution_count": 8,
   "metadata": {
    "colab": {},
    "colab_type": "code",
    "id": "lh_6spSKOB6e"
   },
   "outputs": [],
   "source": [
    "data.drop(\"date\", axis=1, inplace=True)\n",
    "data.drop(\"symbol\", axis=1, inplace=True)"
   ]
  },
  {
   "cell_type": "code",
   "execution_count": 9,
   "metadata": {
    "colab": {},
    "colab_type": "code",
    "id": "xlwbUgTwOB6i",
    "outputId": "56bad82a-f271-415a-e0d6-cbe1c4290743"
   },
   "outputs": [
    {
     "data": {
      "text/html": [
       "<div>\n",
       "<style scoped>\n",
       "    .dataframe tbody tr th:only-of-type {\n",
       "        vertical-align: middle;\n",
       "    }\n",
       "\n",
       "    .dataframe tbody tr th {\n",
       "        vertical-align: top;\n",
       "    }\n",
       "\n",
       "    .dataframe thead th {\n",
       "        text-align: right;\n",
       "    }\n",
       "</style>\n",
       "<table border=\"1\" class=\"dataframe\">\n",
       "  <thead>\n",
       "    <tr style=\"text-align: right;\">\n",
       "      <th></th>\n",
       "      <th>open</th>\n",
       "      <th>close</th>\n",
       "      <th>low</th>\n",
       "      <th>high</th>\n",
       "      <th>volume</th>\n",
       "    </tr>\n",
       "  </thead>\n",
       "  <tbody>\n",
       "    <tr>\n",
       "      <th>0</th>\n",
       "      <td>123.430000</td>\n",
       "      <td>125.839996</td>\n",
       "      <td>122.309998</td>\n",
       "      <td>126.250000</td>\n",
       "      <td>2163600.0</td>\n",
       "    </tr>\n",
       "    <tr>\n",
       "      <th>1</th>\n",
       "      <td>125.239998</td>\n",
       "      <td>119.980003</td>\n",
       "      <td>119.940002</td>\n",
       "      <td>125.540001</td>\n",
       "      <td>2386400.0</td>\n",
       "    </tr>\n",
       "    <tr>\n",
       "      <th>2</th>\n",
       "      <td>116.379997</td>\n",
       "      <td>114.949997</td>\n",
       "      <td>114.930000</td>\n",
       "      <td>119.739998</td>\n",
       "      <td>2489500.0</td>\n",
       "    </tr>\n",
       "    <tr>\n",
       "      <th>3</th>\n",
       "      <td>115.480003</td>\n",
       "      <td>116.620003</td>\n",
       "      <td>113.500000</td>\n",
       "      <td>117.440002</td>\n",
       "      <td>2006300.0</td>\n",
       "    </tr>\n",
       "    <tr>\n",
       "      <th>4</th>\n",
       "      <td>117.010002</td>\n",
       "      <td>114.970001</td>\n",
       "      <td>114.089996</td>\n",
       "      <td>117.330002</td>\n",
       "      <td>1408600.0</td>\n",
       "    </tr>\n",
       "  </tbody>\n",
       "</table>\n",
       "</div>"
      ],
      "text/plain": [
       "         open       close         low        high     volume\n",
       "0  123.430000  125.839996  122.309998  126.250000  2163600.0\n",
       "1  125.239998  119.980003  119.940002  125.540001  2386400.0\n",
       "2  116.379997  114.949997  114.930000  119.739998  2489500.0\n",
       "3  115.480003  116.620003  113.500000  117.440002  2006300.0\n",
       "4  117.010002  114.970001  114.089996  117.330002  1408600.0"
      ]
     },
     "execution_count": 9,
     "metadata": {},
     "output_type": "execute_result"
    }
   ],
   "source": [
    "data.head()"
   ]
  },
  {
   "cell_type": "markdown",
   "metadata": {
    "colab_type": "text",
    "id": "3DBv3WWYOB6q"
   },
   "source": [
    "### Consider only first 1000 rows in the dataset for building feature set and target set\n",
    "Target 'Volume' has very high values. Divide 'Volume' by 1000,000"
   ]
  },
  {
   "cell_type": "code",
   "execution_count": 10,
   "metadata": {
    "colab": {},
    "colab_type": "code",
    "id": "Z_hG9rGBOB6s"
   },
   "outputs": [],
   "source": [
    "df = data.head(1000)"
   ]
  },
  {
   "cell_type": "code",
   "execution_count": 11,
   "metadata": {},
   "outputs": [],
   "source": [
    "X = df.drop(\"volume\", axis=1)\n",
    "Y = df[\"volume\"] "
   ]
  },
  {
   "cell_type": "code",
   "execution_count": 12,
   "metadata": {},
   "outputs": [
    {
     "data": {
      "text/html": [
       "<div>\n",
       "<style scoped>\n",
       "    .dataframe tbody tr th:only-of-type {\n",
       "        vertical-align: middle;\n",
       "    }\n",
       "\n",
       "    .dataframe tbody tr th {\n",
       "        vertical-align: top;\n",
       "    }\n",
       "\n",
       "    .dataframe thead th {\n",
       "        text-align: right;\n",
       "    }\n",
       "</style>\n",
       "<table border=\"1\" class=\"dataframe\">\n",
       "  <thead>\n",
       "    <tr style=\"text-align: right;\">\n",
       "      <th></th>\n",
       "      <th>open</th>\n",
       "      <th>close</th>\n",
       "      <th>low</th>\n",
       "      <th>high</th>\n",
       "    </tr>\n",
       "  </thead>\n",
       "  <tbody>\n",
       "    <tr>\n",
       "      <th>0</th>\n",
       "      <td>123.430000</td>\n",
       "      <td>125.839996</td>\n",
       "      <td>122.309998</td>\n",
       "      <td>126.250000</td>\n",
       "    </tr>\n",
       "    <tr>\n",
       "      <th>1</th>\n",
       "      <td>125.239998</td>\n",
       "      <td>119.980003</td>\n",
       "      <td>119.940002</td>\n",
       "      <td>125.540001</td>\n",
       "    </tr>\n",
       "    <tr>\n",
       "      <th>2</th>\n",
       "      <td>116.379997</td>\n",
       "      <td>114.949997</td>\n",
       "      <td>114.930000</td>\n",
       "      <td>119.739998</td>\n",
       "    </tr>\n",
       "    <tr>\n",
       "      <th>3</th>\n",
       "      <td>115.480003</td>\n",
       "      <td>116.620003</td>\n",
       "      <td>113.500000</td>\n",
       "      <td>117.440002</td>\n",
       "    </tr>\n",
       "    <tr>\n",
       "      <th>4</th>\n",
       "      <td>117.010002</td>\n",
       "      <td>114.970001</td>\n",
       "      <td>114.089996</td>\n",
       "      <td>117.330002</td>\n",
       "    </tr>\n",
       "  </tbody>\n",
       "</table>\n",
       "</div>"
      ],
      "text/plain": [
       "         open       close         low        high\n",
       "0  123.430000  125.839996  122.309998  126.250000\n",
       "1  125.239998  119.980003  119.940002  125.540001\n",
       "2  116.379997  114.949997  114.930000  119.739998\n",
       "3  115.480003  116.620003  113.500000  117.440002\n",
       "4  117.010002  114.970001  114.089996  117.330002"
      ]
     },
     "execution_count": 12,
     "metadata": {},
     "output_type": "execute_result"
    }
   ],
   "source": [
    "X.head()"
   ]
  },
  {
   "cell_type": "code",
   "execution_count": 13,
   "metadata": {},
   "outputs": [
    {
     "data": {
      "text/plain": [
       "0    2163600.0\n",
       "1    2386400.0\n",
       "2    2489500.0\n",
       "3    2006300.0\n",
       "4    1408600.0\n",
       "Name: volume, dtype: float64"
      ]
     },
     "execution_count": 13,
     "metadata": {},
     "output_type": "execute_result"
    }
   ],
   "source": [
    "Y.head()"
   ]
  },
  {
   "cell_type": "code",
   "execution_count": 14,
   "metadata": {},
   "outputs": [],
   "source": [
    "Y = Y.divide(1000000)"
   ]
  },
  {
   "cell_type": "code",
   "execution_count": 15,
   "metadata": {},
   "outputs": [
    {
     "data": {
      "text/plain": [
       "0    2.1636\n",
       "1    2.3864\n",
       "2    2.4895\n",
       "3    2.0063\n",
       "4    1.4086\n",
       "Name: volume, dtype: float64"
      ]
     },
     "execution_count": 15,
     "metadata": {},
     "output_type": "execute_result"
    }
   ],
   "source": [
    "Y.head()"
   ]
  },
  {
   "cell_type": "markdown",
   "metadata": {
    "colab_type": "text",
    "id": "M3UaApqYOB6x"
   },
   "source": [
    "### Divide the data into train and test sets"
   ]
  },
  {
   "cell_type": "code",
   "execution_count": 16,
   "metadata": {
    "colab": {},
    "colab_type": "code",
    "id": "4LE4U8lTdQJq"
   },
   "outputs": [],
   "source": [
    "from sklearn.model_selection import train_test_split\n",
    "xtrain,xtest,ytrain,ytest = train_test_split(X,Y,test_size=0.3,random_state=1)"
   ]
  },
  {
   "cell_type": "markdown",
   "metadata": {
    "colab_type": "text",
    "id": "oYK-aUuLbrz2"
   },
   "source": [
    "#### Convert Training and Test Data to numpy float32 arrays\n"
   ]
  },
  {
   "cell_type": "code",
   "execution_count": 17,
   "metadata": {
    "colab": {},
    "colab_type": "code",
    "id": "Ao-S0tQGcncz"
   },
   "outputs": [],
   "source": [
    "import numpy as np\n",
    "x_train = np.array(xtrain, dtype=\"float32\")\n",
    "y_train = np.array(ytrain, dtype=\"float32\")\n",
    "x_test = np.array(xtest, dtype=\"float32\")\n",
    "y_test = np.array(ytest, dtype=\"float32\")"
   ]
  },
  {
   "cell_type": "code",
   "execution_count": 18,
   "metadata": {},
   "outputs": [
    {
     "data": {
      "text/plain": [
       "array([[ 27.77   ,  27.65   ,  27.41   ,  27.84   ],\n",
       "       [ 12.94   ,  13.33   ,  12.88   ,  13.37   ],\n",
       "       [ 18.57   ,  18.89   ,  18.4    ,  18.97   ],\n",
       "       ...,\n",
       "       [627.18   , 623.99   , 621.54004, 627.83997],\n",
       "       [125.19   , 123.     , 121.95   , 125.91   ],\n",
       "       [113.04   , 113.32   , 111.65   , 115.36   ]], dtype=float32)"
      ]
     },
     "execution_count": 18,
     "metadata": {},
     "output_type": "execute_result"
    }
   ],
   "source": [
    "x_train"
   ]
  },
  {
   "cell_type": "markdown",
   "metadata": {
    "colab_type": "text",
    "id": "im1ZegbDdKgv"
   },
   "source": [
    "### Normalize the data\n",
    "You can use Normalizer from sklearn.preprocessing"
   ]
  },
  {
   "cell_type": "code",
   "execution_count": 19,
   "metadata": {
    "colab": {},
    "colab_type": "code",
    "id": "2EkKAy7fOB6y"
   },
   "outputs": [],
   "source": [
    "from sklearn.preprocessing import Normalizer\n",
    "N = Normalizer()\n",
    "x_train=N.fit_transform(x_train)\n",
    "x_test=N.transform(x_test)"
   ]
  },
  {
   "cell_type": "markdown",
   "metadata": {
    "colab_type": "text",
    "id": "v6vE4eYCOB62",
    "slideshow": {
     "slide_type": "slide"
    }
   },
   "source": [
    "## Building the Model in tensorflow"
   ]
  },
  {
   "cell_type": "markdown",
   "metadata": {
    "colab_type": "text",
    "id": "297_qja4OB7A",
    "slideshow": {
     "slide_type": "slide"
    }
   },
   "source": [
    "1.Define Weights and Bias, use tf.zeros to initialize weights and Bias"
   ]
  },
  {
   "cell_type": "code",
   "execution_count": 20,
   "metadata": {
    "colab": {},
    "colab_type": "code",
    "id": "L205qPeQOB7B"
   },
   "outputs": [
    {
     "name": "stdout",
     "output_type": "stream",
     "text": [
      "WARNING:tensorflow:From D:\\Softwares\\anaconda3\\lib\\site-packages\\tensorflow\\python\\framework\\op_def_library.py:263: colocate_with (from tensorflow.python.framework.ops) is deprecated and will be removed in a future version.\n",
      "Instructions for updating:\n",
      "Colocations handled automatically by placer.\n"
     ]
    }
   ],
   "source": [
    "W = tf.Variable(tf.random_normal(shape=[4,1]), name=\"Weights\")\n",
    "b = tf.Variable(tf.zeros(shape=[1]),name=\"Bias\")"
   ]
  },
  {
   "cell_type": "code",
   "execution_count": 21,
   "metadata": {},
   "outputs": [
    {
     "data": {
      "text/plain": [
       "<tf.Variable 'Weights:0' shape=(4, 1) dtype=float32_ref>"
      ]
     },
     "execution_count": 21,
     "metadata": {},
     "output_type": "execute_result"
    }
   ],
   "source": [
    "W"
   ]
  },
  {
   "cell_type": "markdown",
   "metadata": {
    "colab_type": "text",
    "id": "HgtWA-UIOB7F",
    "slideshow": {
     "slide_type": "slide"
    }
   },
   "source": [
    "2.Define a function to calculate prediction"
   ]
  },
  {
   "cell_type": "code",
   "execution_count": 22,
   "metadata": {
    "colab": {},
    "colab_type": "code",
    "id": "JveGlx25OB7H"
   },
   "outputs": [],
   "source": [
    "y_pred = tf.add(tf.matmul(x_train,W),b,name='output')"
   ]
  },
  {
   "cell_type": "markdown",
   "metadata": {
    "colab_type": "text",
    "id": "TL1hIwf_OB7M",
    "slideshow": {
     "slide_type": "slide"
    }
   },
   "source": [
    "3.Loss (Cost) Function [Mean square error]"
   ]
  },
  {
   "cell_type": "code",
   "execution_count": 23,
   "metadata": {
    "colab": {},
    "colab_type": "code",
    "id": "8VSWPiGXOB7P"
   },
   "outputs": [],
   "source": [
    "loss = tf.reduce_mean(tf.square(y_pred-y_train),name='mse')"
   ]
  },
  {
   "cell_type": "markdown",
   "metadata": {
    "colab_type": "text",
    "id": "jzG85FUlOB7U",
    "slideshow": {
     "slide_type": "slide"
    }
   },
   "source": [
    "4.Function to train the Model\n",
    "\n",
    "1.   Record all the mathematical steps to calculate Loss\n",
    "2.   Calculate Gradients of Loss w.r.t weights and bias\n",
    "3.   Update Weights and Bias based on gradients and learning rate to minimize loss"
   ]
  },
  {
   "cell_type": "code",
   "execution_count": 24,
   "metadata": {
    "colab": {},
    "colab_type": "code",
    "id": "cj802w-3OB7X"
   },
   "outputs": [],
   "source": [
    "train_gd = tf.train.GradientDescentOptimizer(0.03).minimize(loss)"
   ]
  },
  {
   "cell_type": "markdown",
   "metadata": {
    "colab_type": "text",
    "id": "xSypb_u8OB7e",
    "slideshow": {
     "slide_type": "slide"
    }
   },
   "source": [
    "## Train the model for 100 epochs \n",
    "1. Observe the training loss at every iteration\n",
    "2. Observe Train loss at every 5th iteration"
   ]
  },
  {
   "cell_type": "code",
   "execution_count": 25,
   "metadata": {},
   "outputs": [],
   "source": [
    "x = tf.placeholder(shape=[None,4], dtype=tf.float32)  # x place holder\n",
    "y = tf.placeholder(shape=[None], dtype=tf.float32) # y place holder"
   ]
  },
  {
   "cell_type": "code",
   "execution_count": 26,
   "metadata": {},
   "outputs": [
    {
     "name": "stdout",
     "output_type": "stream",
     "text": [
      "Training loss at every step:  0  is  224.76375\n",
      "Training loss at every step:  1  is  218.14021\n",
      "Training loss at every step:  2  is  213.01097\n",
      "Training loss at every step:  3  is  209.03882\n",
      "Training loss at every step:  4  is  205.96277\n",
      "Training loss at every step:  5  is  203.58069\n",
      "Training loss at every step:  6  is  201.736\n",
      "Training loss at every step:  7  is  200.30745\n",
      "Training loss at every step:  8  is  199.20117\n",
      "Training loss at every step:  9  is  198.34444\n",
      "Training loss at every step:  10  is  197.68102\n",
      "Training loss at every step:  11  is  197.16722\n",
      "Training loss at every step:  12  is  196.76938\n",
      "Training loss at every step:  13  is  196.46126\n",
      "Training loss at every step:  14  is  196.22266\n",
      "Training loss at every step:  15  is  196.03787\n",
      "Training loss at every step:  16  is  195.89478\n",
      "Training loss at every step:  17  is  195.784\n",
      "Training loss at every step:  18  is  195.69815\n",
      "Training loss at every step:  19  is  195.63173\n",
      "Training loss at every step:  20  is  195.58025\n",
      "Training loss at every step:  21  is  195.5404\n",
      "Training loss at every step:  22  is  195.50957\n",
      "Training loss at every step:  23  is  195.48564\n",
      "Training loss at every step:  24  is  195.46712\n",
      "Training loss at every step:  25  is  195.4528\n",
      "Training loss at every step:  26  is  195.4417\n",
      "Training loss at every step:  27  is  195.4331\n",
      "Training loss at every step:  28  is  195.42647\n",
      "Training loss at every step:  29  is  195.4213\n",
      "Training loss at every step:  30  is  195.41731\n",
      "Training loss at every step:  31  is  195.41422\n",
      "Training loss at every step:  32  is  195.4118\n",
      "Training loss at every step:  33  is  195.40996\n",
      "Training loss at every step:  34  is  195.40852\n",
      "Training loss at every step:  35  is  195.40741\n",
      "Training loss at every step:  36  is  195.40657\n",
      "Training loss at every step:  37  is  195.40591\n",
      "Training loss at every step:  38  is  195.40538\n",
      "Training loss at every step:  39  is  195.405\n",
      "Training loss at every step:  40  is  195.40466\n",
      "Training loss at every step:  41  is  195.40442\n",
      "Training loss at every step:  42  is  195.40425\n",
      "Training loss at every step:  43  is  195.40408\n",
      "Training loss at every step:  44  is  195.40398\n",
      "Training loss at every step:  45  is  195.40388\n",
      "Training loss at every step:  46  is  195.40385\n",
      "Training loss at every step:  47  is  195.4038\n",
      "Training loss at every step:  48  is  195.40375\n",
      "Training loss at every step:  49  is  195.40372\n",
      "Training loss at every step:  50  is  195.40369\n",
      "Training loss at every step:  51  is  195.40367\n",
      "Training loss at every step:  52  is  195.40366\n",
      "Training loss at every step:  53  is  195.40366\n",
      "Training loss at every step:  54  is  195.40364\n",
      "Training loss at every step:  55  is  195.40363\n",
      "Training loss at every step:  56  is  195.40363\n",
      "Training loss at every step:  57  is  195.40361\n",
      "Training loss at every step:  58  is  195.40361\n",
      "Training loss at every step:  59  is  195.4036\n",
      "Training loss at every step:  60  is  195.4036\n",
      "Training loss at every step:  61  is  195.40363\n",
      "Training loss at every step:  62  is  195.4036\n",
      "Training loss at every step:  63  is  195.4036\n",
      "Training loss at every step:  64  is  195.40361\n",
      "Training loss at every step:  65  is  195.4036\n",
      "Training loss at every step:  66  is  195.4036\n",
      "Training loss at every step:  67  is  195.4036\n",
      "Training loss at every step:  68  is  195.4036\n",
      "Training loss at every step:  69  is  195.40361\n",
      "Training loss at every step:  70  is  195.4036\n",
      "Training loss at every step:  71  is  195.4036\n",
      "Training loss at every step:  72  is  195.4036\n",
      "Training loss at every step:  73  is  195.4036\n",
      "Training loss at every step:  74  is  195.4036\n",
      "Training loss at every step:  75  is  195.4036\n",
      "Training loss at every step:  76  is  195.4036\n",
      "Training loss at every step:  77  is  195.4036\n",
      "Training loss at every step:  78  is  195.4036\n",
      "Training loss at every step:  79  is  195.4036\n",
      "Training loss at every step:  80  is  195.4036\n",
      "Training loss at every step:  81  is  195.4036\n",
      "Training loss at every step:  82  is  195.4036\n",
      "Training loss at every step:  83  is  195.4036\n",
      "Training loss at every step:  84  is  195.40358\n",
      "Training loss at every step:  85  is  195.40358\n",
      "Training loss at every step:  86  is  195.4036\n",
      "Training loss at every step:  87  is  195.4036\n",
      "Training loss at every step:  88  is  195.4036\n",
      "Training loss at every step:  89  is  195.4036\n",
      "Training loss at every step:  90  is  195.4036\n",
      "Training loss at every step:  91  is  195.4036\n",
      "Training loss at every step:  92  is  195.4036\n",
      "Training loss at every step:  93  is  195.4036\n",
      "Training loss at every step:  94  is  195.4036\n",
      "Training loss at every step:  95  is  195.4036\n",
      "Training loss at every step:  96  is  195.4036\n",
      "Training loss at every step:  97  is  195.4036\n",
      "Training loss at every step:  98  is  195.4036\n",
      "Training loss at every step:  99  is  195.4036\n"
     ]
    }
   ],
   "source": [
    "sess = tf.Session()\n",
    "sess.run(tf.global_variables_initializer())\n",
    "training_epochs = 100\n",
    "for epoch in range(training_epochs):\n",
    "    _, train_loss = sess.run([train_gd,loss],feed_dict={x:x_train, y:y_train})  \n",
    "    print ('Training loss at every step: ', epoch, ' is ', train_loss)"
   ]
  },
  {
   "cell_type": "code",
   "execution_count": 27,
   "metadata": {
    "colab": {},
    "colab_type": "code",
    "id": "DVvgj7eQOB7f"
   },
   "outputs": [
    {
     "name": "stdout",
     "output_type": "stream",
     "text": [
      "Training loss at step:  0  is  238.91086\n",
      "Training loss at step:  5  is  207.5208\n",
      "Training loss at step:  10  is  198.77838\n",
      "Training loss at step:  15  is  196.34348\n",
      "Training loss at step:  20  is  195.66531\n",
      "Training loss at step:  25  is  195.47647\n",
      "Training loss at step:  30  is  195.42386\n",
      "Training loss at step:  35  is  195.40921\n",
      "Training loss at step:  40  is  195.40514\n",
      "Training loss at step:  45  is  195.404\n",
      "Training loss at step:  50  is  195.40369\n",
      "Training loss at step:  55  is  195.4036\n",
      "Training loss at step:  60  is  195.40356\n",
      "Training loss at step:  65  is  195.40356\n",
      "Training loss at step:  70  is  195.40356\n",
      "Training loss at step:  75  is  195.40356\n",
      "Training loss at step:  80  is  195.40356\n",
      "Training loss at step:  85  is  195.40356\n",
      "Training loss at step:  90  is  195.40356\n",
      "Training loss at step:  95  is  195.40356\n"
     ]
    }
   ],
   "source": [
    "sess = tf.Session()\n",
    "sess.run(tf.global_variables_initializer())\n",
    "training_epochs = 100\n",
    "for epoch in range(training_epochs):\n",
    "    _, train_loss = sess.run([train_gd,loss],feed_dict={x:x_train, y:y_train})  \n",
    "    if epoch % 5 == 0:\n",
    "        print ('Training loss at step: ', epoch, ' is ', train_loss)"
   ]
  },
  {
   "cell_type": "markdown",
   "metadata": {
    "colab_type": "text",
    "id": "DOL2ncA1OB7q"
   },
   "source": [
    "### Get the shapes and values of W and b"
   ]
  },
  {
   "cell_type": "code",
   "execution_count": 28,
   "metadata": {
    "colab": {},
    "colab_type": "code",
    "id": "ZGvtyTeuOB7r"
   },
   "outputs": [
    {
     "data": {
      "text/plain": [
       "array([[ 0.6688872 ],\n",
       "       [ 2.1279469 ],\n",
       "       [ 1.7080756 ],\n",
       "       [-0.04335737]], dtype=float32)"
      ]
     },
     "execution_count": 28,
     "metadata": {},
     "output_type": "execute_result"
    }
   ],
   "source": [
    "sess.run(W)"
   ]
  },
  {
   "cell_type": "code",
   "execution_count": 29,
   "metadata": {},
   "outputs": [
    {
     "data": {
      "text/plain": [
       "array([3.2980797], dtype=float32)"
      ]
     },
     "execution_count": 29,
     "metadata": {},
     "output_type": "execute_result"
    }
   ],
   "source": [
    "sess.run(b)"
   ]
  },
  {
   "cell_type": "markdown",
   "metadata": {
    "colab_type": "text",
    "id": "ERq9GOKKciho"
   },
   "source": [
    "### Model Prediction on 1st Examples in Test Dataset"
   ]
  },
  {
   "cell_type": "code",
   "execution_count": 30,
   "metadata": {
    "colab": {},
    "colab_type": "code",
    "id": "gKGvUWahcihp"
   },
   "outputs": [],
   "source": [
    "y_test_pred = tf.add(tf.matmul(x_test,W),b,name='output')"
   ]
  },
  {
   "cell_type": "code",
   "execution_count": 31,
   "metadata": {},
   "outputs": [
    {
     "data": {
      "text/plain": [
       "array([[5.519988 ],\n",
       "       [5.5249915],\n",
       "       [5.5232267],\n",
       "       [5.523267 ],\n",
       "       [5.525137 ],\n",
       "       [5.5225563],\n",
       "       [5.5266466],\n",
       "       [5.5196285],\n",
       "       [5.514045 ],\n",
       "       [5.5241623],\n",
       "       [5.52149  ],\n",
       "       [5.5249043],\n",
       "       [5.523815 ],\n",
       "       [5.524747 ],\n",
       "       [5.510103 ],\n",
       "       [5.5159607],\n",
       "       [5.523132 ],\n",
       "       [5.499506 ],\n",
       "       [5.5192   ],\n",
       "       [5.5107794],\n",
       "       [5.523558 ],\n",
       "       [5.5239058],\n",
       "       [5.523819 ],\n",
       "       [5.5140243],\n",
       "       [5.526622 ],\n",
       "       [5.497551 ],\n",
       "       [5.5265884],\n",
       "       [5.520812 ],\n",
       "       [5.5174956],\n",
       "       [5.5117226],\n",
       "       [5.5245733],\n",
       "       [5.520252 ],\n",
       "       [5.5111036],\n",
       "       [5.520823 ],\n",
       "       [5.5088644],\n",
       "       [5.523848 ],\n",
       "       [5.523883 ],\n",
       "       [5.52378  ],\n",
       "       [5.521846 ],\n",
       "       [5.522073 ],\n",
       "       [5.522361 ],\n",
       "       [5.523384 ],\n",
       "       [5.511075 ],\n",
       "       [5.5230465],\n",
       "       [5.5224338],\n",
       "       [5.517988 ],\n",
       "       [5.5244074],\n",
       "       [5.524369 ],\n",
       "       [5.5136456],\n",
       "       [5.5277414],\n",
       "       [5.5236616],\n",
       "       [5.5208693],\n",
       "       [5.521697 ],\n",
       "       [5.5251274],\n",
       "       [5.5060215],\n",
       "       [5.5141854],\n",
       "       [5.5157433],\n",
       "       [5.518699 ],\n",
       "       [5.526678 ],\n",
       "       [5.5153027],\n",
       "       [5.524031 ],\n",
       "       [5.511804 ],\n",
       "       [5.523731 ],\n",
       "       [5.5134006],\n",
       "       [5.5218964],\n",
       "       [5.5193043],\n",
       "       [5.5216627],\n",
       "       [5.522766 ],\n",
       "       [5.526376 ],\n",
       "       [5.523018 ],\n",
       "       [5.521946 ],\n",
       "       [5.516762 ],\n",
       "       [5.522184 ],\n",
       "       [5.5231752],\n",
       "       [5.523405 ],\n",
       "       [5.5156736],\n",
       "       [5.524699 ],\n",
       "       [5.52748  ],\n",
       "       [5.519045 ],\n",
       "       [5.5160804],\n",
       "       [5.5248356],\n",
       "       [5.521186 ],\n",
       "       [5.523097 ],\n",
       "       [5.5207725],\n",
       "       [5.5253277],\n",
       "       [5.507144 ],\n",
       "       [5.5208597],\n",
       "       [5.522277 ],\n",
       "       [5.5239177],\n",
       "       [5.5249825],\n",
       "       [5.5198374],\n",
       "       [5.5233765],\n",
       "       [5.520391 ],\n",
       "       [5.509446 ],\n",
       "       [5.5217886],\n",
       "       [5.507883 ],\n",
       "       [5.5276294],\n",
       "       [5.520234 ],\n",
       "       [5.524625 ],\n",
       "       [5.524266 ],\n",
       "       [5.5249224],\n",
       "       [5.5023937],\n",
       "       [5.5186543],\n",
       "       [5.526335 ],\n",
       "       [5.5140247],\n",
       "       [5.5226965],\n",
       "       [5.5232735],\n",
       "       [5.5261593],\n",
       "       [5.5255566],\n",
       "       [5.5236225],\n",
       "       [5.524286 ],\n",
       "       [5.5236235],\n",
       "       [5.524958 ],\n",
       "       [5.52329  ],\n",
       "       [5.521433 ],\n",
       "       [5.5199594],\n",
       "       [5.5218434],\n",
       "       [5.518078 ],\n",
       "       [5.5116215],\n",
       "       [5.5201483],\n",
       "       [5.525013 ],\n",
       "       [5.5236998],\n",
       "       [5.518782 ],\n",
       "       [5.5123663],\n",
       "       [5.5237017],\n",
       "       [5.5206604],\n",
       "       [5.512638 ],\n",
       "       [5.522522 ],\n",
       "       [5.5203047],\n",
       "       [5.5156345],\n",
       "       [5.5230927],\n",
       "       [5.515108 ],\n",
       "       [5.5191107],\n",
       "       [5.501931 ],\n",
       "       [5.5235105],\n",
       "       [5.5246754],\n",
       "       [5.5264707],\n",
       "       [5.5195093],\n",
       "       [5.5240517],\n",
       "       [5.525386 ],\n",
       "       [5.5271873],\n",
       "       [5.5209208],\n",
       "       [5.5212975],\n",
       "       [5.526702 ],\n",
       "       [5.523401 ],\n",
       "       [5.520156 ],\n",
       "       [5.5200624],\n",
       "       [5.5218253],\n",
       "       [5.4931526],\n",
       "       [5.521792 ],\n",
       "       [5.525301 ],\n",
       "       [5.496587 ],\n",
       "       [5.513542 ],\n",
       "       [5.52528  ],\n",
       "       [5.515008 ],\n",
       "       [5.5239377],\n",
       "       [5.52177  ],\n",
       "       [5.525316 ],\n",
       "       [5.526584 ],\n",
       "       [5.524688 ],\n",
       "       [5.522126 ],\n",
       "       [5.5233164],\n",
       "       [5.52639  ],\n",
       "       [5.521924 ],\n",
       "       [5.5242534],\n",
       "       [5.5277295],\n",
       "       [5.521457 ],\n",
       "       [5.524659 ],\n",
       "       [5.5227394],\n",
       "       [5.5228987],\n",
       "       [5.525774 ],\n",
       "       [5.5234156],\n",
       "       [5.5238237],\n",
       "       [5.520125 ],\n",
       "       [5.5182085],\n",
       "       [5.52087  ],\n",
       "       [5.5229335],\n",
       "       [5.507559 ],\n",
       "       [5.5249157],\n",
       "       [5.5246687],\n",
       "       [5.520475 ],\n",
       "       [5.5211463],\n",
       "       [5.5229044],\n",
       "       [5.523273 ],\n",
       "       [5.5237913],\n",
       "       [5.527033 ],\n",
       "       [5.52431  ],\n",
       "       [5.5184765],\n",
       "       [5.520829 ],\n",
       "       [5.526908 ],\n",
       "       [5.525595 ],\n",
       "       [5.526375 ],\n",
       "       [5.5255775],\n",
       "       [5.5249963],\n",
       "       [5.5259056],\n",
       "       [5.517885 ],\n",
       "       [5.5191073],\n",
       "       [5.5250535],\n",
       "       [5.518977 ],\n",
       "       [5.52079  ],\n",
       "       [5.5229874],\n",
       "       [5.512165 ],\n",
       "       [5.521106 ],\n",
       "       [5.522196 ],\n",
       "       [5.4783087],\n",
       "       [5.519042 ],\n",
       "       [5.503982 ],\n",
       "       [5.510601 ],\n",
       "       [5.522319 ],\n",
       "       [5.523244 ],\n",
       "       [5.5214453],\n",
       "       [5.520933 ],\n",
       "       [5.5137424],\n",
       "       [5.5115147],\n",
       "       [5.5181723],\n",
       "       [5.5197186],\n",
       "       [5.5214396],\n",
       "       [5.522726 ],\n",
       "       [5.5175505],\n",
       "       [5.522958 ],\n",
       "       [5.5249968],\n",
       "       [5.5208206],\n",
       "       [5.5210495],\n",
       "       [5.519311 ],\n",
       "       [5.524518 ],\n",
       "       [5.5180416],\n",
       "       [5.5248995],\n",
       "       [5.5253296],\n",
       "       [5.523636 ],\n",
       "       [5.5186234],\n",
       "       [5.5247865],\n",
       "       [5.520036 ],\n",
       "       [5.5153875],\n",
       "       [5.510557 ],\n",
       "       [5.523119 ],\n",
       "       [5.522938 ],\n",
       "       [5.5162764],\n",
       "       [5.5227485],\n",
       "       [5.52366  ],\n",
       "       [5.519056 ],\n",
       "       [5.520559 ],\n",
       "       [5.490036 ],\n",
       "       [5.523039 ],\n",
       "       [5.5251255],\n",
       "       [5.5251503],\n",
       "       [5.5137405],\n",
       "       [5.523034 ],\n",
       "       [5.5250373],\n",
       "       [5.525748 ],\n",
       "       [5.5186415],\n",
       "       [5.5230074],\n",
       "       [5.5231915],\n",
       "       [5.5254307],\n",
       "       [5.514139 ],\n",
       "       [5.5173283],\n",
       "       [5.5241456],\n",
       "       [5.511215 ],\n",
       "       [5.5246058],\n",
       "       [5.521282 ],\n",
       "       [5.525071 ],\n",
       "       [5.525388 ],\n",
       "       [5.521859 ],\n",
       "       [5.523814 ],\n",
       "       [5.522936 ],\n",
       "       [5.523143 ],\n",
       "       [5.5179386],\n",
       "       [5.5252943],\n",
       "       [5.524168 ],\n",
       "       [5.517083 ],\n",
       "       [5.525273 ],\n",
       "       [5.5210543],\n",
       "       [5.5115347],\n",
       "       [5.526594 ],\n",
       "       [5.516968 ],\n",
       "       [5.517492 ],\n",
       "       [5.5067415],\n",
       "       [5.507246 ],\n",
       "       [5.5075574],\n",
       "       [5.523    ],\n",
       "       [5.5223875],\n",
       "       [5.5230336],\n",
       "       [5.5009813],\n",
       "       [5.521653 ],\n",
       "       [5.5250807],\n",
       "       [5.5244675],\n",
       "       [5.5090256],\n",
       "       [5.5243506],\n",
       "       [5.5155363],\n",
       "       [5.4946184],\n",
       "       [5.525527 ],\n",
       "       [5.521532 ],\n",
       "       [5.5189877],\n",
       "       [5.525278 ],\n",
       "       [5.523447 ],\n",
       "       [5.5241194],\n",
       "       [5.5251646],\n",
       "       [5.5268803],\n",
       "       [5.5111046],\n",
       "       [5.5258946],\n",
       "       [5.5143976]], dtype=float32)"
      ]
     },
     "execution_count": 31,
     "metadata": {},
     "output_type": "execute_result"
    }
   ],
   "source": [
    "sess.run(y_test_pred)"
   ]
  },
  {
   "cell_type": "code",
   "execution_count": 32,
   "metadata": {},
   "outputs": [],
   "source": [
    "sess.close()"
   ]
  },
  {
   "cell_type": "markdown",
   "metadata": {
    "colab_type": "text",
    "id": "YJRBuqXhOB7_"
   },
   "source": [
    "## Classification using tf.Keras\n",
    "\n",
    "In this exercise, we will build a Deep Neural Network using tf.Keras. We will use Iris Dataset for this exercise."
   ]
  },
  {
   "cell_type": "markdown",
   "metadata": {
    "colab_type": "text",
    "id": "O0g6lorycihf"
   },
   "source": [
    "### Load the given Iris data using pandas (Iris.csv)"
   ]
  },
  {
   "cell_type": "code",
   "execution_count": 33,
   "metadata": {
    "colab": {},
    "colab_type": "code",
    "id": "6xFvb5sRcihg"
   },
   "outputs": [
    {
     "data": {
      "text/html": [
       "<div>\n",
       "<style scoped>\n",
       "    .dataframe tbody tr th:only-of-type {\n",
       "        vertical-align: middle;\n",
       "    }\n",
       "\n",
       "    .dataframe tbody tr th {\n",
       "        vertical-align: top;\n",
       "    }\n",
       "\n",
       "    .dataframe thead th {\n",
       "        text-align: right;\n",
       "    }\n",
       "</style>\n",
       "<table border=\"1\" class=\"dataframe\">\n",
       "  <thead>\n",
       "    <tr style=\"text-align: right;\">\n",
       "      <th></th>\n",
       "      <th>Id</th>\n",
       "      <th>SepalLengthCm</th>\n",
       "      <th>SepalWidthCm</th>\n",
       "      <th>PetalLengthCm</th>\n",
       "      <th>PetalWidthCm</th>\n",
       "      <th>Species</th>\n",
       "    </tr>\n",
       "  </thead>\n",
       "  <tbody>\n",
       "    <tr>\n",
       "      <th>0</th>\n",
       "      <td>1</td>\n",
       "      <td>5.1</td>\n",
       "      <td>3.5</td>\n",
       "      <td>1.4</td>\n",
       "      <td>0.2</td>\n",
       "      <td>Iris-setosa</td>\n",
       "    </tr>\n",
       "    <tr>\n",
       "      <th>1</th>\n",
       "      <td>2</td>\n",
       "      <td>4.9</td>\n",
       "      <td>3.0</td>\n",
       "      <td>1.4</td>\n",
       "      <td>0.2</td>\n",
       "      <td>Iris-setosa</td>\n",
       "    </tr>\n",
       "    <tr>\n",
       "      <th>2</th>\n",
       "      <td>3</td>\n",
       "      <td>4.7</td>\n",
       "      <td>3.2</td>\n",
       "      <td>1.3</td>\n",
       "      <td>0.2</td>\n",
       "      <td>Iris-setosa</td>\n",
       "    </tr>\n",
       "    <tr>\n",
       "      <th>3</th>\n",
       "      <td>4</td>\n",
       "      <td>4.6</td>\n",
       "      <td>3.1</td>\n",
       "      <td>1.5</td>\n",
       "      <td>0.2</td>\n",
       "      <td>Iris-setosa</td>\n",
       "    </tr>\n",
       "    <tr>\n",
       "      <th>4</th>\n",
       "      <td>5</td>\n",
       "      <td>5.0</td>\n",
       "      <td>3.6</td>\n",
       "      <td>1.4</td>\n",
       "      <td>0.2</td>\n",
       "      <td>Iris-setosa</td>\n",
       "    </tr>\n",
       "  </tbody>\n",
       "</table>\n",
       "</div>"
      ],
      "text/plain": [
       "   Id  SepalLengthCm  SepalWidthCm  PetalLengthCm  PetalWidthCm      Species\n",
       "0   1            5.1           3.5            1.4           0.2  Iris-setosa\n",
       "1   2            4.9           3.0            1.4           0.2  Iris-setosa\n",
       "2   3            4.7           3.2            1.3           0.2  Iris-setosa\n",
       "3   4            4.6           3.1            1.5           0.2  Iris-setosa\n",
       "4   5            5.0           3.6            1.4           0.2  Iris-setosa"
      ]
     },
     "execution_count": 33,
     "metadata": {},
     "output_type": "execute_result"
    }
   ],
   "source": [
    "iris = pd.read_csv('Iris.csv')\n",
    "iris.head()"
   ]
  },
  {
   "cell_type": "code",
   "execution_count": 34,
   "metadata": {},
   "outputs": [],
   "source": [
    "iris.drop(\"Id\", axis=1, inplace=True)"
   ]
  },
  {
   "cell_type": "code",
   "execution_count": 35,
   "metadata": {},
   "outputs": [
    {
     "name": "stdout",
     "output_type": "stream",
     "text": [
      "<class 'pandas.core.frame.DataFrame'>\n",
      "RangeIndex: 150 entries, 0 to 149\n",
      "Data columns (total 5 columns):\n",
      "SepalLengthCm    150 non-null float64\n",
      "SepalWidthCm     150 non-null float64\n",
      "PetalLengthCm    150 non-null float64\n",
      "PetalWidthCm     150 non-null float64\n",
      "Species          150 non-null object\n",
      "dtypes: float64(4), object(1)\n",
      "memory usage: 5.9+ KB\n"
     ]
    }
   ],
   "source": [
    "iris.info()"
   ]
  },
  {
   "cell_type": "code",
   "execution_count": 36,
   "metadata": {},
   "outputs": [
    {
     "data": {
      "text/plain": [
       "Iris-setosa        50\n",
       "Iris-versicolor    50\n",
       "Iris-virginica     50\n",
       "Name: Species, dtype: int64"
      ]
     },
     "execution_count": 36,
     "metadata": {},
     "output_type": "execute_result"
    }
   ],
   "source": [
    "iris['Species'].value_counts()"
   ]
  },
  {
   "cell_type": "markdown",
   "metadata": {
    "colab_type": "text",
    "id": "SAB--Qdwcihm"
   },
   "source": [
    "### Target set has different categories. So, Label encode them. And convert into one-hot vectors using get_dummies in pandas."
   ]
  },
  {
   "cell_type": "code",
   "execution_count": 37,
   "metadata": {
    "colab": {},
    "colab_type": "code",
    "id": "IJr5dYnocihm"
   },
   "outputs": [
    {
     "data": {
      "text/html": [
       "<div>\n",
       "<style scoped>\n",
       "    .dataframe tbody tr th:only-of-type {\n",
       "        vertical-align: middle;\n",
       "    }\n",
       "\n",
       "    .dataframe tbody tr th {\n",
       "        vertical-align: top;\n",
       "    }\n",
       "\n",
       "    .dataframe thead th {\n",
       "        text-align: right;\n",
       "    }\n",
       "</style>\n",
       "<table border=\"1\" class=\"dataframe\">\n",
       "  <thead>\n",
       "    <tr style=\"text-align: right;\">\n",
       "      <th></th>\n",
       "      <th>Iris-setosa</th>\n",
       "      <th>Iris-versicolor</th>\n",
       "      <th>Iris-virginica</th>\n",
       "    </tr>\n",
       "  </thead>\n",
       "  <tbody>\n",
       "    <tr>\n",
       "      <th>39</th>\n",
       "      <td>1</td>\n",
       "      <td>0</td>\n",
       "      <td>0</td>\n",
       "    </tr>\n",
       "    <tr>\n",
       "      <th>26</th>\n",
       "      <td>1</td>\n",
       "      <td>0</td>\n",
       "      <td>0</td>\n",
       "    </tr>\n",
       "    <tr>\n",
       "      <th>101</th>\n",
       "      <td>0</td>\n",
       "      <td>0</td>\n",
       "      <td>1</td>\n",
       "    </tr>\n",
       "    <tr>\n",
       "      <th>85</th>\n",
       "      <td>0</td>\n",
       "      <td>1</td>\n",
       "      <td>0</td>\n",
       "    </tr>\n",
       "    <tr>\n",
       "      <th>65</th>\n",
       "      <td>0</td>\n",
       "      <td>1</td>\n",
       "      <td>0</td>\n",
       "    </tr>\n",
       "    <tr>\n",
       "      <th>51</th>\n",
       "      <td>0</td>\n",
       "      <td>1</td>\n",
       "      <td>0</td>\n",
       "    </tr>\n",
       "    <tr>\n",
       "      <th>55</th>\n",
       "      <td>0</td>\n",
       "      <td>1</td>\n",
       "      <td>0</td>\n",
       "    </tr>\n",
       "    <tr>\n",
       "      <th>111</th>\n",
       "      <td>0</td>\n",
       "      <td>0</td>\n",
       "      <td>1</td>\n",
       "    </tr>\n",
       "    <tr>\n",
       "      <th>7</th>\n",
       "      <td>1</td>\n",
       "      <td>0</td>\n",
       "      <td>0</td>\n",
       "    </tr>\n",
       "    <tr>\n",
       "      <th>8</th>\n",
       "      <td>1</td>\n",
       "      <td>0</td>\n",
       "      <td>0</td>\n",
       "    </tr>\n",
       "  </tbody>\n",
       "</table>\n",
       "</div>"
      ],
      "text/plain": [
       "     Iris-setosa  Iris-versicolor  Iris-virginica\n",
       "39             1                0               0\n",
       "26             1                0               0\n",
       "101            0                0               1\n",
       "85             0                1               0\n",
       "65             0                1               0\n",
       "51             0                1               0\n",
       "55             0                1               0\n",
       "111            0                0               1\n",
       "7              1                0               0\n",
       "8              1                0               0"
      ]
     },
     "execution_count": 37,
     "metadata": {},
     "output_type": "execute_result"
    }
   ],
   "source": [
    "# pd.get_dummies(iris, columns=['Species'], drop_first = True)\n",
    "dummy = pd.get_dummies(iris['Species'])\n",
    "dummy.sample(10)"
   ]
  },
  {
   "cell_type": "markdown",
   "metadata": {
    "colab_type": "text",
    "id": "D95nY5ILcihj"
   },
   "source": [
    "### Splitting the data into feature set and target set"
   ]
  },
  {
   "cell_type": "code",
   "execution_count": 38,
   "metadata": {
    "colab": {},
    "colab_type": "code",
    "id": "RyMQoLMucihj"
   },
   "outputs": [],
   "source": [
    "X = iris.drop(\"Species\", axis=1)\n",
    "Y = dummy"
   ]
  },
  {
   "cell_type": "code",
   "execution_count": 39,
   "metadata": {},
   "outputs": [
    {
     "data": {
      "text/html": [
       "<div>\n",
       "<style scoped>\n",
       "    .dataframe tbody tr th:only-of-type {\n",
       "        vertical-align: middle;\n",
       "    }\n",
       "\n",
       "    .dataframe tbody tr th {\n",
       "        vertical-align: top;\n",
       "    }\n",
       "\n",
       "    .dataframe thead th {\n",
       "        text-align: right;\n",
       "    }\n",
       "</style>\n",
       "<table border=\"1\" class=\"dataframe\">\n",
       "  <thead>\n",
       "    <tr style=\"text-align: right;\">\n",
       "      <th></th>\n",
       "      <th>SepalLengthCm</th>\n",
       "      <th>SepalWidthCm</th>\n",
       "      <th>PetalLengthCm</th>\n",
       "      <th>PetalWidthCm</th>\n",
       "    </tr>\n",
       "  </thead>\n",
       "  <tbody>\n",
       "    <tr>\n",
       "      <th>0</th>\n",
       "      <td>5.1</td>\n",
       "      <td>3.5</td>\n",
       "      <td>1.4</td>\n",
       "      <td>0.2</td>\n",
       "    </tr>\n",
       "    <tr>\n",
       "      <th>1</th>\n",
       "      <td>4.9</td>\n",
       "      <td>3.0</td>\n",
       "      <td>1.4</td>\n",
       "      <td>0.2</td>\n",
       "    </tr>\n",
       "    <tr>\n",
       "      <th>2</th>\n",
       "      <td>4.7</td>\n",
       "      <td>3.2</td>\n",
       "      <td>1.3</td>\n",
       "      <td>0.2</td>\n",
       "    </tr>\n",
       "    <tr>\n",
       "      <th>3</th>\n",
       "      <td>4.6</td>\n",
       "      <td>3.1</td>\n",
       "      <td>1.5</td>\n",
       "      <td>0.2</td>\n",
       "    </tr>\n",
       "    <tr>\n",
       "      <th>4</th>\n",
       "      <td>5.0</td>\n",
       "      <td>3.6</td>\n",
       "      <td>1.4</td>\n",
       "      <td>0.2</td>\n",
       "    </tr>\n",
       "  </tbody>\n",
       "</table>\n",
       "</div>"
      ],
      "text/plain": [
       "   SepalLengthCm  SepalWidthCm  PetalLengthCm  PetalWidthCm\n",
       "0            5.1           3.5            1.4           0.2\n",
       "1            4.9           3.0            1.4           0.2\n",
       "2            4.7           3.2            1.3           0.2\n",
       "3            4.6           3.1            1.5           0.2\n",
       "4            5.0           3.6            1.4           0.2"
      ]
     },
     "execution_count": 39,
     "metadata": {},
     "output_type": "execute_result"
    }
   ],
   "source": [
    "X.head()"
   ]
  },
  {
   "cell_type": "code",
   "execution_count": 40,
   "metadata": {},
   "outputs": [
    {
     "data": {
      "text/html": [
       "<div>\n",
       "<style scoped>\n",
       "    .dataframe tbody tr th:only-of-type {\n",
       "        vertical-align: middle;\n",
       "    }\n",
       "\n",
       "    .dataframe tbody tr th {\n",
       "        vertical-align: top;\n",
       "    }\n",
       "\n",
       "    .dataframe thead th {\n",
       "        text-align: right;\n",
       "    }\n",
       "</style>\n",
       "<table border=\"1\" class=\"dataframe\">\n",
       "  <thead>\n",
       "    <tr style=\"text-align: right;\">\n",
       "      <th></th>\n",
       "      <th>Iris-setosa</th>\n",
       "      <th>Iris-versicolor</th>\n",
       "      <th>Iris-virginica</th>\n",
       "    </tr>\n",
       "  </thead>\n",
       "  <tbody>\n",
       "    <tr>\n",
       "      <th>0</th>\n",
       "      <td>1</td>\n",
       "      <td>0</td>\n",
       "      <td>0</td>\n",
       "    </tr>\n",
       "    <tr>\n",
       "      <th>1</th>\n",
       "      <td>1</td>\n",
       "      <td>0</td>\n",
       "      <td>0</td>\n",
       "    </tr>\n",
       "    <tr>\n",
       "      <th>2</th>\n",
       "      <td>1</td>\n",
       "      <td>0</td>\n",
       "      <td>0</td>\n",
       "    </tr>\n",
       "    <tr>\n",
       "      <th>3</th>\n",
       "      <td>1</td>\n",
       "      <td>0</td>\n",
       "      <td>0</td>\n",
       "    </tr>\n",
       "    <tr>\n",
       "      <th>4</th>\n",
       "      <td>1</td>\n",
       "      <td>0</td>\n",
       "      <td>0</td>\n",
       "    </tr>\n",
       "  </tbody>\n",
       "</table>\n",
       "</div>"
      ],
      "text/plain": [
       "   Iris-setosa  Iris-versicolor  Iris-virginica\n",
       "0            1                0               0\n",
       "1            1                0               0\n",
       "2            1                0               0\n",
       "3            1                0               0\n",
       "4            1                0               0"
      ]
     },
     "execution_count": 40,
     "metadata": {},
     "output_type": "execute_result"
    }
   ],
   "source": [
    "Y.head()"
   ]
  },
  {
   "cell_type": "markdown",
   "metadata": {
    "colab_type": "text",
    "id": "b22qpC5xcihr"
   },
   "source": [
    "###  Building Model in tf.keras\n",
    "\n",
    "Build a Linear Classifier model  <br>\n",
    "1.  Use Dense Layer  with input shape of 4 (according to the feature set) and number of outputs set to 3<br> \n",
    "2. Apply Softmax on Dense Layer outputs <br>\n",
    "3. Use SGD as Optimizer\n",
    "4. Use categorical_crossentropy as loss function "
   ]
  },
  {
   "cell_type": "code",
   "execution_count": 41,
   "metadata": {
    "colab": {},
    "colab_type": "code",
    "id": "Hov_UFnUciht"
   },
   "outputs": [
    {
     "name": "stderr",
     "output_type": "stream",
     "text": [
      "Using TensorFlow backend.\n"
     ]
    }
   ],
   "source": [
    "from keras.models import Sequential\n",
    "from keras.layers import Dense\n",
    "\n",
    "model = Sequential()\n",
    "model.add(Dense(12, input_dim=4, activation='relu'))\n",
    "model.add(Dense(3, activation='softmax'))\n",
    "model.compile(loss='categorical_crossentropy', optimizer='sgd', metrics=['accuracy'])"
   ]
  },
  {
   "cell_type": "markdown",
   "metadata": {
    "colab_type": "text",
    "id": "T5FdzqIKcihw"
   },
   "source": [
    "### Model Training "
   ]
  },
  {
   "cell_type": "code",
   "execution_count": 42,
   "metadata": {
    "colab": {},
    "colab_type": "code",
    "id": "4qLEdHPscihx"
   },
   "outputs": [
    {
     "name": "stdout",
     "output_type": "stream",
     "text": [
      "WARNING:tensorflow:From D:\\Softwares\\anaconda3\\lib\\site-packages\\tensorflow\\python\\ops\\math_ops.py:3066: to_int32 (from tensorflow.python.ops.math_ops) is deprecated and will be removed in a future version.\n",
      "Instructions for updating:\n",
      "Use tf.cast instead.\n",
      "Epoch 1/100\n",
      "150/150 [==============================] - 1s 6ms/step - loss: 1.2699 - acc: 0.3000\n",
      "Epoch 2/100\n",
      "150/150 [==============================] - 0s 580us/step - loss: 0.8670 - acc: 0.6200\n",
      "Epoch 3/100\n",
      "150/150 [==============================] - 0s 727us/step - loss: 0.7325 - acc: 0.8000\n",
      "Epoch 4/100\n",
      "150/150 [==============================] - 0s 793us/step - loss: 0.6516 - acc: 0.7933 0s - loss: 0.7025 - acc: 0.72\n",
      "Epoch 5/100\n",
      "150/150 [==============================] - 0s 1ms/step - loss: 0.5861 - acc: 0.8200\n",
      "Epoch 6/100\n",
      "150/150 [==============================] - 0s 567us/step - loss: 0.5411 - acc: 0.8733\n",
      "Epoch 7/100\n",
      "150/150 [==============================] - 0s 613us/step - loss: 0.4987 - acc: 0.8667\n",
      "Epoch 8/100\n",
      "150/150 [==============================] - 0s 607us/step - loss: 0.4760 - acc: 0.8667\n",
      "Epoch 9/100\n",
      "150/150 [==============================] - 0s 587us/step - loss: 0.4351 - acc: 0.8867\n",
      "Epoch 10/100\n",
      "150/150 [==============================] - 0s 633us/step - loss: 0.4089 - acc: 0.9067\n",
      "Epoch 11/100\n",
      "150/150 [==============================] - 0s 853us/step - loss: 0.3971 - acc: 0.8933\n",
      "Epoch 12/100\n",
      "150/150 [==============================] - 0s 953us/step - loss: 0.3783 - acc: 0.9133\n",
      "Epoch 13/100\n",
      "150/150 [==============================] - 0s 580us/step - loss: 0.3700 - acc: 0.9067\n",
      "Epoch 14/100\n",
      "150/150 [==============================] - 0s 667us/step - loss: 0.3721 - acc: 0.8800\n",
      "Epoch 15/100\n",
      "150/150 [==============================] - 0s 813us/step - loss: 0.3540 - acc: 0.9000\n",
      "Epoch 16/100\n",
      "150/150 [==============================] - ETA: 0s - loss: 0.3536 - acc: 0.893 - 0s 680us/step - loss: 0.3375 - acc: 0.9000\n",
      "Epoch 17/100\n",
      "150/150 [==============================] - 0s 560us/step - loss: 0.3162 - acc: 0.9467\n",
      "Epoch 18/100\n",
      "150/150 [==============================] - 0s 687us/step - loss: 0.3019 - acc: 0.9000\n",
      "Epoch 19/100\n",
      "150/150 [==============================] - 0s 740us/step - loss: 0.2811 - acc: 0.9467\n",
      "Epoch 20/100\n",
      "150/150 [==============================] - 0s 1ms/step - loss: 0.2940 - acc: 0.9200\n",
      "Epoch 21/100\n",
      "150/150 [==============================] - 0s 607us/step - loss: 0.2809 - acc: 0.9267\n",
      "Epoch 22/100\n",
      "150/150 [==============================] - 0s 607us/step - loss: 0.2661 - acc: 0.9400\n",
      "Epoch 23/100\n",
      "150/150 [==============================] - 0s 907us/step - loss: 0.2689 - acc: 0.9333\n",
      "Epoch 24/100\n",
      "150/150 [==============================] - 0s 533us/step - loss: 0.2527 - acc: 0.9333\n",
      "Epoch 25/100\n",
      "150/150 [==============================] - 0s 620us/step - loss: 0.2459 - acc: 0.9067\n",
      "Epoch 26/100\n",
      "150/150 [==============================] - 0s 873us/step - loss: 0.2413 - acc: 0.9400\n",
      "Epoch 27/100\n",
      "150/150 [==============================] - 0s 900us/step - loss: 0.2361 - acc: 0.9400\n",
      "Epoch 28/100\n",
      "150/150 [==============================] - 0s 560us/step - loss: 0.2335 - acc: 0.9400\n",
      "Epoch 29/100\n",
      "150/150 [==============================] - 0s 573us/step - loss: 0.2237 - acc: 0.9667\n",
      "Epoch 30/100\n",
      "150/150 [==============================] - 0s 827us/step - loss: 0.2181 - acc: 0.9333\n",
      "Epoch 31/100\n",
      "150/150 [==============================] - 0s 633us/step - loss: 0.2101 - acc: 0.9400\n",
      "Epoch 32/100\n",
      "150/150 [==============================] - 0s 627us/step - loss: 0.2095 - acc: 0.9467\n",
      "Epoch 33/100\n",
      "150/150 [==============================] - 0s 567us/step - loss: 0.1959 - acc: 0.9667\n",
      "Epoch 34/100\n",
      "150/150 [==============================] - 0s 587us/step - loss: 0.2004 - acc: 0.9400\n",
      "Epoch 35/100\n",
      "150/150 [==============================] - 0s 687us/step - loss: 0.1929 - acc: 0.9533\n",
      "Epoch 36/100\n",
      "150/150 [==============================] - 0s 540us/step - loss: 0.1937 - acc: 0.9533\n",
      "Epoch 37/100\n",
      "150/150 [==============================] - 0s 527us/step - loss: 0.1745 - acc: 0.9533\n",
      "Epoch 38/100\n",
      "150/150 [==============================] - 0s 527us/step - loss: 0.1892 - acc: 0.9267\n",
      "Epoch 39/100\n",
      "150/150 [==============================] - 0s 707us/step - loss: 0.1697 - acc: 0.9667\n",
      "Epoch 40/100\n",
      "150/150 [==============================] - 0s 667us/step - loss: 0.1693 - acc: 0.9467\n",
      "Epoch 41/100\n",
      "150/150 [==============================] - 0s 540us/step - loss: 0.1638 - acc: 0.9600\n",
      "Epoch 42/100\n",
      "150/150 [==============================] - 0s 600us/step - loss: 0.1821 - acc: 0.9333\n",
      "Epoch 43/100\n",
      "150/150 [==============================] - 0s 573us/step - loss: 0.1716 - acc: 0.9533\n",
      "Epoch 44/100\n",
      "150/150 [==============================] - 0s 687us/step - loss: 0.1577 - acc: 0.9600\n",
      "Epoch 45/100\n",
      "150/150 [==============================] - 0s 593us/step - loss: 0.1615 - acc: 0.9600\n",
      "Epoch 46/100\n",
      "150/150 [==============================] - 0s 687us/step - loss: 0.1687 - acc: 0.9533\n",
      "Epoch 47/100\n",
      "150/150 [==============================] - 0s 667us/step - loss: 0.1733 - acc: 0.9400\n",
      "Epoch 48/100\n",
      "150/150 [==============================] - 0s 467us/step - loss: 0.1562 - acc: 0.9467\n",
      "Epoch 49/100\n",
      "150/150 [==============================] - 0s 627us/step - loss: 0.1589 - acc: 0.9600\n",
      "Epoch 50/100\n",
      "150/150 [==============================] - 0s 627us/step - loss: 0.1554 - acc: 0.9533\n",
      "Epoch 51/100\n",
      "150/150 [==============================] - 0s 547us/step - loss: 0.1561 - acc: 0.9533\n",
      "Epoch 52/100\n",
      "150/150 [==============================] - 0s 560us/step - loss: 0.1371 - acc: 0.9733\n",
      "Epoch 53/100\n",
      "150/150 [==============================] - 0s 627us/step - loss: 0.1470 - acc: 0.9467\n",
      "Epoch 54/100\n",
      "150/150 [==============================] - 0s 573us/step - loss: 0.1431 - acc: 0.9733\n",
      "Epoch 55/100\n",
      "150/150 [==============================] - 0s 613us/step - loss: 0.1484 - acc: 0.9467\n",
      "Epoch 56/100\n",
      "150/150 [==============================] - 0s 893us/step - loss: 0.1462 - acc: 0.9467\n",
      "Epoch 57/100\n",
      "150/150 [==============================] - 0s 640us/step - loss: 0.1369 - acc: 0.9733\n",
      "Epoch 58/100\n",
      "150/150 [==============================] - 0s 473us/step - loss: 0.1430 - acc: 0.9600\n",
      "Epoch 59/100\n",
      "150/150 [==============================] - 0s 627us/step - loss: 0.1318 - acc: 0.9667\n",
      "Epoch 60/100\n",
      "150/150 [==============================] - 0s 740us/step - loss: 0.1337 - acc: 0.9533\n",
      "Epoch 61/100\n",
      "150/150 [==============================] - 0s 660us/step - loss: 0.1355 - acc: 0.9800\n",
      "Epoch 62/100\n",
      "150/150 [==============================] - 0s 640us/step - loss: 0.1367 - acc: 0.9600\n",
      "Epoch 63/100\n",
      "150/150 [==============================] - 0s 527us/step - loss: 0.1290 - acc: 0.9533\n",
      "Epoch 64/100\n",
      "150/150 [==============================] - 0s 640us/step - loss: 0.1272 - acc: 0.9667\n",
      "Epoch 65/100\n",
      "150/150 [==============================] - 0s 580us/step - loss: 0.1288 - acc: 0.9667\n",
      "Epoch 66/100\n",
      "150/150 [==============================] - 0s 680us/step - loss: 0.1273 - acc: 0.9533\n",
      "Epoch 67/100\n",
      "150/150 [==============================] - 0s 567us/step - loss: 0.1237 - acc: 0.9667\n",
      "Epoch 68/100\n",
      "150/150 [==============================] - 0s 540us/step - loss: 0.1239 - acc: 0.9600\n",
      "Epoch 69/100\n",
      "150/150 [==============================] - 0s 833us/step - loss: 0.1271 - acc: 0.9600\n",
      "Epoch 70/100\n",
      "150/150 [==============================] - 0s 540us/step - loss: 0.1669 - acc: 0.9333\n",
      "Epoch 71/100\n",
      "150/150 [==============================] - 0s 680us/step - loss: 0.1186 - acc: 0.9533\n",
      "Epoch 72/100\n",
      "150/150 [==============================] - 0s 687us/step - loss: 0.1108 - acc: 0.9667\n",
      "Epoch 73/100\n",
      "150/150 [==============================] - 0s 553us/step - loss: 0.1189 - acc: 0.9600\n",
      "Epoch 74/100\n",
      "150/150 [==============================] - 0s 560us/step - loss: 0.1152 - acc: 0.9600\n",
      "Epoch 75/100\n",
      "150/150 [==============================] - 0s 627us/step - loss: 0.1279 - acc: 0.9467\n",
      "Epoch 76/100\n",
      "150/150 [==============================] - 0s 740us/step - loss: 0.1146 - acc: 0.9667\n",
      "Epoch 77/100\n",
      "150/150 [==============================] - 0s 660us/step - loss: 0.1182 - acc: 0.9600\n",
      "Epoch 78/100\n",
      "150/150 [==============================] - 0s 507us/step - loss: 0.1133 - acc: 0.9600\n",
      "Epoch 79/100\n",
      "150/150 [==============================] - 0s 607us/step - loss: 0.1203 - acc: 0.9533\n",
      "Epoch 80/100\n"
     ]
    },
    {
     "name": "stdout",
     "output_type": "stream",
     "text": [
      "150/150 [==============================] - 0s 673us/step - loss: 0.1221 - acc: 0.9667\n",
      "Epoch 81/100\n",
      "150/150 [==============================] - 0s 833us/step - loss: 0.1134 - acc: 0.9533\n",
      "Epoch 82/100\n",
      "150/150 [==============================] - 0s 613us/step - loss: 0.1187 - acc: 0.9533\n",
      "Epoch 83/100\n",
      "150/150 [==============================] - 0s 487us/step - loss: 0.1340 - acc: 0.9600\n",
      "Epoch 84/100\n",
      "150/150 [==============================] - 0s 527us/step - loss: 0.1071 - acc: 0.9600\n",
      "Epoch 85/100\n",
      "150/150 [==============================] - 0s 487us/step - loss: 0.1114 - acc: 0.9600\n",
      "Epoch 86/100\n",
      "150/150 [==============================] - 0s 493us/step - loss: 0.1035 - acc: 0.9600\n",
      "Epoch 87/100\n",
      "150/150 [==============================] - 0s 767us/step - loss: 0.1132 - acc: 0.9667\n",
      "Epoch 88/100\n",
      "150/150 [==============================] - 0s 540us/step - loss: 0.1231 - acc: 0.9533\n",
      "Epoch 89/100\n",
      "150/150 [==============================] - 0s 513us/step - loss: 0.1095 - acc: 0.9667\n",
      "Epoch 90/100\n",
      "150/150 [==============================] - 0s 527us/step - loss: 0.1065 - acc: 0.9800\n",
      "Epoch 91/100\n",
      "150/150 [==============================] - 0s 527us/step - loss: 0.1068 - acc: 0.9667\n",
      "Epoch 92/100\n",
      "150/150 [==============================] - 0s 540us/step - loss: 0.1097 - acc: 0.9600\n",
      "Epoch 93/100\n",
      "150/150 [==============================] - 0s 727us/step - loss: 0.1029 - acc: 0.9600\n",
      "Epoch 94/100\n",
      "150/150 [==============================] - 0s 527us/step - loss: 0.0992 - acc: 0.9800\n",
      "Epoch 95/100\n",
      "150/150 [==============================] - 0s 500us/step - loss: 0.1128 - acc: 0.9467\n",
      "Epoch 96/100\n",
      "150/150 [==============================] - 0s 527us/step - loss: 0.1058 - acc: 0.9667\n",
      "Epoch 97/100\n",
      "150/150 [==============================] - 0s 580us/step - loss: 0.0896 - acc: 0.9867\n",
      "Epoch 98/100\n",
      "150/150 [==============================] - 0s 547us/step - loss: 0.1029 - acc: 0.9600\n",
      "Epoch 99/100\n",
      "150/150 [==============================] - 0s 507us/step - loss: 0.1035 - acc: 0.9733\n",
      "Epoch 100/100\n",
      "150/150 [==============================] - 0s 520us/step - loss: 0.1109 - acc: 0.9600\n"
     ]
    },
    {
     "data": {
      "text/plain": [
       "<keras.callbacks.History at 0xfda97f0>"
      ]
     },
     "execution_count": 42,
     "metadata": {},
     "output_type": "execute_result"
    }
   ],
   "source": [
    "model.fit(X, Y, epochs=100, batch_size=5) "
   ]
  },
  {
   "cell_type": "markdown",
   "metadata": {
    "colab_type": "text",
    "id": "y-SgSSdRcih5"
   },
   "source": [
    "### Model Prediction"
   ]
  },
  {
   "cell_type": "code",
   "execution_count": 44,
   "metadata": {
    "colab": {},
    "colab_type": "code",
    "id": "GBgKZkhkcih6"
   },
   "outputs": [
    {
     "name": "stdout",
     "output_type": "stream",
     "text": [
      "150/150 [==============================] - 0s 60us/step\n"
     ]
    },
    {
     "data": {
      "text/plain": [
       "97.33333333333334"
      ]
     },
     "execution_count": 44,
     "metadata": {},
     "output_type": "execute_result"
    }
   ],
   "source": [
    "scores = model.evaluate(X, Y)\n",
    "scores[1]*100"
   ]
  },
  {
   "cell_type": "markdown",
   "metadata": {
    "colab_type": "text",
    "id": "P32ASP1Vjt0a"
   },
   "source": [
    "### Save the Model"
   ]
  },
  {
   "cell_type": "code",
   "execution_count": null,
   "metadata": {
    "colab": {},
    "colab_type": "code",
    "id": "n8rd0jjAjyTR"
   },
   "outputs": [],
   "source": [
    "import pickle\n",
    "pickle.dump(model, open(\"model.pkl\",\"wb\" , ))\n",
    "#model = pickle.load(open(\"model.pkl\", \"rb\"))\n",
    "##\"rb\" : this means read mode"
   ]
  },
  {
   "cell_type": "markdown",
   "metadata": {
    "colab_type": "text",
    "id": "XiipRpe7rbVh"
   },
   "source": [
    "### Build and Train a Deep Neural network with 2 hidden layer  - Optional - For Practice\n",
    "\n",
    "Does it perform better than Linear Classifier? What could be the reason for difference in performance?"
   ]
  },
  {
   "cell_type": "code",
   "execution_count": null,
   "metadata": {
    "colab": {},
    "colab_type": "code",
    "id": "v5Du3lubr4sA"
   },
   "outputs": [],
   "source": []
  }
 ],
 "metadata": {
  "colab": {
   "name": "R6_Internal_Lab_UpdatedTF2_Prices_Iris.ipynb",
   "provenance": [],
   "version": "0.3.2"
  },
  "kernelspec": {
   "display_name": "Python 3",
   "language": "python",
   "name": "python3"
  },
  "language_info": {
   "codemirror_mode": {
    "name": "ipython",
    "version": 3
   },
   "file_extension": ".py",
   "mimetype": "text/x-python",
   "name": "python",
   "nbconvert_exporter": "python",
   "pygments_lexer": "ipython3",
   "version": "3.7.1"
  }
 },
 "nbformat": 4,
 "nbformat_minor": 1
}
