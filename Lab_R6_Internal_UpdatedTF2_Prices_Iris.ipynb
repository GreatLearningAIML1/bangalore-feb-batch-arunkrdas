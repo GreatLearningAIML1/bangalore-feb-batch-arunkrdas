{
 "cells": [
  {
   "cell_type": "markdown",
   "metadata": {
    "colab_type": "text",
    "id": "84Q8JfvaeZZ6"
   },
   "source": [
    "## Linear Classifier in TensorFlow \n",
    "Using Low Level API in Eager Execution mode"
   ]
  },
  {
   "cell_type": "markdown",
   "metadata": {
    "colab_type": "text",
    "id": "sb7Epo0VOB58"
   },
   "source": [
    "### Load tensorflow"
   ]
  },
  {
   "cell_type": "code",
   "execution_count": 1,
   "metadata": {
    "colab": {},
    "colab_type": "code",
    "id": "fHpCNRv1OB5-"
   },
   "outputs": [],
   "source": [
    "import tensorflow as tf"
   ]
  },
  {
   "cell_type": "code",
   "execution_count": 2,
   "metadata": {
    "colab": {},
    "colab_type": "code",
    "id": "Mjtb-EMcm5K0"
   },
   "outputs": [],
   "source": [
    "#Enable Eager Execution if using tensflow version < 2.0\n",
    "#From tensorflow v2.0 onwards, Eager Execution will be enabled by default\n"
   ]
  },
  {
   "cell_type": "markdown",
   "metadata": {
    "colab_type": "text",
    "id": "DxJDmJqqOB6K",
    "slideshow": {
     "slide_type": "slide"
    }
   },
   "source": [
    "### Collect Data"
   ]
  },
  {
   "cell_type": "code",
   "execution_count": 3,
   "metadata": {
    "colab": {},
    "colab_type": "code",
    "id": "FhllFLyKOB6N"
   },
   "outputs": [],
   "source": [
    "#from google.colab import drive\n",
    "#drive.mount('/gdrive')"
   ]
  },
  {
   "cell_type": "code",
   "execution_count": 4,
   "metadata": {
    "colab": {},
    "colab_type": "code",
    "id": "KiObW4V4SIOz"
   },
   "outputs": [],
   "source": [
    "import pandas as pd"
   ]
  },
  {
   "cell_type": "code",
   "execution_count": 5,
   "metadata": {
    "colab": {},
    "colab_type": "code",
    "id": "B4yQKMiJOB6R"
   },
   "outputs": [],
   "source": [
    "data = pd.read_csv('prices.csv')"
   ]
  },
  {
   "cell_type": "markdown",
   "metadata": {
    "colab_type": "text",
    "id": "fgkX6SEqOB6W"
   },
   "source": [
    "### Check all columns in the dataset"
   ]
  },
  {
   "cell_type": "code",
   "execution_count": 6,
   "metadata": {
    "colab": {},
    "colab_type": "code",
    "id": "7K8pWsNQOB6X"
   },
   "outputs": [
    {
     "data": {
      "text/html": [
       "<div>\n",
       "<style scoped>\n",
       "    .dataframe tbody tr th:only-of-type {\n",
       "        vertical-align: middle;\n",
       "    }\n",
       "\n",
       "    .dataframe tbody tr th {\n",
       "        vertical-align: top;\n",
       "    }\n",
       "\n",
       "    .dataframe thead th {\n",
       "        text-align: right;\n",
       "    }\n",
       "</style>\n",
       "<table border=\"1\" class=\"dataframe\">\n",
       "  <thead>\n",
       "    <tr style=\"text-align: right;\">\n",
       "      <th></th>\n",
       "      <th>date</th>\n",
       "      <th>symbol</th>\n",
       "      <th>open</th>\n",
       "      <th>close</th>\n",
       "      <th>low</th>\n",
       "      <th>high</th>\n",
       "      <th>volume</th>\n",
       "    </tr>\n",
       "  </thead>\n",
       "  <tbody>\n",
       "    <tr>\n",
       "      <th>0</th>\n",
       "      <td>2016-01-05 00:00:00</td>\n",
       "      <td>WLTW</td>\n",
       "      <td>123.430000</td>\n",
       "      <td>125.839996</td>\n",
       "      <td>122.309998</td>\n",
       "      <td>126.250000</td>\n",
       "      <td>2163600.0</td>\n",
       "    </tr>\n",
       "    <tr>\n",
       "      <th>1</th>\n",
       "      <td>2016-01-06 00:00:00</td>\n",
       "      <td>WLTW</td>\n",
       "      <td>125.239998</td>\n",
       "      <td>119.980003</td>\n",
       "      <td>119.940002</td>\n",
       "      <td>125.540001</td>\n",
       "      <td>2386400.0</td>\n",
       "    </tr>\n",
       "    <tr>\n",
       "      <th>2</th>\n",
       "      <td>2016-01-07 00:00:00</td>\n",
       "      <td>WLTW</td>\n",
       "      <td>116.379997</td>\n",
       "      <td>114.949997</td>\n",
       "      <td>114.930000</td>\n",
       "      <td>119.739998</td>\n",
       "      <td>2489500.0</td>\n",
       "    </tr>\n",
       "    <tr>\n",
       "      <th>3</th>\n",
       "      <td>2016-01-08 00:00:00</td>\n",
       "      <td>WLTW</td>\n",
       "      <td>115.480003</td>\n",
       "      <td>116.620003</td>\n",
       "      <td>113.500000</td>\n",
       "      <td>117.440002</td>\n",
       "      <td>2006300.0</td>\n",
       "    </tr>\n",
       "    <tr>\n",
       "      <th>4</th>\n",
       "      <td>2016-01-11 00:00:00</td>\n",
       "      <td>WLTW</td>\n",
       "      <td>117.010002</td>\n",
       "      <td>114.970001</td>\n",
       "      <td>114.089996</td>\n",
       "      <td>117.330002</td>\n",
       "      <td>1408600.0</td>\n",
       "    </tr>\n",
       "  </tbody>\n",
       "</table>\n",
       "</div>"
      ],
      "text/plain": [
       "                  date symbol        open       close         low        high  \\\n",
       "0  2016-01-05 00:00:00   WLTW  123.430000  125.839996  122.309998  126.250000   \n",
       "1  2016-01-06 00:00:00   WLTW  125.239998  119.980003  119.940002  125.540001   \n",
       "2  2016-01-07 00:00:00   WLTW  116.379997  114.949997  114.930000  119.739998   \n",
       "3  2016-01-08 00:00:00   WLTW  115.480003  116.620003  113.500000  117.440002   \n",
       "4  2016-01-11 00:00:00   WLTW  117.010002  114.970001  114.089996  117.330002   \n",
       "\n",
       "      volume  \n",
       "0  2163600.0  \n",
       "1  2386400.0  \n",
       "2  2489500.0  \n",
       "3  2006300.0  \n",
       "4  1408600.0  "
      ]
     },
     "execution_count": 6,
     "metadata": {},
     "output_type": "execute_result"
    }
   ],
   "source": [
    "data.head()"
   ]
  },
  {
   "cell_type": "code",
   "execution_count": 7,
   "metadata": {},
   "outputs": [
    {
     "name": "stdout",
     "output_type": "stream",
     "text": [
      "<class 'pandas.core.frame.DataFrame'>\n",
      "RangeIndex: 851264 entries, 0 to 851263\n",
      "Data columns (total 7 columns):\n",
      "date      851264 non-null object\n",
      "symbol    851264 non-null object\n",
      "open      851264 non-null float64\n",
      "close     851264 non-null float64\n",
      "low       851264 non-null float64\n",
      "high      851264 non-null float64\n",
      "volume    851264 non-null float64\n",
      "dtypes: float64(5), object(2)\n",
      "memory usage: 45.5+ MB\n"
     ]
    }
   ],
   "source": [
    "data.info()"
   ]
  },
  {
   "cell_type": "markdown",
   "metadata": {
    "colab_type": "text",
    "id": "7dU6X7MpOB6c"
   },
   "source": [
    "### Drop columns `date` and  `symbol`"
   ]
  },
  {
   "cell_type": "code",
   "execution_count": 8,
   "metadata": {
    "colab": {},
    "colab_type": "code",
    "id": "lh_6spSKOB6e"
   },
   "outputs": [],
   "source": [
    "data.drop(\"date\", axis=1, inplace=True)\n",
    "data.drop(\"symbol\", axis=1, inplace=True)"
   ]
  },
  {
   "cell_type": "code",
   "execution_count": 9,
   "metadata": {
    "colab": {},
    "colab_type": "code",
    "id": "xlwbUgTwOB6i",
    "outputId": "56bad82a-f271-415a-e0d6-cbe1c4290743"
   },
   "outputs": [
    {
     "data": {
      "text/html": [
       "<div>\n",
       "<style scoped>\n",
       "    .dataframe tbody tr th:only-of-type {\n",
       "        vertical-align: middle;\n",
       "    }\n",
       "\n",
       "    .dataframe tbody tr th {\n",
       "        vertical-align: top;\n",
       "    }\n",
       "\n",
       "    .dataframe thead th {\n",
       "        text-align: right;\n",
       "    }\n",
       "</style>\n",
       "<table border=\"1\" class=\"dataframe\">\n",
       "  <thead>\n",
       "    <tr style=\"text-align: right;\">\n",
       "      <th></th>\n",
       "      <th>open</th>\n",
       "      <th>close</th>\n",
       "      <th>low</th>\n",
       "      <th>high</th>\n",
       "      <th>volume</th>\n",
       "    </tr>\n",
       "  </thead>\n",
       "  <tbody>\n",
       "    <tr>\n",
       "      <th>0</th>\n",
       "      <td>123.430000</td>\n",
       "      <td>125.839996</td>\n",
       "      <td>122.309998</td>\n",
       "      <td>126.250000</td>\n",
       "      <td>2163600.0</td>\n",
       "    </tr>\n",
       "    <tr>\n",
       "      <th>1</th>\n",
       "      <td>125.239998</td>\n",
       "      <td>119.980003</td>\n",
       "      <td>119.940002</td>\n",
       "      <td>125.540001</td>\n",
       "      <td>2386400.0</td>\n",
       "    </tr>\n",
       "    <tr>\n",
       "      <th>2</th>\n",
       "      <td>116.379997</td>\n",
       "      <td>114.949997</td>\n",
       "      <td>114.930000</td>\n",
       "      <td>119.739998</td>\n",
       "      <td>2489500.0</td>\n",
       "    </tr>\n",
       "    <tr>\n",
       "      <th>3</th>\n",
       "      <td>115.480003</td>\n",
       "      <td>116.620003</td>\n",
       "      <td>113.500000</td>\n",
       "      <td>117.440002</td>\n",
       "      <td>2006300.0</td>\n",
       "    </tr>\n",
       "    <tr>\n",
       "      <th>4</th>\n",
       "      <td>117.010002</td>\n",
       "      <td>114.970001</td>\n",
       "      <td>114.089996</td>\n",
       "      <td>117.330002</td>\n",
       "      <td>1408600.0</td>\n",
       "    </tr>\n",
       "  </tbody>\n",
       "</table>\n",
       "</div>"
      ],
      "text/plain": [
       "         open       close         low        high     volume\n",
       "0  123.430000  125.839996  122.309998  126.250000  2163600.0\n",
       "1  125.239998  119.980003  119.940002  125.540001  2386400.0\n",
       "2  116.379997  114.949997  114.930000  119.739998  2489500.0\n",
       "3  115.480003  116.620003  113.500000  117.440002  2006300.0\n",
       "4  117.010002  114.970001  114.089996  117.330002  1408600.0"
      ]
     },
     "execution_count": 9,
     "metadata": {},
     "output_type": "execute_result"
    }
   ],
   "source": [
    "data.head()"
   ]
  },
  {
   "cell_type": "markdown",
   "metadata": {
    "colab_type": "text",
    "id": "3DBv3WWYOB6q"
   },
   "source": [
    "### Consider only first 1000 rows in the dataset for building feature set and target set\n",
    "Target 'Volume' has very high values. Divide 'Volume' by 1000,000"
   ]
  },
  {
   "cell_type": "code",
   "execution_count": 10,
   "metadata": {
    "colab": {},
    "colab_type": "code",
    "id": "Z_hG9rGBOB6s"
   },
   "outputs": [],
   "source": [
    "df = data.head(1000)"
   ]
  },
  {
   "cell_type": "code",
   "execution_count": 11,
   "metadata": {},
   "outputs": [],
   "source": [
    "X = df.drop(\"volume\", axis=1)\n",
    "Y = df[\"volume\"] "
   ]
  },
  {
   "cell_type": "code",
   "execution_count": 12,
   "metadata": {},
   "outputs": [
    {
     "data": {
      "text/html": [
       "<div>\n",
       "<style scoped>\n",
       "    .dataframe tbody tr th:only-of-type {\n",
       "        vertical-align: middle;\n",
       "    }\n",
       "\n",
       "    .dataframe tbody tr th {\n",
       "        vertical-align: top;\n",
       "    }\n",
       "\n",
       "    .dataframe thead th {\n",
       "        text-align: right;\n",
       "    }\n",
       "</style>\n",
       "<table border=\"1\" class=\"dataframe\">\n",
       "  <thead>\n",
       "    <tr style=\"text-align: right;\">\n",
       "      <th></th>\n",
       "      <th>open</th>\n",
       "      <th>close</th>\n",
       "      <th>low</th>\n",
       "      <th>high</th>\n",
       "    </tr>\n",
       "  </thead>\n",
       "  <tbody>\n",
       "    <tr>\n",
       "      <th>0</th>\n",
       "      <td>123.430000</td>\n",
       "      <td>125.839996</td>\n",
       "      <td>122.309998</td>\n",
       "      <td>126.250000</td>\n",
       "    </tr>\n",
       "    <tr>\n",
       "      <th>1</th>\n",
       "      <td>125.239998</td>\n",
       "      <td>119.980003</td>\n",
       "      <td>119.940002</td>\n",
       "      <td>125.540001</td>\n",
       "    </tr>\n",
       "    <tr>\n",
       "      <th>2</th>\n",
       "      <td>116.379997</td>\n",
       "      <td>114.949997</td>\n",
       "      <td>114.930000</td>\n",
       "      <td>119.739998</td>\n",
       "    </tr>\n",
       "    <tr>\n",
       "      <th>3</th>\n",
       "      <td>115.480003</td>\n",
       "      <td>116.620003</td>\n",
       "      <td>113.500000</td>\n",
       "      <td>117.440002</td>\n",
       "    </tr>\n",
       "    <tr>\n",
       "      <th>4</th>\n",
       "      <td>117.010002</td>\n",
       "      <td>114.970001</td>\n",
       "      <td>114.089996</td>\n",
       "      <td>117.330002</td>\n",
       "    </tr>\n",
       "  </tbody>\n",
       "</table>\n",
       "</div>"
      ],
      "text/plain": [
       "         open       close         low        high\n",
       "0  123.430000  125.839996  122.309998  126.250000\n",
       "1  125.239998  119.980003  119.940002  125.540001\n",
       "2  116.379997  114.949997  114.930000  119.739998\n",
       "3  115.480003  116.620003  113.500000  117.440002\n",
       "4  117.010002  114.970001  114.089996  117.330002"
      ]
     },
     "execution_count": 12,
     "metadata": {},
     "output_type": "execute_result"
    }
   ],
   "source": [
    "X.head()"
   ]
  },
  {
   "cell_type": "code",
   "execution_count": 13,
   "metadata": {},
   "outputs": [
    {
     "data": {
      "text/plain": [
       "0    2163600.0\n",
       "1    2386400.0\n",
       "2    2489500.0\n",
       "3    2006300.0\n",
       "4    1408600.0\n",
       "Name: volume, dtype: float64"
      ]
     },
     "execution_count": 13,
     "metadata": {},
     "output_type": "execute_result"
    }
   ],
   "source": [
    "Y.head()"
   ]
  },
  {
   "cell_type": "code",
   "execution_count": 14,
   "metadata": {},
   "outputs": [],
   "source": [
    "Y = Y.divide(1000000)"
   ]
  },
  {
   "cell_type": "code",
   "execution_count": 15,
   "metadata": {},
   "outputs": [
    {
     "data": {
      "text/plain": [
       "0    2.1636\n",
       "1    2.3864\n",
       "2    2.4895\n",
       "3    2.0063\n",
       "4    1.4086\n",
       "Name: volume, dtype: float64"
      ]
     },
     "execution_count": 15,
     "metadata": {},
     "output_type": "execute_result"
    }
   ],
   "source": [
    "Y.head()"
   ]
  },
  {
   "cell_type": "markdown",
   "metadata": {
    "colab_type": "text",
    "id": "M3UaApqYOB6x"
   },
   "source": [
    "### Divide the data into train and test sets"
   ]
  },
  {
   "cell_type": "code",
   "execution_count": 16,
   "metadata": {
    "colab": {},
    "colab_type": "code",
    "id": "4LE4U8lTdQJq"
   },
   "outputs": [],
   "source": [
    "from sklearn.model_selection import train_test_split\n",
    "xtrain,xtest,ytrain,ytest = train_test_split(X,Y,test_size=0.3,random_state=1)"
   ]
  },
  {
   "cell_type": "markdown",
   "metadata": {
    "colab_type": "text",
    "id": "oYK-aUuLbrz2"
   },
   "source": [
    "#### Convert Training and Test Data to numpy float32 arrays\n"
   ]
  },
  {
   "cell_type": "code",
   "execution_count": 17,
   "metadata": {
    "colab": {},
    "colab_type": "code",
    "id": "Ao-S0tQGcncz"
   },
   "outputs": [],
   "source": [
    "import numpy as np\n",
    "x_train = np.array(xtrain, dtype=\"float32\")\n",
    "y_train = np.array(ytrain, dtype=\"float32\")\n",
    "x_test = np.array(xtest, dtype=\"float32\")\n",
    "y_test = np.array(ytest, dtype=\"float32\")"
   ]
  },
  {
   "cell_type": "code",
   "execution_count": 18,
   "metadata": {},
   "outputs": [
    {
     "data": {
      "text/plain": [
       "array([[ 27.77   ,  27.65   ,  27.41   ,  27.84   ],\n",
       "       [ 12.94   ,  13.33   ,  12.88   ,  13.37   ],\n",
       "       [ 18.57   ,  18.89   ,  18.4    ,  18.97   ],\n",
       "       ...,\n",
       "       [627.18   , 623.99   , 621.54004, 627.83997],\n",
       "       [125.19   , 123.     , 121.95   , 125.91   ],\n",
       "       [113.04   , 113.32   , 111.65   , 115.36   ]], dtype=float32)"
      ]
     },
     "execution_count": 18,
     "metadata": {},
     "output_type": "execute_result"
    }
   ],
   "source": [
    "x_train"
   ]
  },
  {
   "cell_type": "markdown",
   "metadata": {
    "colab_type": "text",
    "id": "im1ZegbDdKgv"
   },
   "source": [
    "### Normalize the data\n",
    "You can use Normalizer from sklearn.preprocessing"
   ]
  },
  {
   "cell_type": "code",
   "execution_count": 19,
   "metadata": {
    "colab": {},
    "colab_type": "code",
    "id": "2EkKAy7fOB6y"
   },
   "outputs": [],
   "source": [
    "from sklearn.preprocessing import Normalizer\n",
    "N = Normalizer()\n",
    "x_train=N.fit_transform(x_train)\n",
    "x_test=N.transform(x_test)"
   ]
  },
  {
   "cell_type": "markdown",
   "metadata": {
    "colab_type": "text",
    "id": "v6vE4eYCOB62",
    "slideshow": {
     "slide_type": "slide"
    }
   },
   "source": [
    "## Building the Model in tensorflow"
   ]
  },
  {
   "cell_type": "markdown",
   "metadata": {
    "colab_type": "text",
    "id": "297_qja4OB7A",
    "slideshow": {
     "slide_type": "slide"
    }
   },
   "source": [
    "1.Define Weights and Bias, use tf.zeros to initialize weights and Bias"
   ]
  },
  {
   "cell_type": "code",
   "execution_count": 20,
   "metadata": {
    "colab": {},
    "colab_type": "code",
    "id": "L205qPeQOB7B"
   },
   "outputs": [
    {
     "name": "stdout",
     "output_type": "stream",
     "text": [
      "WARNING:tensorflow:From D:\\Softwares\\anaconda3\\lib\\site-packages\\tensorflow\\python\\framework\\op_def_library.py:263: colocate_with (from tensorflow.python.framework.ops) is deprecated and will be removed in a future version.\n",
      "Instructions for updating:\n",
      "Colocations handled automatically by placer.\n"
     ]
    }
   ],
   "source": [
    "W = tf.Variable(tf.random_normal(shape=[4,1]), name=\"Weights\")\n",
    "b = tf.Variable(tf.zeros(shape=[1]),name=\"Bias\")"
   ]
  },
  {
   "cell_type": "code",
   "execution_count": 21,
   "metadata": {},
   "outputs": [
    {
     "data": {
      "text/plain": [
       "<tf.Variable 'Weights:0' shape=(4, 1) dtype=float32_ref>"
      ]
     },
     "execution_count": 21,
     "metadata": {},
     "output_type": "execute_result"
    }
   ],
   "source": [
    "W"
   ]
  },
  {
   "cell_type": "markdown",
   "metadata": {
    "colab_type": "text",
    "id": "HgtWA-UIOB7F",
    "slideshow": {
     "slide_type": "slide"
    }
   },
   "source": [
    "2.Define a function to calculate prediction"
   ]
  },
  {
   "cell_type": "code",
   "execution_count": 22,
   "metadata": {
    "colab": {},
    "colab_type": "code",
    "id": "JveGlx25OB7H"
   },
   "outputs": [],
   "source": [
    "y_pred = tf.add(tf.matmul(x_train,W),b,name='output')"
   ]
  },
  {
   "cell_type": "markdown",
   "metadata": {
    "colab_type": "text",
    "id": "TL1hIwf_OB7M",
    "slideshow": {
     "slide_type": "slide"
    }
   },
   "source": [
    "3.Loss (Cost) Function [Mean square error]"
   ]
  },
  {
   "cell_type": "code",
   "execution_count": 23,
   "metadata": {
    "colab": {},
    "colab_type": "code",
    "id": "8VSWPiGXOB7P"
   },
   "outputs": [],
   "source": [
    "loss = tf.reduce_mean(tf.square(y_pred-y_train),name='mse')"
   ]
  },
  {
   "cell_type": "markdown",
   "metadata": {
    "colab_type": "text",
    "id": "jzG85FUlOB7U",
    "slideshow": {
     "slide_type": "slide"
    }
   },
   "source": [
    "4.Function to train the Model\n",
    "\n",
    "1.   Record all the mathematical steps to calculate Loss\n",
    "2.   Calculate Gradients of Loss w.r.t weights and bias\n",
    "3.   Update Weights and Bias based on gradients and learning rate to minimize loss"
   ]
  },
  {
   "cell_type": "code",
   "execution_count": 24,
   "metadata": {
    "colab": {},
    "colab_type": "code",
    "id": "cj802w-3OB7X"
   },
   "outputs": [],
   "source": [
    "train_gd = tf.train.GradientDescentOptimizer(0.03).minimize(loss)"
   ]
  },
  {
   "cell_type": "markdown",
   "metadata": {
    "colab_type": "text",
    "id": "xSypb_u8OB7e",
    "slideshow": {
     "slide_type": "slide"
    }
   },
   "source": [
    "## Train the model for 100 epochs \n",
    "1. Observe the training loss at every iteration\n",
    "2. Observe Train loss at every 5th iteration"
   ]
  },
  {
   "cell_type": "code",
   "execution_count": 25,
   "metadata": {},
   "outputs": [],
   "source": [
    "x = tf.placeholder(shape=[None,4], dtype=tf.float32)  # x place holder\n",
    "y = tf.placeholder(shape=[None], dtype=tf.float32) # y place holder"
   ]
  },
  {
   "cell_type": "code",
   "execution_count": 26,
   "metadata": {},
   "outputs": [
    {
     "name": "stdout",
     "output_type": "stream",
     "text": [
      "Training loss at every step:  0  is  232.58478\n",
      "Training loss at every step:  1  is  224.19688\n",
      "Training loss at every step:  2  is  217.70125\n",
      "Training loss at every step:  3  is  212.67102\n",
      "Training loss at every step:  4  is  208.77553\n",
      "Training loss at every step:  5  is  205.7589\n",
      "Training loss at every step:  6  is  203.42279\n",
      "Training loss at every step:  7  is  201.61365\n",
      "Training loss at every step:  8  is  200.21269\n",
      "Training loss at every step:  9  is  199.12776\n",
      "Training loss at every step:  10  is  198.2876\n",
      "Training loss at every step:  11  is  197.63696\n",
      "Training loss at every step:  12  is  197.13313\n",
      "Training loss at every step:  13  is  196.74292\n",
      "Training loss at every step:  14  is  196.44075\n",
      "Training loss at every step:  15  is  196.20674\n",
      "Training loss at every step:  16  is  196.02559\n",
      "Training loss at every step:  17  is  195.88524\n",
      "Training loss at every step:  18  is  195.77658\n",
      "Training loss at every step:  19  is  195.69238\n",
      "Training loss at every step:  20  is  195.62726\n",
      "Training loss at every step:  21  is  195.57678\n",
      "Training loss at every step:  22  is  195.53766\n",
      "Training loss at every step:  23  is  195.50743\n",
      "Training loss at every step:  24  is  195.48396\n",
      "Training loss at every step:  25  is  195.46585\n",
      "Training loss at every step:  26  is  195.45175\n",
      "Training loss at every step:  27  is  195.44089\n",
      "Training loss at every step:  28  is  195.43248\n",
      "Training loss at every step:  29  is  195.4259\n",
      "Training loss at every step:  30  is  195.42087\n",
      "Training loss at every step:  31  is  195.41695\n",
      "Training loss at every step:  32  is  195.41394\n",
      "Training loss at every step:  33  is  195.41158\n",
      "Training loss at every step:  34  is  195.40977\n",
      "Training loss at every step:  35  is  195.40834\n",
      "Training loss at every step:  36  is  195.40727\n",
      "Training loss at every step:  37  is  195.40643\n",
      "Training loss at every step:  38  is  195.40578\n",
      "Training loss at every step:  39  is  195.4053\n",
      "Training loss at every step:  40  is  195.40488\n",
      "Training loss at every step:  41  is  195.40454\n",
      "Training loss at every step:  42  is  195.40431\n",
      "Training loss at every step:  43  is  195.40416\n",
      "Training loss at every step:  44  is  195.40402\n",
      "Training loss at every step:  45  is  195.40392\n",
      "Training loss at every step:  46  is  195.40382\n",
      "Training loss at every step:  47  is  195.40378\n",
      "Training loss at every step:  48  is  195.40372\n",
      "Training loss at every step:  49  is  195.40369\n",
      "Training loss at every step:  50  is  195.40366\n",
      "Training loss at every step:  51  is  195.40361\n",
      "Training loss at every step:  52  is  195.4036\n",
      "Training loss at every step:  53  is  195.40356\n",
      "Training loss at every step:  54  is  195.40356\n",
      "Training loss at every step:  55  is  195.40355\n",
      "Training loss at every step:  56  is  195.40353\n",
      "Training loss at every step:  57  is  195.40353\n",
      "Training loss at every step:  58  is  195.40353\n",
      "Training loss at every step:  59  is  195.4035\n",
      "Training loss at every step:  60  is  195.40353\n",
      "Training loss at every step:  61  is  195.40353\n",
      "Training loss at every step:  62  is  195.40353\n",
      "Training loss at every step:  63  is  195.40353\n",
      "Training loss at every step:  64  is  195.40353\n",
      "Training loss at every step:  65  is  195.40353\n",
      "Training loss at every step:  66  is  195.40353\n",
      "Training loss at every step:  67  is  195.40353\n",
      "Training loss at every step:  68  is  195.40353\n",
      "Training loss at every step:  69  is  195.40353\n",
      "Training loss at every step:  70  is  195.40353\n",
      "Training loss at every step:  71  is  195.40353\n",
      "Training loss at every step:  72  is  195.40353\n",
      "Training loss at every step:  73  is  195.40353\n",
      "Training loss at every step:  74  is  195.40353\n",
      "Training loss at every step:  75  is  195.40353\n",
      "Training loss at every step:  76  is  195.40353\n",
      "Training loss at every step:  77  is  195.40353\n",
      "Training loss at every step:  78  is  195.40353\n",
      "Training loss at every step:  79  is  195.40353\n",
      "Training loss at every step:  80  is  195.40353\n",
      "Training loss at every step:  81  is  195.40353\n",
      "Training loss at every step:  82  is  195.40353\n",
      "Training loss at every step:  83  is  195.40353\n",
      "Training loss at every step:  84  is  195.40353\n",
      "Training loss at every step:  85  is  195.40353\n",
      "Training loss at every step:  86  is  195.40353\n",
      "Training loss at every step:  87  is  195.40353\n",
      "Training loss at every step:  88  is  195.40353\n",
      "Training loss at every step:  89  is  195.40353\n",
      "Training loss at every step:  90  is  195.40353\n",
      "Training loss at every step:  91  is  195.40353\n",
      "Training loss at every step:  92  is  195.40353\n",
      "Training loss at every step:  93  is  195.40353\n",
      "Training loss at every step:  94  is  195.40353\n",
      "Training loss at every step:  95  is  195.40353\n",
      "Training loss at every step:  96  is  195.40353\n",
      "Training loss at every step:  97  is  195.40353\n",
      "Training loss at every step:  98  is  195.40353\n",
      "Training loss at every step:  99  is  195.40353\n"
     ]
    }
   ],
   "source": [
    "sess = tf.Session()\n",
    "sess.run(tf.global_variables_initializer())\n",
    "training_epochs = 100\n",
    "for epoch in range(training_epochs):\n",
    "    _, train_loss = sess.run([train_gd,loss],feed_dict={x:x_train, y:y_train})  \n",
    "    print ('Training loss at every step: ', epoch, ' is ', train_loss)"
   ]
  },
  {
   "cell_type": "code",
   "execution_count": 27,
   "metadata": {
    "colab": {},
    "colab_type": "code",
    "id": "DVvgj7eQOB7f"
   },
   "outputs": [
    {
     "name": "stdout",
     "output_type": "stream",
     "text": [
      "Training loss at step:  0  is  227.21277\n",
      "Training loss at step:  5  is  204.26273\n",
      "Training loss at step:  10  is  197.8709\n",
      "Training loss at step:  15  is  196.09073\n",
      "Training loss at step:  20  is  195.59491\n",
      "Training loss at step:  25  is  195.45682\n",
      "Training loss at step:  30  is  195.41838\n",
      "Training loss at step:  35  is  195.40764\n",
      "Training loss at step:  40  is  195.40468\n",
      "Training loss at step:  45  is  195.40387\n",
      "Training loss at step:  50  is  195.40363\n",
      "Training loss at step:  55  is  195.40353\n",
      "Training loss at step:  60  is  195.40353\n",
      "Training loss at step:  65  is  195.40349\n",
      "Training loss at step:  70  is  195.4035\n",
      "Training loss at step:  75  is  195.40353\n",
      "Training loss at step:  80  is  195.40353\n",
      "Training loss at step:  85  is  195.40353\n",
      "Training loss at step:  90  is  195.40353\n",
      "Training loss at step:  95  is  195.40353\n"
     ]
    }
   ],
   "source": [
    "sess = tf.Session()\n",
    "sess.run(tf.global_variables_initializer())\n",
    "training_epochs = 100\n",
    "for epoch in range(training_epochs):\n",
    "    _, train_loss = sess.run([train_gd,loss],feed_dict={x:x_train, y:y_train})  \n",
    "    if epoch % 5 == 0:\n",
    "        print ('Training loss at step: ', epoch, ' is ', train_loss)"
   ]
  },
  {
   "cell_type": "markdown",
   "metadata": {
    "colab_type": "text",
    "id": "DOL2ncA1OB7q"
   },
   "source": [
    "### Get the shapes and values of W and b"
   ]
  },
  {
   "cell_type": "code",
   "execution_count": 28,
   "metadata": {
    "colab": {},
    "colab_type": "code",
    "id": "ZGvtyTeuOB7r"
   },
   "outputs": [
    {
     "data": {
      "text/plain": [
       "array([[1.7653917],\n",
       "       [0.9126457],\n",
       "       [0.876212 ],\n",
       "       [1.8377709]], dtype=float32)"
      ]
     },
     "execution_count": 28,
     "metadata": {},
     "output_type": "execute_result"
    }
   ],
   "source": [
    "sess.run(W)"
   ]
  },
  {
   "cell_type": "code",
   "execution_count": 29,
   "metadata": {},
   "outputs": [
    {
     "data": {
      "text/plain": [
       "array([2.8200471], dtype=float32)"
      ]
     },
     "execution_count": 29,
     "metadata": {},
     "output_type": "execute_result"
    }
   ],
   "source": [
    "sess.run(b)"
   ]
  },
  {
   "cell_type": "markdown",
   "metadata": {
    "colab_type": "text",
    "id": "ERq9GOKKciho"
   },
   "source": [
    "### Model Prediction on 1st Examples in Test Dataset"
   ]
  },
  {
   "cell_type": "code",
   "execution_count": 30,
   "metadata": {
    "colab": {},
    "colab_type": "code",
    "id": "gKGvUWahcihp"
   },
   "outputs": [],
   "source": [
    "y_test_pred = tf.add(tf.matmul(x_test,W),b,name='output')"
   ]
  },
  {
   "cell_type": "code",
   "execution_count": 31,
   "metadata": {},
   "outputs": [
    {
     "data": {
      "text/plain": [
       "array([[5.52069  ],\n",
       "       [5.5178475],\n",
       "       [5.5181646],\n",
       "       [5.5187426],\n",
       "       [5.517969 ],\n",
       "       [5.5172753],\n",
       "       [5.516909 ],\n",
       "       [5.520095 ],\n",
       "       [5.52391  ],\n",
       "       [5.5191813],\n",
       "       [5.518934 ],\n",
       "       [5.518276 ],\n",
       "       [5.518308 ],\n",
       "       [5.5182056],\n",
       "       [5.5279427],\n",
       "       [5.523489 ],\n",
       "       [5.519987 ],\n",
       "       [5.5317373],\n",
       "       [5.5210533],\n",
       "       [5.5263186],\n",
       "       [5.5185623],\n",
       "       [5.5186005],\n",
       "       [5.518197 ],\n",
       "       [5.522723 ],\n",
       "       [5.517437 ],\n",
       "       [5.533416 ],\n",
       "       [5.517453 ],\n",
       "       [5.5202055],\n",
       "       [5.5232716],\n",
       "       [5.5252967],\n",
       "       [5.518528 ],\n",
       "       [5.5212584],\n",
       "       [5.526249 ],\n",
       "       [5.519371 ],\n",
       "       [5.527028 ],\n",
       "       [5.5175714],\n",
       "       [5.5193944],\n",
       "       [5.518876 ],\n",
       "       [5.5203047],\n",
       "       [5.520211 ],\n",
       "       [5.5205383],\n",
       "       [5.5193815],\n",
       "       [5.5244055],\n",
       "       [5.519621 ],\n",
       "       [5.5202456],\n",
       "       [5.5225983],\n",
       "       [5.5184803],\n",
       "       [5.5188503],\n",
       "       [5.523817 ],\n",
       "       [5.5166206],\n",
       "       [5.518507 ],\n",
       "       [5.5202093],\n",
       "       [5.5194545],\n",
       "       [5.518305 ],\n",
       "       [5.528529 ],\n",
       "       [5.524455 ],\n",
       "       [5.523801 ],\n",
       "       [5.521449 ],\n",
       "       [5.517371 ],\n",
       "       [5.52425  ],\n",
       "       [5.519087 ],\n",
       "       [5.525596 ],\n",
       "       [5.5192804],\n",
       "       [5.5247498],\n",
       "       [5.5199766],\n",
       "       [5.521799 ],\n",
       "       [5.5202875],\n",
       "       [5.519663 ],\n",
       "       [5.5174494],\n",
       "       [5.519932 ],\n",
       "       [5.5193944],\n",
       "       [5.521246 ],\n",
       "       [5.519506 ],\n",
       "       [5.5202827],\n",
       "       [5.5191765],\n",
       "       [5.523756 ],\n",
       "       [5.518363 ],\n",
       "       [5.5167217],\n",
       "       [5.522335 ],\n",
       "       [5.523711 ],\n",
       "       [5.5182   ],\n",
       "       [5.517524 ],\n",
       "       [5.518792 ],\n",
       "       [5.520772 ],\n",
       "       [5.517848 ],\n",
       "       [5.528118 ],\n",
       "       [5.519825 ],\n",
       "       [5.5183945],\n",
       "       [5.518676 ],\n",
       "       [5.5184655],\n",
       "       [5.5198708],\n",
       "       [5.5196133],\n",
       "       [5.5193195],\n",
       "       [5.5271635],\n",
       "       [5.5198526],\n",
       "       [5.5283422],\n",
       "       [5.516444 ],\n",
       "       [5.519032 ],\n",
       "       [5.5176954],\n",
       "       [5.5185695],\n",
       "       [5.517401 ],\n",
       "       [5.52808  ],\n",
       "       [5.5208206],\n",
       "       [5.51753  ],\n",
       "       [5.523467 ],\n",
       "       [5.5196075],\n",
       "       [5.51845  ],\n",
       "       [5.517412 ],\n",
       "       [5.5177736],\n",
       "       [5.5194573],\n",
       "       [5.5182047],\n",
       "       [5.5193114],\n",
       "       [5.5185013],\n",
       "       [5.5192356],\n",
       "       [5.5204916],\n",
       "       [5.5209346],\n",
       "       [5.51982  ],\n",
       "       [5.5215597],\n",
       "       [5.5247965],\n",
       "       [5.5199537],\n",
       "       [5.518015 ],\n",
       "       [5.519001 ],\n",
       "       [5.5218744],\n",
       "       [5.5248957],\n",
       "       [5.5191   ],\n",
       "       [5.520429 ],\n",
       "       [5.524848 ],\n",
       "       [5.519503 ],\n",
       "       [5.5213604],\n",
       "       [5.5234795],\n",
       "       [5.518338 ],\n",
       "       [5.523937 ],\n",
       "       [5.521219 ],\n",
       "       [5.528344 ],\n",
       "       [5.5192165],\n",
       "       [5.519067 ],\n",
       "       [5.51717  ],\n",
       "       [5.52131  ],\n",
       "       [5.518464 ],\n",
       "       [5.517274 ],\n",
       "       [5.5167446],\n",
       "       [5.520048 ],\n",
       "       [5.5205564],\n",
       "       [5.5167484],\n",
       "       [5.519001 ],\n",
       "       [5.5196447],\n",
       "       [5.5206413],\n",
       "       [5.5198107],\n",
       "       [5.535578 ],\n",
       "       [5.5188713],\n",
       "       [5.518202 ],\n",
       "       [5.533235 ],\n",
       "       [5.5237594],\n",
       "       [5.518174 ],\n",
       "       [5.5231895],\n",
       "       [5.519186 ],\n",
       "       [5.518421 ],\n",
       "       [5.518489 ],\n",
       "       [5.5173383],\n",
       "       [5.518647 ],\n",
       "       [5.519158 ],\n",
       "       [5.51904  ],\n",
       "       [5.5166616],\n",
       "       [5.520032 ],\n",
       "       [5.5175257],\n",
       "       [5.516448 ],\n",
       "       [5.5200977],\n",
       "       [5.517797 ],\n",
       "       [5.518001 ],\n",
       "       [5.518726 ],\n",
       "       [5.517585 ],\n",
       "       [5.5188465],\n",
       "       [5.5189877],\n",
       "       [5.521221 ],\n",
       "       [5.521756 ],\n",
       "       [5.520339 ],\n",
       "       [5.51861  ],\n",
       "       [5.5278387],\n",
       "       [5.518486 ],\n",
       "       [5.5185766],\n",
       "       [5.519739 ],\n",
       "       [5.520113 ],\n",
       "       [5.5190873],\n",
       "       [5.5197353],\n",
       "       [5.519266 ],\n",
       "       [5.5167904],\n",
       "       [5.5184345],\n",
       "       [5.521799 ],\n",
       "       [5.5203934],\n",
       "       [5.5166416],\n",
       "       [5.5178394],\n",
       "       [5.5177946],\n",
       "       [5.517125 ],\n",
       "       [5.5169754],\n",
       "       [5.517948 ],\n",
       "       [5.522551 ],\n",
       "       [5.5222044],\n",
       "       [5.517599 ],\n",
       "       [5.521043 ],\n",
       "       [5.520608 ],\n",
       "       [5.5193906],\n",
       "       [5.525236 ],\n",
       "       [5.52121  ],\n",
       "       [5.5204315],\n",
       "       [5.5418205],\n",
       "       [5.521126 ],\n",
       "       [5.529682 ],\n",
       "       [5.526018 ],\n",
       "       [5.518608 ],\n",
       "       [5.520261 ],\n",
       "       [5.519516 ],\n",
       "       [5.519806 ],\n",
       "       [5.5249157],\n",
       "       [5.525819 ],\n",
       "       [5.5228033],\n",
       "       [5.5209403],\n",
       "       [5.5197268],\n",
       "       [5.519992 ],\n",
       "       [5.5204487],\n",
       "       [5.5192356],\n",
       "       [5.5177336],\n",
       "       [5.5203733],\n",
       "       [5.5209327],\n",
       "       [5.520902 ],\n",
       "       [5.5180273],\n",
       "       [5.522541 ],\n",
       "       [5.518524 ],\n",
       "       [5.5182333],\n",
       "       [5.5191345],\n",
       "       [5.5210056],\n",
       "       [5.5185556],\n",
       "       [5.520806 ],\n",
       "       [5.5238605],\n",
       "       [5.5261374],\n",
       "       [5.5194426],\n",
       "       [5.5196495],\n",
       "       [5.5235767],\n",
       "       [5.51926  ],\n",
       "       [5.5191183],\n",
       "       [5.5217276],\n",
       "       [5.5217   ],\n",
       "       [5.5370345],\n",
       "       [5.5189657],\n",
       "       [5.5180006],\n",
       "       [5.518385 ],\n",
       "       [5.5242825],\n",
       "       [5.5178213],\n",
       "       [5.5181346],\n",
       "       [5.5175905],\n",
       "       [5.5205693],\n",
       "       [5.5195837],\n",
       "       [5.519    ],\n",
       "       [5.5171547],\n",
       "       [5.523146 ],\n",
       "       [5.522784 ],\n",
       "       [5.51884  ],\n",
       "       [5.5254507],\n",
       "       [5.5185523],\n",
       "       [5.5196285],\n",
       "       [5.518029 ],\n",
       "       [5.5170565],\n",
       "       [5.5196905],\n",
       "       [5.5176764],\n",
       "       [5.519268 ],\n",
       "       [5.518319 ],\n",
       "       [5.5210047],\n",
       "       [5.517732 ],\n",
       "       [5.5192595],\n",
       "       [5.5217133],\n",
       "       [5.5177717],\n",
       "       [5.5199814],\n",
       "       [5.52602  ],\n",
       "       [5.5176525],\n",
       "       [5.5219088],\n",
       "       [5.522176 ],\n",
       "       [5.528142 ],\n",
       "       [5.528267 ],\n",
       "       [5.5278797],\n",
       "       [5.5182753],\n",
       "       [5.519415 ],\n",
       "       [5.518526 ],\n",
       "       [5.5321007],\n",
       "       [5.519625 ],\n",
       "       [5.518302 ],\n",
       "       [5.5184336],\n",
       "       [5.525077 ],\n",
       "       [5.518964 ],\n",
       "       [5.523185 ],\n",
       "       [5.534477 ],\n",
       "       [5.5173283],\n",
       "       [5.5199976],\n",
       "       [5.521617 ],\n",
       "       [5.5178747],\n",
       "       [5.519286 ],\n",
       "       [5.5180006],\n",
       "       [5.5175333],\n",
       "       [5.5168743],\n",
       "       [5.525538 ],\n",
       "       [5.5175095],\n",
       "       [5.5244236]], dtype=float32)"
      ]
     },
     "execution_count": 31,
     "metadata": {},
     "output_type": "execute_result"
    }
   ],
   "source": [
    "sess.run(y_test_pred)"
   ]
  },
  {
   "cell_type": "code",
   "execution_count": 32,
   "metadata": {},
   "outputs": [],
   "source": [
    "sess.close()"
   ]
  },
  {
   "cell_type": "markdown",
   "metadata": {
    "colab_type": "text",
    "id": "YJRBuqXhOB7_"
   },
   "source": [
    "## Classification using tf.Keras\n",
    "\n",
    "In this exercise, we will build a Deep Neural Network using tf.Keras. We will use Iris Dataset for this exercise."
   ]
  },
  {
   "cell_type": "markdown",
   "metadata": {
    "colab_type": "text",
    "id": "O0g6lorycihf"
   },
   "source": [
    "### Load the given Iris data using pandas (Iris.csv)"
   ]
  },
  {
   "cell_type": "code",
   "execution_count": 33,
   "metadata": {
    "colab": {},
    "colab_type": "code",
    "id": "6xFvb5sRcihg"
   },
   "outputs": [
    {
     "data": {
      "text/html": [
       "<div>\n",
       "<style scoped>\n",
       "    .dataframe tbody tr th:only-of-type {\n",
       "        vertical-align: middle;\n",
       "    }\n",
       "\n",
       "    .dataframe tbody tr th {\n",
       "        vertical-align: top;\n",
       "    }\n",
       "\n",
       "    .dataframe thead th {\n",
       "        text-align: right;\n",
       "    }\n",
       "</style>\n",
       "<table border=\"1\" class=\"dataframe\">\n",
       "  <thead>\n",
       "    <tr style=\"text-align: right;\">\n",
       "      <th></th>\n",
       "      <th>Id</th>\n",
       "      <th>SepalLengthCm</th>\n",
       "      <th>SepalWidthCm</th>\n",
       "      <th>PetalLengthCm</th>\n",
       "      <th>PetalWidthCm</th>\n",
       "      <th>Species</th>\n",
       "    </tr>\n",
       "  </thead>\n",
       "  <tbody>\n",
       "    <tr>\n",
       "      <th>0</th>\n",
       "      <td>1</td>\n",
       "      <td>5.1</td>\n",
       "      <td>3.5</td>\n",
       "      <td>1.4</td>\n",
       "      <td>0.2</td>\n",
       "      <td>Iris-setosa</td>\n",
       "    </tr>\n",
       "    <tr>\n",
       "      <th>1</th>\n",
       "      <td>2</td>\n",
       "      <td>4.9</td>\n",
       "      <td>3.0</td>\n",
       "      <td>1.4</td>\n",
       "      <td>0.2</td>\n",
       "      <td>Iris-setosa</td>\n",
       "    </tr>\n",
       "    <tr>\n",
       "      <th>2</th>\n",
       "      <td>3</td>\n",
       "      <td>4.7</td>\n",
       "      <td>3.2</td>\n",
       "      <td>1.3</td>\n",
       "      <td>0.2</td>\n",
       "      <td>Iris-setosa</td>\n",
       "    </tr>\n",
       "    <tr>\n",
       "      <th>3</th>\n",
       "      <td>4</td>\n",
       "      <td>4.6</td>\n",
       "      <td>3.1</td>\n",
       "      <td>1.5</td>\n",
       "      <td>0.2</td>\n",
       "      <td>Iris-setosa</td>\n",
       "    </tr>\n",
       "    <tr>\n",
       "      <th>4</th>\n",
       "      <td>5</td>\n",
       "      <td>5.0</td>\n",
       "      <td>3.6</td>\n",
       "      <td>1.4</td>\n",
       "      <td>0.2</td>\n",
       "      <td>Iris-setosa</td>\n",
       "    </tr>\n",
       "  </tbody>\n",
       "</table>\n",
       "</div>"
      ],
      "text/plain": [
       "   Id  SepalLengthCm  SepalWidthCm  PetalLengthCm  PetalWidthCm      Species\n",
       "0   1            5.1           3.5            1.4           0.2  Iris-setosa\n",
       "1   2            4.9           3.0            1.4           0.2  Iris-setosa\n",
       "2   3            4.7           3.2            1.3           0.2  Iris-setosa\n",
       "3   4            4.6           3.1            1.5           0.2  Iris-setosa\n",
       "4   5            5.0           3.6            1.4           0.2  Iris-setosa"
      ]
     },
     "execution_count": 33,
     "metadata": {},
     "output_type": "execute_result"
    }
   ],
   "source": [
    "iris = pd.read_csv('Iris.csv')\n",
    "iris.head()"
   ]
  },
  {
   "cell_type": "code",
   "execution_count": 34,
   "metadata": {},
   "outputs": [],
   "source": [
    "iris.drop(\"Id\", axis=1, inplace=True)"
   ]
  },
  {
   "cell_type": "code",
   "execution_count": 35,
   "metadata": {},
   "outputs": [
    {
     "name": "stdout",
     "output_type": "stream",
     "text": [
      "<class 'pandas.core.frame.DataFrame'>\n",
      "RangeIndex: 150 entries, 0 to 149\n",
      "Data columns (total 5 columns):\n",
      "SepalLengthCm    150 non-null float64\n",
      "SepalWidthCm     150 non-null float64\n",
      "PetalLengthCm    150 non-null float64\n",
      "PetalWidthCm     150 non-null float64\n",
      "Species          150 non-null object\n",
      "dtypes: float64(4), object(1)\n",
      "memory usage: 5.9+ KB\n"
     ]
    }
   ],
   "source": [
    "iris.info()"
   ]
  },
  {
   "cell_type": "code",
   "execution_count": 36,
   "metadata": {},
   "outputs": [
    {
     "data": {
      "text/plain": [
       "Iris-versicolor    50\n",
       "Iris-setosa        50\n",
       "Iris-virginica     50\n",
       "Name: Species, dtype: int64"
      ]
     },
     "execution_count": 36,
     "metadata": {},
     "output_type": "execute_result"
    }
   ],
   "source": [
    "iris['Species'].value_counts()"
   ]
  },
  {
   "cell_type": "markdown",
   "metadata": {
    "colab_type": "text",
    "id": "SAB--Qdwcihm"
   },
   "source": [
    "### Target set has different categories. So, Label encode them. And convert into one-hot vectors using get_dummies in pandas."
   ]
  },
  {
   "cell_type": "code",
   "execution_count": 37,
   "metadata": {
    "colab": {},
    "colab_type": "code",
    "id": "IJr5dYnocihm"
   },
   "outputs": [
    {
     "data": {
      "text/html": [
       "<div>\n",
       "<style scoped>\n",
       "    .dataframe tbody tr th:only-of-type {\n",
       "        vertical-align: middle;\n",
       "    }\n",
       "\n",
       "    .dataframe tbody tr th {\n",
       "        vertical-align: top;\n",
       "    }\n",
       "\n",
       "    .dataframe thead th {\n",
       "        text-align: right;\n",
       "    }\n",
       "</style>\n",
       "<table border=\"1\" class=\"dataframe\">\n",
       "  <thead>\n",
       "    <tr style=\"text-align: right;\">\n",
       "      <th></th>\n",
       "      <th>Iris-setosa</th>\n",
       "      <th>Iris-versicolor</th>\n",
       "      <th>Iris-virginica</th>\n",
       "    </tr>\n",
       "  </thead>\n",
       "  <tbody>\n",
       "    <tr>\n",
       "      <th>40</th>\n",
       "      <td>1</td>\n",
       "      <td>0</td>\n",
       "      <td>0</td>\n",
       "    </tr>\n",
       "    <tr>\n",
       "      <th>88</th>\n",
       "      <td>0</td>\n",
       "      <td>1</td>\n",
       "      <td>0</td>\n",
       "    </tr>\n",
       "    <tr>\n",
       "      <th>19</th>\n",
       "      <td>1</td>\n",
       "      <td>0</td>\n",
       "      <td>0</td>\n",
       "    </tr>\n",
       "    <tr>\n",
       "      <th>42</th>\n",
       "      <td>1</td>\n",
       "      <td>0</td>\n",
       "      <td>0</td>\n",
       "    </tr>\n",
       "    <tr>\n",
       "      <th>21</th>\n",
       "      <td>1</td>\n",
       "      <td>0</td>\n",
       "      <td>0</td>\n",
       "    </tr>\n",
       "    <tr>\n",
       "      <th>14</th>\n",
       "      <td>1</td>\n",
       "      <td>0</td>\n",
       "      <td>0</td>\n",
       "    </tr>\n",
       "    <tr>\n",
       "      <th>51</th>\n",
       "      <td>0</td>\n",
       "      <td>1</td>\n",
       "      <td>0</td>\n",
       "    </tr>\n",
       "    <tr>\n",
       "      <th>15</th>\n",
       "      <td>1</td>\n",
       "      <td>0</td>\n",
       "      <td>0</td>\n",
       "    </tr>\n",
       "    <tr>\n",
       "      <th>11</th>\n",
       "      <td>1</td>\n",
       "      <td>0</td>\n",
       "      <td>0</td>\n",
       "    </tr>\n",
       "    <tr>\n",
       "      <th>103</th>\n",
       "      <td>0</td>\n",
       "      <td>0</td>\n",
       "      <td>1</td>\n",
       "    </tr>\n",
       "  </tbody>\n",
       "</table>\n",
       "</div>"
      ],
      "text/plain": [
       "     Iris-setosa  Iris-versicolor  Iris-virginica\n",
       "40             1                0               0\n",
       "88             0                1               0\n",
       "19             1                0               0\n",
       "42             1                0               0\n",
       "21             1                0               0\n",
       "14             1                0               0\n",
       "51             0                1               0\n",
       "15             1                0               0\n",
       "11             1                0               0\n",
       "103            0                0               1"
      ]
     },
     "execution_count": 37,
     "metadata": {},
     "output_type": "execute_result"
    }
   ],
   "source": [
    "# pd.get_dummies(iris, columns=['Species'], drop_first = True)\n",
    "dummy = pd.get_dummies(iris['Species'])\n",
    "dummy.sample(10)"
   ]
  },
  {
   "cell_type": "markdown",
   "metadata": {
    "colab_type": "text",
    "id": "D95nY5ILcihj"
   },
   "source": [
    "### Splitting the data into feature set and target set"
   ]
  },
  {
   "cell_type": "code",
   "execution_count": 38,
   "metadata": {
    "colab": {},
    "colab_type": "code",
    "id": "RyMQoLMucihj"
   },
   "outputs": [],
   "source": [
    "X = iris.drop(\"Species\", axis=1)\n",
    "Y = dummy"
   ]
  },
  {
   "cell_type": "code",
   "execution_count": 39,
   "metadata": {},
   "outputs": [
    {
     "data": {
      "text/html": [
       "<div>\n",
       "<style scoped>\n",
       "    .dataframe tbody tr th:only-of-type {\n",
       "        vertical-align: middle;\n",
       "    }\n",
       "\n",
       "    .dataframe tbody tr th {\n",
       "        vertical-align: top;\n",
       "    }\n",
       "\n",
       "    .dataframe thead th {\n",
       "        text-align: right;\n",
       "    }\n",
       "</style>\n",
       "<table border=\"1\" class=\"dataframe\">\n",
       "  <thead>\n",
       "    <tr style=\"text-align: right;\">\n",
       "      <th></th>\n",
       "      <th>SepalLengthCm</th>\n",
       "      <th>SepalWidthCm</th>\n",
       "      <th>PetalLengthCm</th>\n",
       "      <th>PetalWidthCm</th>\n",
       "    </tr>\n",
       "  </thead>\n",
       "  <tbody>\n",
       "    <tr>\n",
       "      <th>0</th>\n",
       "      <td>5.1</td>\n",
       "      <td>3.5</td>\n",
       "      <td>1.4</td>\n",
       "      <td>0.2</td>\n",
       "    </tr>\n",
       "    <tr>\n",
       "      <th>1</th>\n",
       "      <td>4.9</td>\n",
       "      <td>3.0</td>\n",
       "      <td>1.4</td>\n",
       "      <td>0.2</td>\n",
       "    </tr>\n",
       "    <tr>\n",
       "      <th>2</th>\n",
       "      <td>4.7</td>\n",
       "      <td>3.2</td>\n",
       "      <td>1.3</td>\n",
       "      <td>0.2</td>\n",
       "    </tr>\n",
       "    <tr>\n",
       "      <th>3</th>\n",
       "      <td>4.6</td>\n",
       "      <td>3.1</td>\n",
       "      <td>1.5</td>\n",
       "      <td>0.2</td>\n",
       "    </tr>\n",
       "    <tr>\n",
       "      <th>4</th>\n",
       "      <td>5.0</td>\n",
       "      <td>3.6</td>\n",
       "      <td>1.4</td>\n",
       "      <td>0.2</td>\n",
       "    </tr>\n",
       "  </tbody>\n",
       "</table>\n",
       "</div>"
      ],
      "text/plain": [
       "   SepalLengthCm  SepalWidthCm  PetalLengthCm  PetalWidthCm\n",
       "0            5.1           3.5            1.4           0.2\n",
       "1            4.9           3.0            1.4           0.2\n",
       "2            4.7           3.2            1.3           0.2\n",
       "3            4.6           3.1            1.5           0.2\n",
       "4            5.0           3.6            1.4           0.2"
      ]
     },
     "execution_count": 39,
     "metadata": {},
     "output_type": "execute_result"
    }
   ],
   "source": [
    "X.head()"
   ]
  },
  {
   "cell_type": "code",
   "execution_count": 40,
   "metadata": {},
   "outputs": [
    {
     "data": {
      "text/html": [
       "<div>\n",
       "<style scoped>\n",
       "    .dataframe tbody tr th:only-of-type {\n",
       "        vertical-align: middle;\n",
       "    }\n",
       "\n",
       "    .dataframe tbody tr th {\n",
       "        vertical-align: top;\n",
       "    }\n",
       "\n",
       "    .dataframe thead th {\n",
       "        text-align: right;\n",
       "    }\n",
       "</style>\n",
       "<table border=\"1\" class=\"dataframe\">\n",
       "  <thead>\n",
       "    <tr style=\"text-align: right;\">\n",
       "      <th></th>\n",
       "      <th>Iris-setosa</th>\n",
       "      <th>Iris-versicolor</th>\n",
       "      <th>Iris-virginica</th>\n",
       "    </tr>\n",
       "  </thead>\n",
       "  <tbody>\n",
       "    <tr>\n",
       "      <th>0</th>\n",
       "      <td>1</td>\n",
       "      <td>0</td>\n",
       "      <td>0</td>\n",
       "    </tr>\n",
       "    <tr>\n",
       "      <th>1</th>\n",
       "      <td>1</td>\n",
       "      <td>0</td>\n",
       "      <td>0</td>\n",
       "    </tr>\n",
       "    <tr>\n",
       "      <th>2</th>\n",
       "      <td>1</td>\n",
       "      <td>0</td>\n",
       "      <td>0</td>\n",
       "    </tr>\n",
       "    <tr>\n",
       "      <th>3</th>\n",
       "      <td>1</td>\n",
       "      <td>0</td>\n",
       "      <td>0</td>\n",
       "    </tr>\n",
       "    <tr>\n",
       "      <th>4</th>\n",
       "      <td>1</td>\n",
       "      <td>0</td>\n",
       "      <td>0</td>\n",
       "    </tr>\n",
       "  </tbody>\n",
       "</table>\n",
       "</div>"
      ],
      "text/plain": [
       "   Iris-setosa  Iris-versicolor  Iris-virginica\n",
       "0            1                0               0\n",
       "1            1                0               0\n",
       "2            1                0               0\n",
       "3            1                0               0\n",
       "4            1                0               0"
      ]
     },
     "execution_count": 40,
     "metadata": {},
     "output_type": "execute_result"
    }
   ],
   "source": [
    "Y.head()"
   ]
  },
  {
   "cell_type": "markdown",
   "metadata": {
    "colab_type": "text",
    "id": "b22qpC5xcihr"
   },
   "source": [
    "###  Building Model in tf.keras\n",
    "\n",
    "Build a Linear Classifier model  <br>\n",
    "1.  Use Dense Layer  with input shape of 4 (according to the feature set) and number of outputs set to 3<br> \n",
    "2. Apply Softmax on Dense Layer outputs <br>\n",
    "3. Use SGD as Optimizer\n",
    "4. Use categorical_crossentropy as loss function "
   ]
  },
  {
   "cell_type": "code",
   "execution_count": 41,
   "metadata": {
    "colab": {},
    "colab_type": "code",
    "id": "Hov_UFnUciht"
   },
   "outputs": [
    {
     "name": "stderr",
     "output_type": "stream",
     "text": [
      "Using TensorFlow backend.\n"
     ]
    }
   ],
   "source": [
    "from keras.models import Sequential\n",
    "from keras.layers import Dense\n",
    "\n",
    "model = Sequential()\n",
    "model.add(Dense(12, input_dim=4, activation='relu'))\n",
    "model.add(Dense(3, activation='softmax'))\n",
    "model.compile(loss='categorical_crossentropy', optimizer='sgd', metrics=['accuracy'])"
   ]
  },
  {
   "cell_type": "markdown",
   "metadata": {
    "colab_type": "text",
    "id": "T5FdzqIKcihw"
   },
   "source": [
    "### Model Training "
   ]
  },
  {
   "cell_type": "code",
   "execution_count": 42,
   "metadata": {
    "colab": {},
    "colab_type": "code",
    "id": "4qLEdHPscihx"
   },
   "outputs": [
    {
     "name": "stdout",
     "output_type": "stream",
     "text": [
      "WARNING:tensorflow:From D:\\Softwares\\anaconda3\\lib\\site-packages\\tensorflow\\python\\ops\\math_ops.py:3066: to_int32 (from tensorflow.python.ops.math_ops) is deprecated and will be removed in a future version.\n",
      "Instructions for updating:\n",
      "Use tf.cast instead.\n",
      "Epoch 1/100\n",
      "150/150 [==============================] - 1s 6ms/step - loss: 0.9676 - acc: 0.6400\n",
      "Epoch 2/100\n",
      "150/150 [==============================] - 0s 1ms/step - loss: 0.6705 - acc: 0.8133\n",
      "Epoch 3/100\n",
      "150/150 [==============================] - 0s 667us/step - loss: 0.5757 - acc: 0.8800\n",
      "Epoch 4/100\n",
      "150/150 [==============================] - 0s 767us/step - loss: 0.5368 - acc: 0.8667\n",
      "Epoch 5/100\n",
      "150/150 [==============================] - 0s 683us/step - loss: 0.4831 - acc: 0.8400\n",
      "Epoch 6/100\n",
      "150/150 [==============================] - 0s 717us/step - loss: 0.4642 - acc: 0.8333\n",
      "Epoch 7/100\n",
      "150/150 [==============================] - 0s 650us/step - loss: 0.4267 - acc: 0.8933\n",
      "Epoch 8/100\n",
      "150/150 [==============================] - 0s 983us/step - loss: 0.3941 - acc: 0.8867\n",
      "Epoch 9/100\n",
      "150/150 [==============================] - 0s 600us/step - loss: 0.3965 - acc: 0.8600\n",
      "Epoch 10/100\n",
      "150/150 [==============================] - 0s 650us/step - loss: 0.3567 - acc: 0.9267\n",
      "Epoch 11/100\n",
      "150/150 [==============================] - 0s 783us/step - loss: 0.3406 - acc: 0.9533\n",
      "Epoch 12/100\n",
      "150/150 [==============================] - 0s 567us/step - loss: 0.3407 - acc: 0.8867\n",
      "Epoch 13/100\n",
      "150/150 [==============================] - 0s 900us/step - loss: 0.3192 - acc: 0.9000\n",
      "Epoch 14/100\n",
      "150/150 [==============================] - 0s 550us/step - loss: 0.2899 - acc: 0.9333\n",
      "Epoch 15/100\n",
      "150/150 [==============================] - 0s 600us/step - loss: 0.2856 - acc: 0.9400\n",
      "Epoch 16/100\n",
      "150/150 [==============================] - 0s 833us/step - loss: 0.2841 - acc: 0.9200\n",
      "Epoch 17/100\n",
      "150/150 [==============================] - 0s 783us/step - loss: 0.2680 - acc: 0.9467\n",
      "Epoch 18/100\n",
      "150/150 [==============================] - 0s 500us/step - loss: 0.2708 - acc: 0.9333\n",
      "Epoch 19/100\n",
      "150/150 [==============================] - 0s 550us/step - loss: 0.2549 - acc: 0.9267\n",
      "Epoch 20/100\n",
      "150/150 [==============================] - 0s 600us/step - loss: 0.2393 - acc: 0.9467\n",
      "Epoch 21/100\n",
      "150/150 [==============================] - 0s 767us/step - loss: 0.2526 - acc: 0.9267\n",
      "Epoch 22/100\n",
      "150/150 [==============================] - 0s 583us/step - loss: 0.2391 - acc: 0.9333\n",
      "Epoch 23/100\n",
      "150/150 [==============================] - 0s 833us/step - loss: 0.2179 - acc: 0.9533\n",
      "Epoch 24/100\n",
      "150/150 [==============================] - 0s 650us/step - loss: 0.2183 - acc: 0.9600\n",
      "Epoch 25/100\n",
      "150/150 [==============================] - 0s 500us/step - loss: 0.2134 - acc: 0.9533\n",
      "Epoch 26/100\n",
      "150/150 [==============================] - 0s 583us/step - loss: 0.2037 - acc: 0.9533\n",
      "Epoch 27/100\n",
      "150/150 [==============================] - 0s 667us/step - loss: 0.1965 - acc: 0.9467\n",
      "Epoch 28/100\n",
      "150/150 [==============================] - 0s 667us/step - loss: 0.2097 - acc: 0.9467\n",
      "Epoch 29/100\n",
      "150/150 [==============================] - 0s 667us/step - loss: 0.1864 - acc: 0.9600\n",
      "Epoch 30/100\n",
      "150/150 [==============================] - 0s 517us/step - loss: 0.1912 - acc: 0.9600\n",
      "Epoch 31/100\n",
      "150/150 [==============================] - 0s 517us/step - loss: 0.1740 - acc: 0.9667\n",
      "Epoch 32/100\n",
      "150/150 [==============================] - 0s 567us/step - loss: 0.1855 - acc: 0.9600\n",
      "Epoch 33/100\n",
      "150/150 [==============================] - 0s 533us/step - loss: 0.1759 - acc: 0.9600\n",
      "Epoch 34/100\n",
      "150/150 [==============================] - 0s 467us/step - loss: 0.1780 - acc: 0.9400\n",
      "Epoch 35/100\n",
      "150/150 [==============================] - 0s 550us/step - loss: 0.1627 - acc: 0.9667\n",
      "Epoch 36/100\n",
      "150/150 [==============================] - 0s 550us/step - loss: 0.1656 - acc: 0.9600\n",
      "Epoch 37/100\n",
      "150/150 [==============================] - 0s 583us/step - loss: 0.1732 - acc: 0.9400\n",
      "Epoch 38/100\n",
      "150/150 [==============================] - 0s 650us/step - loss: 0.1686 - acc: 0.9400\n",
      "Epoch 39/100\n",
      "150/150 [==============================] - 0s 500us/step - loss: 0.1616 - acc: 0.9467\n",
      "Epoch 40/100\n",
      "150/150 [==============================] - 0s 550us/step - loss: 0.1532 - acc: 0.9667\n",
      "Epoch 41/100\n",
      "150/150 [==============================] - 0s 500us/step - loss: 0.1555 - acc: 0.9533\n",
      "Epoch 42/100\n",
      "150/150 [==============================] - 0s 500us/step - loss: 0.1478 - acc: 0.9733\n",
      "Epoch 43/100\n",
      "150/150 [==============================] - 0s 600us/step - loss: 0.1438 - acc: 0.9600\n",
      "Epoch 44/100\n",
      "150/150 [==============================] - 0s 517us/step - loss: 0.1625 - acc: 0.9600\n",
      "Epoch 45/100\n",
      "150/150 [==============================] - 0s 750us/step - loss: 0.1396 - acc: 0.9667\n",
      "Epoch 46/100\n",
      "150/150 [==============================] - 0s 517us/step - loss: 0.1396 - acc: 0.9733\n",
      "Epoch 47/100\n",
      "150/150 [==============================] - 0s 600us/step - loss: 0.1207 - acc: 0.9800\n",
      "Epoch 48/100\n",
      "150/150 [==============================] - 0s 467us/step - loss: 0.1494 - acc: 0.9533\n",
      "Epoch 49/100\n",
      "150/150 [==============================] - 0s 467us/step - loss: 0.1211 - acc: 0.9667\n",
      "Epoch 50/100\n",
      "150/150 [==============================] - 0s 517us/step - loss: 0.1504 - acc: 0.9533\n",
      "Epoch 51/100\n",
      "150/150 [==============================] - 0s 483us/step - loss: 0.1492 - acc: 0.9400\n",
      "Epoch 52/100\n",
      "150/150 [==============================] - 0s 483us/step - loss: 0.1477 - acc: 0.9667\n",
      "Epoch 53/100\n",
      "150/150 [==============================] - 0s 567us/step - loss: 0.1333 - acc: 0.9533\n",
      "Epoch 54/100\n",
      "150/150 [==============================] - 0s 500us/step - loss: 0.1413 - acc: 0.9533\n",
      "Epoch 55/100\n",
      "150/150 [==============================] - 0s 600us/step - loss: 0.1332 - acc: 0.9533\n",
      "Epoch 56/100\n",
      "150/150 [==============================] - 0s 483us/step - loss: 0.1260 - acc: 0.9800\n",
      "Epoch 57/100\n",
      "150/150 [==============================] - 0s 533us/step - loss: 0.1295 - acc: 0.9600\n",
      "Epoch 58/100\n",
      "150/150 [==============================] - 0s 583us/step - loss: 0.1334 - acc: 0.9600\n",
      "Epoch 59/100\n",
      "150/150 [==============================] - 0s 483us/step - loss: 0.1191 - acc: 0.9667\n",
      "Epoch 60/100\n",
      "150/150 [==============================] - 0s 683us/step - loss: 0.1250 - acc: 0.9667\n",
      "Epoch 61/100\n",
      "150/150 [==============================] - 0s 867us/step - loss: 0.1450 - acc: 0.9467\n",
      "Epoch 62/100\n",
      "150/150 [==============================] - 0s 533us/step - loss: 0.1368 - acc: 0.9400\n",
      "Epoch 63/100\n",
      "150/150 [==============================] - 0s 417us/step - loss: 0.1269 - acc: 0.9600\n",
      "Epoch 64/100\n",
      "150/150 [==============================] - 0s 600us/step - loss: 0.1259 - acc: 0.9600\n",
      "Epoch 65/100\n",
      "150/150 [==============================] - 0s 567us/step - loss: 0.1183 - acc: 0.9667\n",
      "Epoch 66/100\n",
      "150/150 [==============================] - 0s 417us/step - loss: 0.1188 - acc: 0.9600\n",
      "Epoch 67/100\n",
      "150/150 [==============================] - 0s 550us/step - loss: 0.1124 - acc: 0.9600\n",
      "Epoch 68/100\n",
      "150/150 [==============================] - 0s 450us/step - loss: 0.1243 - acc: 0.9467\n",
      "Epoch 69/100\n",
      "150/150 [==============================] - 0s 433us/step - loss: 0.1137 - acc: 0.9733\n",
      "Epoch 70/100\n",
      "150/150 [==============================] - 0s 467us/step - loss: 0.1065 - acc: 0.9800\n",
      "Epoch 71/100\n",
      "150/150 [==============================] - 0s 683us/step - loss: 0.1157 - acc: 0.9667\n",
      "Epoch 72/100\n",
      "150/150 [==============================] - 0s 650us/step - loss: 0.1234 - acc: 0.9600\n",
      "Epoch 73/100\n",
      "150/150 [==============================] - 0s 550us/step - loss: 0.1203 - acc: 0.9600\n",
      "Epoch 74/100\n",
      "150/150 [==============================] - 0s 467us/step - loss: 0.1189 - acc: 0.9733\n",
      "Epoch 75/100\n",
      "150/150 [==============================] - 0s 533us/step - loss: 0.1019 - acc: 0.9667\n",
      "Epoch 76/100\n",
      "150/150 [==============================] - 0s 483us/step - loss: 0.1114 - acc: 0.9533\n",
      "Epoch 77/100\n",
      "150/150 [==============================] - 0s 467us/step - loss: 0.1078 - acc: 0.9533\n",
      "Epoch 78/100\n",
      "150/150 [==============================] - 0s 533us/step - loss: 0.1232 - acc: 0.9600\n",
      "Epoch 79/100\n",
      "150/150 [==============================] - 0s 467us/step - loss: 0.1140 - acc: 0.9600\n",
      "Epoch 80/100\n",
      "150/150 [==============================] - 0s 500us/step - loss: 0.1269 - acc: 0.9400\n",
      "Epoch 81/100\n"
     ]
    },
    {
     "name": "stdout",
     "output_type": "stream",
     "text": [
      "150/150 [==============================] - 0s 467us/step - loss: 0.1177 - acc: 0.9667\n",
      "Epoch 82/100\n",
      "150/150 [==============================] - 0s 450us/step - loss: 0.1133 - acc: 0.9667\n",
      "Epoch 83/100\n",
      "150/150 [==============================] - 0s 567us/step - loss: 0.1150 - acc: 0.9667\n",
      "Epoch 84/100\n",
      "150/150 [==============================] - 0s 850us/step - loss: 0.1133 - acc: 0.9600\n",
      "Epoch 85/100\n",
      "150/150 [==============================] - 0s 567us/step - loss: 0.1010 - acc: 0.9800\n",
      "Epoch 86/100\n",
      "150/150 [==============================] - 0s 517us/step - loss: 0.1202 - acc: 0.9600\n",
      "Epoch 87/100\n",
      "150/150 [==============================] - 0s 467us/step - loss: 0.1217 - acc: 0.9533\n",
      "Epoch 88/100\n",
      "150/150 [==============================] - 0s 533us/step - loss: 0.1095 - acc: 0.9600\n",
      "Epoch 89/100\n",
      "150/150 [==============================] - 0s 567us/step - loss: 0.1201 - acc: 0.9467\n",
      "Epoch 90/100\n",
      "150/150 [==============================] - 0s 467us/step - loss: 0.0989 - acc: 0.9733\n",
      "Epoch 91/100\n",
      "150/150 [==============================] - 0s 917us/step - loss: 0.1006 - acc: 0.9667\n",
      "Epoch 92/100\n",
      "150/150 [==============================] - 0s 667us/step - loss: 0.1071 - acc: 0.9667\n",
      "Epoch 93/100\n",
      "150/150 [==============================] - 0s 533us/step - loss: 0.1051 - acc: 0.9600\n",
      "Epoch 94/100\n",
      "150/150 [==============================] - 0s 483us/step - loss: 0.1056 - acc: 0.9667\n",
      "Epoch 95/100\n",
      "150/150 [==============================] - 0s 483us/step - loss: 0.0899 - acc: 0.9800\n",
      "Epoch 96/100\n",
      "150/150 [==============================] - 0s 483us/step - loss: 0.0982 - acc: 0.9667\n",
      "Epoch 97/100\n",
      "150/150 [==============================] - 0s 667us/step - loss: 0.0939 - acc: 0.9600\n",
      "Epoch 98/100\n",
      "150/150 [==============================] - 0s 567us/step - loss: 0.1003 - acc: 0.9733\n",
      "Epoch 99/100\n",
      "150/150 [==============================] - 0s 500us/step - loss: 0.1159 - acc: 0.9533\n",
      "Epoch 100/100\n",
      "150/150 [==============================] - 0s 583us/step - loss: 0.0953 - acc: 0.9600\n"
     ]
    },
    {
     "data": {
      "text/plain": [
       "<keras.callbacks.History at 0x100b81d0>"
      ]
     },
     "execution_count": 42,
     "metadata": {},
     "output_type": "execute_result"
    }
   ],
   "source": [
    "model.fit(X, Y, epochs=100, batch_size=5) "
   ]
  },
  {
   "cell_type": "markdown",
   "metadata": {
    "colab_type": "text",
    "id": "y-SgSSdRcih5"
   },
   "source": [
    "### Model Prediction"
   ]
  },
  {
   "cell_type": "code",
   "execution_count": 43,
   "metadata": {
    "colab": {},
    "colab_type": "code",
    "id": "GBgKZkhkcih6"
   },
   "outputs": [
    {
     "name": "stdout",
     "output_type": "stream",
     "text": [
      "150/150 [==============================] - 0s 1ms/step\n"
     ]
    },
    {
     "data": {
      "text/plain": [
       "96.66666666666667"
      ]
     },
     "execution_count": 43,
     "metadata": {},
     "output_type": "execute_result"
    }
   ],
   "source": [
    "scores = model.evaluate(X, Y)\n",
    "scores[1]*100"
   ]
  },
  {
   "cell_type": "code",
   "execution_count": 44,
   "metadata": {},
   "outputs": [],
   "source": [
    "x_train, x_test, y_train, y_test = train_test_split(X, Y, test_size=0.30, random_state=5)"
   ]
  },
  {
   "cell_type": "code",
   "execution_count": 45,
   "metadata": {},
   "outputs": [
    {
     "name": "stdout",
     "output_type": "stream",
     "text": [
      "Train on 105 samples, validate on 45 samples\n",
      "Epoch 1/100\n",
      "105/105 [==============================] - 0s 262us/step - loss: 0.0839 - acc: 0.9810 - val_loss: 0.0939 - val_acc: 0.9556\n",
      "Epoch 2/100\n",
      "105/105 [==============================] - 0s 190us/step - loss: 0.0831 - acc: 0.9905 - val_loss: 0.1067 - val_acc: 0.9333\n",
      "Epoch 3/100\n",
      "105/105 [==============================] - 0s 190us/step - loss: 0.0858 - acc: 0.9810 - val_loss: 0.1066 - val_acc: 0.9333\n",
      "Epoch 4/100\n",
      "105/105 [==============================] - 0s 143us/step - loss: 0.0823 - acc: 0.9810 - val_loss: 0.0964 - val_acc: 0.9556\n",
      "Epoch 5/100\n",
      "105/105 [==============================] - 0s 333us/step - loss: 0.0808 - acc: 0.9905 - val_loss: 0.0815 - val_acc: 0.9778\n",
      "Epoch 6/100\n",
      "105/105 [==============================] - 0s 167us/step - loss: 0.0823 - acc: 0.9905 - val_loss: 0.1081 - val_acc: 0.9333\n",
      "Epoch 7/100\n",
      "105/105 [==============================] - 0s 167us/step - loss: 0.0863 - acc: 0.9810 - val_loss: 0.0936 - val_acc: 0.9556\n",
      "Epoch 8/100\n",
      "105/105 [==============================] - 0s 143us/step - loss: 0.0838 - acc: 0.9905 - val_loss: 0.0924 - val_acc: 0.9556\n",
      "Epoch 9/100\n",
      "105/105 [==============================] - 0s 310us/step - loss: 0.0810 - acc: 0.9905 - val_loss: 0.1144 - val_acc: 0.9333\n",
      "Epoch 10/100\n",
      "105/105 [==============================] - 0s 143us/step - loss: 0.0836 - acc: 0.9905 - val_loss: 0.1250 - val_acc: 0.9333\n",
      "Epoch 11/100\n",
      "105/105 [==============================] - 0s 143us/step - loss: 0.0881 - acc: 0.9905 - val_loss: 0.1148 - val_acc: 0.9333\n",
      "Epoch 12/100\n",
      "105/105 [==============================] - 0s 333us/step - loss: 0.0820 - acc: 0.9810 - val_loss: 0.0990 - val_acc: 0.9556\n",
      "Epoch 13/100\n",
      "105/105 [==============================] - 0s 286us/step - loss: 0.0819 - acc: 0.9810 - val_loss: 0.0928 - val_acc: 0.9556\n",
      "Epoch 14/100\n",
      "105/105 [==============================] - 0s 143us/step - loss: 0.0801 - acc: 0.9905 - val_loss: 0.0899 - val_acc: 0.9556\n",
      "Epoch 15/100\n",
      "105/105 [==============================] - 0s 167us/step - loss: 0.0800 - acc: 0.9905 - val_loss: 0.0993 - val_acc: 0.9556\n",
      "Epoch 16/100\n",
      "105/105 [==============================] - 0s 143us/step - loss: 0.0862 - acc: 0.9905 - val_loss: 0.0919 - val_acc: 0.9556\n",
      "Epoch 17/100\n",
      "105/105 [==============================] - 0s 429us/step - loss: 0.0865 - acc: 0.9810 - val_loss: 0.0869 - val_acc: 0.9556\n",
      "Epoch 18/100\n",
      "105/105 [==============================] - 0s 167us/step - loss: 0.0808 - acc: 0.9905 - val_loss: 0.0905 - val_acc: 0.9556\n",
      "Epoch 19/100\n",
      "105/105 [==============================] - 0s 167us/step - loss: 0.0831 - acc: 0.9905 - val_loss: 0.0999 - val_acc: 0.9556\n",
      "Epoch 20/100\n",
      "105/105 [==============================] - 0s 214us/step - loss: 0.0801 - acc: 0.9810 - val_loss: 0.0994 - val_acc: 0.9556\n",
      "Epoch 21/100\n",
      "105/105 [==============================] - 0s 310us/step - loss: 0.0806 - acc: 0.9905 - val_loss: 0.0934 - val_acc: 0.9556\n",
      "Epoch 22/100\n",
      "105/105 [==============================] - 0s 167us/step - loss: 0.0814 - acc: 0.9905 - val_loss: 0.1133 - val_acc: 0.9333\n",
      "Epoch 23/100\n",
      "105/105 [==============================] - 0s 119us/step - loss: 0.0813 - acc: 0.9810 - val_loss: 0.0995 - val_acc: 0.9556\n",
      "Epoch 24/100\n",
      "105/105 [==============================] - 0s 143us/step - loss: 0.0856 - acc: 0.9905 - val_loss: 0.1125 - val_acc: 0.9333\n",
      "Epoch 25/100\n",
      "105/105 [==============================] - 0s 143us/step - loss: 0.0839 - acc: 0.9810 - val_loss: 0.1063 - val_acc: 0.9333\n",
      "Epoch 26/100\n",
      "105/105 [==============================] - 0s 143us/step - loss: 0.0815 - acc: 0.9810 - val_loss: 0.1098 - val_acc: 0.9333\n",
      "Epoch 27/100\n",
      "105/105 [==============================] - 0s 143us/step - loss: 0.0823 - acc: 0.9810 - val_loss: 0.0975 - val_acc: 0.9556\n",
      "Epoch 28/100\n",
      "105/105 [==============================] - 0s 167us/step - loss: 0.0823 - acc: 0.9810 - val_loss: 0.0879 - val_acc: 0.9556\n",
      "Epoch 29/100\n",
      "105/105 [==============================] - 0s 143us/step - loss: 0.0818 - acc: 0.9905 - val_loss: 0.0952 - val_acc: 0.9556\n",
      "Epoch 30/100\n",
      "105/105 [==============================] - 0s 333us/step - loss: 0.0796 - acc: 0.9905 - val_loss: 0.0897 - val_acc: 0.9556\n",
      "Epoch 31/100\n",
      "105/105 [==============================] - 0s 190us/step - loss: 0.0858 - acc: 0.9905 - val_loss: 0.1097 - val_acc: 0.9333\n",
      "Epoch 32/100\n",
      "105/105 [==============================] - 0s 143us/step - loss: 0.0830 - acc: 0.9810 - val_loss: 0.0964 - val_acc: 0.9556\n",
      "Epoch 33/100\n",
      "105/105 [==============================] - 0s 167us/step - loss: 0.0799 - acc: 0.9905 - val_loss: 0.0954 - val_acc: 0.9556\n",
      "Epoch 34/100\n",
      "105/105 [==============================] - 0s 143us/step - loss: 0.0799 - acc: 0.9905 - val_loss: 0.1022 - val_acc: 0.9556\n",
      "Epoch 35/100\n",
      "105/105 [==============================] - 0s 214us/step - loss: 0.0820 - acc: 0.9905 - val_loss: 0.0847 - val_acc: 0.9556\n",
      "Epoch 36/100\n",
      "105/105 [==============================] - 0s 357us/step - loss: 0.0820 - acc: 0.9905 - val_loss: 0.1214 - val_acc: 0.9333\n",
      "Epoch 37/100\n",
      "105/105 [==============================] - 0s 167us/step - loss: 0.0822 - acc: 0.9810 - val_loss: 0.1105 - val_acc: 0.9333\n",
      "Epoch 38/100\n",
      "105/105 [==============================] - 0s 143us/step - loss: 0.0813 - acc: 0.9905 - val_loss: 0.1093 - val_acc: 0.9333\n",
      "Epoch 39/100\n",
      "105/105 [==============================] - 0s 238us/step - loss: 0.0855 - acc: 0.9810 - val_loss: 0.1082 - val_acc: 0.9333\n",
      "Epoch 40/100\n",
      "105/105 [==============================] - 0s 167us/step - loss: 0.0807 - acc: 0.9810 - val_loss: 0.0933 - val_acc: 0.9556\n",
      "Epoch 41/100\n",
      "105/105 [==============================] - 0s 167us/step - loss: 0.0803 - acc: 0.9905 - val_loss: 0.0803 - val_acc: 0.9778\n",
      "Epoch 42/100\n",
      "105/105 [==============================] - 0s 143us/step - loss: 0.0823 - acc: 0.9905 - val_loss: 0.0877 - val_acc: 0.9556\n",
      "Epoch 43/100\n",
      "105/105 [==============================] - 0s 143us/step - loss: 0.0790 - acc: 0.9905 - val_loss: 0.1197 - val_acc: 0.9333\n",
      "Epoch 44/100\n",
      "105/105 [==============================] - 0s 476us/step - loss: 0.0822 - acc: 0.9810 - val_loss: 0.0936 - val_acc: 0.9556\n",
      "Epoch 45/100\n",
      "105/105 [==============================] - 0s 143us/step - loss: 0.0808 - acc: 0.9905 - val_loss: 0.0994 - val_acc: 0.9556\n",
      "Epoch 46/100\n",
      "105/105 [==============================] - 0s 143us/step - loss: 0.0813 - acc: 0.9810 - val_loss: 0.0825 - val_acc: 0.9556\n",
      "Epoch 47/100\n",
      "105/105 [==============================] - 0s 167us/step - loss: 0.0804 - acc: 0.9905 - val_loss: 0.1061 - val_acc: 0.9333\n",
      "Epoch 48/100\n",
      "105/105 [==============================] - 0s 286us/step - loss: 0.0836 - acc: 0.9810 - val_loss: 0.1351 - val_acc: 0.9333\n",
      "Epoch 49/100\n",
      "105/105 [==============================] - 0s 190us/step - loss: 0.0854 - acc: 0.9810 - val_loss: 0.0903 - val_acc: 0.9556\n",
      "Epoch 50/100\n",
      "105/105 [==============================] - 0s 167us/step - loss: 0.0830 - acc: 0.9905 - val_loss: 0.0915 - val_acc: 0.9556\n",
      "Epoch 51/100\n",
      "105/105 [==============================] - 0s 143us/step - loss: 0.0796 - acc: 0.9810 - val_loss: 0.0776 - val_acc: 0.9778\n",
      "Epoch 52/100\n",
      "105/105 [==============================] - 0s 143us/step - loss: 0.0876 - acc: 0.9905 - val_loss: 0.0881 - val_acc: 0.9556\n",
      "Epoch 53/100\n",
      "105/105 [==============================] - 0s 167us/step - loss: 0.0783 - acc: 0.9905 - val_loss: 0.1088 - val_acc: 0.9333\n",
      "Epoch 54/100\n",
      "105/105 [==============================] - 0s 381us/step - loss: 0.0793 - acc: 0.9810 - val_loss: 0.0807 - val_acc: 0.9778\n",
      "Epoch 55/100\n",
      "105/105 [==============================] - 0s 119us/step - loss: 0.0802 - acc: 0.9905 - val_loss: 0.0947 - val_acc: 0.9556\n",
      "Epoch 56/100\n",
      "105/105 [==============================] - 0s 119us/step - loss: 0.0809 - acc: 0.9905 - val_loss: 0.0999 - val_acc: 0.9556\n",
      "Epoch 57/100\n",
      "105/105 [==============================] - 0s 143us/step - loss: 0.0799 - acc: 0.9905 - val_loss: 0.1245 - val_acc: 0.9333\n",
      "Epoch 58/100\n",
      "105/105 [==============================] - 0s 214us/step - loss: 0.0846 - acc: 0.9810 - val_loss: 0.1062 - val_acc: 0.9333\n",
      "Epoch 59/100\n",
      "105/105 [==============================] - 0s 167us/step - loss: 0.0809 - acc: 0.9810 - val_loss: 0.0852 - val_acc: 0.9556\n",
      "Epoch 60/100\n",
      "105/105 [==============================] - 0s 167us/step - loss: 0.0942 - acc: 0.9619 - val_loss: 0.1029 - val_acc: 0.9556\n"
     ]
    },
    {
     "name": "stdout",
     "output_type": "stream",
     "text": [
      "Epoch 61/100\n",
      "105/105 [==============================] - 0s 238us/step - loss: 0.0788 - acc: 0.9810 - val_loss: 0.1042 - val_acc: 0.9333\n",
      "Epoch 62/100\n",
      "105/105 [==============================] - 0s 143us/step - loss: 0.0797 - acc: 0.9810 - val_loss: 0.1093 - val_acc: 0.9333\n",
      "Epoch 63/100\n",
      "105/105 [==============================] - 0s 143us/step - loss: 0.0792 - acc: 0.9810 - val_loss: 0.1019 - val_acc: 0.9556\n",
      "Epoch 64/100\n",
      "105/105 [==============================] - ETA: 0s - loss: 0.0573 - acc: 1.000 - 0s 214us/step - loss: 0.0794 - acc: 0.9810 - val_loss: 0.0972 - val_acc: 0.9556\n",
      "Epoch 65/100\n",
      "105/105 [==============================] - 0s 214us/step - loss: 0.0788 - acc: 0.9905 - val_loss: 0.1260 - val_acc: 0.9333\n",
      "Epoch 66/100\n",
      "105/105 [==============================] - 0s 167us/step - loss: 0.0835 - acc: 0.9810 - val_loss: 0.0791 - val_acc: 0.9778\n",
      "Epoch 67/100\n",
      "105/105 [==============================] - 0s 143us/step - loss: 0.0823 - acc: 0.9905 - val_loss: 0.0955 - val_acc: 0.9556\n",
      "Epoch 68/100\n",
      "105/105 [==============================] - 0s 143us/step - loss: 0.0776 - acc: 0.9905 - val_loss: 0.0907 - val_acc: 0.9556\n",
      "Epoch 69/100\n",
      "105/105 [==============================] - 0s 143us/step - loss: 0.0809 - acc: 0.9810 - val_loss: 0.0973 - val_acc: 0.9556\n",
      "Epoch 70/100\n",
      "105/105 [==============================] - 0s 286us/step - loss: 0.0779 - acc: 0.9905 - val_loss: 0.0894 - val_acc: 0.9556\n",
      "Epoch 71/100\n",
      "105/105 [==============================] - 0s 167us/step - loss: 0.0818 - acc: 0.9905 - val_loss: 0.0802 - val_acc: 0.9778\n",
      "Epoch 72/100\n",
      "105/105 [==============================] - 0s 167us/step - loss: 0.0803 - acc: 0.9905 - val_loss: 0.0837 - val_acc: 0.9556\n",
      "Epoch 73/100\n",
      "105/105 [==============================] - 0s 190us/step - loss: 0.0782 - acc: 0.9905 - val_loss: 0.0922 - val_acc: 0.9556\n",
      "Epoch 74/100\n",
      "105/105 [==============================] - 0s 167us/step - loss: 0.0775 - acc: 0.9905 - val_loss: 0.0932 - val_acc: 0.9556\n",
      "Epoch 75/100\n",
      "105/105 [==============================] - 0s 143us/step - loss: 0.0803 - acc: 0.9905 - val_loss: 0.0843 - val_acc: 0.9556\n",
      "Epoch 76/100\n",
      "105/105 [==============================] - 0s 167us/step - loss: 0.0784 - acc: 0.9905 - val_loss: 0.1128 - val_acc: 0.9333\n",
      "Epoch 77/100\n",
      "105/105 [==============================] - 0s 167us/step - loss: 0.0784 - acc: 0.9810 - val_loss: 0.0895 - val_acc: 0.9556\n",
      "Epoch 78/100\n",
      "105/105 [==============================] - 0s 167us/step - loss: 0.0775 - acc: 0.9905 - val_loss: 0.0944 - val_acc: 0.9556\n",
      "Epoch 79/100\n",
      "105/105 [==============================] - 0s 167us/step - loss: 0.0774 - acc: 0.9905 - val_loss: 0.0942 - val_acc: 0.9556\n",
      "Epoch 80/100\n",
      "105/105 [==============================] - 0s 310us/step - loss: 0.0860 - acc: 0.9905 - val_loss: 0.1008 - val_acc: 0.9556\n",
      "Epoch 81/100\n",
      "105/105 [==============================] - 0s 190us/step - loss: 0.0782 - acc: 0.9905 - val_loss: 0.0770 - val_acc: 0.9778\n",
      "Epoch 82/100\n",
      "105/105 [==============================] - 0s 167us/step - loss: 0.0940 - acc: 0.9619 - val_loss: 0.0800 - val_acc: 0.9778\n",
      "Epoch 83/100\n",
      "105/105 [==============================] - 0s 167us/step - loss: 0.1003 - acc: 0.9619 - val_loss: 0.0774 - val_acc: 0.9778\n",
      "Epoch 84/100\n",
      "105/105 [==============================] - 0s 190us/step - loss: 0.0903 - acc: 0.9714 - val_loss: 0.0902 - val_acc: 0.9556\n",
      "Epoch 85/100\n",
      "105/105 [==============================] - 0s 524us/step - loss: 0.0818 - acc: 0.9905 - val_loss: 0.0935 - val_acc: 0.9556\n",
      "Epoch 86/100\n",
      "105/105 [==============================] - 0s 143us/step - loss: 0.0766 - acc: 0.9905 - val_loss: 0.0863 - val_acc: 0.9556\n",
      "Epoch 87/100\n",
      "105/105 [==============================] - 0s 238us/step - loss: 0.0791 - acc: 0.9905 - val_loss: 0.0812 - val_acc: 0.9556\n",
      "Epoch 88/100\n",
      "105/105 [==============================] - 0s 167us/step - loss: 0.0836 - acc: 0.9905 - val_loss: 0.0851 - val_acc: 0.9556\n",
      "Epoch 89/100\n",
      "105/105 [==============================] - 0s 143us/step - loss: 0.0802 - acc: 0.9905 - val_loss: 0.0849 - val_acc: 0.9556\n",
      "Epoch 90/100\n",
      "105/105 [==============================] - 0s 167us/step - loss: 0.0787 - acc: 0.9905 - val_loss: 0.1021 - val_acc: 0.9556\n",
      "Epoch 91/100\n",
      "105/105 [==============================] - 0s 167us/step - loss: 0.0777 - acc: 0.9905 - val_loss: 0.1068 - val_acc: 0.9333\n",
      "Epoch 92/100\n",
      "105/105 [==============================] - 0s 119us/step - loss: 0.0789 - acc: 0.9810 - val_loss: 0.0897 - val_acc: 0.9556\n",
      "Epoch 93/100\n",
      "105/105 [==============================] - 0s 190us/step - loss: 0.0770 - acc: 0.9905 - val_loss: 0.1075 - val_acc: 0.9333\n",
      "Epoch 94/100\n",
      "105/105 [==============================] - 0s 143us/step - loss: 0.0825 - acc: 0.9810 - val_loss: 0.1091 - val_acc: 0.9333\n",
      "Epoch 95/100\n",
      "105/105 [==============================] - 0s 167us/step - loss: 0.0801 - acc: 0.9905 - val_loss: 0.1025 - val_acc: 0.9333\n",
      "Epoch 96/100\n",
      "105/105 [==============================] - 0s 167us/step - loss: 0.0777 - acc: 0.9905 - val_loss: 0.0936 - val_acc: 0.9556\n",
      "Epoch 97/100\n",
      "105/105 [==============================] - 0s 167us/step - loss: 0.0768 - acc: 0.9905 - val_loss: 0.0933 - val_acc: 0.9556\n",
      "Epoch 98/100\n",
      "105/105 [==============================] - 0s 143us/step - loss: 0.0773 - acc: 0.9905 - val_loss: 0.0813 - val_acc: 0.9556\n",
      "Epoch 99/100\n",
      "105/105 [==============================] - 0s 143us/step - loss: 0.0821 - acc: 0.9905 - val_loss: 0.0808 - val_acc: 0.9556\n",
      "Epoch 100/100\n",
      "105/105 [==============================] - 0s 167us/step - loss: 0.0799 - acc: 0.9905 - val_loss: 0.1637 - val_acc: 0.9111\n"
     ]
    },
    {
     "data": {
      "text/plain": [
       "<keras.callbacks.History at 0x10087dd8>"
      ]
     },
     "execution_count": 45,
     "metadata": {},
     "output_type": "execute_result"
    }
   ],
   "source": [
    "model.fit(x_train, y_train, validation_data=(x_test,y_test), epochs=100)"
   ]
  },
  {
   "cell_type": "code",
   "execution_count": 49,
   "metadata": {},
   "outputs": [],
   "source": [
    "y_predict = model.predict(x_test)"
   ]
  },
  {
   "cell_type": "code",
   "execution_count": 55,
   "metadata": {},
   "outputs": [
    {
     "data": {
      "text/plain": [
       "array([[2.92037753e-03, 9.84696507e-01, 1.23830820e-02],\n",
       "       [4.01187935e-06, 3.72198899e-03, 9.96273994e-01],\n",
       "       [9.26102700e-07, 2.03203468e-04, 9.99795854e-01],\n",
       "       [9.95187402e-01, 4.77912743e-03, 3.34263095e-05],\n",
       "       [9.96651124e-07, 1.10788026e-03, 9.98891175e-01],\n",
       "       [9.44462791e-03, 9.73113060e-01, 1.74424220e-02],\n",
       "       [9.94576454e-01, 5.40219154e-03, 2.12948507e-05],\n",
       "       [3.60415695e-04, 1.50545254e-01, 8.49094331e-01],\n",
       "       [9.91444170e-01, 8.52759648e-03, 2.82821147e-05],\n",
       "       [8.85488465e-04, 2.84137815e-01, 7.14976668e-01],\n",
       "       [1.19955011e-03, 4.49741691e-01, 5.49058735e-01],\n",
       "       [1.70757805e-04, 1.38952687e-01, 8.60876620e-01],\n",
       "       [1.94180916e-06, 2.40201550e-03, 9.97596085e-01],\n",
       "       [7.68788311e-07, 1.77429954e-03, 9.98224914e-01],\n",
       "       [9.95567262e-01, 4.41867486e-03, 1.39732319e-05],\n",
       "       [9.91286814e-01, 8.68441444e-03, 2.88216888e-05],\n",
       "       [1.21828598e-04, 6.50773272e-02, 9.34800804e-01],\n",
       "       [1.61063360e-06, 3.23704584e-03, 9.96761382e-01],\n",
       "       [9.97805655e-01, 2.18668091e-03, 7.57614680e-06],\n",
       "       [9.94367063e-01, 5.60821127e-03, 2.46014188e-05],\n",
       "       [2.68940697e-03, 9.87999618e-01, 9.31103900e-03],\n",
       "       [8.63154810e-07, 5.16340951e-04, 9.99482751e-01],\n",
       "       [9.98209119e-01, 1.78536610e-03, 5.50858431e-06],\n",
       "       [2.10279468e-04, 1.46076575e-01, 8.53713214e-01],\n",
       "       [2.86721811e-03, 9.54381406e-01, 4.27513607e-02],\n",
       "       [5.36334755e-06, 2.33294605e-03, 9.97661710e-01],\n",
       "       [1.47295347e-03, 9.87392128e-01, 1.11348843e-02],\n",
       "       [2.19014729e-03, 9.28708494e-01, 6.91013038e-02],\n",
       "       [9.97015275e-04, 6.54952645e-01, 3.44050318e-01],\n",
       "       [5.56789189e-07, 3.00656306e-04, 9.99698758e-01],\n",
       "       [9.96824980e-01, 3.16448486e-03, 1.06073858e-05],\n",
       "       [2.40962207e-03, 6.98395312e-01, 2.99195021e-01],\n",
       "       [1.30919209e-02, 9.78185058e-01, 8.72301310e-03],\n",
       "       [9.98329699e-01, 1.66551559e-03, 4.73214413e-06],\n",
       "       [8.42971611e-04, 9.91608024e-01, 7.54903816e-03],\n",
       "       [9.96717036e-01, 3.27006984e-03, 1.28846250e-05],\n",
       "       [9.95443344e-01, 4.54152003e-03, 1.52272305e-05],\n",
       "       [1.28894703e-06, 2.27097655e-03, 9.97727692e-01],\n",
       "       [9.97880459e-01, 2.11010361e-03, 9.53256676e-06],\n",
       "       [8.88036629e-06, 4.12402581e-03, 9.95867133e-01],\n",
       "       [5.89892488e-06, 2.11220933e-03, 9.97881830e-01],\n",
       "       [2.52771168e-03, 9.70607042e-01, 2.68652756e-02],\n",
       "       [9.97631788e-01, 2.35938956e-03, 8.82319455e-06],\n",
       "       [9.97864902e-01, 2.12799665e-03, 7.15292435e-06],\n",
       "       [1.12671906e-03, 8.52172494e-01, 1.46700829e-01]], dtype=float32)"
      ]
     },
     "execution_count": 55,
     "metadata": {},
     "output_type": "execute_result"
    }
   ],
   "source": [
    "y_predict"
   ]
  },
  {
   "cell_type": "markdown",
   "metadata": {
    "colab_type": "text",
    "id": "P32ASP1Vjt0a"
   },
   "source": [
    "### Save the Model"
   ]
  },
  {
   "cell_type": "code",
   "execution_count": null,
   "metadata": {
    "colab": {},
    "colab_type": "code",
    "id": "n8rd0jjAjyTR"
   },
   "outputs": [],
   "source": [
    "import pickle\n",
    "pickle.dump(model, open(\"model.pkl\",\"wb\" , ))\n",
    "#model = pickle.load(open(\"model.pkl\", \"rb\"))\n",
    "##\"rb\" : this means read mode"
   ]
  },
  {
   "cell_type": "markdown",
   "metadata": {
    "colab_type": "text",
    "id": "XiipRpe7rbVh"
   },
   "source": [
    "### Build and Train a Deep Neural network with 2 hidden layer  - Optional - For Practice\n",
    "\n",
    "Does it perform better than Linear Classifier? What could be the reason for difference in performance?"
   ]
  },
  {
   "cell_type": "code",
   "execution_count": null,
   "metadata": {
    "colab": {},
    "colab_type": "code",
    "id": "v5Du3lubr4sA"
   },
   "outputs": [],
   "source": []
  }
 ],
 "metadata": {
  "colab": {
   "name": "R6_Internal_Lab_UpdatedTF2_Prices_Iris.ipynb",
   "provenance": [],
   "version": "0.3.2"
  },
  "kernelspec": {
   "display_name": "Python 3",
   "language": "python",
   "name": "python3"
  },
  "language_info": {
   "codemirror_mode": {
    "name": "ipython",
    "version": 3
   },
   "file_extension": ".py",
   "mimetype": "text/x-python",
   "name": "python",
   "nbconvert_exporter": "python",
   "pygments_lexer": "ipython3",
   "version": "3.7.1"
  }
 },
 "nbformat": 4,
 "nbformat_minor": 1
}
