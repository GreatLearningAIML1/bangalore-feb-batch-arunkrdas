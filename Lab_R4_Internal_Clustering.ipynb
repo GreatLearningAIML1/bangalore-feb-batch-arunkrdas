{
 "cells": [
  {
   "cell_type": "markdown",
   "metadata": {},
   "source": [
    "### The data set has information about features of silhouette extracted from the images of different cars\n",
    "\n",
    "Four \"Corgie\" model vehicles were used for the experiment: a double decker bus, Cheverolet van, Saab 9000 and an Opel Manta 400 cars. This particular combination of vehicles was chosen with the expectation that the bus, van and either one of the cars would be readily distinguishable, but it would be more difficult to distinguish between the cars.\n",
    "\n"
   ]
  },
  {
   "cell_type": "markdown",
   "metadata": {},
   "source": [
    "### 1. Read the dataset using function .dropna() - to avoid dealing with NAs as of now"
   ]
  },
  {
   "cell_type": "code",
   "execution_count": 85,
   "metadata": {},
   "outputs": [],
   "source": [
    "import pandas as pd\n",
    "import numpy as np\n",
    "\n",
    "from sklearn.model_selection import train_test_split\n",
    "from sklearn.cluster import KMeans\n",
    "\n",
    "from scipy.stats import zscore\n",
    "from scipy.spatial.distance import cdist\n",
    "import scipy.cluster.hierarchy as shc\n",
    "from scipy.cluster.hierarchy import ward, fcluster\n",
    "from scipy.spatial.distance import pdist\n",
    "\n",
    "import matplotlib.pyplot as plt\n",
    "import seaborn as sns\n",
    "%matplotlib inline "
   ]
  },
  {
   "cell_type": "code",
   "execution_count": 2,
   "metadata": {},
   "outputs": [
    {
     "data": {
      "text/html": [
       "<div>\n",
       "<style scoped>\n",
       "    .dataframe tbody tr th:only-of-type {\n",
       "        vertical-align: middle;\n",
       "    }\n",
       "\n",
       "    .dataframe tbody tr th {\n",
       "        vertical-align: top;\n",
       "    }\n",
       "\n",
       "    .dataframe thead th {\n",
       "        text-align: right;\n",
       "    }\n",
       "</style>\n",
       "<table border=\"1\" class=\"dataframe\">\n",
       "  <thead>\n",
       "    <tr style=\"text-align: right;\">\n",
       "      <th></th>\n",
       "      <th>compactness</th>\n",
       "      <th>circularity</th>\n",
       "      <th>distance_circularity</th>\n",
       "      <th>radius_ratio</th>\n",
       "      <th>pr.axis_aspect_ratio</th>\n",
       "      <th>max.length_aspect_ratio</th>\n",
       "      <th>scatter_ratio</th>\n",
       "      <th>elongatedness</th>\n",
       "      <th>pr.axis_rectangularity</th>\n",
       "      <th>max.length_rectangularity</th>\n",
       "      <th>scaled_variance</th>\n",
       "      <th>scaled_variance.1</th>\n",
       "      <th>scaled_radius_of_gyration</th>\n",
       "      <th>scaled_radius_of_gyration.1</th>\n",
       "      <th>skewness_about</th>\n",
       "      <th>skewness_about.1</th>\n",
       "      <th>skewness_about.2</th>\n",
       "      <th>hollows_ratio</th>\n",
       "      <th>class</th>\n",
       "    </tr>\n",
       "  </thead>\n",
       "  <tbody>\n",
       "    <tr>\n",
       "      <th>0</th>\n",
       "      <td>95</td>\n",
       "      <td>48.0</td>\n",
       "      <td>83.0</td>\n",
       "      <td>178.0</td>\n",
       "      <td>72.0</td>\n",
       "      <td>10</td>\n",
       "      <td>162.0</td>\n",
       "      <td>42.0</td>\n",
       "      <td>20.0</td>\n",
       "      <td>159</td>\n",
       "      <td>176.0</td>\n",
       "      <td>379.0</td>\n",
       "      <td>184.0</td>\n",
       "      <td>70.0</td>\n",
       "      <td>6.0</td>\n",
       "      <td>16.0</td>\n",
       "      <td>187.0</td>\n",
       "      <td>197</td>\n",
       "      <td>van</td>\n",
       "    </tr>\n",
       "    <tr>\n",
       "      <th>1</th>\n",
       "      <td>91</td>\n",
       "      <td>41.0</td>\n",
       "      <td>84.0</td>\n",
       "      <td>141.0</td>\n",
       "      <td>57.0</td>\n",
       "      <td>9</td>\n",
       "      <td>149.0</td>\n",
       "      <td>45.0</td>\n",
       "      <td>19.0</td>\n",
       "      <td>143</td>\n",
       "      <td>170.0</td>\n",
       "      <td>330.0</td>\n",
       "      <td>158.0</td>\n",
       "      <td>72.0</td>\n",
       "      <td>9.0</td>\n",
       "      <td>14.0</td>\n",
       "      <td>189.0</td>\n",
       "      <td>199</td>\n",
       "      <td>van</td>\n",
       "    </tr>\n",
       "    <tr>\n",
       "      <th>2</th>\n",
       "      <td>104</td>\n",
       "      <td>50.0</td>\n",
       "      <td>106.0</td>\n",
       "      <td>209.0</td>\n",
       "      <td>66.0</td>\n",
       "      <td>10</td>\n",
       "      <td>207.0</td>\n",
       "      <td>32.0</td>\n",
       "      <td>23.0</td>\n",
       "      <td>158</td>\n",
       "      <td>223.0</td>\n",
       "      <td>635.0</td>\n",
       "      <td>220.0</td>\n",
       "      <td>73.0</td>\n",
       "      <td>14.0</td>\n",
       "      <td>9.0</td>\n",
       "      <td>188.0</td>\n",
       "      <td>196</td>\n",
       "      <td>car</td>\n",
       "    </tr>\n",
       "    <tr>\n",
       "      <th>3</th>\n",
       "      <td>93</td>\n",
       "      <td>41.0</td>\n",
       "      <td>82.0</td>\n",
       "      <td>159.0</td>\n",
       "      <td>63.0</td>\n",
       "      <td>9</td>\n",
       "      <td>144.0</td>\n",
       "      <td>46.0</td>\n",
       "      <td>19.0</td>\n",
       "      <td>143</td>\n",
       "      <td>160.0</td>\n",
       "      <td>309.0</td>\n",
       "      <td>127.0</td>\n",
       "      <td>63.0</td>\n",
       "      <td>6.0</td>\n",
       "      <td>10.0</td>\n",
       "      <td>199.0</td>\n",
       "      <td>207</td>\n",
       "      <td>van</td>\n",
       "    </tr>\n",
       "    <tr>\n",
       "      <th>4</th>\n",
       "      <td>85</td>\n",
       "      <td>44.0</td>\n",
       "      <td>70.0</td>\n",
       "      <td>205.0</td>\n",
       "      <td>103.0</td>\n",
       "      <td>52</td>\n",
       "      <td>149.0</td>\n",
       "      <td>45.0</td>\n",
       "      <td>19.0</td>\n",
       "      <td>144</td>\n",
       "      <td>241.0</td>\n",
       "      <td>325.0</td>\n",
       "      <td>188.0</td>\n",
       "      <td>127.0</td>\n",
       "      <td>9.0</td>\n",
       "      <td>11.0</td>\n",
       "      <td>180.0</td>\n",
       "      <td>183</td>\n",
       "      <td>bus</td>\n",
       "    </tr>\n",
       "  </tbody>\n",
       "</table>\n",
       "</div>"
      ],
      "text/plain": [
       "   compactness  circularity  distance_circularity  radius_ratio  \\\n",
       "0           95         48.0                  83.0         178.0   \n",
       "1           91         41.0                  84.0         141.0   \n",
       "2          104         50.0                 106.0         209.0   \n",
       "3           93         41.0                  82.0         159.0   \n",
       "4           85         44.0                  70.0         205.0   \n",
       "\n",
       "   pr.axis_aspect_ratio  max.length_aspect_ratio  scatter_ratio  \\\n",
       "0                  72.0                       10          162.0   \n",
       "1                  57.0                        9          149.0   \n",
       "2                  66.0                       10          207.0   \n",
       "3                  63.0                        9          144.0   \n",
       "4                 103.0                       52          149.0   \n",
       "\n",
       "   elongatedness  pr.axis_rectangularity  max.length_rectangularity  \\\n",
       "0           42.0                    20.0                        159   \n",
       "1           45.0                    19.0                        143   \n",
       "2           32.0                    23.0                        158   \n",
       "3           46.0                    19.0                        143   \n",
       "4           45.0                    19.0                        144   \n",
       "\n",
       "   scaled_variance  scaled_variance.1  scaled_radius_of_gyration  \\\n",
       "0            176.0              379.0                      184.0   \n",
       "1            170.0              330.0                      158.0   \n",
       "2            223.0              635.0                      220.0   \n",
       "3            160.0              309.0                      127.0   \n",
       "4            241.0              325.0                      188.0   \n",
       "\n",
       "   scaled_radius_of_gyration.1  skewness_about  skewness_about.1  \\\n",
       "0                         70.0             6.0              16.0   \n",
       "1                         72.0             9.0              14.0   \n",
       "2                         73.0            14.0               9.0   \n",
       "3                         63.0             6.0              10.0   \n",
       "4                        127.0             9.0              11.0   \n",
       "\n",
       "   skewness_about.2  hollows_ratio class  \n",
       "0             187.0            197   van  \n",
       "1             189.0            199   van  \n",
       "2             188.0            196   car  \n",
       "3             199.0            207   van  \n",
       "4             180.0            183   bus  "
      ]
     },
     "execution_count": 2,
     "metadata": {},
     "output_type": "execute_result"
    }
   ],
   "source": [
    "vehicle = pd.read_csv(\"vehicle.csv\")\n",
    "vehicle.head()"
   ]
  },
  {
   "cell_type": "code",
   "execution_count": 3,
   "metadata": {},
   "outputs": [
    {
     "name": "stdout",
     "output_type": "stream",
     "text": [
      "<class 'pandas.core.frame.DataFrame'>\n",
      "RangeIndex: 846 entries, 0 to 845\n",
      "Data columns (total 19 columns):\n",
      "compactness                    846 non-null int64\n",
      "circularity                    841 non-null float64\n",
      "distance_circularity           842 non-null float64\n",
      "radius_ratio                   840 non-null float64\n",
      "pr.axis_aspect_ratio           844 non-null float64\n",
      "max.length_aspect_ratio        846 non-null int64\n",
      "scatter_ratio                  845 non-null float64\n",
      "elongatedness                  845 non-null float64\n",
      "pr.axis_rectangularity         843 non-null float64\n",
      "max.length_rectangularity      846 non-null int64\n",
      "scaled_variance                843 non-null float64\n",
      "scaled_variance.1              844 non-null float64\n",
      "scaled_radius_of_gyration      844 non-null float64\n",
      "scaled_radius_of_gyration.1    842 non-null float64\n",
      "skewness_about                 840 non-null float64\n",
      "skewness_about.1               845 non-null float64\n",
      "skewness_about.2               845 non-null float64\n",
      "hollows_ratio                  846 non-null int64\n",
      "class                          846 non-null object\n",
      "dtypes: float64(14), int64(4), object(1)\n",
      "memory usage: 125.7+ KB\n"
     ]
    }
   ],
   "source": [
    "vehicle.info()"
   ]
  },
  {
   "cell_type": "code",
   "execution_count": 4,
   "metadata": {},
   "outputs": [
    {
     "data": {
      "text/plain": [
       "compactness                    0\n",
       "circularity                    5\n",
       "distance_circularity           4\n",
       "radius_ratio                   6\n",
       "pr.axis_aspect_ratio           2\n",
       "max.length_aspect_ratio        0\n",
       "scatter_ratio                  1\n",
       "elongatedness                  1\n",
       "pr.axis_rectangularity         3\n",
       "max.length_rectangularity      0\n",
       "scaled_variance                3\n",
       "scaled_variance.1              2\n",
       "scaled_radius_of_gyration      2\n",
       "scaled_radius_of_gyration.1    4\n",
       "skewness_about                 6\n",
       "skewness_about.1               1\n",
       "skewness_about.2               1\n",
       "hollows_ratio                  0\n",
       "class                          0\n",
       "dtype: int64"
      ]
     },
     "execution_count": 4,
     "metadata": {},
     "output_type": "execute_result"
    }
   ],
   "source": [
    "vehicle.isna().sum()"
   ]
  },
  {
   "cell_type": "code",
   "execution_count": 5,
   "metadata": {},
   "outputs": [],
   "source": [
    "vehicle.dropna(inplace=True)"
   ]
  },
  {
   "cell_type": "code",
   "execution_count": 6,
   "metadata": {},
   "outputs": [
    {
     "data": {
      "text/plain": [
       "compactness                    0\n",
       "circularity                    0\n",
       "distance_circularity           0\n",
       "radius_ratio                   0\n",
       "pr.axis_aspect_ratio           0\n",
       "max.length_aspect_ratio        0\n",
       "scatter_ratio                  0\n",
       "elongatedness                  0\n",
       "pr.axis_rectangularity         0\n",
       "max.length_rectangularity      0\n",
       "scaled_variance                0\n",
       "scaled_variance.1              0\n",
       "scaled_radius_of_gyration      0\n",
       "scaled_radius_of_gyration.1    0\n",
       "skewness_about                 0\n",
       "skewness_about.1               0\n",
       "skewness_about.2               0\n",
       "hollows_ratio                  0\n",
       "class                          0\n",
       "dtype: int64"
      ]
     },
     "execution_count": 6,
     "metadata": {},
     "output_type": "execute_result"
    }
   ],
   "source": [
    "vehicle.isna().sum()"
   ]
  },
  {
   "cell_type": "markdown",
   "metadata": {},
   "source": [
    "### 2. Print/ Plot the dependent (categorical variable) - Class column"
   ]
  },
  {
   "cell_type": "markdown",
   "metadata": {},
   "source": [
    "Since the variable is categorical, you can use value_counts function"
   ]
  },
  {
   "cell_type": "code",
   "execution_count": 7,
   "metadata": {},
   "outputs": [
    {
     "data": {
      "text/plain": [
       "car    413\n",
       "bus    205\n",
       "van    195\n",
       "Name: class, dtype: int64"
      ]
     },
     "execution_count": 7,
     "metadata": {},
     "output_type": "execute_result"
    }
   ],
   "source": [
    "vehicle['class'].value_counts()"
   ]
  },
  {
   "cell_type": "code",
   "execution_count": 8,
   "metadata": {},
   "outputs": [
    {
     "data": {
      "text/plain": [
       "<matplotlib.axes._subplots.AxesSubplot at 0xb97f320>"
      ]
     },
     "execution_count": 8,
     "metadata": {},
     "output_type": "execute_result"
    },
    {
     "data": {
      "image/png": "[encoded data removed]",
      "text/plain": [
       "<Figure size 432x288 with 1 Axes>"
      ]
     },
     "metadata": {
      "needs_background": "light"
     },
     "output_type": "display_data"
    }
   ],
   "source": [
    "sns.countplot(x = \"class\", data = vehicle)"
   ]
  },
  {
   "cell_type": "markdown",
   "metadata": {},
   "source": [
    "### Check for any missing values in the data "
   ]
  },
  {
   "cell_type": "code",
   "execution_count": 9,
   "metadata": {},
   "outputs": [
    {
     "name": "stdout",
     "output_type": "stream",
     "text": [
      "<class 'pandas.core.frame.DataFrame'>\n",
      "Int64Index: 813 entries, 0 to 845\n",
      "Data columns (total 19 columns):\n",
      "compactness                    813 non-null int64\n",
      "circularity                    813 non-null float64\n",
      "distance_circularity           813 non-null float64\n",
      "radius_ratio                   813 non-null float64\n",
      "pr.axis_aspect_ratio           813 non-null float64\n",
      "max.length_aspect_ratio        813 non-null int64\n",
      "scatter_ratio                  813 non-null float64\n",
      "elongatedness                  813 non-null float64\n",
      "pr.axis_rectangularity         813 non-null float64\n",
      "max.length_rectangularity      813 non-null int64\n",
      "scaled_variance                813 non-null float64\n",
      "scaled_variance.1              813 non-null float64\n",
      "scaled_radius_of_gyration      813 non-null float64\n",
      "scaled_radius_of_gyration.1    813 non-null float64\n",
      "skewness_about                 813 non-null float64\n",
      "skewness_about.1               813 non-null float64\n",
      "skewness_about.2               813 non-null float64\n",
      "hollows_ratio                  813 non-null int64\n",
      "class                          813 non-null object\n",
      "dtypes: float64(14), int64(4), object(1)\n",
      "memory usage: 167.0+ KB\n"
     ]
    }
   ],
   "source": [
    "vehicle.info()"
   ]
  },
  {
   "cell_type": "code",
   "execution_count": 10,
   "metadata": {},
   "outputs": [],
   "source": [
    "# No missing values as we already dropped all missing values using dropna()"
   ]
  },
  {
   "cell_type": "markdown",
   "metadata": {},
   "source": [
    "### 3. Standardize the data "
   ]
  },
  {
   "cell_type": "code",
   "execution_count": 11,
   "metadata": {},
   "outputs": [],
   "source": [
    "X = vehicle.drop(\"class\", axis=1)\n",
    "Y = vehicle[\"class\"] "
   ]
  },
  {
   "cell_type": "markdown",
   "metadata": {},
   "source": [
    "Since the dimensions of the data are not really known to us, it would be wise to standardize the data using z scores before we go for any clustering methods.\n",
    "You can use zscore function to do this"
   ]
  },
  {
   "cell_type": "code",
   "execution_count": 12,
   "metadata": {},
   "outputs": [],
   "source": [
    "X_z = X.apply(zscore)"
   ]
  },
  {
   "cell_type": "markdown",
   "metadata": {},
   "source": [
    "### K - Means Clustering"
   ]
  },
  {
   "cell_type": "markdown",
   "metadata": {},
   "source": [
    "### 4. Assign a dummy array called distortion"
   ]
  },
  {
   "cell_type": "code",
   "execution_count": 13,
   "metadata": {},
   "outputs": [],
   "source": [
    "distortion = range(1, 10)"
   ]
  },
  {
   "cell_type": "markdown",
   "metadata": {},
   "source": [
    "You can later use this array to plot the elbow plot"
   ]
  },
  {
   "cell_type": "markdown",
   "metadata": {},
   "source": [
    "### 5. Calculating distortion - C distance"
   ]
  },
  {
   "cell_type": "code",
   "execution_count": 14,
   "metadata": {},
   "outputs": [
    {
     "data": {
      "text/plain": [
       "[165.33076418965499,\n",
       " 76.38629252845205,\n",
       " 64.15119259829845,\n",
       " 53.365651153435614,\n",
       " 48.285065522208654,\n",
       " 43.53258591558073,\n",
       " 40.81483739054224,\n",
       " 38.85689503204018,\n",
       " 38.0229667811121]"
      ]
     },
     "execution_count": 14,
     "metadata": {},
     "output_type": "execute_result"
    }
   ],
   "source": [
    "clusters=range(1,10)\n",
    "distortions=[]\n",
    "\n",
    "for k in clusters:\n",
    "    model=KMeans(n_clusters=k)\n",
    "    model.fit(X)\n",
    "    prediction=model.predict(X)\n",
    "    distortions.append(sum(np.min(cdist(X, model.cluster_centers_, 'euclidean'), axis=1)) / X.shape[0])\n",
    "    \n",
    "distortions"
   ]
  },
  {
   "cell_type": "markdown",
   "metadata": {},
   "source": [
    "Iterating values of k from 1 to 10 fit K means model\n",
    "Using c distance - Get the measure for Sum of squares error."
   ]
  },
  {
   "cell_type": "code",
   "execution_count": 15,
   "metadata": {},
   "outputs": [
    {
     "data": {
      "text/html": [
       "<div>\n",
       "<style scoped>\n",
       "    .dataframe tbody tr th:only-of-type {\n",
       "        vertical-align: middle;\n",
       "    }\n",
       "\n",
       "    .dataframe tbody tr th {\n",
       "        vertical-align: top;\n",
       "    }\n",
       "\n",
       "    .dataframe thead th {\n",
       "        text-align: right;\n",
       "    }\n",
       "</style>\n",
       "<table border=\"1\" class=\"dataframe\">\n",
       "  <thead>\n",
       "    <tr style=\"text-align: right;\">\n",
       "      <th></th>\n",
       "      <th>num_clusters</th>\n",
       "      <th>cluster_errors</th>\n",
       "    </tr>\n",
       "  </thead>\n",
       "  <tbody>\n",
       "    <tr>\n",
       "      <th>0</th>\n",
       "      <td>1</td>\n",
       "      <td>2.917617e+07</td>\n",
       "    </tr>\n",
       "    <tr>\n",
       "      <th>1</th>\n",
       "      <td>2</td>\n",
       "      <td>6.905477e+06</td>\n",
       "    </tr>\n",
       "    <tr>\n",
       "      <th>2</th>\n",
       "      <td>3</td>\n",
       "      <td>4.610991e+06</td>\n",
       "    </tr>\n",
       "    <tr>\n",
       "      <th>3</th>\n",
       "      <td>4</td>\n",
       "      <td>3.333252e+06</td>\n",
       "    </tr>\n",
       "    <tr>\n",
       "      <th>4</th>\n",
       "      <td>5</td>\n",
       "      <td>2.288297e+06</td>\n",
       "    </tr>\n",
       "    <tr>\n",
       "      <th>5</th>\n",
       "      <td>6</td>\n",
       "      <td>1.823916e+06</td>\n",
       "    </tr>\n",
       "    <tr>\n",
       "      <th>6</th>\n",
       "      <td>7</td>\n",
       "      <td>1.601449e+06</td>\n",
       "    </tr>\n",
       "    <tr>\n",
       "      <th>7</th>\n",
       "      <td>8</td>\n",
       "      <td>1.466074e+06</td>\n",
       "    </tr>\n",
       "    <tr>\n",
       "      <th>8</th>\n",
       "      <td>9</td>\n",
       "      <td>1.369241e+06</td>\n",
       "    </tr>\n",
       "  </tbody>\n",
       "</table>\n",
       "</div>"
      ],
      "text/plain": [
       "   num_clusters  cluster_errors\n",
       "0             1    2.917617e+07\n",
       "1             2    6.905477e+06\n",
       "2             3    4.610991e+06\n",
       "3             4    3.333252e+06\n",
       "4             5    2.288297e+06\n",
       "5             6    1.823916e+06\n",
       "6             7    1.601449e+06\n",
       "7             8    1.466074e+06\n",
       "8             9    1.369241e+06"
      ]
     },
     "execution_count": 15,
     "metadata": {},
     "output_type": "execute_result"
    }
   ],
   "source": [
    "cluster_errors = []\n",
    "for num_clusters in clusters:\n",
    "  kmc = KMeans(num_clusters, n_init = 5)\n",
    "  kmc.fit(X)\n",
    "  labels = kmc.labels_\n",
    "  centroids = kmc.cluster_centers_\n",
    "  cluster_errors.append(kmc.inertia_)\n",
    "clusters_df = pd.DataFrame({\"num_clusters\":clusters, \"cluster_errors\": cluster_errors})\n",
    "clusters_df[0:15] "
   ]
  },
  {
   "cell_type": "code",
   "execution_count": null,
   "metadata": {},
   "outputs": [],
   "source": []
  },
  {
   "cell_type": "markdown",
   "metadata": {},
   "source": [
    "### 6. Plotting Elbow/ Scree Plot"
   ]
  },
  {
   "cell_type": "code",
   "execution_count": 16,
   "metadata": {},
   "outputs": [
    {
     "data": {
      "text/plain": [
       "[<matplotlib.lines.Line2D at 0xba587f0>]"
      ]
     },
     "execution_count": 16,
     "metadata": {},
     "output_type": "execute_result"
    },
    {
     "data": {
      "image/png": "[encoded data removed]",
      "text/plain": [
       "<Figure size 864x432 with 1 Axes>"
      ]
     },
     "metadata": {
      "needs_background": "light"
     },
     "output_type": "display_data"
    }
   ],
   "source": [
    "plt.figure(figsize=(12,6))\n",
    "plt.plot( clusters_df.num_clusters, clusters_df.cluster_errors, marker = \"o\" )"
   ]
  },
  {
   "cell_type": "markdown",
   "metadata": {},
   "source": [
    "Use Matplotlib to plot the scree plot - Note: Scree plot plots distortion vs the no of clusters"
   ]
  },
  {
   "cell_type": "code",
   "execution_count": null,
   "metadata": {},
   "outputs": [],
   "source": []
  },
  {
   "cell_type": "markdown",
   "metadata": {},
   "source": [
    "### Find out the optimal value of K"
   ]
  },
  {
   "cell_type": "code",
   "execution_count": 17,
   "metadata": {},
   "outputs": [],
   "source": [
    "# Optimal value for K = 2"
   ]
  },
  {
   "cell_type": "markdown",
   "metadata": {},
   "source": [
    "### Using optimal value of K - Cluster the data. \n",
    "Note: Since the data has more than 2 dimension we cannot visualize the data. As an alternative, we can observe the centroids and note how they are distributed across different dimensions"
   ]
  },
  {
   "cell_type": "code",
   "execution_count": 18,
   "metadata": {},
   "outputs": [
    {
     "data": {
      "text/plain": [
       "KMeans(algorithm='auto', copy_x=True, init='k-means++', max_iter=300,\n",
       "    n_clusters=2, n_init=10, n_jobs=None, precompute_distances='auto',\n",
       "    random_state=2354, tol=0.0001, verbose=0)"
      ]
     },
     "execution_count": 18,
     "metadata": {},
     "output_type": "execute_result"
    }
   ],
   "source": [
    "cluster = KMeans(n_clusters = 2, random_state = 2354)\n",
    "cluster.fit(X_z)"
   ]
  },
  {
   "cell_type": "markdown",
   "metadata": {},
   "source": [
    "You can use kmeans.cluster_centers_ function to pull the centroid information from the instance"
   ]
  },
  {
   "cell_type": "code",
   "execution_count": 19,
   "metadata": {},
   "outputs": [
    {
     "data": {
      "text/plain": [
       "array([[-0.56180643, -0.58110816, -0.60387639, -0.5326733 , -0.12159511,\n",
       "        -0.16400847, -0.63711793,  0.60754663, -0.63896831, -0.5379239 ,\n",
       "        -0.61246602, -0.63980526, -0.53356985,  0.04202611, -0.07458642,\n",
       "        -0.13153147, -0.03702134, -0.1233491 ],\n",
       "       [ 1.05786955,  1.0942143 ,  1.13708639,  1.00301249,  0.228961  ,\n",
       "         0.30882445,  1.19967951, -1.14399738,  1.20316373,  1.01289926,\n",
       "         1.15326048,  1.20473969,  1.00470068, -0.07913426,  0.14044464,\n",
       "         0.24767096,  0.0697104 ,  0.23226373]])"
      ]
     },
     "execution_count": 19,
     "metadata": {},
     "output_type": "execute_result"
    }
   ],
   "source": [
    "centroids = cluster.cluster_centers_\n",
    "centroids"
   ]
  },
  {
   "cell_type": "markdown",
   "metadata": {},
   "source": [
    "### 7. Store the centroids in a dataframe with column names from the original dataset given "
   ]
  },
  {
   "cell_type": "code",
   "execution_count": 20,
   "metadata": {},
   "outputs": [
    {
     "data": {
      "text/html": [
       "<div>\n",
       "<style scoped>\n",
       "    .dataframe tbody tr th:only-of-type {\n",
       "        vertical-align: middle;\n",
       "    }\n",
       "\n",
       "    .dataframe tbody tr th {\n",
       "        vertical-align: top;\n",
       "    }\n",
       "\n",
       "    .dataframe thead th {\n",
       "        text-align: right;\n",
       "    }\n",
       "</style>\n",
       "<table border=\"1\" class=\"dataframe\">\n",
       "  <thead>\n",
       "    <tr style=\"text-align: right;\">\n",
       "      <th></th>\n",
       "      <th>compactness</th>\n",
       "      <th>circularity</th>\n",
       "      <th>distance_circularity</th>\n",
       "      <th>radius_ratio</th>\n",
       "      <th>pr.axis_aspect_ratio</th>\n",
       "      <th>max.length_aspect_ratio</th>\n",
       "      <th>scatter_ratio</th>\n",
       "      <th>elongatedness</th>\n",
       "      <th>pr.axis_rectangularity</th>\n",
       "      <th>max.length_rectangularity</th>\n",
       "      <th>scaled_variance</th>\n",
       "      <th>scaled_variance.1</th>\n",
       "      <th>scaled_radius_of_gyration</th>\n",
       "      <th>scaled_radius_of_gyration.1</th>\n",
       "      <th>skewness_about</th>\n",
       "      <th>skewness_about.1</th>\n",
       "      <th>skewness_about.2</th>\n",
       "      <th>hollows_ratio</th>\n",
       "    </tr>\n",
       "  </thead>\n",
       "  <tbody>\n",
       "    <tr>\n",
       "      <th>0</th>\n",
       "      <td>-0.561806</td>\n",
       "      <td>-0.581108</td>\n",
       "      <td>-0.603876</td>\n",
       "      <td>-0.532673</td>\n",
       "      <td>-0.121595</td>\n",
       "      <td>-0.164008</td>\n",
       "      <td>-0.637118</td>\n",
       "      <td>0.607547</td>\n",
       "      <td>-0.638968</td>\n",
       "      <td>-0.537924</td>\n",
       "      <td>-0.612466</td>\n",
       "      <td>-0.639805</td>\n",
       "      <td>-0.533570</td>\n",
       "      <td>0.042026</td>\n",
       "      <td>-0.074586</td>\n",
       "      <td>-0.131531</td>\n",
       "      <td>-0.037021</td>\n",
       "      <td>-0.123349</td>\n",
       "    </tr>\n",
       "    <tr>\n",
       "      <th>1</th>\n",
       "      <td>1.057870</td>\n",
       "      <td>1.094214</td>\n",
       "      <td>1.137086</td>\n",
       "      <td>1.003012</td>\n",
       "      <td>0.228961</td>\n",
       "      <td>0.308824</td>\n",
       "      <td>1.199680</td>\n",
       "      <td>-1.143997</td>\n",
       "      <td>1.203164</td>\n",
       "      <td>1.012899</td>\n",
       "      <td>1.153260</td>\n",
       "      <td>1.204740</td>\n",
       "      <td>1.004701</td>\n",
       "      <td>-0.079134</td>\n",
       "      <td>0.140445</td>\n",
       "      <td>0.247671</td>\n",
       "      <td>0.069710</td>\n",
       "      <td>0.232264</td>\n",
       "    </tr>\n",
       "  </tbody>\n",
       "</table>\n",
       "</div>"
      ],
      "text/plain": [
       "   compactness  circularity  distance_circularity  radius_ratio  \\\n",
       "0    -0.561806    -0.581108             -0.603876     -0.532673   \n",
       "1     1.057870     1.094214              1.137086      1.003012   \n",
       "\n",
       "   pr.axis_aspect_ratio  max.length_aspect_ratio  scatter_ratio  \\\n",
       "0             -0.121595                -0.164008      -0.637118   \n",
       "1              0.228961                 0.308824       1.199680   \n",
       "\n",
       "   elongatedness  pr.axis_rectangularity  max.length_rectangularity  \\\n",
       "0       0.607547               -0.638968                  -0.537924   \n",
       "1      -1.143997                1.203164                   1.012899   \n",
       "\n",
       "   scaled_variance  scaled_variance.1  scaled_radius_of_gyration  \\\n",
       "0        -0.612466          -0.639805                  -0.533570   \n",
       "1         1.153260           1.204740                   1.004701   \n",
       "\n",
       "   scaled_radius_of_gyration.1  skewness_about  skewness_about.1  \\\n",
       "0                     0.042026       -0.074586         -0.131531   \n",
       "1                    -0.079134        0.140445          0.247671   \n",
       "\n",
       "   skewness_about.2  hollows_ratio  \n",
       "0         -0.037021      -0.123349  \n",
       "1          0.069710       0.232264  "
      ]
     },
     "execution_count": 20,
     "metadata": {},
     "output_type": "execute_result"
    }
   ],
   "source": [
    "centroid_df = pd.DataFrame(centroids, columns = list(X_z) )\n",
    "centroid_df"
   ]
  },
  {
   "cell_type": "markdown",
   "metadata": {},
   "source": [
    "Hint: Use pd.Dataframe function "
   ]
  },
  {
   "cell_type": "code",
   "execution_count": null,
   "metadata": {},
   "outputs": [],
   "source": []
  },
  {
   "cell_type": "code",
   "execution_count": null,
   "metadata": {},
   "outputs": [],
   "source": []
  },
  {
   "cell_type": "markdown",
   "metadata": {},
   "source": [
    "### Use kmeans.labels_ function to print out the labels of the classes"
   ]
  },
  {
   "cell_type": "code",
   "execution_count": 22,
   "metadata": {},
   "outputs": [
    {
     "data": {
      "text/plain": [
       "array([0, 0, 1, 0, 0, 0, 0, 0, 0, 0, 0, 0, 1, 1, 0, 0, 1, 0, 0, 0, 0, 1,\n",
       "       0, 0, 1, 1, 0, 0, 0, 0, 1, 0, 0, 1, 1, 0, 1, 0, 0, 0, 1, 0, 0, 0,\n",
       "       0, 0, 0, 0, 1, 0, 1, 0, 1, 0, 1, 0, 1, 0, 0, 0, 1, 0, 1, 0, 1, 1,\n",
       "       0, 0, 0, 1, 0, 0, 0, 1, 0, 0, 0, 1, 0, 0, 0, 0, 1, 0, 1, 0, 0, 1,\n",
       "       0, 0, 1, 0, 0, 0, 0, 0, 1, 1, 0, 0, 1, 0, 0, 0, 0, 0, 0, 1, 1, 1,\n",
       "       0, 0, 0, 0, 0, 0, 0, 0, 0, 1, 1, 0, 1, 0, 1, 1, 0, 0, 0, 0, 0, 1,\n",
       "       0, 0, 1, 0, 0, 0, 0, 1, 1, 0, 1, 0, 1, 0, 0, 0, 0, 1, 0, 0, 1, 1,\n",
       "       0, 1, 0, 0, 1, 1, 0, 1, 0, 0, 0, 0, 0, 1, 0, 0, 0, 1, 0, 0, 0, 1,\n",
       "       0, 1, 0, 1, 0, 0, 1, 0, 0, 0, 0, 0, 1, 1, 0, 0, 0, 0, 1, 0, 0, 0,\n",
       "       1, 0, 0, 1, 0, 0, 1, 0, 0, 0, 0, 1, 0, 1, 0, 0, 0, 0, 1, 0, 0, 0,\n",
       "       1, 0, 0, 0, 0, 1, 0, 0, 0, 0, 1, 0, 1, 0, 0, 0, 1, 0, 0, 1, 1, 0,\n",
       "       0, 0, 0, 1, 0, 0, 0, 0, 0, 1, 0, 1, 0, 0, 0, 1, 0, 1, 0, 0, 1, 0,\n",
       "       0, 1, 0, 0, 1, 0, 0, 1, 0, 1, 0, 0, 0, 1, 0, 0, 0, 0, 0, 1, 1, 1,\n",
       "       1, 0, 0, 1, 0, 0, 0, 1, 0, 1, 1, 0, 1, 0, 0, 1, 0, 0, 0, 1, 1, 0,\n",
       "       1, 1, 0, 1, 0, 0, 0, 0, 0, 1, 1, 1, 0, 0, 0, 1, 0, 0, 0, 1, 0, 0,\n",
       "       1, 0, 1, 1, 1, 0, 0, 0, 1, 0, 0, 0, 0, 0, 0, 0, 0, 1, 1, 0, 0, 1,\n",
       "       0, 1, 0, 1, 0, 0, 1, 0, 1, 1, 0, 0, 0, 0, 1, 0, 0, 0, 0, 1, 0, 1,\n",
       "       0, 1, 0, 0, 0, 0, 0, 0, 0, 0, 0, 0, 1, 0, 0, 0, 0, 1, 0, 0, 0, 0,\n",
       "       1, 0, 1, 0, 1, 1, 0, 0, 1, 0, 0, 0, 1, 1, 1, 0, 0, 1, 1, 0, 1, 1,\n",
       "       1, 0, 0, 0, 0, 0, 1, 0, 0, 0, 1, 0, 0, 1, 0, 0, 1, 0, 0, 1, 0, 0,\n",
       "       1, 1, 1, 0, 1, 1, 0, 1, 0, 1, 1, 0, 0, 0, 0, 1, 0, 0, 1, 1, 0, 0,\n",
       "       1, 1, 0, 0, 0, 1, 1, 1, 0, 0, 1, 1, 1, 0, 0, 1, 0, 0, 1, 0, 0, 0,\n",
       "       0, 1, 0, 0, 0, 0, 0, 1, 0, 1, 1, 0, 0, 1, 1, 1, 0, 0, 0, 1, 0, 1,\n",
       "       1, 0, 0, 0, 0, 0, 0, 0, 0, 0, 1, 0, 0, 0, 0, 1, 1, 1, 0, 0, 1, 1,\n",
       "       0, 1, 0, 0, 1, 1, 0, 0, 0, 1, 0, 0, 0, 1, 1, 1, 1, 0, 0, 0, 0, 1,\n",
       "       1, 1, 0, 1, 0, 0, 1, 0, 0, 0, 0, 0, 1, 0, 0, 0, 0, 0, 0, 1, 0, 0,\n",
       "       1, 0, 0, 0, 0, 1, 0, 0, 0, 0, 0, 0, 0, 0, 1, 1, 0, 0, 1, 0, 1, 0,\n",
       "       0, 1, 0, 0, 1, 0, 1, 0, 0, 0, 0, 1, 1, 1, 0, 1, 0, 0, 0, 0, 0, 1,\n",
       "       0, 1, 0, 0, 0, 1, 0, 0, 0, 0, 1, 0, 1, 0, 0, 0, 0, 1, 1, 0, 0, 1,\n",
       "       0, 1, 0, 0, 1, 0, 1, 0, 0, 0, 0, 0, 1, 0, 0, 0, 1, 0, 1, 0, 0, 1,\n",
       "       0, 1, 0, 0, 0, 0, 0, 1, 1, 0, 0, 1, 1, 0, 0, 0, 0, 1, 1, 1, 1, 0,\n",
       "       1, 0, 0, 1, 1, 0, 1, 0, 1, 0, 0, 1, 0, 0, 1, 1, 1, 0, 1, 0, 0, 1,\n",
       "       1, 1, 0, 1, 0, 0, 1, 0, 0, 0, 0, 0, 1, 0, 0, 0, 0, 0, 0, 1, 0, 0,\n",
       "       0, 1, 1, 0, 1, 1, 0, 0, 0, 1, 0, 0, 1, 1, 0, 0, 0, 1, 1, 1, 0, 1,\n",
       "       0, 1, 1, 0, 0, 1, 0, 1, 0, 0, 0, 1, 1, 0, 0, 0, 1, 1, 0, 0, 0, 0,\n",
       "       1, 1, 0, 0, 1, 0, 0, 1, 0, 0, 0, 0, 0, 0, 1, 1, 1, 0, 1, 0, 1, 1,\n",
       "       0, 1, 1, 0, 0, 0, 0, 1, 0, 0, 1, 0, 0, 0, 0, 0, 0, 0, 1, 0, 0])"
      ]
     },
     "execution_count": 22,
     "metadata": {},
     "output_type": "execute_result"
    }
   ],
   "source": [
    "cluster.labels_"
   ]
  },
  {
   "cell_type": "code",
   "execution_count": null,
   "metadata": {},
   "outputs": [],
   "source": []
  },
  {
   "cell_type": "markdown",
   "metadata": {},
   "source": [
    "## Hierarchical Clustering "
   ]
  },
  {
   "cell_type": "markdown",
   "metadata": {},
   "source": [
    "### 8. Variable creation"
   ]
  },
  {
   "cell_type": "markdown",
   "metadata": {},
   "source": [
    "For Hierarchical clustering, we will create datasets using multivariate normal distribution to visually observe how the clusters are formed at the end"
   ]
  },
  {
   "cell_type": "code",
   "execution_count": 48,
   "metadata": {},
   "outputs": [],
   "source": [
    "a = np.random.multivariate_normal([10, 0], [[3, 1], [1, 4]], size=[100,])\n",
    "b = np.random.multivariate_normal([0, 20], [[3, 1], [1, 4]], size=[50,])\n",
    "c = np.random.multivariate_normal([10, 20], [[3, 1], [1, 4]], size=[100,])"
   ]
  },
  {
   "cell_type": "markdown",
   "metadata": {},
   "source": [
    "### 9. Combine all three arrays a,b,c into a dataframe"
   ]
  },
  {
   "cell_type": "code",
   "execution_count": 107,
   "metadata": {},
   "outputs": [],
   "source": [
    "data = pd.DataFrame(np.concatenate([a,b,c]), columns=('a', 'b'))"
   ]
  },
  {
   "cell_type": "code",
   "execution_count": 108,
   "metadata": {},
   "outputs": [
    {
     "data": {
      "text/html": [
       "<div>\n",
       "<style scoped>\n",
       "    .dataframe tbody tr th:only-of-type {\n",
       "        vertical-align: middle;\n",
       "    }\n",
       "\n",
       "    .dataframe tbody tr th {\n",
       "        vertical-align: top;\n",
       "    }\n",
       "\n",
       "    .dataframe thead th {\n",
       "        text-align: right;\n",
       "    }\n",
       "</style>\n",
       "<table border=\"1\" class=\"dataframe\">\n",
       "  <thead>\n",
       "    <tr style=\"text-align: right;\">\n",
       "      <th></th>\n",
       "      <th>a</th>\n",
       "      <th>b</th>\n",
       "    </tr>\n",
       "  </thead>\n",
       "  <tbody>\n",
       "    <tr>\n",
       "      <th>0</th>\n",
       "      <td>10.008054</td>\n",
       "      <td>-0.805079</td>\n",
       "    </tr>\n",
       "    <tr>\n",
       "      <th>1</th>\n",
       "      <td>9.822970</td>\n",
       "      <td>2.349678</td>\n",
       "    </tr>\n",
       "    <tr>\n",
       "      <th>2</th>\n",
       "      <td>11.242175</td>\n",
       "      <td>-0.185935</td>\n",
       "    </tr>\n",
       "    <tr>\n",
       "      <th>3</th>\n",
       "      <td>9.522527</td>\n",
       "      <td>-2.334881</td>\n",
       "    </tr>\n",
       "    <tr>\n",
       "      <th>4</th>\n",
       "      <td>9.818476</td>\n",
       "      <td>1.198067</td>\n",
       "    </tr>\n",
       "  </tbody>\n",
       "</table>\n",
       "</div>"
      ],
      "text/plain": [
       "           a         b\n",
       "0  10.008054 -0.805079\n",
       "1   9.822970  2.349678\n",
       "2  11.242175 -0.185935\n",
       "3   9.522527 -2.334881\n",
       "4   9.818476  1.198067"
      ]
     },
     "execution_count": 108,
     "metadata": {},
     "output_type": "execute_result"
    }
   ],
   "source": [
    "data.head()"
   ]
  },
  {
   "cell_type": "markdown",
   "metadata": {},
   "source": [
    "### 10. Use scatter matrix to print all the 3 distributions"
   ]
  },
  {
   "cell_type": "code",
   "execution_count": 65,
   "metadata": {},
   "outputs": [
    {
     "name": "stderr",
     "output_type": "stream",
     "text": [
      "D:\\Softwares\\Anaconda\\lib\\site-packages\\scipy\\stats\\stats.py:1713: FutureWarning: Using a non-tuple sequence for multidimensional indexing is deprecated; use `arr[tuple(seq)]` instead of `arr[seq]`. In the future this will be interpreted as an array index, `arr[np.array(seq)]`, which will result either in an error or a different result.\n",
      "  return np.add.reduce(sorted[indexer] * weights, axis=axis) / sumval\n"
     ]
    },
    {
     "data": {
      "text/plain": [
       "<seaborn.axisgrid.PairGrid at 0x17070780>"
      ]
     },
     "execution_count": 65,
     "metadata": {},
     "output_type": "execute_result"
    },
    {
     "data": {
      "image/png": "[encoded data removed]",
      "text/plain": [
       "<Figure size 360x360 with 6 Axes>"
      ]
     },
     "metadata": {},
     "output_type": "display_data"
    }
   ],
   "source": [
    "sns.pairplot(data, diag_kind='kde')"
   ]
  },
  {
   "cell_type": "code",
   "execution_count": null,
   "metadata": {},
   "outputs": [],
   "source": []
  },
  {
   "cell_type": "markdown",
   "metadata": {},
   "source": [
    "### 11. Find out the linkage matrix"
   ]
  },
  {
   "cell_type": "code",
   "execution_count": null,
   "metadata": {},
   "outputs": [],
   "source": []
  },
  {
   "cell_type": "markdown",
   "metadata": {},
   "source": [
    "Use ward as linkage metric and distance as Eucledian"
   ]
  },
  {
   "cell_type": "code",
   "execution_count": 75,
   "metadata": {},
   "outputs": [
    {
     "data": {
      "text/plain": [
       "array([[3.70000000e+01, 8.70000000e+01, 8.56960534e-03, 2.00000000e+00],\n",
       "       [1.70000000e+02, 2.19000000e+02, 5.08868971e-02, 2.00000000e+00],\n",
       "       [2.50000000e+01, 3.80000000e+01, 7.52378850e-02, 2.00000000e+00],\n",
       "       [1.40000000e+01, 4.30000000e+01, 7.62791543e-02, 2.00000000e+00],\n",
       "       [1.56000000e+02, 2.29000000e+02, 9.28630142e-02, 2.00000000e+00],\n",
       "       [8.50000000e+01, 8.90000000e+01, 9.46716086e-02, 2.00000000e+00],\n",
       "       [1.26000000e+02, 1.35000000e+02, 9.73172367e-02, 2.00000000e+00],\n",
       "       [7.30000000e+01, 8.30000000e+01, 1.01813685e-01, 2.00000000e+00],\n",
       "       [1.55000000e+02, 2.41000000e+02, 1.04538243e-01, 2.00000000e+00],\n",
       "       [2.04000000e+02, 2.14000000e+02, 1.04785327e-01, 2.00000000e+00],\n",
       "       [1.57000000e+02, 2.13000000e+02, 1.06832514e-01, 2.00000000e+00],\n",
       "       [1.96000000e+02, 2.12000000e+02, 1.12376597e-01, 2.00000000e+00],\n",
       "       [5.20000000e+01, 9.80000000e+01, 1.26450712e-01, 2.00000000e+00],\n",
       "       [1.14000000e+02, 1.44000000e+02, 1.27374064e-01, 2.00000000e+00],\n",
       "       [9.00000000e+00, 8.10000000e+01, 1.30447485e-01, 2.00000000e+00],\n",
       "       [5.00000000e+00, 2.00000000e+01, 1.33831150e-01, 2.00000000e+00],\n",
       "       [6.00000000e+00, 6.80000000e+01, 1.44539190e-01, 2.00000000e+00],\n",
       "       [1.81000000e+02, 2.16000000e+02, 1.44651779e-01, 2.00000000e+00],\n",
       "       [1.52000000e+02, 1.64000000e+02, 1.50344462e-01, 2.00000000e+00],\n",
       "       [1.72000000e+02, 2.58000000e+02, 1.56969305e-01, 3.00000000e+00],\n",
       "       [2.20000000e+02, 2.34000000e+02, 1.59093153e-01, 2.00000000e+00],\n",
       "       [2.00000000e+00, 1.90000000e+01, 1.61643456e-01, 2.00000000e+00],\n",
       "       [1.99000000e+02, 2.22000000e+02, 1.66322669e-01, 2.00000000e+00],\n",
       "       [1.74000000e+02, 2.01000000e+02, 1.88404245e-01, 2.00000000e+00],\n",
       "       [1.94000000e+02, 2.09000000e+02, 1.91574019e-01, 2.00000000e+00],\n",
       "       [0.00000000e+00, 4.90000000e+01, 1.92598747e-01, 2.00000000e+00],\n",
       "       [2.28000000e+02, 2.37000000e+02, 1.93095421e-01, 2.00000000e+00],\n",
       "       [1.69000000e+02, 2.60000000e+02, 1.98455370e-01, 3.00000000e+00],\n",
       "       [1.84000000e+02, 1.87000000e+02, 2.02227349e-01, 2.00000000e+00],\n",
       "       [1.65000000e+02, 2.30000000e+02, 2.08560640e-01, 2.00000000e+00],\n",
       "       [4.00000000e+00, 7.90000000e+01, 2.13411386e-01, 2.00000000e+00],\n",
       "       [8.20000000e+01, 2.53000000e+02, 2.20485889e-01, 3.00000000e+00],\n",
       "       [6.10000000e+01, 8.80000000e+01, 2.21803485e-01, 2.00000000e+00],\n",
       "       [1.00000000e+00, 1.50000000e+01, 2.23207120e-01, 2.00000000e+00],\n",
       "       [6.90000000e+01, 2.64000000e+02, 2.23230177e-01, 3.00000000e+00],\n",
       "       [1.27000000e+02, 1.31000000e+02, 2.27381268e-01, 2.00000000e+00],\n",
       "       [2.15000000e+02, 2.23000000e+02, 2.27402697e-01, 2.00000000e+00],\n",
       "       [2.07000000e+02, 2.24000000e+02, 2.31264644e-01, 2.00000000e+00],\n",
       "       [2.11000000e+02, 2.33000000e+02, 2.36613967e-01, 2.00000000e+00],\n",
       "       [1.71000000e+02, 2.54000000e+02, 2.39031015e-01, 3.00000000e+00],\n",
       "       [2.00000000e+02, 2.42000000e+02, 2.44687469e-01, 2.00000000e+00],\n",
       "       [1.09000000e+02, 1.40000000e+02, 2.46220984e-01, 2.00000000e+00],\n",
       "       [2.02000000e+02, 2.49000000e+02, 2.46863465e-01, 2.00000000e+00],\n",
       "       [1.53000000e+02, 2.69000000e+02, 2.51153542e-01, 4.00000000e+00],\n",
       "       [2.40000000e+01, 2.90000000e+01, 2.55068644e-01, 2.00000000e+00],\n",
       "       [2.27000000e+02, 2.35000000e+02, 2.55092688e-01, 2.00000000e+00],\n",
       "       [2.39000000e+02, 2.61000000e+02, 2.71876745e-01, 3.00000000e+00],\n",
       "       [2.10000000e+01, 4.60000000e+01, 2.74925363e-01, 2.00000000e+00],\n",
       "       [2.30000000e+01, 9.50000000e+01, 2.88725265e-01, 2.00000000e+00],\n",
       "       [1.78000000e+02, 2.43000000e+02, 2.89647262e-01, 2.00000000e+00],\n",
       "       [5.70000000e+01, 6.40000000e+01, 2.90315730e-01, 2.00000000e+00],\n",
       "       [1.12000000e+02, 1.46000000e+02, 2.90965298e-01, 2.00000000e+00],\n",
       "       [2.51000000e+02, 2.86000000e+02, 3.00535158e-01, 4.00000000e+00],\n",
       "       [2.60000000e+01, 3.50000000e+01, 3.01793822e-01, 2.00000000e+00],\n",
       "       [3.30000000e+01, 6.30000000e+01, 3.05801784e-01, 2.00000000e+00],\n",
       "       [6.20000000e+01, 2.65000000e+02, 3.12263987e-01, 3.00000000e+00],\n",
       "       [1.68000000e+02, 2.40000000e+02, 3.18726885e-01, 2.00000000e+00],\n",
       "       [7.10000000e+01, 8.60000000e+01, 3.20847270e-01, 2.00000000e+00],\n",
       "       [3.00000000e+00, 4.40000000e+01, 3.21815511e-01, 2.00000000e+00],\n",
       "       [1.70000000e+01, 3.00000000e+01, 3.21917932e-01, 2.00000000e+00],\n",
       "       [2.03000000e+02, 2.47000000e+02, 3.22042062e-01, 2.00000000e+00],\n",
       "       [1.89000000e+02, 2.17000000e+02, 3.24746931e-01, 2.00000000e+00],\n",
       "       [2.25000000e+02, 2.88000000e+02, 3.31322558e-01, 3.00000000e+00],\n",
       "       [1.75000000e+02, 2.89000000e+02, 3.36398564e-01, 4.00000000e+00],\n",
       "       [9.70000000e+01, 2.84000000e+02, 3.41156510e-01, 4.00000000e+00],\n",
       "       [4.00000000e+01, 9.00000000e+01, 3.44704411e-01, 2.00000000e+00],\n",
       "       [1.18000000e+02, 1.45000000e+02, 3.45606095e-01, 2.00000000e+00],\n",
       "       [3.40000000e+01, 5.40000000e+01, 3.46749234e-01, 2.00000000e+00],\n",
       "       [1.61000000e+02, 2.73000000e+02, 3.48951352e-01, 3.00000000e+00],\n",
       "       [2.18000000e+02, 2.72000000e+02, 3.50136313e-01, 3.00000000e+00],\n",
       "       [5.30000000e+01, 6.70000000e+01, 3.59020098e-01, 2.00000000e+00],\n",
       "       [6.00000000e+01, 9.20000000e+01, 3.64023540e-01, 2.00000000e+00],\n",
       "       [1.20000000e+01, 7.20000000e+01, 3.67495615e-01, 2.00000000e+00],\n",
       "       [1.54000000e+02, 1.58000000e+02, 3.70104554e-01, 2.00000000e+00],\n",
       "       [1.41000000e+02, 1.42000000e+02, 3.79372078e-01, 2.00000000e+00],\n",
       "       [1.73000000e+02, 2.78000000e+02, 3.80785646e-01, 3.00000000e+00],\n",
       "       [9.10000000e+01, 3.03000000e+02, 3.89459469e-01, 3.00000000e+00],\n",
       "       [4.20000000e+01, 2.66000000e+02, 4.06917638e-01, 3.00000000e+00],\n",
       "       [1.93000000e+02, 2.67000000e+02, 4.17998638e-01, 3.00000000e+00],\n",
       "       [1.90000000e+02, 2.26000000e+02, 4.20661545e-01, 2.00000000e+00],\n",
       "       [4.70000000e+01, 3.21000000e+02, 4.31836971e-01, 3.00000000e+00],\n",
       "       [8.40000000e+01, 2.81000000e+02, 4.43402823e-01, 4.00000000e+00],\n",
       "       [1.77000000e+02, 1.92000000e+02, 4.47697097e-01, 2.00000000e+00],\n",
       "       [2.44000000e+02, 2.59000000e+02, 4.67835433e-01, 3.00000000e+00],\n",
       "       [5.90000000e+01, 3.14000000e+02, 4.70902929e-01, 5.00000000e+00],\n",
       "       [2.10000000e+02, 2.76000000e+02, 4.71231820e-01, 3.00000000e+00],\n",
       "       [1.98000000e+02, 2.68000000e+02, 4.74495236e-01, 3.00000000e+00],\n",
       "       [1.60000000e+01, 5.00000000e+01, 4.79358860e-01, 2.00000000e+00],\n",
       "       [1.97000000e+02, 2.77000000e+02, 4.83817027e-01, 4.00000000e+00],\n",
       "       [2.80000000e+01, 2.97000000e+02, 4.87094860e-01, 3.00000000e+00],\n",
       "       [1.28000000e+02, 1.36000000e+02, 4.89215123e-01, 2.00000000e+00],\n",
       "       [1.07000000e+02, 1.13000000e+02, 4.94317150e-01, 2.00000000e+00],\n",
       "       [1.16000000e+02, 1.49000000e+02, 5.02055444e-01, 2.00000000e+00],\n",
       "       [1.01000000e+02, 1.15000000e+02, 5.09089318e-01, 2.00000000e+00],\n",
       "       [2.80000000e+02, 3.27000000e+02, 5.12686271e-01, 5.00000000e+00],\n",
       "       [1.67000000e+02, 1.91000000e+02, 5.22696908e-01, 2.00000000e+00],\n",
       "       [2.71000000e+02, 3.05000000e+02, 5.36252476e-01, 5.00000000e+00],\n",
       "       [1.51000000e+02, 3.18000000e+02, 5.36846887e-01, 4.00000000e+00],\n",
       "       [1.79000000e+02, 3.33000000e+02, 5.60673442e-01, 4.00000000e+00],\n",
       "       [1.62000000e+02, 2.96000000e+02, 5.66132583e-01, 4.00000000e+00],\n",
       "       [1.10000000e+01, 2.55000000e+02, 5.66284422e-01, 3.00000000e+00],\n",
       "       [2.85000000e+02, 3.01000000e+02, 5.66693098e-01, 4.00000000e+00],\n",
       "       [4.50000000e+01, 3.08000000e+02, 5.70150990e-01, 3.00000000e+00],\n",
       "       [3.90000000e+01, 7.60000000e+01, 5.75527703e-01, 2.00000000e+00],\n",
       "       [1.08000000e+02, 1.37000000e+02, 5.76202778e-01, 2.00000000e+00],\n",
       "       [1.83000000e+02, 2.79000000e+02, 5.78831677e-01, 3.00000000e+00],\n",
       "       [2.62000000e+02, 3.26000000e+02, 5.81087742e-01, 5.00000000e+00],\n",
       "       [1.19000000e+02, 3.16000000e+02, 5.86598253e-01, 3.00000000e+00],\n",
       "       [9.90000000e+01, 2.50000000e+02, 5.88514294e-01, 3.00000000e+00],\n",
       "       [1.17000000e+02, 1.25000000e+02, 5.89679974e-01, 2.00000000e+00],\n",
       "       [2.21000000e+02, 3.28000000e+02, 5.98597984e-01, 4.00000000e+00],\n",
       "       [5.60000000e+01, 7.00000000e+01, 6.03666269e-01, 2.00000000e+00],\n",
       "       [2.70000000e+02, 3.13000000e+02, 6.07078684e-01, 6.00000000e+00],\n",
       "       [2.92000000e+02, 3.45000000e+02, 6.07628594e-01, 4.00000000e+00],\n",
       "       [1.43000000e+02, 3.57000000e+02, 6.11685869e-01, 4.00000000e+00],\n",
       "       [1.63000000e+02, 3.02000000e+02, 6.15775731e-01, 5.00000000e+00],\n",
       "       [6.60000000e+01, 3.22000000e+02, 6.21484238e-01, 3.00000000e+00],\n",
       "       [5.80000000e+01, 2.57000000e+02, 6.32177529e-01, 3.00000000e+00],\n",
       "       [7.70000000e+01, 9.40000000e+01, 6.51214909e-01, 2.00000000e+00],\n",
       "       [1.66000000e+02, 3.12000000e+02, 6.64510109e-01, 4.00000000e+00],\n",
       "       [1.80000000e+01, 7.80000000e+01, 6.90738955e-01, 2.00000000e+00],\n",
       "       [5.50000000e+01, 7.50000000e+01, 6.92224462e-01, 2.00000000e+00],\n",
       "       [8.00000000e+00, 7.40000000e+01, 7.02477654e-01, 2.00000000e+00],\n",
       "       [2.36000000e+02, 3.10000000e+02, 7.18340331e-01, 3.00000000e+00],\n",
       "       [2.20000000e+01, 3.09000000e+02, 7.50461160e-01, 3.00000000e+00],\n",
       "       [1.88000000e+02, 3.69000000e+02, 7.74991404e-01, 5.00000000e+00],\n",
       "       [1.03000000e+02, 3.42000000e+02, 7.85918997e-01, 3.00000000e+00],\n",
       "       [1.00000000e+02, 1.02000000e+02, 8.00368740e-01, 2.00000000e+00],\n",
       "       [2.87000000e+02, 3.23000000e+02, 8.06124417e-01, 4.00000000e+00],\n",
       "       [1.39000000e+02, 2.91000000e+02, 8.07162830e-01, 3.00000000e+00],\n",
       "       [1.04000000e+02, 1.20000000e+02, 8.07318215e-01, 2.00000000e+00],\n",
       "       [1.80000000e+02, 3.29000000e+02, 8.10667579e-01, 3.00000000e+00],\n",
       "       [1.38000000e+02, 3.24000000e+02, 8.13006800e-01, 3.00000000e+00],\n",
       "       [1.86000000e+02, 2.45000000e+02, 8.13081463e-01, 2.00000000e+00],\n",
       "       [1.50000000e+02, 3.19000000e+02, 8.18593076e-01, 4.00000000e+00],\n",
       "       [3.20000000e+01, 2.98000000e+02, 8.49493435e-01, 3.00000000e+00],\n",
       "       [7.00000000e+00, 3.37000000e+02, 8.53655254e-01, 3.00000000e+00],\n",
       "       [3.04000000e+02, 3.52000000e+02, 8.66764508e-01, 5.00000000e+00],\n",
       "       [2.93000000e+02, 3.55000000e+02, 8.67126966e-01, 7.00000000e+00],\n",
       "       [1.82000000e+02, 3.11000000e+02, 8.73434148e-01, 3.00000000e+00],\n",
       "       [1.59000000e+02, 2.38000000e+02, 8.86323148e-01, 2.00000000e+00],\n",
       "       [2.48000000e+02, 3.06000000e+02, 8.86928698e-01, 3.00000000e+00],\n",
       "       [2.99000000e+02, 3.78000000e+02, 8.98393018e-01, 6.00000000e+00],\n",
       "       [1.33000000e+02, 2.63000000e+02, 9.48331683e-01, 3.00000000e+00],\n",
       "       [3.15000000e+02, 3.72000000e+02, 9.85351392e-01, 4.00000000e+00],\n",
       "       [2.74000000e+02, 3.65000000e+02, 1.04156865e+00, 7.00000000e+00],\n",
       "       [2.75000000e+02, 3.07000000e+02, 1.04263498e+00, 4.00000000e+00],\n",
       "       [9.30000000e+01, 3.39000000e+02, 1.04636827e+00, 4.00000000e+00],\n",
       "       [3.38000000e+02, 3.75000000e+02, 1.08371811e+00, 9.00000000e+00],\n",
       "       [1.60000000e+02, 3.84000000e+02, 1.08851961e+00, 5.00000000e+00],\n",
       "       [1.23000000e+02, 3.51000000e+02, 1.10966721e+00, 5.00000000e+00],\n",
       "       [4.10000000e+01, 3.00000000e+02, 1.15300177e+00, 3.00000000e+00],\n",
       "       [1.11000000e+02, 3.76000000e+02, 1.15831730e+00, 4.00000000e+00],\n",
       "       [1.22000000e+02, 1.47000000e+02, 1.16365474e+00, 2.00000000e+00],\n",
       "       [9.60000000e+01, 2.94000000e+02, 1.17243910e+00, 3.00000000e+00],\n",
       "       [2.95000000e+02, 3.60000000e+02, 1.19541467e+00, 6.00000000e+00],\n",
       "       [1.05000000e+02, 1.10000000e+02, 1.20881370e+00, 2.00000000e+00],\n",
       "       [2.82000000e+02, 3.50000000e+02, 1.22978740e+00, 5.00000000e+00],\n",
       "       [3.31000000e+02, 3.53000000e+02, 1.24745961e+00, 6.00000000e+00],\n",
       "       [3.32000000e+02, 3.63000000e+02, 1.25999161e+00, 6.00000000e+00],\n",
       "       [3.71000000e+02, 3.87000000e+02, 1.29379255e+00, 7.00000000e+00],\n",
       "       [3.66000000e+02, 3.96000000e+02, 1.29489846e+00, 7.00000000e+00],\n",
       "       [1.29000000e+02, 3.40000000e+02, 1.29704173e+00, 3.00000000e+00],\n",
       "       [1.85000000e+02, 1.95000000e+02, 1.31775913e+00, 2.00000000e+00],\n",
       "       [2.52000000e+02, 3.30000000e+02, 1.32080217e+00, 5.00000000e+00],\n",
       "       [2.56000000e+02, 3.82000000e+02, 1.33548754e+00, 5.00000000e+00],\n",
       "       [2.90000000e+02, 3.81000000e+02, 1.34783578e+00, 5.00000000e+00],\n",
       "       [3.56000000e+02, 3.67000000e+02, 1.35185328e+00, 8.00000000e+00],\n",
       "       [1.34000000e+02, 1.48000000e+02, 1.35748879e+00, 2.00000000e+00],\n",
       "       [3.10000000e+01, 3.58000000e+02, 1.38316304e+00, 4.00000000e+00],\n",
       "       [2.70000000e+01, 3.70000000e+02, 1.38397197e+00, 3.00000000e+00],\n",
       "       [2.05000000e+02, 2.08000000e+02, 1.41940840e+00, 2.00000000e+00],\n",
       "       [3.41000000e+02, 3.54000000e+02, 1.43137691e+00, 4.00000000e+00],\n",
       "       [3.25000000e+02, 3.36000000e+02, 1.43282878e+00, 6.00000000e+00],\n",
       "       [3.17000000e+02, 3.20000000e+02, 1.52046928e+00, 4.00000000e+00],\n",
       "       [1.21000000e+02, 3.77000000e+02, 1.54513520e+00, 3.00000000e+00],\n",
       "       [6.50000000e+01, 3.68000000e+02, 1.59040885e+00, 3.00000000e+00],\n",
       "       [3.64000000e+02, 3.79000000e+02, 1.68844126e+00, 7.00000000e+00],\n",
       "       [1.24000000e+02, 3.59000000e+02, 1.69128341e+00, 3.00000000e+00],\n",
       "       [2.31000000e+02, 3.35000000e+02, 1.71439176e+00, 4.00000000e+00],\n",
       "       [1.32000000e+02, 4.06000000e+02, 1.74040125e+00, 3.00000000e+00],\n",
       "       [3.73000000e+02, 3.91000000e+02, 1.76805648e+00, 6.00000000e+00],\n",
       "       [3.47000000e+02, 3.88000000e+02, 1.81406666e+00, 1.10000000e+01],\n",
       "       [3.43000000e+02, 4.00000000e+02, 1.83281821e+00, 7.00000000e+00],\n",
       "       [3.46000000e+02, 4.08000000e+02, 1.94912671e+00, 1.10000000e+01],\n",
       "       [3.85000000e+02, 4.19000000e+02, 1.95922892e+00, 7.00000000e+00],\n",
       "       [3.86000000e+02, 4.01000000e+02, 1.96688472e+00, 6.00000000e+00],\n",
       "       [2.83000000e+02, 3.44000000e+02, 1.99773518e+00, 7.00000000e+00],\n",
       "       [3.49000000e+02, 3.89000000e+02, 2.05869859e+00, 7.00000000e+00],\n",
       "       [1.00000000e+01, 5.10000000e+01, 2.09081412e+00, 2.00000000e+00],\n",
       "       [2.32000000e+02, 2.46000000e+02, 2.12253671e+00, 2.00000000e+00],\n",
       "       [3.83000000e+02, 3.92000000e+02, 2.16354695e+00, 8.00000000e+00],\n",
       "       [3.97000000e+02, 4.04000000e+02, 2.17750140e+00, 7.00000000e+00],\n",
       "       [1.30000000e+01, 4.07000000e+02, 2.19356975e+00, 6.00000000e+00],\n",
       "       [3.90000000e+02, 4.09000000e+02, 2.44175486e+00, 8.00000000e+00],\n",
       "       [3.48000000e+02, 3.62000000e+02, 2.45674641e+00, 1.00000000e+01],\n",
       "       [3.80000000e+02, 4.18000000e+02, 2.49073564e+00, 4.00000000e+00],\n",
       "       [4.12000000e+02, 4.15000000e+02, 2.49237343e+00, 8.00000000e+00],\n",
       "       [8.00000000e+01, 4.24000000e+02, 2.52922301e+00, 5.00000000e+00],\n",
       "       [4.20000000e+02, 4.42000000e+02, 2.58039847e+00, 1.00000000e+01],\n",
       "       [3.34000000e+02, 4.14000000e+02, 2.58335494e+00, 1.00000000e+01],\n",
       "       [3.60000000e+01, 3.61000000e+02, 2.59396165e+00, 3.00000000e+00],\n",
       "       [4.02000000e+02, 4.27000000e+02, 2.60414615e+00, 1.10000000e+01],\n",
       "       [2.06000000e+02, 4.29000000e+02, 2.60557710e+00, 5.00000000e+00],\n",
       "       [4.21000000e+02, 4.23000000e+02, 2.70096211e+00, 8.00000000e+00],\n",
       "       [3.95000000e+02, 4.32000000e+02, 2.88794409e+00, 1.80000000e+01],\n",
       "       [1.30000000e+02, 4.25000000e+02, 2.99541936e+00, 4.00000000e+00],\n",
       "       [4.17000000e+02, 4.37000000e+02, 3.10204157e+00, 1.50000000e+01],\n",
       "       [4.03000000e+02, 4.22000000e+02, 3.13736079e+00, 6.00000000e+00],\n",
       "       [3.94000000e+02, 4.34000000e+02, 3.20789340e+00, 1.50000000e+01],\n",
       "       [4.16000000e+02, 4.41000000e+02, 3.26514261e+00, 1.30000000e+01],\n",
       "       [3.99000000e+02, 4.31000000e+02, 3.41870394e+00, 1.10000000e+01],\n",
       "       [4.05000000e+02, 4.54000000e+02, 3.49109211e+00, 1.40000000e+01],\n",
       "       [4.80000000e+01, 4.49000000e+02, 3.49280042e+00, 1.10000000e+01],\n",
       "       [1.06000000e+02, 4.30000000e+02, 3.57312971e+00, 4.00000000e+00],\n",
       "       [4.11000000e+02, 4.48000000e+02, 3.64200880e+00, 1.20000000e+01],\n",
       "       [4.10000000e+02, 4.35000000e+02, 3.69654722e+00, 1.40000000e+01],\n",
       "       [4.36000000e+02, 4.50000000e+02, 3.74594754e+00, 1.60000000e+01],\n",
       "       [3.98000000e+02, 4.40000000e+02, 3.90854715e+00, 1.10000000e+01],\n",
       "       [4.26000000e+02, 4.66000000e+02, 3.92458577e+00, 1.70000000e+01],\n",
       "       [4.33000000e+02, 4.58000000e+02, 4.14564344e+00, 1.30000000e+01],\n",
       "       [3.93000000e+02, 4.52000000e+02, 4.28633807e+00, 1.40000000e+01],\n",
       "       [1.76000000e+02, 4.13000000e+02, 4.38509085e+00, 3.00000000e+00],\n",
       "       [4.46000000e+02, 4.47000000e+02, 4.64595580e+00, 1.20000000e+01],\n",
       "       [4.38000000e+02, 4.55000000e+02, 4.67433971e+00, 2.50000000e+01],\n",
       "       [4.28000000e+02, 4.64000000e+02, 4.98552365e+00, 7.00000000e+00],\n",
       "       [4.45000000e+02, 4.68000000e+02, 4.99795728e+00, 2.10000000e+01],\n",
       "       [4.51000000e+02, 4.67000000e+02, 5.28697562e+00, 1.90000000e+01],\n",
       "       [4.43000000e+02, 4.69000000e+02, 5.48041937e+00, 2.30000000e+01],\n",
       "       [4.57000000e+02, 4.63000000e+02, 5.59563647e+00, 2.60000000e+01],\n",
       "       [4.61000000e+02, 4.62000000e+02, 5.62583548e+00, 2.50000000e+01],\n",
       "       [4.53000000e+02, 4.60000000e+02, 5.68211245e+00, 1.80000000e+01],\n",
       "       [4.59000000e+02, 4.65000000e+02, 6.45414664e+00, 2.70000000e+01],\n",
       "       [3.74000000e+02, 4.77000000e+02, 6.90653939e+00, 2.20000000e+01],\n",
       "       [4.39000000e+02, 4.78000000e+02, 7.83701901e+00, 2.50000000e+01],\n",
       "       [4.72000000e+02, 4.74000000e+02, 7.95610825e+00, 2.80000000e+01],\n",
       "       [4.44000000e+02, 4.80000000e+02, 8.40092717e+00, 3.30000000e+01],\n",
       "       [4.56000000e+02, 4.73000000e+02, 8.79002202e+00, 1.60000000e+01],\n",
       "       [4.70000000e+02, 4.71000000e+02, 9.38728911e+00, 2.70000000e+01],\n",
       "       [4.76000000e+02, 4.85000000e+02, 1.06175719e+01, 4.90000000e+01],\n",
       "       [4.79000000e+02, 4.82000000e+02, 1.31114897e+01, 5.30000000e+01],\n",
       "       [4.87000000e+02, 4.88000000e+02, 1.35974200e+01, 4.30000000e+01],\n",
       "       [4.75000000e+02, 4.91000000e+02, 1.43996081e+01, 5.00000000e+01],\n",
       "       [4.83000000e+02, 4.90000000e+02, 1.50788742e+01, 7.50000000e+01],\n",
       "       [4.81000000e+02, 4.89000000e+02, 1.58465855e+01, 6.70000000e+01],\n",
       "       [4.86000000e+02, 4.94000000e+02, 1.90586919e+01, 1.00000000e+02],\n",
       "       [4.84000000e+02, 4.93000000e+02, 2.56879484e+01, 1.00000000e+02],\n",
       "       [4.92000000e+02, 4.95000000e+02, 8.41601132e+01, 1.50000000e+02],\n",
       "       [4.96000000e+02, 4.97000000e+02, 2.22415273e+02, 2.50000000e+02]])"
      ]
     },
     "execution_count": 75,
     "metadata": {},
     "output_type": "execute_result"
    }
   ],
   "source": [
    "shc.linkage(data.iloc[:,0:2].values, method='ward', metric='euclidean')"
   ]
  },
  {
   "cell_type": "code",
   "execution_count": null,
   "metadata": {},
   "outputs": [],
   "source": []
  },
  {
   "cell_type": "markdown",
   "metadata": {},
   "source": [
    "### 12. Plot the dendrogram for the consolidated dataframe"
   ]
  },
  {
   "cell_type": "code",
   "execution_count": 103,
   "metadata": {},
   "outputs": [
    {
     "data": {
      "image/png": "[encoded data removed]",
      "text/plain": [
       "<Figure size 720x504 with 1 Axes>"
      ]
     },
     "metadata": {
      "needs_background": "light"
     },
     "output_type": "display_data"
    }
   ],
   "source": [
    "plt.figure(figsize=(10,7))\n",
    "plt.title('Dendogram')\n",
    "dend = shc.dendrogram(shc.linkage(data.iloc[:,0:2].values, method='ward', metric='euclidean'), color_threshold=26)"
   ]
  },
  {
   "cell_type": "code",
   "execution_count": null,
   "metadata": {},
   "outputs": [],
   "source": []
  },
  {
   "cell_type": "code",
   "execution_count": null,
   "metadata": {},
   "outputs": [],
   "source": []
  },
  {
   "cell_type": "markdown",
   "metadata": {},
   "source": [
    "### 13. Recreate the dendrogram for last 12 merged clusters "
   ]
  },
  {
   "cell_type": "code",
   "execution_count": 102,
   "metadata": {},
   "outputs": [
    {
     "data": {
      "image/png": "[encoded data removed]",
      "text/plain": [
       "<Figure size 720x504 with 1 Axes>"
      ]
     },
     "metadata": {
      "needs_background": "light"
     },
     "output_type": "display_data"
    }
   ],
   "source": [
    "plt.figure(figsize=(10,7))\n",
    "plt.title('Dendogram')\n",
    "dend = shc.dendrogram(shc.linkage(data.iloc[:,0:2].values, method='ward', metric='euclidean'), color_threshold=26, truncate_mode='lastp', p=12)"
   ]
  },
  {
   "cell_type": "markdown",
   "metadata": {},
   "source": [
    "Hint: Use truncate_mode='lastp' attribute in dendrogram function to arrive at dendrogram "
   ]
  },
  {
   "cell_type": "code",
   "execution_count": null,
   "metadata": {},
   "outputs": [],
   "source": []
  },
  {
   "cell_type": "code",
   "execution_count": null,
   "metadata": {},
   "outputs": [],
   "source": []
  },
  {
   "cell_type": "markdown",
   "metadata": {},
   "source": [
    "### 14. From the truncated dendrogram, find out the optimal distance between clusters which u want to use an input for clustering data"
   ]
  },
  {
   "cell_type": "code",
   "execution_count": null,
   "metadata": {},
   "outputs": [],
   "source": [
    "# 26 is the optimal distance between clusters. This has given us 3 clusters"
   ]
  },
  {
   "cell_type": "code",
   "execution_count": null,
   "metadata": {},
   "outputs": [],
   "source": []
  },
  {
   "cell_type": "markdown",
   "metadata": {},
   "source": [
    "### 15. Using this distance measure and fcluster function to cluster the data into 3 different groups"
   ]
  },
  {
   "cell_type": "code",
   "execution_count": 88,
   "metadata": {},
   "outputs": [
    {
     "data": {
      "text/plain": [
       "array([[3.70000000e+01, 8.70000000e+01, 8.56960534e-03, 2.00000000e+00],\n",
       "       [1.70000000e+02, 2.19000000e+02, 5.08868971e-02, 2.00000000e+00],\n",
       "       [2.50000000e+01, 3.80000000e+01, 7.52378850e-02, 2.00000000e+00],\n",
       "       [1.40000000e+01, 4.30000000e+01, 7.62791543e-02, 2.00000000e+00],\n",
       "       [1.56000000e+02, 2.29000000e+02, 9.28630142e-02, 2.00000000e+00],\n",
       "       [8.50000000e+01, 8.90000000e+01, 9.46716086e-02, 2.00000000e+00],\n",
       "       [1.26000000e+02, 1.35000000e+02, 9.73172367e-02, 2.00000000e+00],\n",
       "       [7.30000000e+01, 8.30000000e+01, 1.01813685e-01, 2.00000000e+00],\n",
       "       [1.55000000e+02, 2.41000000e+02, 1.04538243e-01, 2.00000000e+00],\n",
       "       [2.04000000e+02, 2.14000000e+02, 1.04785327e-01, 2.00000000e+00],\n",
       "       [1.57000000e+02, 2.13000000e+02, 1.06832514e-01, 2.00000000e+00],\n",
       "       [1.96000000e+02, 2.12000000e+02, 1.12376597e-01, 2.00000000e+00],\n",
       "       [5.20000000e+01, 9.80000000e+01, 1.26450712e-01, 2.00000000e+00],\n",
       "       [1.14000000e+02, 1.44000000e+02, 1.27374064e-01, 2.00000000e+00],\n",
       "       [9.00000000e+00, 8.10000000e+01, 1.30447485e-01, 2.00000000e+00],\n",
       "       [5.00000000e+00, 2.00000000e+01, 1.33831150e-01, 2.00000000e+00],\n",
       "       [6.00000000e+00, 6.80000000e+01, 1.44539190e-01, 2.00000000e+00],\n",
       "       [1.81000000e+02, 2.16000000e+02, 1.44651779e-01, 2.00000000e+00],\n",
       "       [1.52000000e+02, 1.64000000e+02, 1.50344462e-01, 2.00000000e+00],\n",
       "       [1.72000000e+02, 2.58000000e+02, 1.56969305e-01, 3.00000000e+00],\n",
       "       [2.20000000e+02, 2.34000000e+02, 1.59093153e-01, 2.00000000e+00],\n",
       "       [2.00000000e+00, 1.90000000e+01, 1.61643456e-01, 2.00000000e+00],\n",
       "       [1.99000000e+02, 2.22000000e+02, 1.66322669e-01, 2.00000000e+00],\n",
       "       [1.74000000e+02, 2.01000000e+02, 1.88404245e-01, 2.00000000e+00],\n",
       "       [1.94000000e+02, 2.09000000e+02, 1.91574019e-01, 2.00000000e+00],\n",
       "       [0.00000000e+00, 4.90000000e+01, 1.92598747e-01, 2.00000000e+00],\n",
       "       [2.28000000e+02, 2.37000000e+02, 1.93095421e-01, 2.00000000e+00],\n",
       "       [1.69000000e+02, 2.60000000e+02, 1.98455370e-01, 3.00000000e+00],\n",
       "       [1.84000000e+02, 1.87000000e+02, 2.02227349e-01, 2.00000000e+00],\n",
       "       [1.65000000e+02, 2.30000000e+02, 2.08560640e-01, 2.00000000e+00],\n",
       "       [4.00000000e+00, 7.90000000e+01, 2.13411386e-01, 2.00000000e+00],\n",
       "       [8.20000000e+01, 2.53000000e+02, 2.20485889e-01, 3.00000000e+00],\n",
       "       [6.10000000e+01, 8.80000000e+01, 2.21803485e-01, 2.00000000e+00],\n",
       "       [1.00000000e+00, 1.50000000e+01, 2.23207120e-01, 2.00000000e+00],\n",
       "       [6.90000000e+01, 2.64000000e+02, 2.23230177e-01, 3.00000000e+00],\n",
       "       [1.27000000e+02, 1.31000000e+02, 2.27381268e-01, 2.00000000e+00],\n",
       "       [2.15000000e+02, 2.23000000e+02, 2.27402697e-01, 2.00000000e+00],\n",
       "       [2.07000000e+02, 2.24000000e+02, 2.31264644e-01, 2.00000000e+00],\n",
       "       [2.11000000e+02, 2.33000000e+02, 2.36613967e-01, 2.00000000e+00],\n",
       "       [1.71000000e+02, 2.54000000e+02, 2.39031015e-01, 3.00000000e+00],\n",
       "       [2.00000000e+02, 2.42000000e+02, 2.44687469e-01, 2.00000000e+00],\n",
       "       [1.09000000e+02, 1.40000000e+02, 2.46220984e-01, 2.00000000e+00],\n",
       "       [2.02000000e+02, 2.49000000e+02, 2.46863465e-01, 2.00000000e+00],\n",
       "       [1.53000000e+02, 2.69000000e+02, 2.51153542e-01, 4.00000000e+00],\n",
       "       [2.40000000e+01, 2.90000000e+01, 2.55068644e-01, 2.00000000e+00],\n",
       "       [2.27000000e+02, 2.35000000e+02, 2.55092688e-01, 2.00000000e+00],\n",
       "       [2.39000000e+02, 2.61000000e+02, 2.71876745e-01, 3.00000000e+00],\n",
       "       [2.10000000e+01, 4.60000000e+01, 2.74925363e-01, 2.00000000e+00],\n",
       "       [2.30000000e+01, 9.50000000e+01, 2.88725265e-01, 2.00000000e+00],\n",
       "       [1.78000000e+02, 2.43000000e+02, 2.89647262e-01, 2.00000000e+00],\n",
       "       [5.70000000e+01, 6.40000000e+01, 2.90315730e-01, 2.00000000e+00],\n",
       "       [1.12000000e+02, 1.46000000e+02, 2.90965298e-01, 2.00000000e+00],\n",
       "       [2.51000000e+02, 2.86000000e+02, 3.00535158e-01, 4.00000000e+00],\n",
       "       [2.60000000e+01, 3.50000000e+01, 3.01793822e-01, 2.00000000e+00],\n",
       "       [3.30000000e+01, 6.30000000e+01, 3.05801784e-01, 2.00000000e+00],\n",
       "       [6.20000000e+01, 2.65000000e+02, 3.12263987e-01, 3.00000000e+00],\n",
       "       [1.68000000e+02, 2.40000000e+02, 3.18726885e-01, 2.00000000e+00],\n",
       "       [7.10000000e+01, 8.60000000e+01, 3.20847270e-01, 2.00000000e+00],\n",
       "       [3.00000000e+00, 4.40000000e+01, 3.21815511e-01, 2.00000000e+00],\n",
       "       [1.70000000e+01, 3.00000000e+01, 3.21917932e-01, 2.00000000e+00],\n",
       "       [2.03000000e+02, 2.47000000e+02, 3.22042062e-01, 2.00000000e+00],\n",
       "       [1.89000000e+02, 2.17000000e+02, 3.24746931e-01, 2.00000000e+00],\n",
       "       [2.25000000e+02, 2.88000000e+02, 3.31322558e-01, 3.00000000e+00],\n",
       "       [1.75000000e+02, 2.89000000e+02, 3.36398564e-01, 4.00000000e+00],\n",
       "       [9.70000000e+01, 2.84000000e+02, 3.41156510e-01, 4.00000000e+00],\n",
       "       [4.00000000e+01, 9.00000000e+01, 3.44704411e-01, 2.00000000e+00],\n",
       "       [1.18000000e+02, 1.45000000e+02, 3.45606095e-01, 2.00000000e+00],\n",
       "       [3.40000000e+01, 5.40000000e+01, 3.46749234e-01, 2.00000000e+00],\n",
       "       [1.61000000e+02, 2.73000000e+02, 3.48951352e-01, 3.00000000e+00],\n",
       "       [2.18000000e+02, 2.72000000e+02, 3.50136313e-01, 3.00000000e+00],\n",
       "       [5.30000000e+01, 6.70000000e+01, 3.59020098e-01, 2.00000000e+00],\n",
       "       [6.00000000e+01, 9.20000000e+01, 3.64023540e-01, 2.00000000e+00],\n",
       "       [1.20000000e+01, 7.20000000e+01, 3.67495615e-01, 2.00000000e+00],\n",
       "       [1.54000000e+02, 1.58000000e+02, 3.70104554e-01, 2.00000000e+00],\n",
       "       [1.41000000e+02, 1.42000000e+02, 3.79372078e-01, 2.00000000e+00],\n",
       "       [1.73000000e+02, 2.78000000e+02, 3.80785646e-01, 3.00000000e+00],\n",
       "       [9.10000000e+01, 3.03000000e+02, 3.89459469e-01, 3.00000000e+00],\n",
       "       [4.20000000e+01, 2.66000000e+02, 4.06917638e-01, 3.00000000e+00],\n",
       "       [1.93000000e+02, 2.67000000e+02, 4.17998638e-01, 3.00000000e+00],\n",
       "       [1.90000000e+02, 2.26000000e+02, 4.20661545e-01, 2.00000000e+00],\n",
       "       [4.70000000e+01, 3.21000000e+02, 4.31836971e-01, 3.00000000e+00],\n",
       "       [8.40000000e+01, 2.81000000e+02, 4.43402823e-01, 4.00000000e+00],\n",
       "       [1.77000000e+02, 1.92000000e+02, 4.47697097e-01, 2.00000000e+00],\n",
       "       [2.44000000e+02, 2.59000000e+02, 4.67835433e-01, 3.00000000e+00],\n",
       "       [5.90000000e+01, 3.14000000e+02, 4.70902929e-01, 5.00000000e+00],\n",
       "       [2.10000000e+02, 2.76000000e+02, 4.71231820e-01, 3.00000000e+00],\n",
       "       [1.98000000e+02, 2.68000000e+02, 4.74495236e-01, 3.00000000e+00],\n",
       "       [1.60000000e+01, 5.00000000e+01, 4.79358860e-01, 2.00000000e+00],\n",
       "       [1.97000000e+02, 2.77000000e+02, 4.83817027e-01, 4.00000000e+00],\n",
       "       [2.80000000e+01, 2.97000000e+02, 4.87094860e-01, 3.00000000e+00],\n",
       "       [1.28000000e+02, 1.36000000e+02, 4.89215123e-01, 2.00000000e+00],\n",
       "       [1.07000000e+02, 1.13000000e+02, 4.94317150e-01, 2.00000000e+00],\n",
       "       [1.16000000e+02, 1.49000000e+02, 5.02055444e-01, 2.00000000e+00],\n",
       "       [1.01000000e+02, 1.15000000e+02, 5.09089318e-01, 2.00000000e+00],\n",
       "       [2.80000000e+02, 3.27000000e+02, 5.12686271e-01, 5.00000000e+00],\n",
       "       [1.67000000e+02, 1.91000000e+02, 5.22696908e-01, 2.00000000e+00],\n",
       "       [2.71000000e+02, 3.05000000e+02, 5.36252476e-01, 5.00000000e+00],\n",
       "       [1.51000000e+02, 3.18000000e+02, 5.36846887e-01, 4.00000000e+00],\n",
       "       [1.79000000e+02, 3.33000000e+02, 5.60673442e-01, 4.00000000e+00],\n",
       "       [1.62000000e+02, 2.96000000e+02, 5.66132583e-01, 4.00000000e+00],\n",
       "       [1.10000000e+01, 2.55000000e+02, 5.66284422e-01, 3.00000000e+00],\n",
       "       [2.85000000e+02, 3.01000000e+02, 5.66693098e-01, 4.00000000e+00],\n",
       "       [4.50000000e+01, 3.08000000e+02, 5.70150990e-01, 3.00000000e+00],\n",
       "       [3.90000000e+01, 7.60000000e+01, 5.75527703e-01, 2.00000000e+00],\n",
       "       [1.08000000e+02, 1.37000000e+02, 5.76202778e-01, 2.00000000e+00],\n",
       "       [1.83000000e+02, 2.79000000e+02, 5.78831677e-01, 3.00000000e+00],\n",
       "       [2.62000000e+02, 3.26000000e+02, 5.81087742e-01, 5.00000000e+00],\n",
       "       [1.19000000e+02, 3.16000000e+02, 5.86598253e-01, 3.00000000e+00],\n",
       "       [9.90000000e+01, 2.50000000e+02, 5.88514294e-01, 3.00000000e+00],\n",
       "       [1.17000000e+02, 1.25000000e+02, 5.89679974e-01, 2.00000000e+00],\n",
       "       [2.21000000e+02, 3.28000000e+02, 5.98597984e-01, 4.00000000e+00],\n",
       "       [5.60000000e+01, 7.00000000e+01, 6.03666269e-01, 2.00000000e+00],\n",
       "       [2.70000000e+02, 3.13000000e+02, 6.07078684e-01, 6.00000000e+00],\n",
       "       [2.92000000e+02, 3.45000000e+02, 6.07628594e-01, 4.00000000e+00],\n",
       "       [1.43000000e+02, 3.57000000e+02, 6.11685869e-01, 4.00000000e+00],\n",
       "       [1.63000000e+02, 3.02000000e+02, 6.15775731e-01, 5.00000000e+00],\n",
       "       [6.60000000e+01, 3.22000000e+02, 6.21484238e-01, 3.00000000e+00],\n",
       "       [5.80000000e+01, 2.57000000e+02, 6.32177529e-01, 3.00000000e+00],\n",
       "       [7.70000000e+01, 9.40000000e+01, 6.51214909e-01, 2.00000000e+00],\n",
       "       [1.66000000e+02, 3.12000000e+02, 6.64510109e-01, 4.00000000e+00],\n",
       "       [1.80000000e+01, 7.80000000e+01, 6.90738955e-01, 2.00000000e+00],\n",
       "       [5.50000000e+01, 7.50000000e+01, 6.92224462e-01, 2.00000000e+00],\n",
       "       [8.00000000e+00, 7.40000000e+01, 7.02477654e-01, 2.00000000e+00],\n",
       "       [2.36000000e+02, 3.10000000e+02, 7.18340331e-01, 3.00000000e+00],\n",
       "       [2.20000000e+01, 3.09000000e+02, 7.50461160e-01, 3.00000000e+00],\n",
       "       [1.88000000e+02, 3.69000000e+02, 7.74991404e-01, 5.00000000e+00],\n",
       "       [1.03000000e+02, 3.42000000e+02, 7.85918997e-01, 3.00000000e+00],\n",
       "       [1.00000000e+02, 1.02000000e+02, 8.00368740e-01, 2.00000000e+00],\n",
       "       [2.87000000e+02, 3.23000000e+02, 8.06124417e-01, 4.00000000e+00],\n",
       "       [1.39000000e+02, 2.91000000e+02, 8.07162830e-01, 3.00000000e+00],\n",
       "       [1.04000000e+02, 1.20000000e+02, 8.07318215e-01, 2.00000000e+00],\n",
       "       [1.80000000e+02, 3.29000000e+02, 8.10667579e-01, 3.00000000e+00],\n",
       "       [1.38000000e+02, 3.24000000e+02, 8.13006800e-01, 3.00000000e+00],\n",
       "       [1.86000000e+02, 2.45000000e+02, 8.13081463e-01, 2.00000000e+00],\n",
       "       [1.50000000e+02, 3.19000000e+02, 8.18593076e-01, 4.00000000e+00],\n",
       "       [3.20000000e+01, 2.98000000e+02, 8.49493435e-01, 3.00000000e+00],\n",
       "       [7.00000000e+00, 3.37000000e+02, 8.53655254e-01, 3.00000000e+00],\n",
       "       [3.04000000e+02, 3.52000000e+02, 8.66764508e-01, 5.00000000e+00],\n",
       "       [2.93000000e+02, 3.55000000e+02, 8.67126966e-01, 7.00000000e+00],\n",
       "       [1.82000000e+02, 3.11000000e+02, 8.73434148e-01, 3.00000000e+00],\n",
       "       [1.59000000e+02, 2.38000000e+02, 8.86323148e-01, 2.00000000e+00],\n",
       "       [2.48000000e+02, 3.06000000e+02, 8.86928698e-01, 3.00000000e+00],\n",
       "       [2.99000000e+02, 3.78000000e+02, 8.98393018e-01, 6.00000000e+00],\n",
       "       [1.33000000e+02, 2.63000000e+02, 9.48331683e-01, 3.00000000e+00],\n",
       "       [3.15000000e+02, 3.72000000e+02, 9.85351392e-01, 4.00000000e+00],\n",
       "       [2.74000000e+02, 3.65000000e+02, 1.04156865e+00, 7.00000000e+00],\n",
       "       [2.75000000e+02, 3.07000000e+02, 1.04263498e+00, 4.00000000e+00],\n",
       "       [9.30000000e+01, 3.39000000e+02, 1.04636827e+00, 4.00000000e+00],\n",
       "       [3.38000000e+02, 3.75000000e+02, 1.08371811e+00, 9.00000000e+00],\n",
       "       [1.60000000e+02, 3.84000000e+02, 1.08851961e+00, 5.00000000e+00],\n",
       "       [1.23000000e+02, 3.51000000e+02, 1.10966721e+00, 5.00000000e+00],\n",
       "       [4.10000000e+01, 3.00000000e+02, 1.15300177e+00, 3.00000000e+00],\n",
       "       [1.11000000e+02, 3.76000000e+02, 1.15831730e+00, 4.00000000e+00],\n",
       "       [1.22000000e+02, 1.47000000e+02, 1.16365474e+00, 2.00000000e+00],\n",
       "       [9.60000000e+01, 2.94000000e+02, 1.17243910e+00, 3.00000000e+00],\n",
       "       [2.95000000e+02, 3.60000000e+02, 1.19541467e+00, 6.00000000e+00],\n",
       "       [1.05000000e+02, 1.10000000e+02, 1.20881370e+00, 2.00000000e+00],\n",
       "       [2.82000000e+02, 3.50000000e+02, 1.22978740e+00, 5.00000000e+00],\n",
       "       [3.31000000e+02, 3.53000000e+02, 1.24745961e+00, 6.00000000e+00],\n",
       "       [3.32000000e+02, 3.63000000e+02, 1.25999161e+00, 6.00000000e+00],\n",
       "       [3.71000000e+02, 3.87000000e+02, 1.29379255e+00, 7.00000000e+00],\n",
       "       [3.66000000e+02, 3.96000000e+02, 1.29489846e+00, 7.00000000e+00],\n",
       "       [1.29000000e+02, 3.40000000e+02, 1.29704173e+00, 3.00000000e+00],\n",
       "       [1.85000000e+02, 1.95000000e+02, 1.31775913e+00, 2.00000000e+00],\n",
       "       [2.52000000e+02, 3.30000000e+02, 1.32080217e+00, 5.00000000e+00],\n",
       "       [2.56000000e+02, 3.82000000e+02, 1.33548754e+00, 5.00000000e+00],\n",
       "       [2.90000000e+02, 3.81000000e+02, 1.34783578e+00, 5.00000000e+00],\n",
       "       [3.56000000e+02, 3.67000000e+02, 1.35185328e+00, 8.00000000e+00],\n",
       "       [1.34000000e+02, 1.48000000e+02, 1.35748879e+00, 2.00000000e+00],\n",
       "       [3.10000000e+01, 3.58000000e+02, 1.38316304e+00, 4.00000000e+00],\n",
       "       [2.70000000e+01, 3.70000000e+02, 1.38397197e+00, 3.00000000e+00],\n",
       "       [2.05000000e+02, 2.08000000e+02, 1.41940840e+00, 2.00000000e+00],\n",
       "       [3.41000000e+02, 3.54000000e+02, 1.43137691e+00, 4.00000000e+00],\n",
       "       [3.25000000e+02, 3.36000000e+02, 1.43282878e+00, 6.00000000e+00],\n",
       "       [3.17000000e+02, 3.20000000e+02, 1.52046928e+00, 4.00000000e+00],\n",
       "       [1.21000000e+02, 3.77000000e+02, 1.54513520e+00, 3.00000000e+00],\n",
       "       [6.50000000e+01, 3.68000000e+02, 1.59040885e+00, 3.00000000e+00],\n",
       "       [3.64000000e+02, 3.79000000e+02, 1.68844126e+00, 7.00000000e+00],\n",
       "       [1.24000000e+02, 3.59000000e+02, 1.69128341e+00, 3.00000000e+00],\n",
       "       [2.31000000e+02, 3.35000000e+02, 1.71439176e+00, 4.00000000e+00],\n",
       "       [1.32000000e+02, 4.06000000e+02, 1.74040125e+00, 3.00000000e+00],\n",
       "       [3.73000000e+02, 3.91000000e+02, 1.76805648e+00, 6.00000000e+00],\n",
       "       [3.47000000e+02, 3.88000000e+02, 1.81406666e+00, 1.10000000e+01],\n",
       "       [3.43000000e+02, 4.00000000e+02, 1.83281821e+00, 7.00000000e+00],\n",
       "       [3.46000000e+02, 4.08000000e+02, 1.94912671e+00, 1.10000000e+01],\n",
       "       [3.85000000e+02, 4.19000000e+02, 1.95922892e+00, 7.00000000e+00],\n",
       "       [3.86000000e+02, 4.01000000e+02, 1.96688472e+00, 6.00000000e+00],\n",
       "       [2.83000000e+02, 3.44000000e+02, 1.99773518e+00, 7.00000000e+00],\n",
       "       [3.49000000e+02, 3.89000000e+02, 2.05869859e+00, 7.00000000e+00],\n",
       "       [1.00000000e+01, 5.10000000e+01, 2.09081412e+00, 2.00000000e+00],\n",
       "       [2.32000000e+02, 2.46000000e+02, 2.12253671e+00, 2.00000000e+00],\n",
       "       [3.83000000e+02, 3.92000000e+02, 2.16354695e+00, 8.00000000e+00],\n",
       "       [3.97000000e+02, 4.04000000e+02, 2.17750140e+00, 7.00000000e+00],\n",
       "       [1.30000000e+01, 4.07000000e+02, 2.19356975e+00, 6.00000000e+00],\n",
       "       [3.90000000e+02, 4.09000000e+02, 2.44175486e+00, 8.00000000e+00],\n",
       "       [3.48000000e+02, 3.62000000e+02, 2.45674641e+00, 1.00000000e+01],\n",
       "       [3.80000000e+02, 4.18000000e+02, 2.49073564e+00, 4.00000000e+00],\n",
       "       [4.12000000e+02, 4.15000000e+02, 2.49237343e+00, 8.00000000e+00],\n",
       "       [8.00000000e+01, 4.24000000e+02, 2.52922301e+00, 5.00000000e+00],\n",
       "       [4.20000000e+02, 4.42000000e+02, 2.58039847e+00, 1.00000000e+01],\n",
       "       [3.34000000e+02, 4.14000000e+02, 2.58335494e+00, 1.00000000e+01],\n",
       "       [3.60000000e+01, 3.61000000e+02, 2.59396165e+00, 3.00000000e+00],\n",
       "       [4.02000000e+02, 4.27000000e+02, 2.60414615e+00, 1.10000000e+01],\n",
       "       [2.06000000e+02, 4.29000000e+02, 2.60557710e+00, 5.00000000e+00],\n",
       "       [4.21000000e+02, 4.23000000e+02, 2.70096211e+00, 8.00000000e+00],\n",
       "       [3.95000000e+02, 4.32000000e+02, 2.88794409e+00, 1.80000000e+01],\n",
       "       [1.30000000e+02, 4.25000000e+02, 2.99541936e+00, 4.00000000e+00],\n",
       "       [4.17000000e+02, 4.37000000e+02, 3.10204157e+00, 1.50000000e+01],\n",
       "       [4.03000000e+02, 4.22000000e+02, 3.13736079e+00, 6.00000000e+00],\n",
       "       [3.94000000e+02, 4.34000000e+02, 3.20789340e+00, 1.50000000e+01],\n",
       "       [4.16000000e+02, 4.41000000e+02, 3.26514261e+00, 1.30000000e+01],\n",
       "       [3.99000000e+02, 4.31000000e+02, 3.41870394e+00, 1.10000000e+01],\n",
       "       [4.05000000e+02, 4.54000000e+02, 3.49109211e+00, 1.40000000e+01],\n",
       "       [4.80000000e+01, 4.49000000e+02, 3.49280042e+00, 1.10000000e+01],\n",
       "       [1.06000000e+02, 4.30000000e+02, 3.57312971e+00, 4.00000000e+00],\n",
       "       [4.11000000e+02, 4.48000000e+02, 3.64200880e+00, 1.20000000e+01],\n",
       "       [4.10000000e+02, 4.35000000e+02, 3.69654722e+00, 1.40000000e+01],\n",
       "       [4.36000000e+02, 4.50000000e+02, 3.74594754e+00, 1.60000000e+01],\n",
       "       [3.98000000e+02, 4.40000000e+02, 3.90854715e+00, 1.10000000e+01],\n",
       "       [4.26000000e+02, 4.66000000e+02, 3.92458577e+00, 1.70000000e+01],\n",
       "       [4.33000000e+02, 4.58000000e+02, 4.14564344e+00, 1.30000000e+01],\n",
       "       [3.93000000e+02, 4.52000000e+02, 4.28633807e+00, 1.40000000e+01],\n",
       "       [1.76000000e+02, 4.13000000e+02, 4.38509085e+00, 3.00000000e+00],\n",
       "       [4.46000000e+02, 4.47000000e+02, 4.64595580e+00, 1.20000000e+01],\n",
       "       [4.38000000e+02, 4.55000000e+02, 4.67433971e+00, 2.50000000e+01],\n",
       "       [4.28000000e+02, 4.64000000e+02, 4.98552365e+00, 7.00000000e+00],\n",
       "       [4.45000000e+02, 4.68000000e+02, 4.99795728e+00, 2.10000000e+01],\n",
       "       [4.51000000e+02, 4.67000000e+02, 5.28697562e+00, 1.90000000e+01],\n",
       "       [4.43000000e+02, 4.69000000e+02, 5.48041937e+00, 2.30000000e+01],\n",
       "       [4.57000000e+02, 4.63000000e+02, 5.59563647e+00, 2.60000000e+01],\n",
       "       [4.61000000e+02, 4.62000000e+02, 5.62583548e+00, 2.50000000e+01],\n",
       "       [4.53000000e+02, 4.60000000e+02, 5.68211245e+00, 1.80000000e+01],\n",
       "       [4.59000000e+02, 4.65000000e+02, 6.45414664e+00, 2.70000000e+01],\n",
       "       [3.74000000e+02, 4.77000000e+02, 6.90653939e+00, 2.20000000e+01],\n",
       "       [4.39000000e+02, 4.78000000e+02, 7.83701901e+00, 2.50000000e+01],\n",
       "       [4.72000000e+02, 4.74000000e+02, 7.95610825e+00, 2.80000000e+01],\n",
       "       [4.44000000e+02, 4.80000000e+02, 8.40092717e+00, 3.30000000e+01],\n",
       "       [4.56000000e+02, 4.73000000e+02, 8.79002202e+00, 1.60000000e+01],\n",
       "       [4.70000000e+02, 4.71000000e+02, 9.38728911e+00, 2.70000000e+01],\n",
       "       [4.76000000e+02, 4.85000000e+02, 1.06175719e+01, 4.90000000e+01],\n",
       "       [4.79000000e+02, 4.82000000e+02, 1.31114897e+01, 5.30000000e+01],\n",
       "       [4.87000000e+02, 4.88000000e+02, 1.35974200e+01, 4.30000000e+01],\n",
       "       [4.75000000e+02, 4.91000000e+02, 1.43996081e+01, 5.00000000e+01],\n",
       "       [4.83000000e+02, 4.90000000e+02, 1.50788742e+01, 7.50000000e+01],\n",
       "       [4.81000000e+02, 4.89000000e+02, 1.58465855e+01, 6.70000000e+01],\n",
       "       [4.86000000e+02, 4.94000000e+02, 1.90586919e+01, 1.00000000e+02],\n",
       "       [4.84000000e+02, 4.93000000e+02, 2.56879484e+01, 1.00000000e+02],\n",
       "       [4.92000000e+02, 4.95000000e+02, 8.41601132e+01, 1.50000000e+02],\n",
       "       [4.96000000e+02, 4.97000000e+02, 2.22415273e+02, 2.50000000e+02]])"
      ]
     },
     "execution_count": 88,
     "metadata": {},
     "output_type": "execute_result"
    }
   ],
   "source": [
    "w = ward(pdist(data))\n",
    "w"
   ]
  },
  {
   "cell_type": "code",
   "execution_count": 104,
   "metadata": {},
   "outputs": [
    {
     "data": {
      "text/plain": [
       "array([1, 1, 1, 1, 1, 1, 1, 1, 1, 1, 1, 1, 1, 1, 1, 1, 1, 1, 1, 1, 1, 1,\n",
       "       1, 1, 1, 1, 1, 1, 1, 1, 1, 1, 1, 1, 1, 1, 1, 1, 1, 1, 1, 1, 1, 1,\n",
       "       1, 1, 1, 1, 1, 1, 1, 1, 1, 1, 1, 1, 1, 1, 1, 1, 1, 1, 1, 1, 1, 1,\n",
       "       1, 1, 1, 1, 1, 1, 1, 1, 1, 1, 1, 1, 1, 1, 1, 1, 1, 1, 1, 1, 1, 1,\n",
       "       1, 1, 1, 1, 1, 1, 1, 1, 1, 1, 1, 1, 2, 2, 2, 2, 2, 2, 2, 2, 2, 2,\n",
       "       2, 2, 2, 2, 2, 2, 2, 2, 2, 2, 2, 2, 2, 2, 2, 2, 2, 2, 2, 2, 2, 2,\n",
       "       2, 2, 2, 2, 2, 2, 2, 2, 2, 2, 2, 2, 2, 2, 2, 2, 2, 2, 3, 3, 3, 3,\n",
       "       3, 3, 3, 3, 3, 3, 3, 3, 3, 3, 3, 3, 3, 3, 3, 3, 3, 3, 3, 3, 3, 3,\n",
       "       3, 3, 3, 3, 3, 3, 3, 3, 3, 3, 3, 3, 3, 3, 3, 3, 3, 3, 3, 3, 3, 3,\n",
       "       3, 3, 3, 3, 3, 3, 3, 3, 3, 3, 3, 3, 3, 3, 3, 3, 3, 3, 3, 3, 3, 3,\n",
       "       3, 3, 3, 3, 3, 3, 3, 3, 3, 3, 3, 3, 3, 3, 3, 3, 3, 3, 3, 3, 3, 3,\n",
       "       3, 3, 3, 3, 3, 3, 3, 3], dtype=int32)"
      ]
     },
     "execution_count": 104,
     "metadata": {},
     "output_type": "execute_result"
    }
   ],
   "source": [
    "ff = fcluster(w, t=26, criterion='distance')\n",
    "ff"
   ]
  },
  {
   "cell_type": "markdown",
   "metadata": {},
   "source": [
    "### Use matplotlib to visually observe the clusters in 2D space "
   ]
  },
  {
   "cell_type": "code",
   "execution_count": 121,
   "metadata": {},
   "outputs": [
    {
     "data": {
      "text/plain": [
       "<matplotlib.collections.PathCollection at 0x18766cf8>"
      ]
     },
     "execution_count": 121,
     "metadata": {},
     "output_type": "execute_result"
    },
    {
     "data": {
      "image/png": "[encoded data removed]",
      "text/plain": [
       "<Figure size 432x288 with 1 Axes>"
      ]
     },
     "metadata": {
      "needs_background": "light"
     },
     "output_type": "display_data"
    }
   ],
   "source": [
    "plt.scatter(data['a'], data['b'], data=ff)"
   ]
  },
  {
   "cell_type": "code",
   "execution_count": null,
   "metadata": {},
   "outputs": [],
   "source": []
  }
 ],
 "metadata": {
  "kernelspec": {
   "display_name": "Python 3",
   "language": "python",
   "name": "python3"
  },
  "language_info": {
   "codemirror_mode": {
    "name": "ipython",
    "version": 3
   },
   "file_extension": ".py",
   "mimetype": "text/x-python",
   "name": "python",
   "nbconvert_exporter": "python",
   "pygments_lexer": "ipython3",
   "version": "3.7.1"
  }
 },
 "nbformat": 4,
 "nbformat_minor": 2
}
