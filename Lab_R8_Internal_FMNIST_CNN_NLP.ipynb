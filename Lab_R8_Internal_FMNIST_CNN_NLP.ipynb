{
 "cells": [
  {
   "cell_type": "markdown",
   "metadata": {
    "colab_type": "text",
    "id": "NFfDTfhlaEI_"
   },
   "source": [
    "# Transfer Learning MNIST"
   ]
  },
  {
   "cell_type": "markdown",
   "metadata": {
    "colab_type": "text",
    "id": "rNwbqCFRaEJC"
   },
   "source": [
    "* Train a simple convnet on the MNIST dataset the first 5 digits [0-4].\n",
    "* Freeze convolutional layers and fine-tune dense layers for the classification of digits [5-9]."
   ]
  },
  {
   "cell_type": "markdown",
   "metadata": {
    "colab_type": "text",
    "id": "5Dnzaw1i5sXF"
   },
   "source": [
    "## MNIST Dataset\n",
    "The MNIST database contains 60,000 training images and 10,000 testing images taken from American Census Bureau employees and American high school students. The MNIST dataset is one of the most common datasets used for image classification and accessible from many different sources. In fact, even Tensorflow and Keras allow us to import and download the MNIST dataset directly from their API."
   ]
  },
  {
   "cell_type": "markdown",
   "metadata": {
    "colab_type": "text",
    "id": "bpUULy1Z5sXF"
   },
   "source": [
    "Let's import keras and load MNIST dataset"
   ]
  },
  {
   "cell_type": "code",
   "execution_count": 0,
   "metadata": {
    "colab": {},
    "colab_type": "code",
    "id": "KiG7IPhm5sXG"
   },
   "outputs": [],
   "source": [
    "# Initialize the random number generator\n",
    "import random\n",
    "random.seed(0)\n",
    "\n",
    "import warnings\n",
    "warnings.filterwarnings(\"ignore\")"
   ]
  },
  {
   "cell_type": "code",
   "execution_count": 2,
   "metadata": {
    "colab": {
     "base_uri": "https://localhost:8080/",
     "height": 34
    },
    "colab_type": "code",
    "id": "ZqUiJM_Z5sXL",
    "outputId": "c20c09ca-ee18-4f04-db44-b9e97b9773a2"
   },
   "outputs": [
    {
     "name": "stderr",
     "output_type": "stream",
     "text": [
      "Using TensorFlow backend.\n"
     ]
    }
   ],
   "source": [
    "from keras.backend import backend\n",
    "from keras.datasets import mnist\n",
    "\n",
    "# the data, shuffled and split between train and test sets\n",
    "(x_train, y_train), (x_test, y_test) = mnist.load_data()"
   ]
  },
  {
   "cell_type": "markdown",
   "metadata": {
    "colab_type": "text",
    "id": "RVw4wsuW5sXO"
   },
   "source": [
    "X_train and X_test contain greyscale RGB codes (from 0 to 255) while y_train and y_test contains labels from 0 to 9 which represents which number they actually are."
   ]
  },
  {
   "cell_type": "markdown",
   "metadata": {
    "colab_type": "text",
    "id": "xgQ86Vhw5sXP"
   },
   "source": [
    "Let's visualize some numbers using matplotlib"
   ]
  },
  {
   "cell_type": "code",
   "execution_count": 3,
   "metadata": {
    "colab": {
     "base_uri": "https://localhost:8080/",
     "height": 303
    },
    "colab_type": "code",
    "id": "VZwg00gO5sXQ",
    "outputId": "a0bcdc1d-1b19-4b9c-d039-c30e937f0074"
   },
   "outputs": [
    {
     "name": "stdout",
     "output_type": "stream",
     "text": [
      "Label: 0\n"
     ]
    },
    {
     "data": {
      "text/plain": [
       "<matplotlib.image.AxesImage at 0x7f5faff01c18>"
      ]
     },
     "execution_count": 3,
     "metadata": {
      "tags": []
     },
     "output_type": "execute_result"
    },
    {
     "data": {
      "image/png": "[encoded data removed]",
      "text/plain": [
       "<Figure size 432x288 with 1 Axes>"
      ]
     },
     "metadata": {
      "tags": []
     },
     "output_type": "display_data"
    }
   ],
   "source": [
    "import matplotlib.pyplot as plt\n",
    "%matplotlib inline\n",
    "print(\"Label: {}\".format(y_train[1000]))\n",
    "plt.imshow(x_train[1000], cmap='gray')"
   ]
  },
  {
   "cell_type": "markdown",
   "metadata": {
    "colab_type": "text",
    "id": "p64mhwp95sXS"
   },
   "source": [
    "## Question 1"
   ]
  },
  {
   "cell_type": "markdown",
   "metadata": {
    "colab_type": "text",
    "id": "XxNAiWYd5sXT"
   },
   "source": [
    "### Create two datasets\n",
    "- First having digits from 0 to 4\n",
    "- Second having digits from 5 to 9\n",
    "\n",
    "Hint: use labels to separate data"
   ]
  },
  {
   "cell_type": "code",
   "execution_count": 0,
   "metadata": {
    "colab": {},
    "colab_type": "code",
    "id": "NlW4XQ7NTMjI"
   },
   "outputs": [],
   "source": [
    "# one set is for less than 5\n",
    "x_train_lt5 = x_train[y_train < 5]\n",
    "y_train_lt5 = y_train[y_train < 5]\n",
    "x_test_lt5 = x_test[y_test < 5]\n",
    "y_test_lt5 = y_test[y_test < 5]"
   ]
  },
  {
   "cell_type": "code",
   "execution_count": 0,
   "metadata": {
    "colab": {},
    "colab_type": "code",
    "id": "yaMSRJQ2X9Lg"
   },
   "outputs": [],
   "source": [
    "# another set is for greater than 4\n",
    "x_train_gt5 = x_train[y_train > 4]\n",
    "y_train_gt5 = y_train[y_train > 4] - 5 \n",
    "x_test_gt5 = x_test[y_test > 4]\n",
    "y_test_gt5 = y_test[y_test > 4] - 5"
   ]
  },
  {
   "cell_type": "markdown",
   "metadata": {
    "colab_type": "text",
    "id": "M9jKcF1z5sXV"
   },
   "source": [
    "## Question 2"
   ]
  },
  {
   "cell_type": "markdown",
   "metadata": {
    "colab_type": "text",
    "id": "NMo7lvwQ5sXW"
   },
   "source": [
    "### Print shape of the data\n",
    "- print shape of all variables of both the datasets you created"
   ]
  },
  {
   "cell_type": "code",
   "execution_count": 7,
   "metadata": {
    "colab": {
     "base_uri": "https://localhost:8080/",
     "height": 85
    },
    "colab_type": "code",
    "id": "kH7ZjEoH5sXW",
    "outputId": "b3067854-3768-4c68-ad31-b3da3e753649"
   },
   "outputs": [
    {
     "name": "stdout",
     "output_type": "stream",
     "text": [
      "(30596, 28, 28)\n",
      "(30596,)\n",
      "(5139, 28, 28)\n",
      "(5139,)\n"
     ]
    }
   ],
   "source": [
    "print(x_train_lt5.shape)\n",
    "print(y_train_lt5.shape)\n",
    "print(x_test_lt5.shape)\n",
    "print(y_test_lt5.shape)"
   ]
  },
  {
   "cell_type": "code",
   "execution_count": 8,
   "metadata": {
    "colab": {
     "base_uri": "https://localhost:8080/",
     "height": 85
    },
    "colab_type": "code",
    "id": "-OBlgBiraCy9",
    "outputId": "d9e9b6ca-e1ca-402f-81a0-0338f46c2d36"
   },
   "outputs": [
    {
     "name": "stdout",
     "output_type": "stream",
     "text": [
      "(29404, 28, 28)\n",
      "(29404,)\n",
      "(4861, 28, 28)\n",
      "(4861,)\n"
     ]
    }
   ],
   "source": [
    "print(x_train_gt5.shape)\n",
    "print(y_train_gt5.shape)\n",
    "print(x_test_gt5.shape)\n",
    "print(y_test_gt5.shape)"
   ]
  },
  {
   "cell_type": "markdown",
   "metadata": {
    "colab_type": "text",
    "id": "IUU4PkKU5sXY"
   },
   "source": [
    "## Question 3"
   ]
  },
  {
   "cell_type": "markdown",
   "metadata": {
    "colab_type": "text",
    "id": "4I8ajqdt5sXY"
   },
   "source": [
    "### Reshape data\n",
    "- reshape first dataset\n",
    "- To be able to use the dataset in Keras, we need 4-dims numpy arrays. \n",
    "- reshape features to pass it to a Conv2D layer\n",
    "- channel = 1\n",
    "- reshape features of first dataset only\n",
    "- do not reshape labels"
   ]
  },
  {
   "cell_type": "code",
   "execution_count": 0,
   "metadata": {
    "colab": {},
    "colab_type": "code",
    "id": "38wgBEcz5sXa"
   },
   "outputs": [],
   "source": [
    "x_train_lt5 = x_train_lt5.reshape(x_train_lt5.shape[0], 28, 28, 1)\n",
    "x_test_lt5 = x_test_lt5.reshape(x_test_lt5.shape[0], 28, 28, 1)\n",
    "x_train_gt5 = x_train_gt5.reshape(x_train_gt5.shape[0], 28, 28, 1)\n",
    "x_test_gt5 = x_test_gt5.reshape(x_test_gt5.shape[0], 28, 28, 1)"
   ]
  },
  {
   "cell_type": "markdown",
   "metadata": {
    "colab_type": "text",
    "id": "_5H-BtNm5sXg"
   },
   "source": [
    "## Question 4"
   ]
  },
  {
   "cell_type": "markdown",
   "metadata": {
    "colab_type": "text",
    "id": "2ahCMtCl5sXh"
   },
   "source": [
    "### Normalize data\n",
    "- normalize first dataset\n",
    "- we must normalize our data as it is always required in neural network models\n",
    "- we can achieve this by dividing the RGB codes to 255 (which is the maximum RGB code minus the minimum RGB code)\n",
    "- normalize X_train and X_test\n",
    "- make sure that the values are float so that we can get decimal points after division"
   ]
  },
  {
   "cell_type": "code",
   "execution_count": 0,
   "metadata": {
    "colab": {},
    "colab_type": "code",
    "id": "z4mti7pg5sXj"
   },
   "outputs": [],
   "source": [
    "x_train_lt5 = x_train_lt5.astype('float32')\n",
    "x_test_lt5 = x_test_lt5.astype('float32')\n",
    "x_train_gt5 = x_train_gt5.astype('float32')\n",
    "x_train_gt5 = x_train_gt5.astype('float32')\n",
    "\n",
    "x_train_lt5 = x_train_lt5/255\n",
    "x_test_lt5 = x_test_lt5/255\n",
    "x_train_gt5 = x_train_gt5/255\n",
    "x_test_gt5 = x_test_gt5/255"
   ]
  },
  {
   "cell_type": "markdown",
   "metadata": {
    "colab_type": "text",
    "id": "TfQ6545D5sXp"
   },
   "source": [
    "### Print shape of data and number of images\n",
    "- for first dataset\n",
    "- print shape of X_train\n",
    "- print number of images in X_train\n",
    "- print number of images in X_test"
   ]
  },
  {
   "cell_type": "code",
   "execution_count": 11,
   "metadata": {
    "colab": {
     "base_uri": "https://localhost:8080/",
     "height": 85
    },
    "colab_type": "code",
    "id": "uQfQXZMo5sXp",
    "outputId": "21d0c6a5-e64c-4fcb-de2b-cdd49f99fd66"
   },
   "outputs": [
    {
     "name": "stdout",
     "output_type": "stream",
     "text": [
      "(30596, 28, 28, 1)\n",
      "(30596,)\n",
      "(5139, 28, 28, 1)\n",
      "(5139,)\n"
     ]
    }
   ],
   "source": [
    "print(x_train_lt5.shape)\n",
    "print(y_train_lt5.shape)\n",
    "print(x_test_lt5.shape)\n",
    "print(y_test_lt5.shape)"
   ]
  },
  {
   "cell_type": "markdown",
   "metadata": {
    "colab_type": "text",
    "id": "9oFjomSh5sXu"
   },
   "source": [
    "## Question 5"
   ]
  },
  {
   "cell_type": "markdown",
   "metadata": {
    "colab_type": "text",
    "id": "2lEFQQNk5sXu"
   },
   "source": [
    "### One-hot encode the class vector\n",
    "- encode labels of first dataset\n",
    "- convert class vectors (integers) to binary class matrix\n",
    "- convert y_train and y_test\n",
    "- number of classes: 5\n",
    "- we are doing this to use categorical_crossentropy as loss\n",
    "\n",
    "Hint: you can use keras.utils.to_categorical"
   ]
  },
  {
   "cell_type": "code",
   "execution_count": 0,
   "metadata": {
    "colab": {},
    "colab_type": "code",
    "id": "aejx3Zb35sXv"
   },
   "outputs": [],
   "source": [
    "from keras.utils import to_categorical\n",
    "y_train_lt5 = to_categorical(y_train_lt5,num_classes=5)\n",
    "y_test_lt5 = to_categorical(y_test_lt5,num_classes=5)\n",
    "y_train_gt5 = to_categorical(y_train_gt5,num_classes=5)\n",
    "y_test_gt5 = to_categorical(y_test_gt5,num_classes=5)"
   ]
  },
  {
   "cell_type": "markdown",
   "metadata": {
    "colab_type": "text",
    "id": "PlkiipRA5sXw"
   },
   "source": [
    "## Question 6\n",
    "We will build our model by using high level Keras."
   ]
  },
  {
   "cell_type": "markdown",
   "metadata": {
    "colab_type": "text",
    "id": "KzYMC_xm5sXx"
   },
   "source": [
    "### Initialize a sequential model\n",
    "- define a sequential model\n",
    "- add 2 convolutional layers\n",
    "    - no of filters: 32\n",
    "    - kernel size: 3x3\n",
    "    - activation: \"relu\"\n",
    "    - input shape: (28, 28, 1) for first layer\n",
    "- add a max pooling layer of size 2x2\n",
    "- add a dropout layer\n",
    "    - dropout layers fight with the overfitting by disregarding some of the neurons while training\n",
    "    - use dropout rate 0.2"
   ]
  },
  {
   "cell_type": "code",
   "execution_count": 14,
   "metadata": {
    "colab": {
     "base_uri": "https://localhost:8080/",
     "height": 71
    },
    "colab_type": "code",
    "id": "mDr-HKl-5sXx",
    "outputId": "0eed0eaa-2e04-4c3c-9677-2140c567374b"
   },
   "outputs": [
    {
     "name": "stdout",
     "output_type": "stream",
     "text": [
      "WARNING:tensorflow:From /usr/local/lib/python3.6/dist-packages/keras/backend/tensorflow_backend.py:66: The name tf.get_default_graph is deprecated. Please use tf.compat.v1.get_default_graph instead.\n",
      "\n"
     ]
    }
   ],
   "source": [
    "from keras.callbacks import EarlyStopping\n",
    "from keras.models import Sequential\n",
    "from keras.layers import Conv2D, Flatten, Dense, Dropout, MaxPool2D\n",
    "\n",
    "feature_layers = [\n",
    "                  Conv2D(32, kernel_size=(3,3), activation='relu'),\n",
    "                  Conv2D(32, kernel_size=(3,3), activation='relu'),\n",
    "                  MaxPool2D(pool_size=(2,2)),\n",
    "                  Dropout(0.2),\n",
    "                  Flatten()\n",
    "]"
   ]
  },
  {
   "cell_type": "markdown",
   "metadata": {
    "colab_type": "text",
    "id": "k2RaPWiP5sXz"
   },
   "source": [
    "## Question 7"
   ]
  },
  {
   "cell_type": "markdown",
   "metadata": {
    "colab_type": "text",
    "id": "4ajGIM6t5sXz"
   },
   "source": [
    "### Add classification layers\n",
    "- do this after doing question 6\n",
    "- flatten the data\n",
    "    - add Flatten later\n",
    "    - flatten layers flatten 2D arrays to 1D array before building the fully connected layers\n",
    "- add 2 dense layers\n",
    "    - number of neurons in first layer: 128\n",
    "    - number of neurons in last layer: number of classes\n",
    "    - activation function in first layer: relu\n",
    "    - activation function in last layer: softmax\n",
    "    - we may experiment with any number of neurons for the first Dense layer; however, the final Dense layer must have neurons equal to the number of output classes\n",
    "- you can add a dropout layer in between, if necessary"
   ]
  },
  {
   "cell_type": "code",
   "execution_count": 0,
   "metadata": {
    "colab": {},
    "colab_type": "code",
    "id": "jBxWAN265sX0"
   },
   "outputs": [],
   "source": [
    "classification_layers = [\n",
    "                         Dense(128, activation='relu'),\n",
    "                         Dropout(0.2),\n",
    "                         Dense(5, activation='softmax')\n",
    "]"
   ]
  },
  {
   "cell_type": "markdown",
   "metadata": {
    "colab_type": "text",
    "id": "Lhtm4d5K5sX1"
   },
   "source": [
    "## Question 8"
   ]
  },
  {
   "cell_type": "markdown",
   "metadata": {
    "colab_type": "text",
    "id": "SmXg8EaF5sX2"
   },
   "source": [
    "### Compile and fit the model\n",
    "- compile your model\n",
    "    - loss: \"categorical_crossentropy\"\n",
    "    - metrics: \"accuracy\"\n",
    "    - optimizer: \"sgd\"\n",
    "- fit your model\n",
    "    - give train data - features and labels\n",
    "    - batch size: 128\n",
    "    - epochs: 10\n",
    "    - give validation data - features and labels"
   ]
  },
  {
   "cell_type": "code",
   "execution_count": 16,
   "metadata": {
    "colab": {
     "base_uri": "https://localhost:8080/",
     "height": 717
    },
    "colab_type": "code",
    "id": "cgclxC8s5sX4",
    "outputId": "99d16955-7c21-4c31-eea7-d6a0b362f044"
   },
   "outputs": [
    {
     "name": "stdout",
     "output_type": "stream",
     "text": [
      "WARNING:tensorflow:From /usr/local/lib/python3.6/dist-packages/keras/optimizers.py:793: The name tf.train.Optimizer is deprecated. Please use tf.compat.v1.train.Optimizer instead.\n",
      "\n",
      "WARNING:tensorflow:From /usr/local/lib/python3.6/dist-packages/keras/backend/tensorflow_backend.py:541: The name tf.placeholder is deprecated. Please use tf.compat.v1.placeholder instead.\n",
      "\n",
      "WARNING:tensorflow:From /usr/local/lib/python3.6/dist-packages/keras/backend/tensorflow_backend.py:4432: The name tf.random_uniform is deprecated. Please use tf.random.uniform instead.\n",
      "\n",
      "WARNING:tensorflow:From /usr/local/lib/python3.6/dist-packages/keras/backend/tensorflow_backend.py:4267: The name tf.nn.max_pool is deprecated. Please use tf.nn.max_pool2d instead.\n",
      "\n",
      "WARNING:tensorflow:From /usr/local/lib/python3.6/dist-packages/keras/backend/tensorflow_backend.py:148: The name tf.placeholder_with_default is deprecated. Please use tf.compat.v1.placeholder_with_default instead.\n",
      "\n",
      "WARNING:tensorflow:From /usr/local/lib/python3.6/dist-packages/keras/backend/tensorflow_backend.py:3733: calling dropout (from tensorflow.python.ops.nn_ops) with keep_prob is deprecated and will be removed in a future version.\n",
      "Instructions for updating:\n",
      "Please use `rate` instead of `keep_prob`. Rate should be set to `rate = 1 - keep_prob`.\n",
      "WARNING:tensorflow:From /usr/local/lib/python3.6/dist-packages/keras/backend/tensorflow_backend.py:3576: The name tf.log is deprecated. Please use tf.math.log instead.\n",
      "\n",
      "WARNING:tensorflow:From /usr/local/lib/python3.6/dist-packages/tensorflow/python/ops/math_grad.py:1250: add_dispatch_support.<locals>.wrapper (from tensorflow.python.ops.array_ops) is deprecated and will be removed in a future version.\n",
      "Instructions for updating:\n",
      "Use tf.where in 2.0, which has the same broadcast rule as np.where\n",
      "Train on 30596 samples, validate on 5139 samples\n",
      "Epoch 1/10\n",
      "30596/30596 [==============================] - 5s 150us/step - loss: 0.6306 - acc: 0.8218 - val_loss: 0.1184 - val_acc: 0.9659\n",
      "Epoch 2/10\n",
      "30596/30596 [==============================] - 3s 97us/step - loss: 0.1642 - acc: 0.9492 - val_loss: 0.0881 - val_acc: 0.9747\n",
      "Epoch 3/10\n",
      "30596/30596 [==============================] - 3s 96us/step - loss: 0.1349 - acc: 0.9576 - val_loss: 0.0730 - val_acc: 0.9792\n",
      "Epoch 4/10\n",
      "30596/30596 [==============================] - 3s 97us/step - loss: 0.1175 - acc: 0.9629 - val_loss: 0.0625 - val_acc: 0.9821\n",
      "Epoch 5/10\n",
      "30596/30596 [==============================] - 3s 97us/step - loss: 0.1069 - acc: 0.9673 - val_loss: 0.1074 - val_acc: 0.9650\n",
      "Epoch 6/10\n",
      "30596/30596 [==============================] - 3s 97us/step - loss: 0.0961 - acc: 0.9698 - val_loss: 0.0517 - val_acc: 0.9850\n",
      "Epoch 7/10\n",
      "30596/30596 [==============================] - 3s 97us/step - loss: 0.0887 - acc: 0.9726 - val_loss: 0.0437 - val_acc: 0.9872\n",
      "Epoch 8/10\n",
      "30596/30596 [==============================] - 3s 97us/step - loss: 0.0836 - acc: 0.9740 - val_loss: 0.0407 - val_acc: 0.9879\n",
      "Epoch 9/10\n",
      "30596/30596 [==============================] - 3s 98us/step - loss: 0.0762 - acc: 0.9766 - val_loss: 0.4461 - val_acc: 0.8052\n",
      "Epoch 10/10\n",
      "30596/30596 [==============================] - 3s 97us/step - loss: 0.0768 - acc: 0.9763 - val_loss: 0.1217 - val_acc: 0.9582\n"
     ]
    },
    {
     "data": {
      "text/plain": [
       "<keras.callbacks.History at 0x7f5fafed6da0>"
      ]
     },
     "execution_count": 16,
     "metadata": {
      "tags": []
     },
     "output_type": "execute_result"
    }
   ],
   "source": [
    "model = Sequential(feature_layers + classification_layers)\n",
    "model.compile(optimizer='sgd', loss='categorical_crossentropy', metrics=['accuracy'])\n",
    "model.fit(x_train_lt5, y_train_lt5, validation_data=(x_test_lt5, y_test_lt5), epochs=10, batch_size=128)"
   ]
  },
  {
   "cell_type": "markdown",
   "metadata": {
    "colab_type": "text",
    "id": "oSVZUu3p5sX5"
   },
   "source": [
    "## Question 9"
   ]
  },
  {
   "cell_type": "markdown",
   "metadata": {
    "colab_type": "text",
    "id": "Y5TQ3yLV5sX6"
   },
   "source": [
    "### Evaluate model\n",
    "- evaluate your model and get accuracy\n",
    "- use test features and labels"
   ]
  },
  {
   "cell_type": "code",
   "execution_count": 17,
   "metadata": {
    "colab": {
     "base_uri": "https://localhost:8080/",
     "height": 51
    },
    "colab_type": "code",
    "id": "bBvuD3ba5sX7",
    "outputId": "97871877-5f45-4176-d727-2cccee4aa25d"
   },
   "outputs": [
    {
     "name": "stdout",
     "output_type": "stream",
     "text": [
      "30596/30596 [==============================] - 2s 78us/step\n"
     ]
    },
    {
     "data": {
      "text/plain": [
       "[0.15141505732205057, 0.948228526604785]"
      ]
     },
     "execution_count": 17,
     "metadata": {
      "tags": []
     },
     "output_type": "execute_result"
    }
   ],
   "source": [
    "model.evaluate(x_train_lt5, y_train_lt5)"
   ]
  },
  {
   "cell_type": "code",
   "execution_count": 18,
   "metadata": {
    "colab": {
     "base_uri": "https://localhost:8080/",
     "height": 51
    },
    "colab_type": "code",
    "id": "RVd6Xr6Fu2uT",
    "outputId": "197a874a-f178-4cdb-ac71-99744149a2a2"
   },
   "outputs": [
    {
     "name": "stdout",
     "output_type": "stream",
     "text": [
      "5139/5139 [==============================] - 0s 75us/step\n"
     ]
    },
    {
     "data": {
      "text/plain": [
       "[0.121727731379699, 0.9581630666865104]"
      ]
     },
     "execution_count": 18,
     "metadata": {
      "tags": []
     },
     "output_type": "execute_result"
    }
   ],
   "source": [
    "model.evaluate(x_test_lt5, y_test_lt5)"
   ]
  },
  {
   "cell_type": "markdown",
   "metadata": {
    "colab_type": "text",
    "id": "8aUzOh9m5sX-"
   },
   "source": [
    "## Question 10"
   ]
  },
  {
   "cell_type": "markdown",
   "metadata": {
    "colab_type": "text",
    "id": "srd-YYNH5sX-"
   },
   "source": [
    "## Transfer learning\n",
    "Now we will apply this model on second dataset (5-9 digits)\n",
    "\n",
    "- fix the first convolution layers so that the weights in the convolution layers dont get updated in the process of training\n",
    "- get the second dataset\n",
    "- train the last 2 dense layers\n",
    "- predict the accuracy and loss"
   ]
  },
  {
   "cell_type": "markdown",
   "metadata": {
    "colab_type": "text",
    "id": "KvhdH7D55sYA"
   },
   "source": [
    "### Make only dense layers trainable\n",
    "- set trainalble = False for all layers other than Dense layers"
   ]
  },
  {
   "cell_type": "code",
   "execution_count": 0,
   "metadata": {
    "colab": {},
    "colab_type": "code",
    "id": "DJgSjeCk1WEj"
   },
   "outputs": [],
   "source": [
    "# feature_layers can be used for pre-trained model for future data to train wihout training this layer again\n",
    "# classification_layers will be trained again while training future data set\n",
    "for layer in feature_layers:\n",
    "    layer.trainable = False # in future training, weight will not be modified"
   ]
  },
  {
   "cell_type": "markdown",
   "metadata": {
    "colab_type": "text",
    "id": "FYR9VGzO5sYE"
   },
   "source": [
    "### Modify data\n",
    "- in your second data, class labels will start from 5 to 9 but for keras.utils.to_categorical the labels should start from 0\n",
    "- so you need to subtract 5 from train and test labels"
   ]
  },
  {
   "cell_type": "code",
   "execution_count": 0,
   "metadata": {
    "colab": {},
    "colab_type": "code",
    "id": "lC5W75L35sYF"
   },
   "outputs": [],
   "source": []
  },
  {
   "cell_type": "markdown",
   "metadata": {
    "colab_type": "text",
    "id": "YGY3OTBt5sYG"
   },
   "source": [
    "### Reshape data\n",
    "- reshape second dataset\n",
    "- To be able to use the dataset in Keras, we need 4-dims numpy arrays. \n",
    "- reshape features to pass it to a Conv2D layer\n",
    "- channel = 1\n",
    "- reshape features of first dataset only\n",
    "- do not reshape labels"
   ]
  },
  {
   "cell_type": "code",
   "execution_count": 0,
   "metadata": {
    "colab": {},
    "colab_type": "code",
    "id": "0V7RUlRD5sYH"
   },
   "outputs": [],
   "source": []
  },
  {
   "cell_type": "markdown",
   "metadata": {
    "colab_type": "text",
    "id": "c7omqMQH5sYJ"
   },
   "source": [
    "### Normalize data\n",
    "- normalize second data\n",
    "- we must normalize our data as it is always required in neural network models\n",
    "- we can achieve this by dividing the RGB codes to 255 (which is the maximum RGB code minus the minimum RGB code)\n",
    "- normalize X_train and X_test\n",
    "- make sure that the values are float so that we can get decimal points after division"
   ]
  },
  {
   "cell_type": "code",
   "execution_count": 0,
   "metadata": {
    "colab": {},
    "colab_type": "code",
    "id": "PEFYNHRp5sYJ"
   },
   "outputs": [],
   "source": []
  },
  {
   "cell_type": "markdown",
   "metadata": {
    "colab_type": "text",
    "id": "0OfdlF655sYM"
   },
   "source": [
    "### Print shape of data and number of images\n",
    "- print shape of X_train\n",
    "- print number of images in X_train\n",
    "- print number of images in X_test"
   ]
  },
  {
   "cell_type": "code",
   "execution_count": 0,
   "metadata": {
    "colab": {},
    "colab_type": "code",
    "id": "bZEkCQ-P5sYO"
   },
   "outputs": [],
   "source": []
  },
  {
   "cell_type": "markdown",
   "metadata": {
    "colab_type": "text",
    "id": "c_3-0Qwo5sYQ"
   },
   "source": [
    "### One-hot encode the class vector\n",
    "- convert class vectors (integers) to binary class matrix\n",
    "- convert y_train and y_test\n",
    "- number of classes: 5\n",
    "- we are doing this to use categorical_crossentropy as loss\n",
    "\n",
    "Hint: you can use keras.utils.to_categorical"
   ]
  },
  {
   "cell_type": "code",
   "execution_count": 0,
   "metadata": {
    "colab": {},
    "colab_type": "code",
    "id": "k46Me5Re5sYR"
   },
   "outputs": [],
   "source": []
  },
  {
   "cell_type": "markdown",
   "metadata": {
    "colab_type": "text",
    "id": "D9xEoW515sYS"
   },
   "source": [
    "### Fit the model\n",
    "- give train data - features and labels\n",
    "- batch size: 128\n",
    "- epochs: 10\n",
    "- give validation data - features and labels"
   ]
  },
  {
   "cell_type": "code",
   "execution_count": 22,
   "metadata": {
    "colab": {
     "base_uri": "https://localhost:8080/",
     "height": 391
    },
    "colab_type": "code",
    "id": "B6f-XAc-5sYT",
    "outputId": "e866bc0b-1ba4-489b-9c91-c3cfa284d965"
   },
   "outputs": [
    {
     "name": "stdout",
     "output_type": "stream",
     "text": [
      "Train on 29404 samples, validate on 4861 samples\n",
      "Epoch 1/10\n",
      "29404/29404 [==============================] - 2s 67us/step - loss: 0.4233 - acc: 0.8601 - val_loss: 0.1830 - val_acc: 0.9420\n",
      "Epoch 2/10\n",
      "29404/29404 [==============================] - 2s 60us/step - loss: 0.2285 - acc: 0.9262 - val_loss: 0.1438 - val_acc: 0.9527\n",
      "Epoch 3/10\n",
      "29404/29404 [==============================] - 2s 61us/step - loss: 0.1887 - acc: 0.9399 - val_loss: 0.1189 - val_acc: 0.9619\n",
      "Epoch 4/10\n",
      "29404/29404 [==============================] - 2s 61us/step - loss: 0.1677 - acc: 0.9453 - val_loss: 0.1080 - val_acc: 0.9659\n",
      "Epoch 5/10\n",
      "29404/29404 [==============================] - 2s 62us/step - loss: 0.1533 - acc: 0.9515 - val_loss: 0.0988 - val_acc: 0.9669\n",
      "Epoch 6/10\n",
      "29404/29404 [==============================] - 2s 60us/step - loss: 0.1465 - acc: 0.9522 - val_loss: 0.0934 - val_acc: 0.9681\n",
      "Epoch 7/10\n",
      "29404/29404 [==============================] - 2s 63us/step - loss: 0.1343 - acc: 0.9572 - val_loss: 0.0867 - val_acc: 0.9706\n",
      "Epoch 8/10\n",
      "29404/29404 [==============================] - 2s 61us/step - loss: 0.1287 - acc: 0.9582 - val_loss: 0.0837 - val_acc: 0.9722\n",
      "Epoch 9/10\n",
      "29404/29404 [==============================] - 2s 62us/step - loss: 0.1218 - acc: 0.9609 - val_loss: 0.0786 - val_acc: 0.9728\n",
      "Epoch 10/10\n",
      "29404/29404 [==============================] - 2s 61us/step - loss: 0.1169 - acc: 0.9620 - val_loss: 0.0739 - val_acc: 0.9749\n"
     ]
    },
    {
     "data": {
      "text/plain": [
       "<keras.callbacks.History at 0x7f5fa05d1438>"
      ]
     },
     "execution_count": 22,
     "metadata": {
      "tags": []
     },
     "output_type": "execute_result"
    }
   ],
   "source": [
    "model.compile(optimizer='sgd', loss='categorical_crossentropy', metrics=['accuracy'])\n",
    "model.fit(x_train_gt5, y_train_gt5, validation_data=(x_test_gt5, y_test_gt5), epochs=10, batch_size=128)"
   ]
  },
  {
   "cell_type": "markdown",
   "metadata": {
    "colab_type": "text",
    "id": "85ginrII5sYV"
   },
   "source": [
    "### Evaluate model\n",
    "- evaluate your model and get accuracy\n",
    "- use test features and labels"
   ]
  },
  {
   "cell_type": "code",
   "execution_count": 23,
   "metadata": {
    "colab": {
     "base_uri": "https://localhost:8080/",
     "height": 51
    },
    "colab_type": "code",
    "id": "k11-vrsm5sYW",
    "outputId": "486c1fc1-c942-4874-ea52-5ea91fce371a"
   },
   "outputs": [
    {
     "name": "stdout",
     "output_type": "stream",
     "text": [
      "29404/29404 [==============================] - 2s 83us/step\n"
     ]
    },
    {
     "data": {
      "text/plain": [
       "[0.07379822251544674, 0.9770439396000544]"
      ]
     },
     "execution_count": 23,
     "metadata": {
      "tags": []
     },
     "output_type": "execute_result"
    }
   ],
   "source": [
    "model.evaluate(x_train_gt5, y_train_gt5)"
   ]
  },
  {
   "cell_type": "code",
   "execution_count": 24,
   "metadata": {
    "colab": {
     "base_uri": "https://localhost:8080/",
     "height": 51
    },
    "colab_type": "code",
    "id": "6lz199NI8D8l",
    "outputId": "65155eb8-2585-47e8-b579-396d6fc03bf8"
   },
   "outputs": [
    {
     "name": "stdout",
     "output_type": "stream",
     "text": [
      "4861/4861 [==============================] - 0s 85us/step\n"
     ]
    },
    {
     "data": {
      "text/plain": [
       "[0.07392001651553945, 0.974902283370409]"
      ]
     },
     "execution_count": 24,
     "metadata": {
      "tags": []
     },
     "output_type": "execute_result"
    }
   ],
   "source": [
    "model.evaluate(x_test_gt5, y_test_gt5)"
   ]
  },
  {
   "cell_type": "markdown",
   "metadata": {
    "colab_type": "text",
    "id": "dTNhSDqn5sYY"
   },
   "source": [
    "-----------------------------------------------------------------------------"
   ]
  },
  {
   "cell_type": "markdown",
   "metadata": {
    "colab_type": "text",
    "id": "FU-HwvIdH0M-"
   },
   "source": [
    "# Sentiment analysis \n",
    "\n",
    "The objective of the second problem is to perform Sentiment analysis from the tweets collected from the users targeted at various mobile devices.\n",
    "Based on the tweet posted by a user (text), we will classify if the sentiment of the user targeted at a particular mobile device is positive or not."
   ]
  },
  {
   "cell_type": "markdown",
   "metadata": {
    "colab_type": "text",
    "id": "aIWWfNks5sYa"
   },
   "source": [
    "## Question 1"
   ]
  },
  {
   "cell_type": "markdown",
   "metadata": {
    "colab_type": "text",
    "id": "nAQDiZHRH0M_"
   },
   "source": [
    "### Read the data\n",
    "- read tweets.csv\n",
    "- use latin encoding if it gives encoding error while loading"
   ]
  },
  {
   "cell_type": "code",
   "execution_count": 0,
   "metadata": {
    "colab": {},
    "colab_type": "code",
    "id": "3eXGIe-SH0NA"
   },
   "outputs": [],
   "source": [
    "import pandas as pd\n",
    "tweet = pd.read_csv('/content/sample_data/tweets.csv', encoding='latin')"
   ]
  },
  {
   "cell_type": "code",
   "execution_count": 26,
   "metadata": {
    "colab": {
     "base_uri": "https://localhost:8080/",
     "height": 153
    },
    "colab_type": "code",
    "id": "0NOrDb3KK_gh",
    "outputId": "04b6a3fc-3395-42fa-915e-bc68f770a896"
   },
   "outputs": [
    {
     "name": "stdout",
     "output_type": "stream",
     "text": [
      "<class 'pandas.core.frame.DataFrame'>\n",
      "RangeIndex: 9093 entries, 0 to 9092\n",
      "Data columns (total 3 columns):\n",
      "tweet_text                                            9092 non-null object\n",
      "emotion_in_tweet_is_directed_at                       3291 non-null object\n",
      "is_there_an_emotion_directed_at_a_brand_or_product    9093 non-null object\n",
      "dtypes: object(3)\n",
      "memory usage: 213.2+ KB\n"
     ]
    }
   ],
   "source": [
    "tweet.info()"
   ]
  },
  {
   "cell_type": "markdown",
   "metadata": {
    "colab_type": "text",
    "id": "39pqw0aE5sYe"
   },
   "source": [
    "### Drop null values\n",
    "- drop all the rows with null values"
   ]
  },
  {
   "cell_type": "code",
   "execution_count": 27,
   "metadata": {
    "colab": {
     "base_uri": "https://localhost:8080/",
     "height": 153
    },
    "colab_type": "code",
    "id": "BF_69oyI5sYf",
    "outputId": "8593da6b-0faf-4fcd-ba8a-fc63dcd599e0"
   },
   "outputs": [
    {
     "name": "stdout",
     "output_type": "stream",
     "text": [
      "<class 'pandas.core.frame.DataFrame'>\n",
      "Int64Index: 3291 entries, 0 to 9088\n",
      "Data columns (total 3 columns):\n",
      "tweet_text                                            3291 non-null object\n",
      "emotion_in_tweet_is_directed_at                       3291 non-null object\n",
      "is_there_an_emotion_directed_at_a_brand_or_product    3291 non-null object\n",
      "dtypes: object(3)\n",
      "memory usage: 102.8+ KB\n"
     ]
    }
   ],
   "source": [
    "tweet = tweet.dropna()\n",
    "tweet.info()"
   ]
  },
  {
   "cell_type": "markdown",
   "metadata": {
    "colab_type": "text",
    "id": "0bm4bDiy5sYg"
   },
   "source": [
    "### Print the dataframe\n",
    "- print initial 5 rows of the data\n",
    "- use df.head()"
   ]
  },
  {
   "cell_type": "code",
   "execution_count": 28,
   "metadata": {
    "colab": {
     "base_uri": "https://localhost:8080/",
     "height": 221
    },
    "colab_type": "code",
    "id": "ceSlvAVa5sYh",
    "outputId": "1d90190a-5182-4469-9a0d-b568e78e8837",
    "scrolled": true
   },
   "outputs": [
    {
     "data": {
      "text/html": [
       "<div>\n",
       "<style scoped>\n",
       "    .dataframe tbody tr th:only-of-type {\n",
       "        vertical-align: middle;\n",
       "    }\n",
       "\n",
       "    .dataframe tbody tr th {\n",
       "        vertical-align: top;\n",
       "    }\n",
       "\n",
       "    .dataframe thead th {\n",
       "        text-align: right;\n",
       "    }\n",
       "</style>\n",
       "<table border=\"1\" class=\"dataframe\">\n",
       "  <thead>\n",
       "    <tr style=\"text-align: right;\">\n",
       "      <th></th>\n",
       "      <th>tweet_text</th>\n",
       "      <th>emotion_in_tweet_is_directed_at</th>\n",
       "      <th>is_there_an_emotion_directed_at_a_brand_or_product</th>\n",
       "    </tr>\n",
       "  </thead>\n",
       "  <tbody>\n",
       "    <tr>\n",
       "      <th>0</th>\n",
       "      <td>.@wesley83 I have a 3G iPhone. After 3 hrs twe...</td>\n",
       "      <td>iPhone</td>\n",
       "      <td>Negative emotion</td>\n",
       "    </tr>\n",
       "    <tr>\n",
       "      <th>1</th>\n",
       "      <td>@jessedee Know about @fludapp ? Awesome iPad/i...</td>\n",
       "      <td>iPad or iPhone App</td>\n",
       "      <td>Positive emotion</td>\n",
       "    </tr>\n",
       "    <tr>\n",
       "      <th>2</th>\n",
       "      <td>@swonderlin Can not wait for #iPad 2 also. The...</td>\n",
       "      <td>iPad</td>\n",
       "      <td>Positive emotion</td>\n",
       "    </tr>\n",
       "    <tr>\n",
       "      <th>3</th>\n",
       "      <td>@sxsw I hope this year's festival isn't as cra...</td>\n",
       "      <td>iPad or iPhone App</td>\n",
       "      <td>Negative emotion</td>\n",
       "    </tr>\n",
       "    <tr>\n",
       "      <th>4</th>\n",
       "      <td>@sxtxstate great stuff on Fri #SXSW: Marissa M...</td>\n",
       "      <td>Google</td>\n",
       "      <td>Positive emotion</td>\n",
       "    </tr>\n",
       "  </tbody>\n",
       "</table>\n",
       "</div>"
      ],
      "text/plain": [
       "                                          tweet_text  ... is_there_an_emotion_directed_at_a_brand_or_product\n",
       "0  .@wesley83 I have a 3G iPhone. After 3 hrs twe...  ...                                   Negative emotion\n",
       "1  @jessedee Know about @fludapp ? Awesome iPad/i...  ...                                   Positive emotion\n",
       "2  @swonderlin Can not wait for #iPad 2 also. The...  ...                                   Positive emotion\n",
       "3  @sxsw I hope this year's festival isn't as cra...  ...                                   Negative emotion\n",
       "4  @sxtxstate great stuff on Fri #SXSW: Marissa M...  ...                                   Positive emotion\n",
       "\n",
       "[5 rows x 3 columns]"
      ]
     },
     "execution_count": 28,
     "metadata": {
      "tags": []
     },
     "output_type": "execute_result"
    }
   ],
   "source": [
    "tweet.head()"
   ]
  },
  {
   "cell_type": "markdown",
   "metadata": {
    "colab_type": "text",
    "id": "jcWfPVqG5sYi"
   },
   "source": [
    "## Question 2"
   ]
  },
  {
   "cell_type": "markdown",
   "metadata": {
    "colab_type": "text",
    "id": "JBbAeip_5sYj"
   },
   "source": [
    "### Preprocess data\n",
    "- convert all text to lowercase - use .lower()\n",
    "- select only numbers, alphabets, and #+_ from text - use re.sub()\n",
    "- strip all the text - use .strip()\n",
    "    - this is for removing extra spaces"
   ]
  },
  {
   "cell_type": "code",
   "execution_count": 0,
   "metadata": {
    "colab": {},
    "colab_type": "code",
    "id": "PE4Bn_YT5sYj"
   },
   "outputs": [],
   "source": [
    "tweet = tweet.apply(lambda x: x.astype(str).str.lower())"
   ]
  },
  {
   "cell_type": "code",
   "execution_count": 0,
   "metadata": {
    "colab": {},
    "colab_type": "code",
    "id": "q9q3UZrpNeFA"
   },
   "outputs": [],
   "source": [
    "import re\n",
    "pattern = r'[^a-zA-Z0-9#_\\s]'\n",
    "tweet = tweet.applymap(lambda x: re.sub(pattern,'',x))"
   ]
  },
  {
   "cell_type": "code",
   "execution_count": 0,
   "metadata": {
    "colab": {},
    "colab_type": "code",
    "id": "Y-xNqUv_O5JH"
   },
   "outputs": [],
   "source": [
    "tweet = tweet.applymap(lambda x: x.strip())"
   ]
  },
  {
   "cell_type": "markdown",
   "metadata": {
    "colab_type": "text",
    "id": "QlMvbtrK5sYl"
   },
   "source": [
    "print dataframe"
   ]
  },
  {
   "cell_type": "code",
   "execution_count": 32,
   "metadata": {
    "colab": {
     "base_uri": "https://localhost:8080/",
     "height": 221
    },
    "colab_type": "code",
    "id": "afocjaUn5sYm",
    "outputId": "8acf6199-6609-42ab-b1fb-6b53fcf925a0"
   },
   "outputs": [
    {
     "data": {
      "text/html": [
       "<div>\n",
       "<style scoped>\n",
       "    .dataframe tbody tr th:only-of-type {\n",
       "        vertical-align: middle;\n",
       "    }\n",
       "\n",
       "    .dataframe tbody tr th {\n",
       "        vertical-align: top;\n",
       "    }\n",
       "\n",
       "    .dataframe thead th {\n",
       "        text-align: right;\n",
       "    }\n",
       "</style>\n",
       "<table border=\"1\" class=\"dataframe\">\n",
       "  <thead>\n",
       "    <tr style=\"text-align: right;\">\n",
       "      <th></th>\n",
       "      <th>tweet_text</th>\n",
       "      <th>emotion_in_tweet_is_directed_at</th>\n",
       "      <th>is_there_an_emotion_directed_at_a_brand_or_product</th>\n",
       "    </tr>\n",
       "  </thead>\n",
       "  <tbody>\n",
       "    <tr>\n",
       "      <th>0</th>\n",
       "      <td>wesley83 i have a 3g iphone after 3 hrs tweeti...</td>\n",
       "      <td>iphone</td>\n",
       "      <td>negative emotion</td>\n",
       "    </tr>\n",
       "    <tr>\n",
       "      <th>1</th>\n",
       "      <td>jessedee know about fludapp  awesome ipadiphon...</td>\n",
       "      <td>ipad or iphone app</td>\n",
       "      <td>positive emotion</td>\n",
       "    </tr>\n",
       "    <tr>\n",
       "      <th>2</th>\n",
       "      <td>swonderlin can not wait for #ipad 2 also they ...</td>\n",
       "      <td>ipad</td>\n",
       "      <td>positive emotion</td>\n",
       "    </tr>\n",
       "    <tr>\n",
       "      <th>3</th>\n",
       "      <td>sxsw i hope this years festival isnt as crashy...</td>\n",
       "      <td>ipad or iphone app</td>\n",
       "      <td>negative emotion</td>\n",
       "    </tr>\n",
       "    <tr>\n",
       "      <th>4</th>\n",
       "      <td>sxtxstate great stuff on fri #sxsw marissa may...</td>\n",
       "      <td>google</td>\n",
       "      <td>positive emotion</td>\n",
       "    </tr>\n",
       "  </tbody>\n",
       "</table>\n",
       "</div>"
      ],
      "text/plain": [
       "                                          tweet_text  ... is_there_an_emotion_directed_at_a_brand_or_product\n",
       "0  wesley83 i have a 3g iphone after 3 hrs tweeti...  ...                                   negative emotion\n",
       "1  jessedee know about fludapp  awesome ipadiphon...  ...                                   positive emotion\n",
       "2  swonderlin can not wait for #ipad 2 also they ...  ...                                   positive emotion\n",
       "3  sxsw i hope this years festival isnt as crashy...  ...                                   negative emotion\n",
       "4  sxtxstate great stuff on fri #sxsw marissa may...  ...                                   positive emotion\n",
       "\n",
       "[5 rows x 3 columns]"
      ]
     },
     "execution_count": 32,
     "metadata": {
      "tags": []
     },
     "output_type": "execute_result"
    }
   ],
   "source": [
    "tweet.head()"
   ]
  },
  {
   "cell_type": "markdown",
   "metadata": {
    "colab_type": "text",
    "id": "bcTUnvtg5sYn"
   },
   "source": [
    "## Question 3"
   ]
  },
  {
   "cell_type": "markdown",
   "metadata": {
    "colab_type": "text",
    "id": "4gnaeSXZ5sYo"
   },
   "source": [
    "### Preprocess data\n",
    "- in column \"is_there_an_emotion_directed_at_a_brand_or_product\"\n",
    "    - select only those rows where value equal to \"positive emotion\" or \"negative emotion\"\n",
    "- find the value counts of \"positive emotion\" and \"negative emotion\""
   ]
  },
  {
   "cell_type": "code",
   "execution_count": 33,
   "metadata": {
    "colab": {
     "base_uri": "https://localhost:8080/",
     "height": 221
    },
    "colab_type": "code",
    "id": "nLewJh_35sYp",
    "outputId": "c7e46ab0-fdf4-4f31-b7d9-af1931c3ae64"
   },
   "outputs": [
    {
     "data": {
      "text/html": [
       "<div>\n",
       "<style scoped>\n",
       "    .dataframe tbody tr th:only-of-type {\n",
       "        vertical-align: middle;\n",
       "    }\n",
       "\n",
       "    .dataframe tbody tr th {\n",
       "        vertical-align: top;\n",
       "    }\n",
       "\n",
       "    .dataframe thead th {\n",
       "        text-align: right;\n",
       "    }\n",
       "</style>\n",
       "<table border=\"1\" class=\"dataframe\">\n",
       "  <thead>\n",
       "    <tr style=\"text-align: right;\">\n",
       "      <th></th>\n",
       "      <th>tweet_text</th>\n",
       "      <th>emotion_in_tweet_is_directed_at</th>\n",
       "      <th>is_there_an_emotion_directed_at_a_brand_or_product</th>\n",
       "    </tr>\n",
       "  </thead>\n",
       "  <tbody>\n",
       "    <tr>\n",
       "      <th>0</th>\n",
       "      <td>wesley83 i have a 3g iphone after 3 hrs tweeti...</td>\n",
       "      <td>iphone</td>\n",
       "      <td>negative emotion</td>\n",
       "    </tr>\n",
       "    <tr>\n",
       "      <th>1</th>\n",
       "      <td>jessedee know about fludapp  awesome ipadiphon...</td>\n",
       "      <td>ipad or iphone app</td>\n",
       "      <td>positive emotion</td>\n",
       "    </tr>\n",
       "    <tr>\n",
       "      <th>2</th>\n",
       "      <td>swonderlin can not wait for #ipad 2 also they ...</td>\n",
       "      <td>ipad</td>\n",
       "      <td>positive emotion</td>\n",
       "    </tr>\n",
       "    <tr>\n",
       "      <th>3</th>\n",
       "      <td>sxsw i hope this years festival isnt as crashy...</td>\n",
       "      <td>ipad or iphone app</td>\n",
       "      <td>negative emotion</td>\n",
       "    </tr>\n",
       "    <tr>\n",
       "      <th>4</th>\n",
       "      <td>sxtxstate great stuff on fri #sxsw marissa may...</td>\n",
       "      <td>google</td>\n",
       "      <td>positive emotion</td>\n",
       "    </tr>\n",
       "  </tbody>\n",
       "</table>\n",
       "</div>"
      ],
      "text/plain": [
       "                                          tweet_text  ... is_there_an_emotion_directed_at_a_brand_or_product\n",
       "0  wesley83 i have a 3g iphone after 3 hrs tweeti...  ...                                   negative emotion\n",
       "1  jessedee know about fludapp  awesome ipadiphon...  ...                                   positive emotion\n",
       "2  swonderlin can not wait for #ipad 2 also they ...  ...                                   positive emotion\n",
       "3  sxsw i hope this years festival isnt as crashy...  ...                                   negative emotion\n",
       "4  sxtxstate great stuff on fri #sxsw marissa may...  ...                                   positive emotion\n",
       "\n",
       "[5 rows x 3 columns]"
      ]
     },
     "execution_count": 33,
     "metadata": {
      "tags": []
     },
     "output_type": "execute_result"
    }
   ],
   "source": [
    "tweet_emotion = tweet[(tweet.is_there_an_emotion_directed_at_a_brand_or_product == 'positive emotion') | \n",
    "                     (tweet.is_there_an_emotion_directed_at_a_brand_or_product == 'negative emotion')] \n",
    "\n",
    "tweet_emotion.head()"
   ]
  },
  {
   "cell_type": "code",
   "execution_count": 34,
   "metadata": {
    "colab": {
     "base_uri": "https://localhost:8080/",
     "height": 68
    },
    "colab_type": "code",
    "id": "3VFYB4eh5sYr",
    "outputId": "fb6abf2a-2c5a-4b96-adf4-f80f91432942"
   },
   "outputs": [
    {
     "data": {
      "text/plain": [
       "positive emotion    2672\n",
       "negative emotion     519\n",
       "Name: is_there_an_emotion_directed_at_a_brand_or_product, dtype: int64"
      ]
     },
     "execution_count": 34,
     "metadata": {
      "tags": []
     },
     "output_type": "execute_result"
    }
   ],
   "source": [
    "tweet_emotion.is_there_an_emotion_directed_at_a_brand_or_product.value_counts()"
   ]
  },
  {
   "cell_type": "markdown",
   "metadata": {
    "colab_type": "text",
    "id": "6icGcVTE5sYz"
   },
   "source": [
    "## Question 4"
   ]
  },
  {
   "cell_type": "markdown",
   "metadata": {
    "colab_type": "text",
    "id": "Rg0rSepj5sYz"
   },
   "source": [
    "### Encode labels\n",
    "- in column \"is_there_an_emotion_directed_at_a_brand_or_product\"\n",
    "    - change \"positive emotion\" to 1\n",
    "    - change \"negative emotion\" to 0\n",
    "- use map function to replace values"
   ]
  },
  {
   "cell_type": "code",
   "execution_count": 35,
   "metadata": {
    "colab": {
     "base_uri": "https://localhost:8080/",
     "height": 221
    },
    "colab_type": "code",
    "id": "YftKwFv7H0N9",
    "outputId": "49386220-d406-4cda-e48d-e0b98b7e354e"
   },
   "outputs": [
    {
     "data": {
      "text/html": [
       "<div>\n",
       "<style scoped>\n",
       "    .dataframe tbody tr th:only-of-type {\n",
       "        vertical-align: middle;\n",
       "    }\n",
       "\n",
       "    .dataframe tbody tr th {\n",
       "        vertical-align: top;\n",
       "    }\n",
       "\n",
       "    .dataframe thead th {\n",
       "        text-align: right;\n",
       "    }\n",
       "</style>\n",
       "<table border=\"1\" class=\"dataframe\">\n",
       "  <thead>\n",
       "    <tr style=\"text-align: right;\">\n",
       "      <th></th>\n",
       "      <th>tweet_text</th>\n",
       "      <th>emotion_in_tweet_is_directed_at</th>\n",
       "      <th>is_there_an_emotion_directed_at_a_brand_or_product</th>\n",
       "    </tr>\n",
       "  </thead>\n",
       "  <tbody>\n",
       "    <tr>\n",
       "      <th>0</th>\n",
       "      <td>wesley83 i have a 3g iphone after 3 hrs tweeti...</td>\n",
       "      <td>iphone</td>\n",
       "      <td>0</td>\n",
       "    </tr>\n",
       "    <tr>\n",
       "      <th>1</th>\n",
       "      <td>jessedee know about fludapp  awesome ipadiphon...</td>\n",
       "      <td>ipad or iphone app</td>\n",
       "      <td>1</td>\n",
       "    </tr>\n",
       "    <tr>\n",
       "      <th>2</th>\n",
       "      <td>swonderlin can not wait for #ipad 2 also they ...</td>\n",
       "      <td>ipad</td>\n",
       "      <td>1</td>\n",
       "    </tr>\n",
       "    <tr>\n",
       "      <th>3</th>\n",
       "      <td>sxsw i hope this years festival isnt as crashy...</td>\n",
       "      <td>ipad or iphone app</td>\n",
       "      <td>0</td>\n",
       "    </tr>\n",
       "    <tr>\n",
       "      <th>4</th>\n",
       "      <td>sxtxstate great stuff on fri #sxsw marissa may...</td>\n",
       "      <td>google</td>\n",
       "      <td>1</td>\n",
       "    </tr>\n",
       "  </tbody>\n",
       "</table>\n",
       "</div>"
      ],
      "text/plain": [
       "                                          tweet_text  ... is_there_an_emotion_directed_at_a_brand_or_product\n",
       "0  wesley83 i have a 3g iphone after 3 hrs tweeti...  ...                                                  0\n",
       "1  jessedee know about fludapp  awesome ipadiphon...  ...                                                  1\n",
       "2  swonderlin can not wait for #ipad 2 also they ...  ...                                                  1\n",
       "3  sxsw i hope this years festival isnt as crashy...  ...                                                  0\n",
       "4  sxtxstate great stuff on fri #sxsw marissa may...  ...                                                  1\n",
       "\n",
       "[5 rows x 3 columns]"
      ]
     },
     "execution_count": 35,
     "metadata": {
      "tags": []
     },
     "output_type": "execute_result"
    }
   ],
   "source": [
    "tweet_emotion['is_there_an_emotion_directed_at_a_brand_or_product'] = tweet_emotion.is_there_an_emotion_directed_at_a_brand_or_product.map({'positive emotion':1, 'negative emotion':0})\n",
    "tweet_emotion.head()"
   ]
  },
  {
   "cell_type": "markdown",
   "metadata": {
    "colab_type": "text",
    "id": "sC1qSe3h5sY2"
   },
   "source": [
    "## Question 5"
   ]
  },
  {
   "cell_type": "markdown",
   "metadata": {
    "colab_type": "text",
    "id": "aWlAN_Ts5sY2"
   },
   "source": [
    "### Get feature and label\n",
    "- get column \"tweet_text\" as feature\n",
    "- get column \"is_there_an_emotion_directed_at_a_brand_or_product\" as label"
   ]
  },
  {
   "cell_type": "code",
   "execution_count": 0,
   "metadata": {
    "colab": {},
    "colab_type": "code",
    "id": "9A3sOZzR5sY4"
   },
   "outputs": [],
   "source": [
    "X = tweet_emotion['tweet_text']\n",
    "Y = tweet_emotion['is_there_an_emotion_directed_at_a_brand_or_product']"
   ]
  },
  {
   "cell_type": "markdown",
   "metadata": {
    "colab_type": "text",
    "id": "3YErwYLCH0N_"
   },
   "source": [
    "### Create train and test data\n",
    "- use train_test_split to get train and test set\n",
    "- set a random_state\n",
    "- test_size: 0.25"
   ]
  },
  {
   "cell_type": "code",
   "execution_count": 0,
   "metadata": {
    "colab": {},
    "colab_type": "code",
    "id": "lNkwrGgEH0OA"
   },
   "outputs": [],
   "source": [
    "from sklearn.model_selection import train_test_split\n",
    "x_train, x_test, y_train, y_test = train_test_split(X, Y,test_size=0.25, random_state=1)"
   ]
  },
  {
   "cell_type": "markdown",
   "metadata": {
    "colab_type": "text",
    "id": "gMok2IX35sY8"
   },
   "source": [
    "## Question 6"
   ]
  },
  {
   "cell_type": "markdown",
   "metadata": {
    "colab_type": "text",
    "id": "dSqYjPuT5sY8"
   },
   "source": [
    "### Vectorize data\n",
    "- create document-term matrix\n",
    "- use CountVectorizer()\n",
    "    - ngram_range: (1, 2)\n",
    "    - stop_words: 'english'\n",
    "    - min_df: 2   \n",
    "- do fit_transform on X_train\n",
    "- do transform on X_test"
   ]
  },
  {
   "cell_type": "code",
   "execution_count": 0,
   "metadata": {
    "colab": {},
    "colab_type": "code",
    "id": "bb9PnnqT5sY8"
   },
   "outputs": [],
   "source": [
    "from sklearn.feature_extraction.text import CountVectorizer\n",
    "cv = CountVectorizer(ngram_range=(1, 2),stop_words='english',min_df=2)"
   ]
  },
  {
   "cell_type": "code",
   "execution_count": 0,
   "metadata": {
    "colab": {},
    "colab_type": "code",
    "id": "zA29lfS1SbxZ"
   },
   "outputs": [],
   "source": [
    "x_train_dtm = cv.fit_transform(x_train)"
   ]
  },
  {
   "cell_type": "code",
   "execution_count": 0,
   "metadata": {
    "colab": {},
    "colab_type": "code",
    "id": "wWM4y_DuSbie"
   },
   "outputs": [],
   "source": [
    "x_test_dtm = cv.transform(x_test)"
   ]
  },
  {
   "cell_type": "markdown",
   "metadata": {
    "colab_type": "text",
    "id": "qanDXve15sY_"
   },
   "source": [
    "## Question 7"
   ]
  },
  {
   "cell_type": "markdown",
   "metadata": {
    "colab_type": "text",
    "id": "uMaRNFkV5sY_"
   },
   "source": [
    "### Select classifier logistic regression\n",
    "- use logistic regression for predicting sentiment of the given tweet\n",
    "- initialize classifier"
   ]
  },
  {
   "cell_type": "code",
   "execution_count": 0,
   "metadata": {
    "colab": {},
    "colab_type": "code",
    "id": "GT3dNgB55sZA"
   },
   "outputs": [],
   "source": [
    "from sklearn.linear_model import LogisticRegression\n",
    "lr = LogisticRegression()"
   ]
  },
  {
   "cell_type": "markdown",
   "metadata": {
    "colab_type": "text",
    "id": "pqQ6_HX35sZD"
   },
   "source": [
    "### Fit the classifer\n",
    "- fit logistic regression classifier"
   ]
  },
  {
   "cell_type": "code",
   "execution_count": 42,
   "metadata": {
    "colab": {
     "base_uri": "https://localhost:8080/",
     "height": 102
    },
    "colab_type": "code",
    "id": "EIzvnNkq5sZD",
    "outputId": "5a50c740-b8ae-45b2-b66f-467c6a429fe6"
   },
   "outputs": [
    {
     "data": {
      "text/plain": [
       "LogisticRegression(C=1.0, class_weight=None, dual=False, fit_intercept=True,\n",
       "                   intercept_scaling=1, l1_ratio=None, max_iter=100,\n",
       "                   multi_class='warn', n_jobs=None, penalty='l2',\n",
       "                   random_state=None, solver='warn', tol=0.0001, verbose=0,\n",
       "                   warm_start=False)"
      ]
     },
     "execution_count": 42,
     "metadata": {
      "tags": []
     },
     "output_type": "execute_result"
    }
   ],
   "source": [
    "lr.fit(x_train_dtm, y_train)"
   ]
  },
  {
   "cell_type": "markdown",
   "metadata": {
    "colab_type": "text",
    "id": "SZpMsYQF5sZF"
   },
   "source": [
    "## Question 8"
   ]
  },
  {
   "cell_type": "markdown",
   "metadata": {
    "colab_type": "text",
    "id": "KGnQnUww5sZF"
   },
   "source": [
    "### Select classifier naive bayes\n",
    "- use naive bayes for predicting sentiment of the given tweet\n",
    "- initialize classifier\n",
    "- use MultinomialNB"
   ]
  },
  {
   "cell_type": "code",
   "execution_count": 0,
   "metadata": {
    "colab": {},
    "colab_type": "code",
    "id": "2AbVYssaH0OE"
   },
   "outputs": [],
   "source": [
    "from sklearn.naive_bayes import MultinomialNB\n",
    "mnb = MultinomialNB()"
   ]
  },
  {
   "cell_type": "markdown",
   "metadata": {
    "colab_type": "text",
    "id": "QEaG942m5sZI"
   },
   "source": [
    "### Fit the classifer\n",
    "- fit naive bayes classifier"
   ]
  },
  {
   "cell_type": "code",
   "execution_count": 44,
   "metadata": {
    "colab": {
     "base_uri": "https://localhost:8080/",
     "height": 34
    },
    "colab_type": "code",
    "id": "rLwRBj1R5sZI",
    "outputId": "ba482b2c-282f-49f0-c809-bcd748699a24"
   },
   "outputs": [
    {
     "data": {
      "text/plain": [
       "MultinomialNB(alpha=1.0, class_prior=None, fit_prior=True)"
      ]
     },
     "execution_count": 44,
     "metadata": {
      "tags": []
     },
     "output_type": "execute_result"
    }
   ],
   "source": [
    "mnb.fit(x_train_dtm, y_train)"
   ]
  },
  {
   "cell_type": "markdown",
   "metadata": {
    "colab_type": "text",
    "id": "A7mgwYDJ5sZM"
   },
   "source": [
    "## Question 9"
   ]
  },
  {
   "cell_type": "markdown",
   "metadata": {
    "colab_type": "text",
    "id": "sZkA3tce5sZN"
   },
   "source": [
    "### Make predictions on logistic regression\n",
    "- use your trained logistic regression model to make predictions on X_test"
   ]
  },
  {
   "cell_type": "code",
   "execution_count": 0,
   "metadata": {
    "colab": {},
    "colab_type": "code",
    "id": "l3f0M1ch5sZO"
   },
   "outputs": [],
   "source": [
    "y_predict_lr = lr.predict(x_test_dtm)"
   ]
  },
  {
   "cell_type": "markdown",
   "metadata": {
    "colab_type": "text",
    "id": "lrIxjMUB5sZQ"
   },
   "source": [
    "### Make predictions on naive bayes\n",
    "- use your trained naive bayes model to make predictions on X_test\n",
    "- use a different variable name to store predictions so that they are kept separately"
   ]
  },
  {
   "cell_type": "code",
   "execution_count": 0,
   "metadata": {
    "colab": {},
    "colab_type": "code",
    "id": "ZSQnwyLU5sZQ"
   },
   "outputs": [],
   "source": [
    "y_predict_mnb = mnb.predict(x_test_dtm)"
   ]
  },
  {
   "cell_type": "markdown",
   "metadata": {
    "colab_type": "text",
    "id": "rwXQUE7b5sZS"
   },
   "source": [
    "## Question 10"
   ]
  },
  {
   "cell_type": "markdown",
   "metadata": {
    "colab_type": "text",
    "id": "E6SITIE75sZT"
   },
   "source": [
    "### Calculate accuracy of logistic regression\n",
    "- check accuracy of logistic regression classifer\n",
    "- use sklearn.metrics.accuracy_score"
   ]
  },
  {
   "cell_type": "code",
   "execution_count": 47,
   "metadata": {
    "colab": {
     "base_uri": "https://localhost:8080/",
     "height": 34
    },
    "colab_type": "code",
    "id": "clv2X0kKH0Ok",
    "outputId": "96dff0cc-132b-4d1f-f76f-a510b36d9a6e"
   },
   "outputs": [
    {
     "name": "stdout",
     "output_type": "stream",
     "text": [
      "0.8634085213032582\n"
     ]
    }
   ],
   "source": [
    "from sklearn import metrics\n",
    "print(metrics.accuracy_score(y_test, y_predict_lr))"
   ]
  },
  {
   "cell_type": "markdown",
   "metadata": {
    "colab_type": "text",
    "id": "1Fd_Gnd05sZV"
   },
   "source": [
    "### Calculate accuracy of naive bayes\n",
    "- check accuracy of naive bayes classifer\n",
    "- use sklearn.metrics.accuracy_score"
   ]
  },
  {
   "cell_type": "code",
   "execution_count": 48,
   "metadata": {
    "colab": {
     "base_uri": "https://localhost:8080/",
     "height": 34
    },
    "colab_type": "code",
    "id": "d32uBpHi5sZW",
    "outputId": "17a5a8b2-870d-47f2-8a68-e77e3b00ae6c"
   },
   "outputs": [
    {
     "name": "stdout",
     "output_type": "stream",
     "text": [
      "0.8571428571428571\n"
     ]
    }
   ],
   "source": [
    "print(metrics.accuracy_score(y_test, y_predict_mnb))"
   ]
  }
 ],
 "metadata": {
  "accelerator": "GPU",
  "colab": {
   "collapsed_sections": [],
   "name": "Lab_R8_Internal_FMNIST_CNN_NLP.ipynb",
   "provenance": [],
   "toc_visible": true,
   "version": "0.3.2"
  },
  "kernelspec": {
   "display_name": "Python 3",
   "language": "python",
   "name": "python3"
  },
  "language_info": {
   "codemirror_mode": {
    "name": "ipython",
    "version": 3
   },
   "file_extension": ".py",
   "mimetype": "text/x-python",
   "name": "python",
   "nbconvert_exporter": "python",
   "pygments_lexer": "ipython3",
   "version": "3.7.1"
  }
 },
 "nbformat": 4,
 "nbformat_minor": 1
}
