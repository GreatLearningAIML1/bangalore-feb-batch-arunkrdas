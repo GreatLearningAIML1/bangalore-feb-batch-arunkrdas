{
 "cells": [
  {
   "cell_type": "markdown",
   "metadata": {
    "colab_type": "text",
    "id": "QGIsF1ADyJ58"
   },
   "source": [
    "# Transfer Learning CIFAR10"
   ]
  },
  {
   "cell_type": "markdown",
   "metadata": {
    "colab_type": "text",
    "id": "E-n6tVFayGBe"
   },
   "source": [
    "* Train a simple convnet on the CIFAR dataset the first 5 output classes [0..4].\n",
    "* Freeze convolutional layers and fine-tune dense layers for the last 5 ouput classes [5..9].\n"
   ]
  },
  {
   "cell_type": "markdown",
   "metadata": {
    "colab_type": "text",
    "id": "Cq8ejXHJyGYq"
   },
   "source": [
    "### 1. Import CIFAR10 data and create 2 datasets with one dataset having classes from 0 to 4 and other having classes from 5 to 9 "
   ]
  },
  {
   "cell_type": "code",
   "execution_count": 1,
   "metadata": {
    "colab": {
     "base_uri": "https://localhost:8080/",
     "height": 34
    },
    "colab_type": "code",
    "id": "uWYbxnBayFUP",
    "outputId": "217ecf17-ebd4-4029-ef21-3ff3528b04f7"
   },
   "outputs": [
    {
     "name": "stderr",
     "output_type": "stream",
     "text": [
      "Using TensorFlow backend.\n"
     ]
    }
   ],
   "source": [
    "from keras.datasets import cifar10\n",
    "(x_train, y_train), (x_test, y_test) = cifar10.load_data()"
   ]
  },
  {
   "cell_type": "code",
   "execution_count": 3,
   "metadata": {
    "colab": {
     "base_uri": "https://localhost:8080/",
     "height": 34
    },
    "colab_type": "code",
    "id": "LaXgFFeLhsat",
    "outputId": "b656fc8b-c77e-40c0-d005-409341936524"
   },
   "outputs": [
    {
     "data": {
      "text/plain": [
       "(50000, 1)"
      ]
     },
     "execution_count": 3,
     "metadata": {
      "tags": []
     },
     "output_type": "execute_result"
    }
   ],
   "source": [
    "y_train.shape"
   ]
  },
  {
   "cell_type": "code",
   "execution_count": 0,
   "metadata": {
    "colab": {},
    "colab_type": "code",
    "id": "XXXcjfMYsVKs"
   },
   "outputs": [],
   "source": [
    "y_train = y_train.reshape(y_train.shape[0],)\n",
    "y_test = y_test.reshape(y_test.shape[0],)"
   ]
  },
  {
   "cell_type": "code",
   "execution_count": 0,
   "metadata": {
    "colab": {},
    "colab_type": "code",
    "id": "-Xf_Z2PzgkeE"
   },
   "outputs": [],
   "source": [
    "x_train_lt5 = x_train[y_train < 5]\n",
    "y_train_lt5 = y_train[y_train < 5]\n",
    "x_test_lt5 = x_test[y_test < 5]\n",
    "y_test_lt5 = y_test[y_test < 5]"
   ]
  },
  {
   "cell_type": "code",
   "execution_count": 0,
   "metadata": {
    "colab": {},
    "colab_type": "code",
    "id": "umbmIet1gkeI"
   },
   "outputs": [],
   "source": [
    "x_train_gt5 = x_train[y_train > 4]\n",
    "y_train_gt5 = y_train[y_train > 4] - 5\n",
    "x_test_gt5 = x_test[y_test > 4]\n",
    "y_test_gt5 = y_test[y_test > 4] - 5"
   ]
  },
  {
   "cell_type": "markdown",
   "metadata": {
    "colab_type": "text",
    "id": "xtCKmQh4yXhT"
   },
   "source": [
    "### 2. Use One-hot encoding to divide y_train and y_test into required no of output classes"
   ]
  },
  {
   "cell_type": "code",
   "execution_count": 0,
   "metadata": {
    "colab": {},
    "colab_type": "code",
    "id": "nYlv6OmSgkeS"
   },
   "outputs": [],
   "source": [
    "from keras.utils import to_categorical\n",
    "y_train_lt5 = to_categorical(y_train_lt5,num_classes=5)\n",
    "y_test_lt5 = to_categorical(y_test_lt5,num_classes=5)\n",
    "y_train_gt5 = to_categorical(y_train_gt5,num_classes=5)\n",
    "y_test_gt5 = to_categorical(y_test_gt5,num_classes=5)"
   ]
  },
  {
   "cell_type": "code",
   "execution_count": 0,
   "metadata": {
    "colab": {},
    "colab_type": "code",
    "id": "eeS6PDKSwxX0"
   },
   "outputs": [],
   "source": [
    "x_train_lt5 = x_train_lt5.astype('float32')\n",
    "x_test_lt5 = x_test_lt5.astype('float32')\n",
    "x_train_gt5 = x_train_gt5.astype('float32')\n",
    "x_train_gt5 = x_train_gt5.astype('float32')\n",
    "\n",
    "x_train_lt5 = x_train_lt5/255\n",
    "x_test_lt5 = x_test_lt5/255\n",
    "x_train_gt5 = x_train_gt5/255\n",
    "x_test_gt5 = x_test_gt5/255"
   ]
  },
  {
   "cell_type": "markdown",
   "metadata": {
    "colab_type": "text",
    "id": "cuOiKWfeybAl"
   },
   "source": [
    "### 3. Build a sequential neural network model which can classify the classes 0 to 4 of CIFAR10 dataset with at least 80% accuracy on test data"
   ]
  },
  {
   "cell_type": "code",
   "execution_count": 54,
   "metadata": {
    "colab": {
     "base_uri": "https://localhost:8080/",
     "height": 1000
    },
    "colab_type": "code",
    "id": "5HzxNbiiyoBD",
    "outputId": "70e9bfdb-01e6-4d01-b33d-979b79ba5494"
   },
   "outputs": [
    {
     "name": "stdout",
     "output_type": "stream",
     "text": [
      "Train on 25000 samples, validate on 5000 samples\n",
      "Epoch 1/30\n",
      "25000/25000 [==============================] - 10s 400us/step - loss: 1.1428 - acc: 0.5590 - val_loss: 0.8252 - val_acc: 0.6764\n",
      "Epoch 2/30\n",
      "25000/25000 [==============================] - 5s 198us/step - loss: 0.8133 - acc: 0.6807 - val_loss: 0.8048 - val_acc: 0.6932\n",
      "Epoch 3/30\n",
      "25000/25000 [==============================] - 5s 200us/step - loss: 0.7010 - acc: 0.7316 - val_loss: 0.8413 - val_acc: 0.6758\n",
      "Epoch 4/30\n",
      "25000/25000 [==============================] - 5s 200us/step - loss: 0.6302 - acc: 0.7632 - val_loss: 0.6127 - val_acc: 0.7652\n",
      "Epoch 5/30\n",
      "25000/25000 [==============================] - 5s 198us/step - loss: 0.5749 - acc: 0.7862 - val_loss: 0.8155 - val_acc: 0.7036\n",
      "Epoch 6/30\n",
      "25000/25000 [==============================] - 5s 200us/step - loss: 0.5334 - acc: 0.7985 - val_loss: 0.5520 - val_acc: 0.7944\n",
      "Epoch 7/30\n",
      "25000/25000 [==============================] - 5s 196us/step - loss: 0.4969 - acc: 0.8164 - val_loss: 0.8171 - val_acc: 0.7040\n",
      "Epoch 8/30\n",
      "25000/25000 [==============================] - 5s 200us/step - loss: 0.4699 - acc: 0.8262 - val_loss: 0.5092 - val_acc: 0.8092\n",
      "Epoch 9/30\n",
      "25000/25000 [==============================] - 5s 197us/step - loss: 0.4510 - acc: 0.8328 - val_loss: 0.4871 - val_acc: 0.8218\n",
      "Epoch 10/30\n",
      "25000/25000 [==============================] - 5s 202us/step - loss: 0.4203 - acc: 0.8452 - val_loss: 0.4692 - val_acc: 0.8298\n",
      "Epoch 11/30\n",
      "25000/25000 [==============================] - 5s 201us/step - loss: 0.4030 - acc: 0.8508 - val_loss: 0.6588 - val_acc: 0.7604\n",
      "Epoch 12/30\n",
      "25000/25000 [==============================] - 5s 197us/step - loss: 0.3820 - acc: 0.8604 - val_loss: 0.4779 - val_acc: 0.8296\n",
      "Epoch 13/30\n",
      "25000/25000 [==============================] - 5s 196us/step - loss: 0.3615 - acc: 0.8674 - val_loss: 0.4290 - val_acc: 0.8450\n",
      "Epoch 14/30\n",
      "25000/25000 [==============================] - 5s 199us/step - loss: 0.3544 - acc: 0.8712 - val_loss: 0.4513 - val_acc: 0.8362\n",
      "Epoch 15/30\n",
      "25000/25000 [==============================] - 5s 197us/step - loss: 0.3339 - acc: 0.8792 - val_loss: 0.5564 - val_acc: 0.7996\n",
      "Epoch 16/30\n",
      "25000/25000 [==============================] - 5s 200us/step - loss: 0.3223 - acc: 0.8834 - val_loss: 0.5908 - val_acc: 0.7964\n",
      "Epoch 17/30\n",
      "25000/25000 [==============================] - 5s 201us/step - loss: 0.3114 - acc: 0.8848 - val_loss: 0.5175 - val_acc: 0.8154\n",
      "Epoch 18/30\n",
      "25000/25000 [==============================] - 5s 198us/step - loss: 0.3008 - acc: 0.8910 - val_loss: 0.4590 - val_acc: 0.8408\n",
      "Epoch 19/30\n",
      "25000/25000 [==============================] - 5s 198us/step - loss: 0.2823 - acc: 0.8978 - val_loss: 0.4492 - val_acc: 0.8450\n",
      "Epoch 20/30\n",
      "25000/25000 [==============================] - 5s 198us/step - loss: 0.2789 - acc: 0.8989 - val_loss: 0.5478 - val_acc: 0.8136\n",
      "Epoch 21/30\n",
      "25000/25000 [==============================] - 5s 197us/step - loss: 0.2714 - acc: 0.9003 - val_loss: 0.6566 - val_acc: 0.7860\n",
      "Epoch 22/30\n",
      "25000/25000 [==============================] - 5s 195us/step - loss: 0.2583 - acc: 0.9039 - val_loss: 0.5274 - val_acc: 0.8140\n",
      "Epoch 23/30\n",
      "25000/25000 [==============================] - 5s 197us/step - loss: 0.2469 - acc: 0.9100 - val_loss: 0.4260 - val_acc: 0.8556\n",
      "Epoch 24/30\n",
      "25000/25000 [==============================] - 5s 197us/step - loss: 0.2453 - acc: 0.9108 - val_loss: 0.4568 - val_acc: 0.8488\n",
      "Epoch 25/30\n",
      "25000/25000 [==============================] - 5s 198us/step - loss: 0.2387 - acc: 0.9134 - val_loss: 0.4261 - val_acc: 0.8540\n",
      "Epoch 26/30\n",
      "25000/25000 [==============================] - 5s 199us/step - loss: 0.2306 - acc: 0.9150 - val_loss: 0.4019 - val_acc: 0.8612\n",
      "Epoch 27/30\n",
      "25000/25000 [==============================] - 5s 201us/step - loss: 0.2254 - acc: 0.9170 - val_loss: 0.4257 - val_acc: 0.8566\n",
      "Epoch 28/30\n",
      "25000/25000 [==============================] - 5s 201us/step - loss: 0.2265 - acc: 0.9178 - val_loss: 0.4228 - val_acc: 0.8584\n",
      "Epoch 29/30\n",
      "25000/25000 [==============================] - 5s 199us/step - loss: 0.2198 - acc: 0.9189 - val_loss: 0.4287 - val_acc: 0.8568\n",
      "Epoch 30/30\n",
      "25000/25000 [==============================] - 5s 197us/step - loss: 0.2084 - acc: 0.9225 - val_loss: 0.4336 - val_acc: 0.8562\n"
     ]
    },
    {
     "data": {
      "text/plain": [
       "<keras.callbacks.History at 0x7f63facd5ba8>"
      ]
     },
     "execution_count": 54,
     "metadata": {
      "tags": []
     },
     "output_type": "execute_result"
    }
   ],
   "source": [
    "from keras.models import Sequential\n",
    "from keras.layers import Conv2D, Flatten, Dense, Dropout, MaxPool2D, BatchNormalization\n",
    "\n",
    "model = Sequential()\n",
    "model.add(Conv2D(32, kernel_size=(3,3), activation='relu'))\n",
    "model.add(BatchNormalization())\n",
    "model.add(Conv2D(32, kernel_size=(3,3), activation='relu'))\n",
    "model.add(BatchNormalization())\n",
    "model.add(MaxPool2D((2,2)))\n",
    "model.add(Dropout(0.2))\n",
    "model.add(Conv2D(64, kernel_size=(3,3), activation='relu'))\n",
    "model.add(BatchNormalization())\n",
    "model.add(Conv2D(64, kernel_size=(3,3), activation='relu'))\n",
    "model.add(BatchNormalization())\n",
    "model.add(MaxPool2D((2, 2)))\n",
    "model.add(Dropout(0.3))\n",
    "\t\n",
    "model.add(Flatten())\n",
    "model.add(Dense(64, activation='relu'))\n",
    "model.add(BatchNormalization())\n",
    "model.add(Dropout(0.4))\n",
    "model.add(Dense(5, activation='softmax'))  # as we have splitted data into 2, so we have only 5 target classes i.e. 0 to 4\n",
    "\n",
    "model.compile(optimizer='adam', loss='categorical_crossentropy', metrics=['accuracy'])\n",
    "model.fit(x_train_lt5, y_train_lt5, validation_data=(x_test_lt5, y_test_lt5), epochs=30, batch_size=64)"
   ]
  },
  {
   "cell_type": "code",
   "execution_count": 55,
   "metadata": {
    "colab": {
     "base_uri": "https://localhost:8080/",
     "height": 51
    },
    "colab_type": "code",
    "id": "rRFemMrWFrmf",
    "outputId": "22865f0d-7ad6-4be0-f8ac-294989ba72ea"
   },
   "outputs": [
    {
     "name": "stdout",
     "output_type": "stream",
     "text": [
      "25000/25000 [==============================] - 3s 129us/step\n"
     ]
    },
    {
     "data": {
      "text/plain": [
       "[0.09880135832309724, 0.9684]"
      ]
     },
     "execution_count": 55,
     "metadata": {
      "tags": []
     },
     "output_type": "execute_result"
    }
   ],
   "source": [
    "model.evaluate(x_train_lt5, y_train_lt5)"
   ]
  },
  {
   "cell_type": "code",
   "execution_count": 56,
   "metadata": {
    "colab": {
     "base_uri": "https://localhost:8080/",
     "height": 51
    },
    "colab_type": "code",
    "id": "hHvT4aFQF4S2",
    "outputId": "e008618b-048a-4f2b-8d48-00890b5a034f"
   },
   "outputs": [
    {
     "name": "stdout",
     "output_type": "stream",
     "text": [
      "5000/5000 [==============================] - 1s 130us/step\n"
     ]
    },
    {
     "data": {
      "text/plain": [
       "[0.43363800501823424, 0.8562]"
      ]
     },
     "execution_count": 56,
     "metadata": {
      "tags": []
     },
     "output_type": "execute_result"
    }
   ],
   "source": [
    "model.evaluate(x_test_lt5, y_test_lt5)"
   ]
  },
  {
   "cell_type": "markdown",
   "metadata": {
    "colab_type": "text",
    "id": "woTfNst_ynRG"
   },
   "source": [
    "### 4. In the model which was built above (for classification of classes 0-4 in CIFAR10), make only the dense layers to be trainable and conv layers to be non-trainable"
   ]
  },
  {
   "cell_type": "code",
   "execution_count": 59,
   "metadata": {
    "colab": {
     "base_uri": "https://localhost:8080/",
     "height": 374
    },
    "colab_type": "code",
    "id": "o_VCDB3Byb1a",
    "outputId": "873877c1-848a-4569-ccaa-c84d49f7b511"
   },
   "outputs": [
    {
     "name": "stdout",
     "output_type": "stream",
     "text": [
      "conv2d_93\n",
      "do conv layer non trainable\n",
      "batch_normalization_117\n",
      "conv2d_94\n",
      "do conv layer non trainable\n",
      "batch_normalization_118\n",
      "max_pooling2d_46\n",
      "dropout_70\n",
      "conv2d_95\n",
      "do conv layer non trainable\n",
      "batch_normalization_119\n",
      "conv2d_96\n",
      "do conv layer non trainable\n",
      "batch_normalization_120\n",
      "max_pooling2d_47\n",
      "dropout_71\n",
      "flatten_25\n",
      "dense_49\n",
      "batch_normalization_121\n",
      "dropout_72\n",
      "dense_50\n"
     ]
    }
   ],
   "source": [
    "for layer in model.layers:\n",
    "  print(layer.name)\n",
    "  if 'conv2d' in layer.name:\n",
    "    layer.trainable = False"
   ]
  },
  {
   "cell_type": "markdown",
   "metadata": {
    "colab_type": "text",
    "id": "1-uUPqWpyeyX"
   },
   "source": [
    "### 5. Utilize the the model trained on CIFAR 10 (classes 0 to 4) to classify the classes 5 to 9 of CIFAR 10  (Use Transfer Learning) <br>\n",
    "Achieve an accuracy of more than 85% on test data"
   ]
  },
  {
   "cell_type": "code",
   "execution_count": 60,
   "metadata": {
    "colab": {
     "base_uri": "https://localhost:8080/",
     "height": 1000
    },
    "colab_type": "code",
    "id": "szHjJgDvyfCt",
    "outputId": "3d71ce87-240b-42b1-9680-d5d29f37f740"
   },
   "outputs": [
    {
     "name": "stdout",
     "output_type": "stream",
     "text": [
      "Train on 25000 samples, validate on 5000 samples\n",
      "Epoch 1/30\n",
      "25000/25000 [==============================] - 10s 392us/step - loss: 1.9635 - acc: 0.5422 - val_loss: 0.5840 - val_acc: 0.7882\n",
      "Epoch 2/30\n",
      "25000/25000 [==============================] - 5s 182us/step - loss: 0.6437 - acc: 0.7714 - val_loss: 0.4653 - val_acc: 0.8336\n",
      "Epoch 3/30\n",
      "25000/25000 [==============================] - 5s 182us/step - loss: 0.5473 - acc: 0.8022 - val_loss: 0.4127 - val_acc: 0.8522\n",
      "Epoch 4/30\n",
      "25000/25000 [==============================] - 4s 180us/step - loss: 0.4955 - acc: 0.8203 - val_loss: 0.3909 - val_acc: 0.8584\n",
      "Epoch 5/30\n",
      "25000/25000 [==============================] - 5s 182us/step - loss: 0.4667 - acc: 0.8304 - val_loss: 0.3667 - val_acc: 0.8682\n",
      "Epoch 6/30\n",
      "25000/25000 [==============================] - 5s 181us/step - loss: 0.4368 - acc: 0.8440 - val_loss: 0.3579 - val_acc: 0.8692\n",
      "Epoch 7/30\n",
      "25000/25000 [==============================] - 5s 184us/step - loss: 0.4196 - acc: 0.8500 - val_loss: 0.3433 - val_acc: 0.8752\n",
      "Epoch 8/30\n",
      "25000/25000 [==============================] - 4s 179us/step - loss: 0.4016 - acc: 0.8542 - val_loss: 0.3361 - val_acc: 0.8782\n",
      "Epoch 9/30\n",
      "25000/25000 [==============================] - 4s 179us/step - loss: 0.3902 - acc: 0.8583 - val_loss: 0.3312 - val_acc: 0.8802\n",
      "Epoch 10/30\n",
      "25000/25000 [==============================] - 5s 183us/step - loss: 0.3806 - acc: 0.8644 - val_loss: 0.3307 - val_acc: 0.8782\n",
      "Epoch 11/30\n",
      "25000/25000 [==============================] - 5s 181us/step - loss: 0.3697 - acc: 0.8683 - val_loss: 0.3256 - val_acc: 0.8802\n",
      "Epoch 12/30\n",
      "25000/25000 [==============================] - 4s 177us/step - loss: 0.3610 - acc: 0.8696 - val_loss: 0.3182 - val_acc: 0.8870\n",
      "Epoch 13/30\n",
      "25000/25000 [==============================] - 4s 180us/step - loss: 0.3524 - acc: 0.8689 - val_loss: 0.3165 - val_acc: 0.8842\n",
      "Epoch 14/30\n",
      "25000/25000 [==============================] - 4s 179us/step - loss: 0.3459 - acc: 0.8736 - val_loss: 0.3147 - val_acc: 0.8826\n",
      "Epoch 15/30\n",
      "25000/25000 [==============================] - 4s 179us/step - loss: 0.3346 - acc: 0.8774 - val_loss: 0.3151 - val_acc: 0.8864\n",
      "Epoch 16/30\n",
      "25000/25000 [==============================] - 5s 180us/step - loss: 0.3349 - acc: 0.8769 - val_loss: 0.3033 - val_acc: 0.8894\n",
      "Epoch 17/30\n",
      "25000/25000 [==============================] - 4s 179us/step - loss: 0.3268 - acc: 0.8802 - val_loss: 0.3084 - val_acc: 0.8834\n",
      "Epoch 18/30\n",
      "25000/25000 [==============================] - 4s 179us/step - loss: 0.3220 - acc: 0.8822 - val_loss: 0.3009 - val_acc: 0.8898\n",
      "Epoch 19/30\n",
      "25000/25000 [==============================] - 4s 179us/step - loss: 0.3181 - acc: 0.8824 - val_loss: 0.3003 - val_acc: 0.8910\n",
      "Epoch 20/30\n",
      "25000/25000 [==============================] - 4s 179us/step - loss: 0.3111 - acc: 0.8861 - val_loss: 0.2981 - val_acc: 0.8912\n",
      "Epoch 21/30\n",
      "25000/25000 [==============================] - 4s 178us/step - loss: 0.3100 - acc: 0.8880 - val_loss: 0.3075 - val_acc: 0.8902\n",
      "Epoch 22/30\n",
      "25000/25000 [==============================] - 4s 179us/step - loss: 0.3027 - acc: 0.8884 - val_loss: 0.3064 - val_acc: 0.8890\n",
      "Epoch 23/30\n",
      "25000/25000 [==============================] - 4s 177us/step - loss: 0.3085 - acc: 0.8890 - val_loss: 0.2970 - val_acc: 0.8922\n",
      "Epoch 24/30\n",
      "25000/25000 [==============================] - 4s 179us/step - loss: 0.3015 - acc: 0.8885 - val_loss: 0.3044 - val_acc: 0.8900\n",
      "Epoch 25/30\n",
      "25000/25000 [==============================] - 5s 181us/step - loss: 0.2927 - acc: 0.8927 - val_loss: 0.3057 - val_acc: 0.8898\n",
      "Epoch 26/30\n",
      "25000/25000 [==============================] - 5s 184us/step - loss: 0.2921 - acc: 0.8916 - val_loss: 0.3125 - val_acc: 0.8876\n",
      "Epoch 27/30\n",
      "25000/25000 [==============================] - 5s 184us/step - loss: 0.2902 - acc: 0.8913 - val_loss: 0.2975 - val_acc: 0.8936\n",
      "Epoch 28/30\n",
      "25000/25000 [==============================] - 5s 185us/step - loss: 0.2871 - acc: 0.8946 - val_loss: 0.2944 - val_acc: 0.8942\n",
      "Epoch 29/30\n",
      "25000/25000 [==============================] - 5s 181us/step - loss: 0.2803 - acc: 0.8979 - val_loss: 0.2963 - val_acc: 0.8936\n",
      "Epoch 30/30\n",
      "25000/25000 [==============================] - 4s 178us/step - loss: 0.2816 - acc: 0.8987 - val_loss: 0.2931 - val_acc: 0.8956\n"
     ]
    },
    {
     "data": {
      "text/plain": [
       "<keras.callbacks.History at 0x7f6402dec6a0>"
      ]
     },
     "execution_count": 60,
     "metadata": {
      "tags": []
     },
     "output_type": "execute_result"
    }
   ],
   "source": [
    "model.compile(optimizer='adam', loss='categorical_crossentropy', metrics=['accuracy'])\n",
    "model.fit(x_train_gt5, y_train_gt5, validation_data=(x_test_gt5, y_test_gt5), epochs=30, batch_size=64)"
   ]
  },
  {
   "cell_type": "code",
   "execution_count": 61,
   "metadata": {
    "colab": {
     "base_uri": "https://localhost:8080/",
     "height": 51
    },
    "colab_type": "code",
    "id": "MLTvTcwYJZsH",
    "outputId": "d68a657a-c47a-49a6-a810-a8e76cc3232c"
   },
   "outputs": [
    {
     "name": "stdout",
     "output_type": "stream",
     "text": [
      "25000/25000 [==============================] - 3s 131us/step\n"
     ]
    },
    {
     "data": {
      "text/plain": [
       "[0.12200682881116867, 0.96396]"
      ]
     },
     "execution_count": 61,
     "metadata": {
      "tags": []
     },
     "output_type": "execute_result"
    }
   ],
   "source": [
    "model.evaluate(x_train_gt5, y_train_gt5)"
   ]
  },
  {
   "cell_type": "code",
   "execution_count": 62,
   "metadata": {
    "colab": {
     "base_uri": "https://localhost:8080/",
     "height": 51
    },
    "colab_type": "code",
    "id": "ERk3sJ72JbUO",
    "outputId": "98d5c8fe-1908-4b86-8ffa-ba1202832c70"
   },
   "outputs": [
    {
     "name": "stdout",
     "output_type": "stream",
     "text": [
      "5000/5000 [==============================] - 1s 145us/step\n"
     ]
    },
    {
     "data": {
      "text/plain": [
       "[0.2930971926212311, 0.8956]"
      ]
     },
     "execution_count": 62,
     "metadata": {
      "tags": []
     },
     "output_type": "execute_result"
    }
   ],
   "source": [
    "model.evaluate(x_test_gt5, y_test_gt5)"
   ]
  },
  {
   "cell_type": "markdown",
   "metadata": {
    "colab_type": "text",
    "id": "0zDuRecXzEtr"
   },
   "source": [
    "# Text classification using TF-IDF"
   ]
  },
  {
   "cell_type": "markdown",
   "metadata": {
    "colab_type": "text",
    "id": "xMPlEJhHzb6P"
   },
   "source": [
    "### 6. Load the dataset from sklearn.datasets"
   ]
  },
  {
   "cell_type": "code",
   "execution_count": 1,
   "metadata": {
    "colab": {},
    "colab_type": "code",
    "id": "Fe-B59u3zHNb"
   },
   "outputs": [],
   "source": [
    "from sklearn.datasets import fetch_20newsgroups"
   ]
  },
  {
   "cell_type": "code",
   "execution_count": 2,
   "metadata": {
    "colab": {},
    "colab_type": "code",
    "id": "PRrMemVQzbHU"
   },
   "outputs": [],
   "source": [
    "categories = ['alt.atheism', 'soc.religion.christian', 'comp.graphics', 'sci.med']"
   ]
  },
  {
   "cell_type": "markdown",
   "metadata": {
    "colab_type": "text",
    "id": "-sZX0UbJzmg5"
   },
   "source": [
    "### 7. Training data"
   ]
  },
  {
   "cell_type": "code",
   "execution_count": 3,
   "metadata": {
    "colab": {},
    "colab_type": "code",
    "id": "CITr_5aXziJ2"
   },
   "outputs": [
    {
     "name": "stderr",
     "output_type": "stream",
     "text": [
      "Downloading 20news dataset. This may take a few minutes.\n",
      "Downloading dataset from https://ndownloader.figshare.com/files/5975967 (14 MB)\n"
     ]
    }
   ],
   "source": [
    "twenty_train = fetch_20newsgroups(subset='train', categories=categories, shuffle=True, random_state=42)"
   ]
  },
  {
   "cell_type": "markdown",
   "metadata": {
    "colab_type": "text",
    "id": "xcESc5QXzr6p"
   },
   "source": [
    "### 8. Test data"
   ]
  },
  {
   "cell_type": "code",
   "execution_count": 4,
   "metadata": {
    "colab": {},
    "colab_type": "code",
    "id": "ysInblUMzpvl"
   },
   "outputs": [],
   "source": [
    "twenty_test = fetch_20newsgroups(subset='test', categories=categories, shuffle=True, random_state=42)"
   ]
  },
  {
   "cell_type": "markdown",
   "metadata": {
    "colab_type": "text",
    "id": "DriL2yZ50DQq"
   },
   "source": [
    "###  a.  You can access the values for the target variable using .target attribute \n",
    "###  b. You can access the name of the class in the target variable with .target_names\n"
   ]
  },
  {
   "cell_type": "code",
   "execution_count": 5,
   "metadata": {
    "colab": {
     "base_uri": "https://localhost:8080/",
     "height": 34
    },
    "colab_type": "code",
    "id": "vlUuai99z1hX",
    "outputId": "50adf793-455a-44e3-fd9b-3e485a31bc23"
   },
   "outputs": [
    {
     "data": {
      "text/plain": [
       "array([1, 1, 3, ..., 2, 2, 2], dtype=int64)"
      ]
     },
     "execution_count": 5,
     "metadata": {},
     "output_type": "execute_result"
    }
   ],
   "source": [
    "twenty_train.target"
   ]
  },
  {
   "cell_type": "code",
   "execution_count": 6,
   "metadata": {
    "colab": {
     "base_uri": "https://localhost:8080/",
     "height": 34
    },
    "colab_type": "code",
    "id": "VEKzaDfSz5E-",
    "outputId": "5ea19506-188e-4035-de4b-71fe5807476e"
   },
   "outputs": [
    {
     "data": {
      "text/plain": [
       "['alt.atheism', 'comp.graphics', 'sci.med', 'soc.religion.christian']"
      ]
     },
     "execution_count": 6,
     "metadata": {},
     "output_type": "execute_result"
    }
   ],
   "source": [
    "twenty_train.target_names"
   ]
  },
  {
   "cell_type": "code",
   "execution_count": 7,
   "metadata": {
    "colab": {
     "base_uri": "https://localhost:8080/",
     "height": 122
    },
    "colab_type": "code",
    "id": "clBMKHzC0_N1",
    "outputId": "fd22556e-f4ae-4e05-d042-965091eb8704"
   },
   "outputs": [
    {
     "data": {
      "text/plain": [
       "['From: sd345@city.ac.uk (Michael Collier)\\nSubject: Converting images to HP LaserJet III?\\nNntp-Posting-Host: hampton\\nOrganization: The City University\\nLines: 14\\n\\nDoes anyone know of a good way (standard PC application/PD utility) to\\nconvert tif/img/tga files into LaserJet III format.  We would also like to\\ndo the same, converting to HPGL (HP plotter) files.\\n\\nPlease email any response.\\n\\nIs this the correct group?\\n\\nThanks in advance.  Michael.\\n-- \\nMichael Collier (Programmer)                 The Computer Unit,\\nEmail: M.P.Collier@uk.ac.city                The City University,\\nTel: 071 477-8000 x3769                      London,\\nFax: 071 477-8565                            EC1V 0HB.\\n',\n",
       " \"From: ani@ms.uky.edu (Aniruddha B. Deglurkar)\\nSubject: help: Splitting a trimming region along a mesh \\nOrganization: University Of Kentucky, Dept. of Math Sciences\\nLines: 28\\n\\n\\n\\n\\tHi,\\n\\n\\tI have a problem, I hope some of the 'gurus' can help me solve.\\n\\n\\tBackground of the problem:\\n\\tI have a rectangular mesh in the uv domain, i.e  the mesh is a \\n\\tmapping of a 3d Bezier patch into 2d. The area in this domain\\n\\twhich is inside a trimming loop had to be rendered. The trimming\\n\\tloop is a set of 2d Bezier curve segments.\\n\\tFor the sake of notation: the mesh is made up of cells.\\n\\n\\tMy problem is this :\\n\\tThe trimming area has to be split up into individual smaller\\n\\tcells bounded by the trimming curve segments. If a cell\\n\\tis wholly inside the area...then it is output as a whole ,\\n\\telse it is trivially rejected. \\n\\n\\tDoes any body know how thiss can be done, or is there any algo. \\n\\tsomewhere for doing this.\\n\\n\\tAny help would be appreciated.\\n\\n\\tThanks, \\n\\tAni.\\n-- \\nTo get irritated is human, to stay cool, divine.\\n\",\n",
       " \"From: djohnson@cs.ucsd.edu (Darin Johnson)\\nSubject: Re: harrassed at work, could use some prayers\\nOrganization: =CSE Dept., U.C. San Diego\\nLines: 63\\n\\n(Well, I'll email also, but this may apply to other people, so\\nI'll post also.)\\n\\n>I've been working at this company for eight years in various\\n>engineering jobs.  I'm female.  Yesterday I counted and realized that\\n>on seven different occasions I've been sexually harrassed at this\\n>company.\\n\\n>I dreaded coming back to work today.  What if my boss comes in to ask\\n>me some kind of question...\\n\\nYour boss should be the person bring these problems to.  If he/she\\ndoes not seem to take any action, keep going up higher and higher.\\nSexual harrassment does not need to be tolerated, and it can be an\\nenormous emotional support to discuss this with someone and know that\\nthey are trying to do something about it.  If you feel you can not\\ndiscuss this with your boss, perhaps your company has a personnel\\ndepartment that can work for you while preserving your privacy.  Most\\ncompanies will want to deal with this problem because constant anxiety\\ndoes seriously affect how effectively employees do their jobs.\\n\\nIt is unclear from your letter if you have done this or not.  It is\\nnot inconceivable that management remains ignorant of employee\\nproblems/strife even after eight years (it's a miracle if they do\\nnotice).  Perhaps your manager did not bring to the attention of\\nhigher ups?  If the company indeed does seem to want to ignore the\\nentire problem, there may be a state agency willing to fight with\\nyou.  (check with a lawyer, a women's resource center, etc to find out)\\n\\nYou may also want to discuss this with your paster, priest, husband,\\netc.  That is, someone you know will not be judgemental and that is\\nsupportive, comforting, etc.  This will bring a lot of healing.\\n\\n>So I returned at 11:25, only to find that ever single\\n>person had already left for lunch.  They left at 11:15 or so.  No one\\n>could be bothered to call me at the other building, even though my\\n>number was posted.\\n\\nThis happens to a lot of people.  Honest.  I believe it may seem\\nto be due to gross insensitivity because of the feelings you are\\ngoing through.  People in offices tend to be more insensitive while\\nworking than they normally are (maybe it's the hustle or stress or...)\\nI've had this happen to me a lot, often because they didn't realize\\nmy car was broken, etc.  Then they will come back and wonder why I\\ndidn't want to go (this would tend to make me stop being angry at\\nbeing ignored and make me laugh).  Once, we went off without our\\nboss, who was paying for the lunch :-)\\n\\n>For this\\n>reason I hope good Mr. Moderator allows me this latest indulgence.\\n\\nWell, if you can't turn to the computer for support, what would\\nwe do?  (signs of the computer age :-)\\n\\nIn closing, please don't let the hateful actions of a single person\\nharm you.  They are doing it because they are still the playground\\nbully and enjoy seeing the hurt they cause.  And you should not\\naccept the opinions of an imbecile that you are worthless - much\\nwiser people hold you in great esteem.\\n-- \\nDarin Johnson\\ndjohnson@ucsd.edu\\n  - Luxury!  In MY day, we had to make do with 5 bytes of swap...\\n\",\n",
       " 'From: s0612596@let.rug.nl (M.M. Zwart)\\nSubject: catholic church poland\\nOrganization: Faculteit der Letteren, Rijksuniversiteit Groningen, NL\\nLines: 10\\n\\nHello,\\n\\nI\\'m writing a paper on the role of the catholic church in Poland after 1989. \\nCan anyone tell me more about this, or fill me in on recent books/articles(\\nin english, german or french). Most important for me is the role of the \\nchurch concerning the abortion-law, religious education at schools,\\nbirth-control and the relation church-state(government). Thanx,\\n\\n                                                 Masja,\\n\"M.M.Zwart\"<s0612596@let.rug.nl>\\n',\n",
       " 'From: stanly@grok11.columbiasc.ncr.com (stanly)\\nSubject: Re: Elder Brother\\nOrganization: NCR Corp., Columbia SC\\nLines: 15\\n\\nIn article <Apr.8.00.57.41.1993.28246@athos.rutgers.edu> REXLEX@fnal.gov writes:\\n>In article <Apr.7.01.56.56.1993.22824@athos.rutgers.edu> shrum@hpfcso.fc.hp.com\\n>Matt. 22:9-14 \\'Go therefore to the main highways, and as many as you find\\n>there, invite to the wedding feast.\\'...\\n\\n>hmmmmmm.  Sounds like your theology and Christ\\'s are at odds. Which one am I \\n>to believe?\\n\\nIn this parable, Jesus tells the parable of the wedding feast. \"The kingdom\\nof heaven is like unto a certain king which made a marriage for his son\".\\nSo the wedding clothes were customary,  and \"given\" to those who \"chose\" to\\nattend.  This man \"refused\" to wear the clothes.  The wedding clothes are\\nequalivant to the \"clothes of righteousness\".  When Jesus died for our sins,\\nthose \"clothes\" were then provided.  Like that man, it is our decision to\\nput the clothes on.\\n']"
      ]
     },
     "execution_count": 7,
     "metadata": {},
     "output_type": "execute_result"
    }
   ],
   "source": [
    "twenty_train.data[0:5]"
   ]
  },
  {
   "cell_type": "markdown",
   "metadata": {
    "colab_type": "text",
    "id": "hTz4EaN_1WGc"
   },
   "source": [
    "### 9.  Now with dependent and independent data available for both train and test datasets, using TfidfVectorizer fit and transform the training data and test data and get the tfidf features for both"
   ]
  },
  {
   "cell_type": "code",
   "execution_count": 8,
   "metadata": {
    "colab": {
     "base_uri": "https://localhost:8080/",
     "height": 204
    },
    "colab_type": "code",
    "id": "H5G477f81C0Z",
    "outputId": "6d05e98b-4aa6-44d9-db57-b8a01558b62c"
   },
   "outputs": [],
   "source": [
    "import pandas as pd\n",
    "from sklearn.feature_extraction.text import TfidfVectorizer\n",
    "\n",
    "vect = TfidfVectorizer()\n",
    "train_dtm = vect.fit_transform(twenty_train.data)\n",
    "test_dtm = vect.transform(twenty_test.data)"
   ]
  },
  {
   "cell_type": "markdown",
   "metadata": {
    "colab_type": "text",
    "id": "tp_fDINJ1t4L"
   },
   "source": [
    "### 10. Use logisticRegression with tfidf features as input and targets as output and train the model and report the train and test accuracy score"
   ]
  },
  {
   "cell_type": "code",
   "execution_count": 12,
   "metadata": {
    "colab": {
     "base_uri": "https://localhost:8080/",
     "height": 394
    },
    "colab_type": "code",
    "id": "THlN2b5d1yQp",
    "outputId": "95e9c4fc-142d-41f2-b378-991d3a904bf3"
   },
   "outputs": [
    {
     "name": "stderr",
     "output_type": "stream",
     "text": [
      "D:\\Softwares\\anaconda3\\lib\\site-packages\\sklearn\\linear_model\\logistic.py:460: FutureWarning: Default multi_class will be changed to 'auto' in 0.22. Specify the multi_class option to silence this warning.\n",
      "  \"this warning.\", FutureWarning)\n"
     ]
    },
    {
     "data": {
      "text/plain": [
       "LogisticRegression(C=1.0, class_weight=None, dual=False, fit_intercept=True,\n",
       "          intercept_scaling=1, max_iter=100, multi_class='warn',\n",
       "          n_jobs=None, penalty='l2', random_state=None, solver='warn',\n",
       "          tol=0.0001, verbose=0, warm_start=False)"
      ]
     },
     "execution_count": 12,
     "metadata": {},
     "output_type": "execute_result"
    }
   ],
   "source": [
    "from sklearn.linear_model import LogisticRegression\n",
    "\n",
    "lr = LogisticRegression()\n",
    "lr.fit(train_dtm, twenty_train.target)"
   ]
  },
  {
   "cell_type": "code",
   "execution_count": 18,
   "metadata": {},
   "outputs": [],
   "source": [
    "predicted = lr.predict(test_dtm)"
   ]
  },
  {
   "cell_type": "code",
   "execution_count": 20,
   "metadata": {},
   "outputs": [
    {
     "data": {
      "text/plain": [
       "0.8868175765645806"
      ]
     },
     "execution_count": 20,
     "metadata": {},
     "output_type": "execute_result"
    }
   ],
   "source": [
    "from sklearn import metrics\n",
    "\n",
    "metrics.accuracy_score(twenty_test.target, predicted)"
   ]
  },
  {
   "cell_type": "code",
   "execution_count": null,
   "metadata": {},
   "outputs": [],
   "source": []
  }
 ],
 "metadata": {
  "accelerator": "GPU",
  "colab": {
   "collapsed_sections": [],
   "name": "Lab_R8_External_CIFAR10_Transfer_Learning_TFIDF.ipynb",
   "provenance": []
  },
  "kernelspec": {
   "display_name": "Python 3",
   "language": "python",
   "name": "python3"
  },
  "language_info": {
   "codemirror_mode": {
    "name": "ipython",
    "version": 3
   },
   "file_extension": ".py",
   "mimetype": "text/x-python",
   "name": "python",
   "nbconvert_exporter": "python",
   "pygments_lexer": "ipython3",
   "version": "3.7.1"
  }
 },
 "nbformat": 4,
 "nbformat_minor": 1
}
