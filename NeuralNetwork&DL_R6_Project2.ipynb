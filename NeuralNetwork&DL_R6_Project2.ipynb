{
 "cells": [
  {
   "cell_type": "markdown",
   "metadata": {
    "colab_type": "text",
    "id": "HogSEbNu3Oej"
   },
   "source": [
    "The goal of this project is to take an image from the SVHN dataset and determine what that digit is. This is a multi-class classification problem with 10 classes, one for each digit 0-9. Digit '1' has label 1, '9' has label 9 and '0' has label 10.\n",
    "\n",
    "Although, there are close to 6,00,000 images in this dataset, we have extracted 60,000 images (42000 training and 18000 test images) to do this project. The data comes in a MNIST-like format of 32-by-32 RGB images centred around a single digit (many of the images do contain some distractors at the sides).\n",
    "\n",
    "The objective of the project is to learn how to implement a simple image classification pipeline based on the k-Nearest Neighbour and a deep neural network.\n",
    "\n",
    "* The name of the dataset is SVHN_single_grey1.h5\n",
    "* The data is a subset of the original dataset. Use this subset only for the project."
   ]
  },
  {
   "cell_type": "markdown",
   "metadata": {
    "colab_type": "text",
    "id": "dUHBt8gl3Oem"
   },
   "source": [
    "#### 1.Understand the basic Image Classification pipeline and the data-driven approach (train/predict stages) (2.5 points)"
   ]
  },
  {
   "cell_type": "code",
   "execution_count": 1,
   "metadata": {
    "colab": {
     "base_uri": "https://localhost:8080/",
     "height": 54
    },
    "colab_type": "code",
    "id": "CXGupD2jFd4v",
    "outputId": "004d3f53-c3b1-4a65-909b-f074f2b3ec4d"
   },
   "outputs": [
    {
     "name": "stdout",
     "output_type": "stream",
     "text": [
      "Drive already mounted at /content/drive; to attempt to forcibly remount, call drive.mount(\"/content/drive\", force_remount=True).\n"
     ]
    }
   ],
   "source": [
    "from google.colab import drive\n",
    "drive.mount('/content/drive')"
   ]
  },
  {
   "cell_type": "code",
   "execution_count": 2,
   "metadata": {
    "colab": {
     "base_uri": "https://localhost:8080/",
     "height": 119
    },
    "colab_type": "code",
    "id": "njRkkyop3Oeo",
    "outputId": "c5977fc7-f5ef-463d-fa3e-8e89f26135be"
   },
   "outputs": [
    {
     "name": "stdout",
     "output_type": "stream",
     "text": [
      "X_test\n",
      "X_train\n",
      "X_val\n",
      "y_test\n",
      "y_train\n",
      "y_val\n"
     ]
    }
   ],
   "source": [
    "import h5py\n",
    "\n",
    "h5f = h5py.File('/content/drive/My Drive/Colab Notebooks/GreatLearning/SVHN_single_grey1.h5', 'r')\n",
    "for key in h5f.keys():\n",
    "    print(key)"
   ]
  },
  {
   "cell_type": "code",
   "execution_count": 0,
   "metadata": {
    "colab": {},
    "colab_type": "code",
    "id": "_f9CNBQr4Lp8"
   },
   "outputs": [],
   "source": [
    "x_train = h5f['X_train'][:]\n",
    "y_train = h5f['y_train'][:]\n",
    "x_test = h5f['X_test'][:]\n",
    "y_test = h5f['y_test'][:]\n",
    "x_val = h5f['X_val'][:]\n",
    "y_val = h5f['y_val'][:]\n",
    "\n",
    "h5f.close()"
   ]
  },
  {
   "cell_type": "code",
   "execution_count": 4,
   "metadata": {
    "colab": {
     "base_uri": "https://localhost:8080/",
     "height": 68
    },
    "colab_type": "code",
    "id": "3bH2f9JQI8M4",
    "outputId": "49454c30-a179-48be-de51-43771fccd579"
   },
   "outputs": [
    {
     "name": "stdout",
     "output_type": "stream",
     "text": [
      "Training set (42000, 32, 32) (42000,)\n",
      "Validation set (60000, 32, 32) (60000,)\n",
      "Test set (18000, 32, 32) (18000,)\n"
     ]
    }
   ],
   "source": [
    "print('Training set', x_train.shape, y_train.shape)\n",
    "print('Validation set', x_val.shape, y_val.shape)\n",
    "print('Test set', x_test.shape, y_test.shape)"
   ]
  },
  {
   "cell_type": "code",
   "execution_count": 5,
   "metadata": {
    "colab": {
     "base_uri": "https://localhost:8080/",
     "height": 303
    },
    "colab_type": "code",
    "id": "3Zi9AkmNLGLh",
    "outputId": "2871fe36-eba7-49a9-b479-3c659d0688f3"
   },
   "outputs": [
    {
     "name": "stdout",
     "output_type": "stream",
     "text": [
      "Label: 6\n"
     ]
    },
    {
     "data": {
      "text/plain": [
       "<matplotlib.image.AxesImage at 0x7fc2b17302b0>"
      ]
     },
     "execution_count": 5,
     "metadata": {
      "tags": []
     },
     "output_type": "execute_result"
    },
    {
     "data": {
      "image/png": "[encoded data removed]",
      "text/plain": [
       "<Figure size 432x288 with 1 Axes>"
      ]
     },
     "metadata": {
      "tags": []
     },
     "output_type": "display_data"
    }
   ],
   "source": [
    "import matplotlib.pyplot as plt\n",
    "%matplotlib inline\n",
    "print(\"Label: {}\".format(y_train[1000]))\n",
    "plt.imshow(x_train[1000], cmap='gray')"
   ]
  },
  {
   "cell_type": "markdown",
   "metadata": {
    "colab_type": "text",
    "id": "nwqTrvhd3Oet"
   },
   "source": [
    "#### 2.Data fetching and understand the train/val/test splits (2.5 points)"
   ]
  },
  {
   "cell_type": "code",
   "execution_count": 0,
   "metadata": {
    "colab": {},
    "colab_type": "code",
    "id": "T_mLMMDi3Oew"
   },
   "outputs": [],
   "source": [
    "x_train = x_train.astype('float32')\n",
    "x_test = x_test.astype('float32')\n",
    "\n",
    "x_train = x_train.reshape(x_train.shape[0], 32, 32, 1)\n",
    "x_test = x_test.reshape(x_test.shape[0], 32, 32, 1)\n",
    "\n",
    "x_train = x_train/255\n",
    "x_test = x_test/255"
   ]
  },
  {
   "cell_type": "code",
   "execution_count": 9,
   "metadata": {
    "colab": {
     "base_uri": "https://localhost:8080/",
     "height": 34
    },
    "colab_type": "code",
    "id": "eK1OVTvqMrbx",
    "outputId": "0d2c248c-f2b6-49cc-a045-e5cf156420f5"
   },
   "outputs": [
    {
     "name": "stderr",
     "output_type": "stream",
     "text": [
      "Using TensorFlow backend.\n"
     ]
    }
   ],
   "source": [
    "from keras.utils import np_utils\n",
    "\n",
    "y_train = np_utils.to_categorical(y_train, 10)\n",
    "y_test = np_utils.to_categorical(y_test, 10)"
   ]
  },
  {
   "cell_type": "markdown",
   "metadata": {
    "colab_type": "text",
    "id": "m0wtfO8s3Oe1"
   },
   "source": [
    "#### 3.Implement and apply an optimal k-Nearest Neighbor (kNN) classifier (7.5 points)"
   ]
  },
  {
   "cell_type": "code",
   "execution_count": 11,
   "metadata": {
    "colab": {
     "base_uri": "https://localhost:8080/",
     "height": 51
    },
    "colab_type": "code",
    "id": "NaUzPpU43Oe1",
    "outputId": "41b09927-fc7d-4328-922e-276fdbe39b54"
   },
   "outputs": [
    {
     "name": "stdout",
     "output_type": "stream",
     "text": [
      "42000\n"
     ]
    },
    {
     "data": {
      "text/plain": [
       "42000"
      ]
     },
     "execution_count": 11,
     "metadata": {
      "tags": []
     },
     "output_type": "execute_result"
    }
   ],
   "source": [
    "x_train_knn=[]\n",
    "for i in range(x_train.shape[0]):\n",
    "  x_train_knn.append(np.array(x_train[i]).flatten())"
   ]
  },
  {
   "cell_type": "code",
   "execution_count": 12,
   "metadata": {
    "colab": {
     "base_uri": "https://localhost:8080/",
     "height": 34
    },
    "colab_type": "code",
    "id": "b6gE2IK5aKNj",
    "outputId": "4cc92066-d97b-4b03-d92e-eb90de3e435b"
   },
   "outputs": [
    {
     "data": {
      "text/plain": [
       "18000"
      ]
     },
     "execution_count": 12,
     "metadata": {
      "tags": []
     },
     "output_type": "execute_result"
    }
   ],
   "source": [
    "x_test_knn=[]\n",
    "for i in range(x_test.shape[0]):\n",
    "  x_test_knn.append(np.array(x_test[i]).flatten())"
   ]
  },
  {
   "cell_type": "code",
   "execution_count": 13,
   "metadata": {
    "colab": {
     "base_uri": "https://localhost:8080/",
     "height": 68
    },
    "colab_type": "code",
    "id": "bgfI6jYEiIb7",
    "outputId": "dcc5153e-be13-4670-fd2e-814e1ce387ef"
   },
   "outputs": [
    {
     "data": {
      "text/plain": [
       "KNeighborsClassifier(algorithm='auto', leaf_size=30, metric='minkowski',\n",
       "                     metric_params=None, n_jobs=None, n_neighbors=1, p=2,\n",
       "                     weights='distance')"
      ]
     },
     "execution_count": 13,
     "metadata": {
      "tags": []
     },
     "output_type": "execute_result"
    }
   ],
   "source": [
    "from sklearn.neighbors import KNeighborsClassifier\n",
    "\n",
    "knn = KNeighborsClassifier(n_neighbors= 1, weights = 'distance')\n",
    "knn.fit(x_train_knn, y_train)"
   ]
  },
  {
   "cell_type": "code",
   "execution_count": 0,
   "metadata": {
    "colab": {},
    "colab_type": "code",
    "id": "I9NjkVqF8g9b"
   },
   "outputs": [],
   "source": [
    "y_predict = knn.predict(x_test_knn)"
   ]
  },
  {
   "cell_type": "code",
   "execution_count": 16,
   "metadata": {
    "colab": {
     "base_uri": "https://localhost:8080/",
     "height": 34
    },
    "colab_type": "code",
    "id": "viEFIStl9cVA",
    "outputId": "edfed377-bfbe-45e1-8efd-acb466d2bc0e"
   },
   "outputs": [
    {
     "data": {
      "text/plain": [
       "1.0"
      ]
     },
     "execution_count": 16,
     "metadata": {
      "tags": []
     },
     "output_type": "execute_result"
    }
   ],
   "source": [
    "knn.score(x_train_knn, y_train)"
   ]
  },
  {
   "cell_type": "code",
   "execution_count": 0,
   "metadata": {
    "colab": {},
    "colab_type": "code",
    "id": "4kB1Sltk9grB"
   },
   "outputs": [],
   "source": [
    "knn.score(x_test_knn, y_test)"
   ]
  },
  {
   "cell_type": "markdown",
   "metadata": {
    "colab_type": "text",
    "id": "JB8To0mb3Oe6"
   },
   "source": [
    "#### 4.Print the classification metric report (2.5 points)"
   ]
  },
  {
   "cell_type": "code",
   "execution_count": 0,
   "metadata": {
    "colab": {},
    "colab_type": "code",
    "id": "aJkBpu0U3Oe8"
   },
   "outputs": [],
   "source": [
    "from sklearn import metrics\n",
    "\n",
    "metrics.classification_report(y_test, y_predict)"
   ]
  },
  {
   "cell_type": "markdown",
   "metadata": {
    "colab_type": "text",
    "id": "RfKH6Iay3OfB"
   },
   "source": [
    "#### 5.Implement and apply a deep neural network classifier including (feedforward neural network, RELU activations) (5 points)"
   ]
  },
  {
   "cell_type": "code",
   "execution_count": 0,
   "metadata": {
    "colab": {},
    "colab_type": "code",
    "id": "DH1eXLzgAxrm"
   },
   "outputs": [],
   "source": [
    "from keras.callbacks import EarlyStopping\n",
    "es = EarlyStopping(monitor='val_acc', patience=3, verbose=1, mode='auto')"
   ]
  },
  {
   "cell_type": "code",
   "execution_count": 15,
   "metadata": {
    "colab": {
     "base_uri": "https://localhost:8080/",
     "height": 71
    },
    "colab_type": "code",
    "id": "m6r0f79S3OfB",
    "outputId": "85700b08-aa12-4646-d314-0161e14a42ca"
   },
   "outputs": [
    {
     "name": "stdout",
     "output_type": "stream",
     "text": [
      "WARNING:tensorflow:From /usr/local/lib/python3.6/dist-packages/keras/backend/tensorflow_backend.py:66: The name tf.get_default_graph is deprecated. Please use tf.compat.v1.get_default_graph instead.\n",
      "\n"
     ]
    }
   ],
   "source": [
    "from keras.models import Sequential\n",
    "from keras.layers import Conv2D, Flatten, Dense, Dropout, MaxPool2D\n",
    "\n",
    "dnn = Sequential()\n",
    "dnn.add(Conv2D(32, kernel_size=(3,3), activation='relu'))\n",
    "dnn.add(Conv2D(32, kernel_size=(3,3), activation='relu'))\n",
    "dnn.add(Dropout(0.25))\n",
    "dnn.add(MaxPool2D(pool_size=(2,2)))\n",
    "\n",
    "dnn.add(Flatten())\n",
    "dnn.add(Dense(128, activation='relu'))\n",
    "dnn.add(Dropout(0.5))\n",
    "dnn.add(Dense(10, activation='softmax'))"
   ]
  },
  {
   "cell_type": "markdown",
   "metadata": {
    "colab_type": "text",
    "id": "25Rfwd-T3OfG"
   },
   "source": [
    "#### 6.Understand and be able to implement (vectorized) backpropagation (cost stochastic gradient descent, cross entropy loss, cost functions) (2.5 points)"
   ]
  },
  {
   "cell_type": "code",
   "execution_count": 16,
   "metadata": {
    "colab": {
     "base_uri": "https://localhost:8080/",
     "height": 751
    },
    "colab_type": "code",
    "id": "6KAK7cCx3OfJ",
    "outputId": "e2594775-f61f-4f43-b852-2c9a1fbf35e1"
   },
   "outputs": [
    {
     "name": "stdout",
     "output_type": "stream",
     "text": [
      "WARNING:tensorflow:From /usr/local/lib/python3.6/dist-packages/keras/optimizers.py:793: The name tf.train.Optimizer is deprecated. Please use tf.compat.v1.train.Optimizer instead.\n",
      "\n",
      "WARNING:tensorflow:From /usr/local/lib/python3.6/dist-packages/keras/backend/tensorflow_backend.py:541: The name tf.placeholder is deprecated. Please use tf.compat.v1.placeholder instead.\n",
      "\n",
      "WARNING:tensorflow:From /usr/local/lib/python3.6/dist-packages/keras/backend/tensorflow_backend.py:4432: The name tf.random_uniform is deprecated. Please use tf.random.uniform instead.\n",
      "\n",
      "WARNING:tensorflow:From /usr/local/lib/python3.6/dist-packages/keras/backend/tensorflow_backend.py:148: The name tf.placeholder_with_default is deprecated. Please use tf.compat.v1.placeholder_with_default instead.\n",
      "\n",
      "WARNING:tensorflow:From /usr/local/lib/python3.6/dist-packages/keras/backend/tensorflow_backend.py:3733: calling dropout (from tensorflow.python.ops.nn_ops) with keep_prob is deprecated and will be removed in a future version.\n",
      "Instructions for updating:\n",
      "Please use `rate` instead of `keep_prob`. Rate should be set to `rate = 1 - keep_prob`.\n",
      "WARNING:tensorflow:From /usr/local/lib/python3.6/dist-packages/keras/backend/tensorflow_backend.py:4267: The name tf.nn.max_pool is deprecated. Please use tf.nn.max_pool2d instead.\n",
      "\n",
      "WARNING:tensorflow:From /usr/local/lib/python3.6/dist-packages/keras/backend/tensorflow_backend.py:3576: The name tf.log is deprecated. Please use tf.math.log instead.\n",
      "\n",
      "WARNING:tensorflow:From /usr/local/lib/python3.6/dist-packages/tensorflow/python/ops/math_grad.py:1250: add_dispatch_support.<locals>.wrapper (from tensorflow.python.ops.array_ops) is deprecated and will be removed in a future version.\n",
      "Instructions for updating:\n",
      "Use tf.where in 2.0, which has the same broadcast rule as np.where\n"
     ]
    },
    {
     "name": "stderr",
     "output_type": "stream",
     "text": [
      "/usr/local/lib/python3.6/dist-packages/ipykernel_launcher.py:2: UserWarning: The `nb_epoch` argument in `fit` has been renamed `epochs`.\n",
      "  \n"
     ]
    },
    {
     "name": "stdout",
     "output_type": "stream",
     "text": [
      "Train on 42000 samples, validate on 18000 samples\n",
      "Epoch 1/10\n",
      "42000/42000 [==============================] - 10s 230us/step - loss: 2.2950 - acc: 0.1325 - val_loss: 2.2736 - val_acc: 0.2276\n",
      "Epoch 2/10\n",
      "42000/42000 [==============================] - 7s 165us/step - loss: 2.0430 - acc: 0.2874 - val_loss: 1.7057 - val_acc: 0.5178\n",
      "Epoch 3/10\n",
      "42000/42000 [==============================] - 7s 162us/step - loss: 1.6040 - acc: 0.4637 - val_loss: 1.3465 - val_acc: 0.6374\n",
      "Epoch 4/10\n",
      "42000/42000 [==============================] - 7s 163us/step - loss: 1.3709 - acc: 0.5527 - val_loss: 1.1423 - val_acc: 0.7002\n",
      "Epoch 5/10\n",
      "42000/42000 [==============================] - 7s 163us/step - loss: 1.1995 - acc: 0.6183 - val_loss: 0.9842 - val_acc: 0.7435\n",
      "Epoch 6/10\n",
      "42000/42000 [==============================] - 7s 161us/step - loss: 1.0790 - acc: 0.6604 - val_loss: 0.9008 - val_acc: 0.7594\n",
      "Epoch 7/10\n",
      "42000/42000 [==============================] - 7s 160us/step - loss: 0.9730 - acc: 0.6989 - val_loss: 0.7921 - val_acc: 0.7954\n",
      "Epoch 8/10\n",
      "42000/42000 [==============================] - 7s 161us/step - loss: 0.8679 - acc: 0.7318 - val_loss: 0.7201 - val_acc: 0.8201\n",
      "Epoch 9/10\n",
      "42000/42000 [==============================] - 7s 162us/step - loss: 0.7768 - acc: 0.7615 - val_loss: 0.6426 - val_acc: 0.8369\n",
      "Epoch 10/10\n",
      "42000/42000 [==============================] - 7s 162us/step - loss: 0.7100 - acc: 0.7835 - val_loss: 0.5879 - val_acc: 0.8501\n"
     ]
    },
    {
     "data": {
      "text/plain": [
       "<keras.callbacks.History at 0x7fc271480be0>"
      ]
     },
     "execution_count": 16,
     "metadata": {
      "tags": []
     },
     "output_type": "execute_result"
    }
   ],
   "source": [
    "dnn.compile(loss='categorical_crossentropy', optimizer='sgd', metrics=['accuracy'])\n",
    "dnn.fit(x_train, y_train, batch_size=30, nb_epoch=10, validation_data=(x_test, y_test), callbacks=[es])"
   ]
  },
  {
   "cell_type": "code",
   "execution_count": 17,
   "metadata": {
    "colab": {
     "base_uri": "https://localhost:8080/",
     "height": 51
    },
    "colab_type": "code",
    "id": "DJ5PmxhWJQQx",
    "outputId": "b6a596c6-2ea6-4e57-ce48-cbb9beedebd4"
   },
   "outputs": [
    {
     "name": "stdout",
     "output_type": "stream",
     "text": [
      "18000/18000 [==============================] - 1s 59us/step\n"
     ]
    },
    {
     "data": {
      "text/plain": [
       "[0.5878874742719862, 0.8500555555555556]"
      ]
     },
     "execution_count": 17,
     "metadata": {
      "tags": []
     },
     "output_type": "execute_result"
    }
   ],
   "source": [
    "dnn.evaluate(x_test, y_test)"
   ]
  },
  {
   "cell_type": "markdown",
   "metadata": {
    "colab_type": "text",
    "id": "fnS9lQUR3OfO"
   },
   "source": [
    "#### 7.Implement batch normalization for training the neural network (2.5 points)"
   ]
  },
  {
   "cell_type": "code",
   "execution_count": 0,
   "metadata": {
    "colab": {},
    "colab_type": "code",
    "id": "GxCpN2oU3OfO"
   },
   "outputs": [],
   "source": [
    "from keras.layers import BatchNormalization\n",
    "\n",
    "dnn = Sequential()\n",
    "dnn.add(Conv2D(32, kernel_size=(3,3), activation='relu'))\n",
    "dnn.add(BatchNormalization())\n",
    "dnn.add(Conv2D(32, kernel_size=(3,3), activation='relu'))\n",
    "dnn.add(BatchNormalization())\n",
    "dnn.add(Dropout(0.25))\n",
    "dnn.add(MaxPool2D(pool_size=(2,2)))\n",
    "\n",
    "dnn.add(Flatten())\n",
    "dnn.add(Dense(128, activation='relu'))\n",
    "dnn.add(BatchNormalization())\n",
    "dnn.add(Dropout(0.5))\n",
    "dnn.add(Dense(10, activation='softmax'))"
   ]
  },
  {
   "cell_type": "code",
   "execution_count": 20,
   "metadata": {
    "colab": {
     "base_uri": "https://localhost:8080/",
     "height": 445
    },
    "colab_type": "code",
    "id": "9U56ULuIIB31",
    "outputId": "0afeaaaf-a849-4cca-8223-f17ec2802a5d"
   },
   "outputs": [
    {
     "name": "stderr",
     "output_type": "stream",
     "text": [
      "/usr/local/lib/python3.6/dist-packages/ipykernel_launcher.py:2: UserWarning: The `nb_epoch` argument in `fit` has been renamed `epochs`.\n",
      "  \n"
     ]
    },
    {
     "name": "stdout",
     "output_type": "stream",
     "text": [
      "Train on 42000 samples, validate on 18000 samples\n",
      "Epoch 1/10\n",
      "42000/42000 [==============================] - 11s 253us/step - loss: 0.5895 - acc: 0.8166 - val_loss: 0.5986 - val_acc: 0.8581\n",
      "Epoch 2/10\n",
      "42000/42000 [==============================] - 10s 234us/step - loss: 0.4697 - acc: 0.8510 - val_loss: 0.5216 - val_acc: 0.8707\n",
      "Epoch 3/10\n",
      "42000/42000 [==============================] - 10s 237us/step - loss: 0.3984 - acc: 0.8754 - val_loss: 0.4405 - val_acc: 0.8864\n",
      "Epoch 4/10\n",
      "42000/42000 [==============================] - 10s 236us/step - loss: 0.3640 - acc: 0.8872 - val_loss: 0.3694 - val_acc: 0.8906\n",
      "Epoch 5/10\n",
      "42000/42000 [==============================] - 10s 241us/step - loss: 0.3471 - acc: 0.8912 - val_loss: 2.9846 - val_acc: 0.6294\n",
      "Epoch 6/10\n",
      "42000/42000 [==============================] - 10s 238us/step - loss: 0.3344 - acc: 0.8949 - val_loss: 0.6165 - val_acc: 0.8701\n",
      "Epoch 7/10\n",
      "42000/42000 [==============================] - 10s 234us/step - loss: 0.3327 - acc: 0.8964 - val_loss: 0.3495 - val_acc: 0.8980\n",
      "Epoch 8/10\n",
      "42000/42000 [==============================] - 10s 235us/step - loss: 0.3250 - acc: 0.8993 - val_loss: 0.3674 - val_acc: 0.8961\n",
      "Epoch 9/10\n",
      "42000/42000 [==============================] - 10s 237us/step - loss: 0.3155 - acc: 0.9020 - val_loss: 0.3818 - val_acc: 0.8894\n",
      "Epoch 10/10\n",
      "42000/42000 [==============================] - 10s 237us/step - loss: 0.3093 - acc: 0.9045 - val_loss: 0.3678 - val_acc: 0.8990\n"
     ]
    },
    {
     "data": {
      "text/plain": [
       "<keras.callbacks.History at 0x7fc261d020f0>"
      ]
     },
     "execution_count": 20,
     "metadata": {
      "tags": []
     },
     "output_type": "execute_result"
    }
   ],
   "source": [
    "dnn.compile(loss='categorical_crossentropy', optimizer='sgd', metrics=['accuracy'])\n",
    "dnn.fit(x_train, y_train, batch_size=30, nb_epoch=10, validation_data=(x_test, y_test), callbacks=[es])"
   ]
  },
  {
   "cell_type": "code",
   "execution_count": 21,
   "metadata": {
    "colab": {
     "base_uri": "https://localhost:8080/",
     "height": 51
    },
    "colab_type": "code",
    "id": "5sO2YQczJEE1",
    "outputId": "0bcc707c-fd18-4d07-8c17-61677e9d4b07"
   },
   "outputs": [
    {
     "name": "stdout",
     "output_type": "stream",
     "text": [
      "18000/18000 [==============================] - 1s 70us/step\n"
     ]
    },
    {
     "data": {
      "text/plain": [
       "[0.36781128578715855, 0.899]"
      ]
     },
     "execution_count": 21,
     "metadata": {
      "tags": []
     },
     "output_type": "execute_result"
    }
   ],
   "source": [
    "dnn.evaluate(x_test, y_test)"
   ]
  },
  {
   "cell_type": "markdown",
   "metadata": {
    "colab_type": "text",
    "id": "7HUIzZ5A3OfT"
   },
   "source": [
    "#### 8.Understand the differences and trade-offs between traditional and NN classifiers with the help of classification metrics (5 points)"
   ]
  },
  {
   "cell_type": "code",
   "execution_count": 0,
   "metadata": {
    "colab": {},
    "colab_type": "code",
    "id": "7KeqboEa3OfV"
   },
   "outputs": [],
   "source": [
    "The CNN acurracy is high compared to KNN. CNN extracts features through convolution layer whereas KNN processes \n",
    "the one dimensional pixel array data. Time and memory required to run KNN is too expensive compared to CNN. "
   ]
  }
 ],
 "metadata": {
  "accelerator": "GPU",
  "colab": {
   "collapsed_sections": [],
   "name": "NeuralNetwork&DL_R6_Project2.ipynb",
   "provenance": [],
   "toc_visible": true
  },
  "kernelspec": {
   "display_name": "Python 3",
   "language": "python",
   "name": "python3"
  },
  "language_info": {
   "codemirror_mode": {
    "name": "ipython",
    "version": 3
   },
   "file_extension": ".py",
   "mimetype": "text/x-python",
   "name": "python",
   "nbconvert_exporter": "python",
   "pygments_lexer": "ipython3",
   "version": "3.7.1"
  }
 },
 "nbformat": 4,
 "nbformat_minor": 1
}
