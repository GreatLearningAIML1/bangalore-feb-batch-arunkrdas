{
 "cells": [
  {
   "cell_type": "markdown",
   "metadata": {
    "colab_type": "text",
    "id": "YYk8NG3yOIT9"
   },
   "source": [
    "### A MNIST-like fashion product database\n",
    "\n",
    "In this, we classify the images into respective classes given in the dataset. We use a Neural Net and a Deep Neural Net in Keras to solve this and check the accuracy scores."
   ]
  },
  {
   "cell_type": "markdown",
   "metadata": {
    "colab_type": "text",
    "id": "tFO6PuxzOIT_",
    "slideshow": {
     "slide_type": "slide"
    }
   },
   "source": [
    "### Load tensorflow"
   ]
  },
  {
   "cell_type": "code",
   "execution_count": 1,
   "metadata": {
    "colab": {},
    "colab_type": "code",
    "id": "efNjNImfOIUC"
   },
   "outputs": [],
   "source": [
    "import tensorflow as tf\n",
    "tf.set_random_seed(42)"
   ]
  },
  {
   "cell_type": "code",
   "execution_count": 2,
   "metadata": {
    "colab": {},
    "colab_type": "code",
    "id": "l9C4aAIGOIUH",
    "outputId": "5ef9aff6-a7bd-4b26-cba6-8750955f6ca3"
   },
   "outputs": [
    {
     "data": {
      "text/plain": [
       "'1.13.1'"
      ]
     },
     "execution_count": 2,
     "metadata": {},
     "output_type": "execute_result"
    }
   ],
   "source": [
    "tf.__version__"
   ]
  },
  {
   "cell_type": "markdown",
   "metadata": {
    "colab_type": "text",
    "id": "HcoZBStrOIUQ",
    "slideshow": {
     "slide_type": "slide"
    }
   },
   "source": [
    "### Collect Data"
   ]
  },
  {
   "cell_type": "code",
   "execution_count": 3,
   "metadata": {
    "colab": {},
    "colab_type": "code",
    "id": "XA1WsFSeOIUS"
   },
   "outputs": [
    {
     "name": "stderr",
     "output_type": "stream",
     "text": [
      "Using TensorFlow backend.\n"
     ]
    }
   ],
   "source": [
    "import keras as keras"
   ]
  },
  {
   "cell_type": "code",
   "execution_count": 4,
   "metadata": {
    "colab": {},
    "colab_type": "code",
    "id": "qnbx7TyQOIUY"
   },
   "outputs": [],
   "source": [
    "(xtrain, ytrain), (xtest, ytest) = keras.datasets.fashion_mnist.load_data()"
   ]
  },
  {
   "cell_type": "code",
   "execution_count": 5,
   "metadata": {
    "colab": {},
    "colab_type": "code",
    "id": "UbiHj5YPOIUc",
    "outputId": "87e1b9cd-07f0-45cb-e706-0d51ad742d72",
    "slideshow": {
     "slide_type": "fragment"
    }
   },
   "outputs": [
    {
     "name": "stdout",
     "output_type": "stream",
     "text": [
      "xtrain shape: (60000, 28, 28) ytrain shape: (60000,)\n"
     ]
    }
   ],
   "source": [
    "print(\"xtrain shape:\", xtrain.shape, \"ytrain shape:\", ytrain.shape)"
   ]
  },
  {
   "cell_type": "code",
   "execution_count": 6,
   "metadata": {},
   "outputs": [
    {
     "name": "stdout",
     "output_type": "stream",
     "text": [
      "xtest shape: (10000, 28, 28) ytest shape: (10000,)\n"
     ]
    }
   ],
   "source": [
    "print(\"xtest shape:\", xtest.shape, \"ytest shape:\", ytest.shape)"
   ]
  },
  {
   "cell_type": "code",
   "execution_count": 7,
   "metadata": {},
   "outputs": [
    {
     "name": "stdout",
     "output_type": "stream",
     "text": [
      "[9 0 0 ... 3 0 5]\n"
     ]
    }
   ],
   "source": [
    "print(ytrain)"
   ]
  },
  {
   "cell_type": "markdown",
   "metadata": {
    "colab_type": "text",
    "id": "lDAYzkwyOIUj",
    "slideshow": {
     "slide_type": "slide"
    }
   },
   "source": [
    "### Convert both training and testing labels into one-hot vectors.\n",
    "\n",
    "**Hint:** check **tf.keras.utils.to_categorical()**"
   ]
  },
  {
   "cell_type": "code",
   "execution_count": 8,
   "metadata": {
    "colab": {},
    "colab_type": "code",
    "id": "vBlfYlANOIUk"
   },
   "outputs": [],
   "source": [
    "from keras.utils import normalize, to_categorical\n",
    "\n",
    "trainY = keras.utils.to_categorical(ytrain)\n",
    "testY = keras.utils.to_categorical(ytest)\n",
    "\n",
    "trainX = normalize(xtrain, axis=1)\n",
    "testX = normalize(xtest, axis=1)"
   ]
  },
  {
   "cell_type": "code",
   "execution_count": 9,
   "metadata": {
    "colab": {},
    "colab_type": "code",
    "id": "RHV3b9mzOIUq",
    "outputId": "27bdfe58-91ee-4677-fe49-e742ad306c70",
    "scrolled": true,
    "slideshow": {
     "slide_type": "fragment"
    }
   },
   "outputs": [
    {
     "name": "stdout",
     "output_type": "stream",
     "text": [
      "(60000, 10)\n",
      "test data after encoded: [[0. 0. 0. ... 0. 0. 1.]\n",
      " [1. 0. 0. ... 0. 0. 0.]\n",
      " [1. 0. 0. ... 0. 0. 0.]\n",
      " ...\n",
      " [0. 0. 0. ... 0. 0. 0.]\n",
      " [1. 0. 0. ... 0. 0. 0.]\n",
      " [0. 0. 0. ... 0. 0. 0.]]\n"
     ]
    }
   ],
   "source": [
    "print(trainY.shape)\n",
    "print('test data after encoded:', trainY)"
   ]
  },
  {
   "cell_type": "markdown",
   "metadata": {
    "colab_type": "text",
    "id": "FwhQ8e7VOIUw"
   },
   "source": [
    "### Visualize the data\n",
    "\n",
    "Plot first 10 images in the triaining set and their labels."
   ]
  },
  {
   "cell_type": "code",
   "execution_count": 10,
   "metadata": {
    "colab": {},
    "colab_type": "code",
    "id": "AvDML2OoOIUx",
    "outputId": "9dafc94e-61a8-4089-be03-d143163d68aa"
   },
   "outputs": [
    {
     "data": {
      "image/png": "[encoded data removed]",
      "text/plain": [
       "<Figure size 720x720 with 10 Axes>"
      ]
     },
     "metadata": {},
     "output_type": "display_data"
    }
   ],
   "source": [
    "import matplotlib.pyplot as plt\n",
    "%matplotlib inline\n",
    "\n",
    "labels = ['T-shirt/top', 'Trouser', 'Pullover', 'Dress', 'Coat',\n",
    "               'Sandal', 'Shirt', 'Sneaker', 'Bag', 'Ankle boot']\n",
    "\n",
    "plt.figure(figsize=(10,10))\n",
    "for i in range(10):\n",
    "    plt.subplot(5,5,i+1)\n",
    "    plt.xticks([])\n",
    "    plt.yticks([])\n",
    "    plt.grid(False)\n",
    "    plt.imshow(trainX[i])\n",
    "    plt.xlabel(labels[ytrain[i]])\n",
    "plt.show()"
   ]
  },
  {
   "cell_type": "markdown",
   "metadata": {
    "colab_type": "text",
    "id": "l4TbJGeSOIU4",
    "slideshow": {
     "slide_type": "slide"
    }
   },
   "source": [
    "### Build a neural Network with a cross entropy loss function and sgd optimizer in Keras. The output layer with 10 neurons as we have 10 classes."
   ]
  },
  {
   "cell_type": "code",
   "execution_count": 11,
   "metadata": {
    "colab": {},
    "colab_type": "code",
    "id": "Ac06XZZTOIU6"
   },
   "outputs": [
    {
     "name": "stdout",
     "output_type": "stream",
     "text": [
      "WARNING:tensorflow:From D:\\Softwares\\anaconda3\\lib\\site-packages\\tensorflow\\python\\framework\\op_def_library.py:263: colocate_with (from tensorflow.python.framework.ops) is deprecated and will be removed in a future version.\n",
      "Instructions for updating:\n",
      "Colocations handled automatically by placer.\n"
     ]
    }
   ],
   "source": [
    "from keras.models import Sequential\n",
    "from keras.layers import Dense, Flatten\n",
    "\n",
    "model = Sequential()\n",
    "model.add(Flatten())  \n",
    "model.add(Dense(128, activation='relu'))\n",
    "model.add(Dense(10, activation='softmax'))\n",
    "model.compile(loss='categorical_crossentropy', optimizer='sgd', metrics=['accuracy'])"
   ]
  },
  {
   "cell_type": "markdown",
   "metadata": {
    "colab_type": "text",
    "id": "3hQpLv3aOIU_",
    "slideshow": {
     "slide_type": "slide"
    }
   },
   "source": [
    "### Execute the model using model.fit()"
   ]
  },
  {
   "cell_type": "code",
   "execution_count": 12,
   "metadata": {
    "colab": {},
    "colab_type": "code",
    "id": "O59C_-IgOIVB"
   },
   "outputs": [
    {
     "name": "stdout",
     "output_type": "stream",
     "text": [
      "WARNING:tensorflow:From D:\\Softwares\\anaconda3\\lib\\site-packages\\tensorflow\\python\\ops\\math_ops.py:3066: to_int32 (from tensorflow.python.ops.math_ops) is deprecated and will be removed in a future version.\n",
      "Instructions for updating:\n",
      "Use tf.cast instead.\n",
      "Train on 60000 samples, validate on 10000 samples\n",
      "Epoch 1/10\n",
      "60000/60000 [==============================] - 18s 294us/step - loss: 1.1142 - acc: 0.6642 - val_loss: 0.7383 - val_acc: 0.7436\n",
      "Epoch 2/10\n",
      "60000/60000 [==============================] - 15s 247us/step - loss: 0.6427 - acc: 0.7799 - val_loss: 0.6079 - val_acc: 0.7808\n",
      "Epoch 3/10\n",
      "60000/60000 [==============================] - 15s 247us/step - loss: 0.5576 - acc: 0.8048 - val_loss: 0.5550 - val_acc: 0.8053\n",
      "Epoch 4/10\n",
      "60000/60000 [==============================] - 18s 304us/step - loss: 0.5167 - acc: 0.8169 - val_loss: 0.5273 - val_acc: 0.8141\n",
      "Epoch 5/10\n",
      "60000/60000 [==============================] - 15s 251us/step - loss: 0.4915 - acc: 0.8253 - val_loss: 0.5081 - val_acc: 0.8234\n",
      "Epoch 6/10\n",
      "60000/60000 [==============================] - 15s 256us/step - loss: 0.4727 - acc: 0.8330 - val_loss: 0.4932 - val_acc: 0.8278\n",
      "Epoch 7/10\n",
      "60000/60000 [==============================] - 15s 252us/step - loss: 0.4580 - acc: 0.8383 - val_loss: 0.4823 - val_acc: 0.8302\n",
      "Epoch 8/10\n",
      "60000/60000 [==============================] - 17s 286us/step - loss: 0.4461 - acc: 0.8423 - val_loss: 0.4733 - val_acc: 0.8331\n",
      "Epoch 9/10\n",
      "60000/60000 [==============================] - 15s 248us/step - loss: 0.4361 - acc: 0.8460 - val_loss: 0.4622 - val_acc: 0.8384\n",
      "Epoch 10/10\n",
      "60000/60000 [==============================] - 20s 326us/step - loss: 0.4270 - acc: 0.8485 - val_loss: 0.4562 - val_acc: 0.8432\n"
     ]
    },
    {
     "data": {
      "text/plain": [
       "<keras.callbacks.History at 0xe02feb8>"
      ]
     },
     "execution_count": 12,
     "metadata": {},
     "output_type": "execute_result"
    }
   ],
   "source": [
    "model.fit(trainX, trainY, epochs=10, validation_data=(testX, testY))"
   ]
  },
  {
   "cell_type": "markdown",
   "metadata": {
    "colab_type": "text",
    "id": "JdzDtGwDOIVF",
    "slideshow": {
     "slide_type": "slide"
    }
   },
   "source": [
    "### In the above Neural Network model add Batch Normalization layer after the input layer and repeat the steps."
   ]
  },
  {
   "cell_type": "code",
   "execution_count": 13,
   "metadata": {
    "colab": {},
    "colab_type": "code",
    "id": "kndfpdidOIVI"
   },
   "outputs": [],
   "source": [
    "from keras.layers.normalization import BatchNormalization\n",
    "\n",
    "model = Sequential()\n",
    "model.add(Flatten())\n",
    "model.add(Dense(128, activation='relu'))\n",
    "model.add(BatchNormalization()) \n",
    "model.add(Dense(10, activation='softmax'))\n",
    "model.compile(loss='categorical_crossentropy', optimizer='sgd', metrics=['accuracy'])"
   ]
  },
  {
   "cell_type": "markdown",
   "metadata": {
    "colab_type": "text",
    "id": "mwk3T5LJOIVN",
    "slideshow": {
     "slide_type": "slide"
    }
   },
   "source": [
    "### Execute the model"
   ]
  },
  {
   "cell_type": "code",
   "execution_count": 14,
   "metadata": {
    "colab": {},
    "colab_type": "code",
    "id": "JNLR8tcBOIVP"
   },
   "outputs": [
    {
     "name": "stdout",
     "output_type": "stream",
     "text": [
      "Train on 60000 samples, validate on 10000 samples\n",
      "Epoch 1/100\n",
      "60000/60000 [==============================] - 6s 106us/step - loss: 1.0682 - acc: 0.6500 - val_loss: 0.7334 - val_acc: 0.7442\n",
      "Epoch 2/100\n",
      "60000/60000 [==============================] - 5s 82us/step - loss: 0.6510 - acc: 0.7776 - val_loss: 0.6257 - val_acc: 0.7781\n",
      "Epoch 3/100\n",
      "60000/60000 [==============================] - 5s 81us/step - loss: 0.5799 - acc: 0.7982 - val_loss: 0.5794 - val_acc: 0.7979\n",
      "Epoch 4/100\n",
      "60000/60000 [==============================] - 5s 82us/step - loss: 0.5426 - acc: 0.8101 - val_loss: 0.5511 - val_acc: 0.8066\n",
      "Epoch 5/100\n",
      "60000/60000 [==============================] - 5s 80us/step - loss: 0.5165 - acc: 0.8186 - val_loss: 0.5319 - val_acc: 0.8134\n",
      "Epoch 6/100\n",
      "60000/60000 [==============================] - 5s 78us/step - loss: 0.4978 - acc: 0.8245 - val_loss: 0.5170 - val_acc: 0.8181\n",
      "Epoch 7/100\n",
      "60000/60000 [==============================] - 5s 77us/step - loss: 0.4824 - acc: 0.8305 - val_loss: 0.5055 - val_acc: 0.8243\n",
      "Epoch 8/100\n",
      "60000/60000 [==============================] - 5s 82us/step - loss: 0.4693 - acc: 0.8345 - val_loss: 0.4945 - val_acc: 0.8281\n",
      "Epoch 9/100\n",
      "60000/60000 [==============================] - 5s 85us/step - loss: 0.4586 - acc: 0.8381 - val_loss: 0.4855 - val_acc: 0.8311\n",
      "Epoch 10/100\n",
      "60000/60000 [==============================] - 6s 93us/step - loss: 0.4492 - acc: 0.8420 - val_loss: 0.4780 - val_acc: 0.8333\n",
      "Epoch 11/100\n",
      "60000/60000 [==============================] - 6s 97us/step - loss: 0.4409 - acc: 0.8449 - val_loss: 0.4715 - val_acc: 0.8356\n",
      "Epoch 12/100\n",
      "60000/60000 [==============================] - 6s 102us/step - loss: 0.4331 - acc: 0.8473 - val_loss: 0.4650 - val_acc: 0.8389\n",
      "Epoch 13/100\n",
      "60000/60000 [==============================] - 6s 95us/step - loss: 0.4265 - acc: 0.8496 - val_loss: 0.4596 - val_acc: 0.8406\n",
      "Epoch 14/100\n",
      "60000/60000 [==============================] - 6s 103us/step - loss: 0.4200 - acc: 0.8522 - val_loss: 0.4553 - val_acc: 0.8424\n",
      "Epoch 15/100\n",
      "60000/60000 [==============================] - 6s 101us/step - loss: 0.4145 - acc: 0.8550 - val_loss: 0.4506 - val_acc: 0.8441\n",
      "Epoch 16/100\n",
      "60000/60000 [==============================] - 5s 91us/step - loss: 0.4088 - acc: 0.8563 - val_loss: 0.4467 - val_acc: 0.8467\n",
      "Epoch 17/100\n",
      "60000/60000 [==============================] - 5s 75us/step - loss: 0.4040 - acc: 0.8578 - val_loss: 0.4430 - val_acc: 0.8471\n",
      "Epoch 18/100\n",
      "60000/60000 [==============================] - 6s 99us/step - loss: 0.3994 - acc: 0.8597 - val_loss: 0.4400 - val_acc: 0.8484\n",
      "Epoch 19/100\n",
      "60000/60000 [==============================] - 6s 99us/step - loss: 0.3954 - acc: 0.8612 - val_loss: 0.4360 - val_acc: 0.8489\n",
      "Epoch 20/100\n",
      "60000/60000 [==============================] - 6s 101us/step - loss: 0.3911 - acc: 0.8626 - val_loss: 0.4331 - val_acc: 0.8505\n",
      "Epoch 21/100\n",
      "60000/60000 [==============================] - 6s 93us/step - loss: 0.3872 - acc: 0.8632 - val_loss: 0.4296 - val_acc: 0.8508\n",
      "Epoch 22/100\n",
      "60000/60000 [==============================] - 6s 95us/step - loss: 0.3830 - acc: 0.8650 - val_loss: 0.4278 - val_acc: 0.8518\n",
      "Epoch 23/100\n",
      "60000/60000 [==============================] - 6s 99us/step - loss: 0.3799 - acc: 0.8669 - val_loss: 0.4253 - val_acc: 0.8532\n",
      "Epoch 24/100\n",
      "60000/60000 [==============================] - 6s 97us/step - loss: 0.3760 - acc: 0.8681 - val_loss: 0.4228 - val_acc: 0.8538\n",
      "Epoch 25/100\n",
      "60000/60000 [==============================] - 6s 103us/step - loss: 0.3731 - acc: 0.8694 - val_loss: 0.4197 - val_acc: 0.8546\n",
      "Epoch 26/100\n",
      "60000/60000 [==============================] - 6s 107us/step - loss: 0.3700 - acc: 0.8702 - val_loss: 0.4179 - val_acc: 0.8553\n",
      "Epoch 27/100\n",
      "60000/60000 [==============================] - 7s 114us/step - loss: 0.3667 - acc: 0.8700 - val_loss: 0.4153 - val_acc: 0.8568\n",
      "Epoch 28/100\n",
      "60000/60000 [==============================] - 7s 115us/step - loss: 0.3636 - acc: 0.8717 - val_loss: 0.4141 - val_acc: 0.8553\n",
      "Epoch 29/100\n",
      "60000/60000 [==============================] - 7s 122us/step - loss: 0.3610 - acc: 0.8730 - val_loss: 0.4122 - val_acc: 0.8561\n",
      "Epoch 30/100\n",
      "60000/60000 [==============================] - 7s 123us/step - loss: 0.3585 - acc: 0.8739 - val_loss: 0.4106 - val_acc: 0.8568\n",
      "Epoch 31/100\n",
      "60000/60000 [==============================] - 7s 124us/step - loss: 0.3557 - acc: 0.8749 - val_loss: 0.4076 - val_acc: 0.8584\n",
      "Epoch 32/100\n",
      "60000/60000 [==============================] - 7s 124us/step - loss: 0.3531 - acc: 0.8755 - val_loss: 0.4062 - val_acc: 0.8580\n",
      "Epoch 33/100\n",
      "60000/60000 [==============================] - 7s 123us/step - loss: 0.3506 - acc: 0.8763 - val_loss: 0.4049 - val_acc: 0.8578\n",
      "Epoch 34/100\n",
      "60000/60000 [==============================] - 7s 124us/step - loss: 0.3482 - acc: 0.8776 - val_loss: 0.4036 - val_acc: 0.8589\n",
      "Epoch 35/100\n",
      "60000/60000 [==============================] - 7s 122us/step - loss: 0.3463 - acc: 0.8778 - val_loss: 0.4014 - val_acc: 0.8591\n",
      "Epoch 36/100\n",
      "60000/60000 [==============================] - 7s 124us/step - loss: 0.3444 - acc: 0.8786 - val_loss: 0.4004 - val_acc: 0.8591\n",
      "Epoch 37/100\n",
      "60000/60000 [==============================] - 8s 127us/step - loss: 0.3413 - acc: 0.8798 - val_loss: 0.3987 - val_acc: 0.8616\n",
      "Epoch 38/100\n",
      "60000/60000 [==============================] - 6s 107us/step - loss: 0.3396 - acc: 0.8804 - val_loss: 0.3983 - val_acc: 0.8609\n",
      "Epoch 39/100\n",
      "60000/60000 [==============================] - 11s 178us/step - loss: 0.3377 - acc: 0.8809 - val_loss: 0.3963 - val_acc: 0.8603\n",
      "Epoch 40/100\n",
      "60000/60000 [==============================] - 11s 183us/step - loss: 0.3363 - acc: 0.8816 - val_loss: 0.3946 - val_acc: 0.8616\n",
      "Epoch 41/100\n",
      "60000/60000 [==============================] - 7s 117us/step - loss: 0.3337 - acc: 0.8828 - val_loss: 0.3936 - val_acc: 0.8612\n",
      "Epoch 42/100\n",
      "60000/60000 [==============================] - 7s 118us/step - loss: 0.3317 - acc: 0.8829 - val_loss: 0.3927 - val_acc: 0.8613\n",
      "Epoch 43/100\n",
      "60000/60000 [==============================] - 7s 119us/step - loss: 0.3301 - acc: 0.8841 - val_loss: 0.3910 - val_acc: 0.8622\n",
      "Epoch 44/100\n",
      "60000/60000 [==============================] - 7s 122us/step - loss: 0.3282 - acc: 0.8848 - val_loss: 0.3898 - val_acc: 0.8625\n",
      "Epoch 45/100\n",
      "60000/60000 [==============================] - 7s 122us/step - loss: 0.3264 - acc: 0.8853 - val_loss: 0.3880 - val_acc: 0.8628\n",
      "Epoch 46/100\n",
      "60000/60000 [==============================] - 8s 133us/step - loss: 0.3249 - acc: 0.8862 - val_loss: 0.3875 - val_acc: 0.8634\n",
      "Epoch 47/100\n",
      "60000/60000 [==============================] - 7s 122us/step - loss: 0.3231 - acc: 0.8864 - val_loss: 0.3864 - val_acc: 0.8641\n",
      "Epoch 48/100\n",
      "60000/60000 [==============================] - 7s 123us/step - loss: 0.3217 - acc: 0.8865 - val_loss: 0.3850 - val_acc: 0.8646\n",
      "Epoch 49/100\n",
      "60000/60000 [==============================] - 7s 123us/step - loss: 0.3196 - acc: 0.8869 - val_loss: 0.3850 - val_acc: 0.8661\n",
      "Epoch 50/100\n",
      "60000/60000 [==============================] - 7s 123us/step - loss: 0.3184 - acc: 0.8877 - val_loss: 0.3837 - val_acc: 0.8646\n",
      "Epoch 51/100\n",
      "60000/60000 [==============================] - 7s 124us/step - loss: 0.3168 - acc: 0.8880 - val_loss: 0.3830 - val_acc: 0.8645\n",
      "Epoch 52/100\n",
      "60000/60000 [==============================] - 7s 125us/step - loss: 0.3150 - acc: 0.8890 - val_loss: 0.3820 - val_acc: 0.8652\n",
      "Epoch 53/100\n",
      "60000/60000 [==============================] - 9s 148us/step - loss: 0.3139 - acc: 0.8893 - val_loss: 0.3809 - val_acc: 0.8663\n",
      "Epoch 54/100\n",
      "60000/60000 [==============================] - 10s 160us/step - loss: 0.3126 - acc: 0.8899 - val_loss: 0.3799 - val_acc: 0.8665\n",
      "Epoch 55/100\n",
      "60000/60000 [==============================] - 7s 109us/step - loss: 0.3109 - acc: 0.8900 - val_loss: 0.3787 - val_acc: 0.8666\n",
      "Epoch 56/100\n",
      "60000/60000 [==============================] - 6s 97us/step - loss: 0.3098 - acc: 0.8903 - val_loss: 0.3785 - val_acc: 0.8657\n",
      "Epoch 57/100\n",
      "60000/60000 [==============================] - 6s 92us/step - loss: 0.3081 - acc: 0.8919 - val_loss: 0.3775 - val_acc: 0.8660\n",
      "Epoch 58/100\n",
      "60000/60000 [==============================] - 6s 93us/step - loss: 0.3068 - acc: 0.8916 - val_loss: 0.3771 - val_acc: 0.8673\n",
      "Epoch 59/100\n",
      "60000/60000 [==============================] - 4s 63us/step - loss: 0.3056 - acc: 0.8922 - val_loss: 0.3763 - val_acc: 0.8672\n",
      "Epoch 60/100\n",
      "60000/60000 [==============================] - 4s 63us/step - loss: 0.3039 - acc: 0.8923 - val_loss: 0.3756 - val_acc: 0.8675\n",
      "Epoch 61/100\n",
      "60000/60000 [==============================] - 4s 63us/step - loss: 0.3029 - acc: 0.8930 - val_loss: 0.3745 - val_acc: 0.8670\n",
      "Epoch 62/100\n",
      "60000/60000 [==============================] - 4s 62us/step - loss: 0.3013 - acc: 0.8934 - val_loss: 0.3738 - val_acc: 0.8666\n",
      "Epoch 63/100\n",
      "60000/60000 [==============================] - 4s 63us/step - loss: 0.3001 - acc: 0.8944 - val_loss: 0.3729 - val_acc: 0.8681\n",
      "Epoch 64/100\n",
      "60000/60000 [==============================] - 7s 117us/step - loss: 0.2988 - acc: 0.8940 - val_loss: 0.3723 - val_acc: 0.8673\n",
      "Epoch 65/100\n",
      "60000/60000 [==============================] - 8s 127us/step - loss: 0.2978 - acc: 0.8951 - val_loss: 0.3717 - val_acc: 0.8678\n",
      "Epoch 66/100\n",
      "60000/60000 [==============================] - 6s 94us/step - loss: 0.2966 - acc: 0.8955 - val_loss: 0.3714 - val_acc: 0.8682\n",
      "Epoch 67/100\n",
      "60000/60000 [==============================] - 4s 64us/step - loss: 0.2951 - acc: 0.8958 - val_loss: 0.3708 - val_acc: 0.8685\n",
      "Epoch 68/100\n",
      "60000/60000 [==============================] - 4s 63us/step - loss: 0.2940 - acc: 0.8968 - val_loss: 0.3708 - val_acc: 0.8678\n",
      "Epoch 69/100\n",
      "60000/60000 [==============================] - 4s 63us/step - loss: 0.2929 - acc: 0.8963 - val_loss: 0.3697 - val_acc: 0.8697\n",
      "Epoch 70/100\n",
      "60000/60000 [==============================] - 4s 64us/step - loss: 0.2920 - acc: 0.8968 - val_loss: 0.3688 - val_acc: 0.8690\n",
      "Epoch 71/100\n",
      "60000/60000 [==============================] - 4s 66us/step - loss: 0.2907 - acc: 0.8971 - val_loss: 0.3676 - val_acc: 0.8697\n",
      "Epoch 72/100\n",
      "60000/60000 [==============================] - 4s 64us/step - loss: 0.2893 - acc: 0.8978 - val_loss: 0.3683 - val_acc: 0.8692\n",
      "Epoch 73/100\n",
      "60000/60000 [==============================] - 4s 66us/step - loss: 0.2887 - acc: 0.8980 - val_loss: 0.3668 - val_acc: 0.8704\n",
      "Epoch 74/100\n",
      "60000/60000 [==============================] - 4s 65us/step - loss: 0.2871 - acc: 0.8987 - val_loss: 0.3664 - val_acc: 0.8706\n",
      "Epoch 75/100\n",
      "60000/60000 [==============================] - 4s 65us/step - loss: 0.2857 - acc: 0.8988 - val_loss: 0.3660 - val_acc: 0.8708\n",
      "Epoch 76/100\n",
      "60000/60000 [==============================] - 5s 87us/step - loss: 0.2848 - acc: 0.8993 - val_loss: 0.3655 - val_acc: 0.8709\n",
      "Epoch 77/100\n",
      "60000/60000 [==============================] - 8s 126us/step - loss: 0.2832 - acc: 0.9001 - val_loss: 0.3658 - val_acc: 0.8698\n",
      "Epoch 78/100\n",
      "60000/60000 [==============================] - 8s 130us/step - loss: 0.2831 - acc: 0.9002 - val_loss: 0.3660 - val_acc: 0.8690\n",
      "Epoch 79/100\n",
      "60000/60000 [==============================] - 5s 80us/step - loss: 0.2813 - acc: 0.9008 - val_loss: 0.3634 - val_acc: 0.8716\n",
      "Epoch 80/100\n",
      "60000/60000 [==============================] - 4s 66us/step - loss: 0.2804 - acc: 0.9008 - val_loss: 0.3633 - val_acc: 0.8712\n",
      "Epoch 81/100\n",
      "60000/60000 [==============================] - 4s 69us/step - loss: 0.2793 - acc: 0.9013 - val_loss: 0.3634 - val_acc: 0.8698\n",
      "Epoch 82/100\n",
      "60000/60000 [==============================] - 4s 68us/step - loss: 0.2784 - acc: 0.9015 - val_loss: 0.3631 - val_acc: 0.8711\n",
      "Epoch 83/100\n",
      "60000/60000 [==============================] - 4s 69us/step - loss: 0.2772 - acc: 0.9012 - val_loss: 0.3629 - val_acc: 0.8713\n",
      "Epoch 84/100\n",
      "60000/60000 [==============================] - 4s 68us/step - loss: 0.2760 - acc: 0.9020 - val_loss: 0.3618 - val_acc: 0.8731\n",
      "Epoch 85/100\n",
      "60000/60000 [==============================] - 4s 70us/step - loss: 0.2753 - acc: 0.9026 - val_loss: 0.3611 - val_acc: 0.8718\n",
      "Epoch 86/100\n",
      "60000/60000 [==============================] - 4s 70us/step - loss: 0.2743 - acc: 0.9033 - val_loss: 0.3615 - val_acc: 0.8716\n",
      "Epoch 87/100\n",
      "60000/60000 [==============================] - 4s 68us/step - loss: 0.2733 - acc: 0.9038 - val_loss: 0.3600 - val_acc: 0.8723\n",
      "Epoch 88/100\n",
      "60000/60000 [==============================] - 5s 76us/step - loss: 0.2724 - acc: 0.9040 - val_loss: 0.3608 - val_acc: 0.8708\n",
      "Epoch 89/100\n",
      "60000/60000 [==============================] - 4s 73us/step - loss: 0.2719 - acc: 0.9039 - val_loss: 0.3598 - val_acc: 0.8728\n",
      "Epoch 90/100\n",
      "60000/60000 [==============================] - 4s 71us/step - loss: 0.2700 - acc: 0.9046 - val_loss: 0.3597 - val_acc: 0.8726\n",
      "Epoch 91/100\n",
      "60000/60000 [==============================] - 4s 71us/step - loss: 0.2691 - acc: 0.9050 - val_loss: 0.3586 - val_acc: 0.8723\n",
      "Epoch 92/100\n",
      "60000/60000 [==============================] - 4s 71us/step - loss: 0.2686 - acc: 0.9047 - val_loss: 0.3592 - val_acc: 0.8709\n",
      "Epoch 93/100\n",
      "60000/60000 [==============================] - 8s 137us/step - loss: 0.2672 - acc: 0.9064 - val_loss: 0.3587 - val_acc: 0.8732\n",
      "Epoch 94/100\n",
      "60000/60000 [==============================] - 8s 138us/step - loss: 0.2665 - acc: 0.9060 - val_loss: 0.3578 - val_acc: 0.8730\n",
      "Epoch 95/100\n",
      "60000/60000 [==============================] - 5s 84us/step - loss: 0.2658 - acc: 0.9063 - val_loss: 0.3578 - val_acc: 0.8722\n",
      "Epoch 96/100\n",
      "60000/60000 [==============================] - 5s 81us/step - loss: 0.2643 - acc: 0.9068 - val_loss: 0.3586 - val_acc: 0.8729\n",
      "Epoch 97/100\n",
      "60000/60000 [==============================] - 5s 83us/step - loss: 0.2637 - acc: 0.9061 - val_loss: 0.3577 - val_acc: 0.8723\n",
      "Epoch 98/100\n",
      "60000/60000 [==============================] - 5s 86us/step - loss: 0.2627 - acc: 0.9071 - val_loss: 0.3567 - val_acc: 0.8739\n",
      "Epoch 99/100\n",
      "60000/60000 [==============================] - 5s 82us/step - loss: 0.2615 - acc: 0.9081 - val_loss: 0.3580 - val_acc: 0.8715\n",
      "Epoch 100/100\n",
      "60000/60000 [==============================] - 5s 88us/step - loss: 0.2609 - acc: 0.9075 - val_loss: 0.3563 - val_acc: 0.8728\n"
     ]
    },
    {
     "data": {
      "text/plain": [
       "<keras.callbacks.History at 0x2f508240>"
      ]
     },
     "execution_count": 14,
     "metadata": {},
     "output_type": "execute_result"
    }
   ],
   "source": [
    "model.fit(trainX, trainY, epochs=100, batch_size=600, validation_data=(testX, testY))"
   ]
  },
  {
   "cell_type": "markdown",
   "metadata": {
    "colab_type": "text",
    "id": "Py-KwkmjOIVU"
   },
   "source": [
    "### Customize the learning rate to 0.001 in sgd optimizer and run the model"
   ]
  },
  {
   "cell_type": "code",
   "execution_count": 15,
   "metadata": {
    "colab": {},
    "colab_type": "code",
    "id": "yLXUE9jWOIVV"
   },
   "outputs": [],
   "source": [
    "from keras.layers.normalization import BatchNormalization\n",
    "from keras.optimizers import SGD\n",
    "\n",
    "model = Sequential()\n",
    "model.add(Flatten())\n",
    "model.add(Dense(128, activation='relu'))\n",
    "model.add(BatchNormalization())\n",
    "model.add(Dense(10, activation='softmax'))\n",
    "sgd = SGD(lr=0.001)\n",
    "model.compile(loss='categorical_crossentropy', optimizer=sgd, metrics=['accuracy'])"
   ]
  },
  {
   "cell_type": "code",
   "execution_count": 16,
   "metadata": {
    "colab": {},
    "colab_type": "code",
    "id": "pJUqA5T4OIVc"
   },
   "outputs": [
    {
     "name": "stdout",
     "output_type": "stream",
     "text": [
      "Train on 60000 samples, validate on 10000 samples\n",
      "Epoch 1/100\n",
      "60000/60000 [==============================] - 6s 100us/step - loss: 1.8881 - acc: 0.3699 - val_loss: 1.4306 - val_acc: 0.5350\n",
      "Epoch 2/100\n",
      "60000/60000 [==============================] - 4s 75us/step - loss: 1.2450 - acc: 0.6042 - val_loss: 1.1469 - val_acc: 0.6211\n",
      "Epoch 3/100\n",
      "60000/60000 [==============================] - 5s 77us/step - loss: 1.0474 - acc: 0.6589 - val_loss: 1.0112 - val_acc: 0.6583\n",
      "Epoch 4/100\n",
      "60000/60000 [==============================] - 4s 63us/step - loss: 0.9440 - acc: 0.6881 - val_loss: 0.9277 - val_acc: 0.6817\n",
      "Epoch 5/100\n",
      "60000/60000 [==============================] - 4s 63us/step - loss: 0.8782 - acc: 0.7084 - val_loss: 0.8720 - val_acc: 0.6987\n",
      "Epoch 6/100\n",
      "60000/60000 [==============================] - 4s 65us/step - loss: 0.8316 - acc: 0.7212 - val_loss: 0.8316 - val_acc: 0.7098\n",
      "Epoch 7/100\n",
      "60000/60000 [==============================] - 5s 76us/step - loss: 0.7962 - acc: 0.7329 - val_loss: 0.8005 - val_acc: 0.7219\n",
      "Epoch 8/100\n",
      "60000/60000 [==============================] - 8s 126us/step - loss: 0.7680 - acc: 0.7422 - val_loss: 0.7757 - val_acc: 0.7320\n",
      "Epoch 9/100\n",
      "60000/60000 [==============================] - 7s 125us/step - loss: 0.7447 - acc: 0.7503 - val_loss: 0.7549 - val_acc: 0.7390\n",
      "Epoch 10/100\n",
      "60000/60000 [==============================] - 5s 88us/step - loss: 0.7248 - acc: 0.7552 - val_loss: 0.7372 - val_acc: 0.7454\n",
      "Epoch 11/100\n",
      "60000/60000 [==============================] - 4s 65us/step - loss: 0.7075 - acc: 0.7607 - val_loss: 0.7215 - val_acc: 0.7515\n",
      "Epoch 12/100\n",
      "60000/60000 [==============================] - 4s 66us/step - loss: 0.6926 - acc: 0.7660 - val_loss: 0.7078 - val_acc: 0.7565\n",
      "Epoch 13/100\n",
      "60000/60000 [==============================] - 4s 65us/step - loss: 0.6793 - acc: 0.7704 - val_loss: 0.6957 - val_acc: 0.7617\n",
      "Epoch 14/100\n",
      "60000/60000 [==============================] - 4s 69us/step - loss: 0.6673 - acc: 0.7742 - val_loss: 0.6850 - val_acc: 0.7649\n",
      "Epoch 15/100\n",
      "60000/60000 [==============================] - 4s 65us/step - loss: 0.6567 - acc: 0.7766 - val_loss: 0.6752 - val_acc: 0.7697\n",
      "Epoch 16/100\n",
      "60000/60000 [==============================] - 4s 70us/step - loss: 0.6467 - acc: 0.7800 - val_loss: 0.6663 - val_acc: 0.7722\n",
      "Epoch 17/100\n",
      "60000/60000 [==============================] - 4s 75us/step - loss: 0.6378 - acc: 0.7823 - val_loss: 0.6582 - val_acc: 0.7757\n",
      "Epoch 18/100\n",
      "60000/60000 [==============================] - 4s 74us/step - loss: 0.6295 - acc: 0.7847 - val_loss: 0.6507 - val_acc: 0.7778\n",
      "Epoch 19/100\n",
      "60000/60000 [==============================] - 4s 73us/step - loss: 0.6215 - acc: 0.7873 - val_loss: 0.6437 - val_acc: 0.7805\n",
      "Epoch 20/100\n",
      "60000/60000 [==============================] - 5s 83us/step - loss: 0.6145 - acc: 0.7901 - val_loss: 0.6373 - val_acc: 0.7826\n",
      "Epoch 21/100\n",
      "60000/60000 [==============================] - 5s 90us/step - loss: 0.6080 - acc: 0.7923 - val_loss: 0.6313 - val_acc: 0.7843\n",
      "Epoch 22/100\n",
      "60000/60000 [==============================] - 6s 94us/step - loss: 0.6015 - acc: 0.7941 - val_loss: 0.6257 - val_acc: 0.7860\n",
      "Epoch 23/100\n",
      "60000/60000 [==============================] - 6s 94us/step - loss: 0.5956 - acc: 0.7959 - val_loss: 0.6203 - val_acc: 0.7876\n",
      "Epoch 24/100\n",
      "60000/60000 [==============================] - 9s 156us/step - loss: 0.5903 - acc: 0.7977 - val_loss: 0.6152 - val_acc: 0.7888\n",
      "Epoch 25/100\n",
      "60000/60000 [==============================] - 11s 179us/step - loss: 0.5851 - acc: 0.8001 - val_loss: 0.6105 - val_acc: 0.7900\n",
      "Epoch 26/100\n",
      "60000/60000 [==============================] - 6s 104us/step - loss: 0.5799 - acc: 0.8014 - val_loss: 0.6060 - val_acc: 0.7914\n",
      "Epoch 27/100\n",
      "60000/60000 [==============================] - 6s 106us/step - loss: 0.5747 - acc: 0.8020 - val_loss: 0.6018 - val_acc: 0.7916\n",
      "Epoch 28/100\n",
      "60000/60000 [==============================] - 6s 108us/step - loss: 0.5711 - acc: 0.8033 - val_loss: 0.5977 - val_acc: 0.7930\n",
      "Epoch 29/100\n",
      "60000/60000 [==============================] - 7s 113us/step - loss: 0.5664 - acc: 0.8048 - val_loss: 0.5938 - val_acc: 0.7942\n",
      "Epoch 30/100\n",
      "60000/60000 [==============================] - 7s 116us/step - loss: 0.5622 - acc: 0.8060 - val_loss: 0.5901 - val_acc: 0.7957\n",
      "Epoch 31/100\n",
      "60000/60000 [==============================] - 7s 121us/step - loss: 0.5588 - acc: 0.8071 - val_loss: 0.5865 - val_acc: 0.7965\n",
      "Epoch 32/100\n",
      "60000/60000 [==============================] - 7s 122us/step - loss: 0.5549 - acc: 0.8093 - val_loss: 0.5831 - val_acc: 0.7976\n",
      "Epoch 33/100\n",
      "60000/60000 [==============================] - 7s 122us/step - loss: 0.5513 - acc: 0.8097 - val_loss: 0.5799 - val_acc: 0.7981\n",
      "Epoch 34/100\n",
      "60000/60000 [==============================] - 7s 123us/step - loss: 0.5480 - acc: 0.8111 - val_loss: 0.5768 - val_acc: 0.7996\n",
      "Epoch 35/100\n",
      "60000/60000 [==============================] - 7s 124us/step - loss: 0.5446 - acc: 0.8127 - val_loss: 0.5738 - val_acc: 0.8009\n",
      "Epoch 36/100\n",
      "60000/60000 [==============================] - 8s 125us/step - loss: 0.5416 - acc: 0.8129 - val_loss: 0.5710 - val_acc: 0.8011\n",
      "Epoch 37/100\n",
      "60000/60000 [==============================] - 7s 123us/step - loss: 0.5384 - acc: 0.8139 - val_loss: 0.5683 - val_acc: 0.8019\n",
      "Epoch 38/100\n",
      "60000/60000 [==============================] - 8s 125us/step - loss: 0.5360 - acc: 0.8149 - val_loss: 0.5656 - val_acc: 0.8028\n",
      "Epoch 39/100\n",
      "60000/60000 [==============================] - 10s 174us/step - loss: 0.5325 - acc: 0.8158 - val_loss: 0.5631 - val_acc: 0.8039\n",
      "Epoch 40/100\n",
      "60000/60000 [==============================] - 11s 191us/step - loss: 0.5301 - acc: 0.8166 - val_loss: 0.5606 - val_acc: 0.8039\n",
      "Epoch 41/100\n",
      "60000/60000 [==============================] - 7s 123us/step - loss: 0.5274 - acc: 0.8177 - val_loss: 0.5582 - val_acc: 0.8050\n",
      "Epoch 42/100\n",
      "60000/60000 [==============================] - 7s 122us/step - loss: 0.5254 - acc: 0.8189 - val_loss: 0.5559 - val_acc: 0.8065\n",
      "Epoch 43/100\n",
      "60000/60000 [==============================] - 7s 123us/step - loss: 0.5228 - acc: 0.8190 - val_loss: 0.5536 - val_acc: 0.8078\n",
      "Epoch 44/100\n",
      "60000/60000 [==============================] - 7s 123us/step - loss: 0.5201 - acc: 0.8198 - val_loss: 0.5515 - val_acc: 0.8085\n",
      "Epoch 45/100\n",
      "60000/60000 [==============================] - 8s 126us/step - loss: 0.5180 - acc: 0.8205 - val_loss: 0.5494 - val_acc: 0.8092\n",
      "Epoch 46/100\n",
      "60000/60000 [==============================] - 7s 123us/step - loss: 0.5155 - acc: 0.8217 - val_loss: 0.5473 - val_acc: 0.8102\n",
      "Epoch 47/100\n",
      "60000/60000 [==============================] - 7s 125us/step - loss: 0.5131 - acc: 0.8220 - val_loss: 0.5453 - val_acc: 0.8106\n",
      "Epoch 48/100\n",
      "60000/60000 [==============================] - 7s 124us/step - loss: 0.5112 - acc: 0.8231 - val_loss: 0.5434 - val_acc: 0.8105\n",
      "Epoch 49/100\n",
      "60000/60000 [==============================] - 7s 122us/step - loss: 0.5094 - acc: 0.8234 - val_loss: 0.5415 - val_acc: 0.8111\n",
      "Epoch 50/100\n",
      "60000/60000 [==============================] - 7s 121us/step - loss: 0.5069 - acc: 0.8242 - val_loss: 0.5397 - val_acc: 0.8122\n",
      "Epoch 51/100\n",
      "60000/60000 [==============================] - 11s 185us/step - loss: 0.5050 - acc: 0.8250 - val_loss: 0.5379 - val_acc: 0.8126\n",
      "Epoch 52/100\n",
      "60000/60000 [==============================] - 11s 180us/step - loss: 0.5034 - acc: 0.8250 - val_loss: 0.5361 - val_acc: 0.8131\n",
      "Epoch 53/100\n",
      "60000/60000 [==============================] - 5s 88us/step - loss: 0.5014 - acc: 0.8262 - val_loss: 0.5344 - val_acc: 0.8135\n",
      "Epoch 54/100\n",
      "60000/60000 [==============================] - 5s 91us/step - loss: 0.4993 - acc: 0.8268 - val_loss: 0.5327 - val_acc: 0.8136\n",
      "Epoch 55/100\n",
      "60000/60000 [==============================] - 6s 92us/step - loss: 0.4978 - acc: 0.8271 - val_loss: 0.5311 - val_acc: 0.8149\n",
      "Epoch 56/100\n",
      "60000/60000 [==============================] - 5s 89us/step - loss: 0.4962 - acc: 0.8278 - val_loss: 0.5294 - val_acc: 0.8155\n",
      "Epoch 57/100\n",
      "60000/60000 [==============================] - 6s 96us/step - loss: 0.4940 - acc: 0.8282 - val_loss: 0.5279 - val_acc: 0.8162\n",
      "Epoch 58/100\n",
      "60000/60000 [==============================] - 6s 94us/step - loss: 0.4922 - acc: 0.8289 - val_loss: 0.5264 - val_acc: 0.8166\n",
      "Epoch 59/100\n",
      "60000/60000 [==============================] - 4s 62us/step - loss: 0.4902 - acc: 0.8303 - val_loss: 0.5249 - val_acc: 0.8177\n",
      "Epoch 60/100\n",
      "60000/60000 [==============================] - 5s 85us/step - loss: 0.4893 - acc: 0.8298 - val_loss: 0.5234 - val_acc: 0.8181\n",
      "Epoch 61/100\n",
      "60000/60000 [==============================] - 7s 119us/step - loss: 0.4876 - acc: 0.8307 - val_loss: 0.5220 - val_acc: 0.8184\n",
      "Epoch 62/100\n",
      "60000/60000 [==============================] - 7s 117us/step - loss: 0.4859 - acc: 0.8311 - val_loss: 0.5206 - val_acc: 0.8190\n",
      "Epoch 63/100\n",
      "60000/60000 [==============================] - 4s 62us/step - loss: 0.4845 - acc: 0.8321 - val_loss: 0.5192 - val_acc: 0.8196\n",
      "Epoch 64/100\n",
      "60000/60000 [==============================] - 4s 62us/step - loss: 0.4828 - acc: 0.8315 - val_loss: 0.5179 - val_acc: 0.8199\n",
      "Epoch 65/100\n",
      "60000/60000 [==============================] - 4s 62us/step - loss: 0.4811 - acc: 0.8329 - val_loss: 0.5166 - val_acc: 0.8209\n",
      "Epoch 66/100\n",
      "60000/60000 [==============================] - 4s 63us/step - loss: 0.4804 - acc: 0.8328 - val_loss: 0.5154 - val_acc: 0.8210\n",
      "Epoch 67/100\n",
      "60000/60000 [==============================] - 4s 62us/step - loss: 0.4784 - acc: 0.8333 - val_loss: 0.5141 - val_acc: 0.8215\n",
      "Epoch 68/100\n",
      "60000/60000 [==============================] - 4s 64us/step - loss: 0.4773 - acc: 0.8336 - val_loss: 0.5129 - val_acc: 0.8218\n",
      "Epoch 69/100\n",
      "60000/60000 [==============================] - 4s 64us/step - loss: 0.4758 - acc: 0.8344 - val_loss: 0.5117 - val_acc: 0.8218\n",
      "Epoch 70/100\n",
      "60000/60000 [==============================] - 4s 63us/step - loss: 0.4746 - acc: 0.8347 - val_loss: 0.5106 - val_acc: 0.8220\n",
      "Epoch 71/100\n",
      "60000/60000 [==============================] - 4s 65us/step - loss: 0.4732 - acc: 0.8351 - val_loss: 0.5093 - val_acc: 0.8223\n",
      "Epoch 72/100\n",
      "60000/60000 [==============================] - 7s 113us/step - loss: 0.4717 - acc: 0.8357 - val_loss: 0.5082 - val_acc: 0.8221\n",
      "Epoch 73/100\n",
      "60000/60000 [==============================] - 8s 127us/step - loss: 0.4704 - acc: 0.8364 - val_loss: 0.5071 - val_acc: 0.8223\n",
      "Epoch 74/100\n",
      "60000/60000 [==============================] - 6s 96us/step - loss: 0.4693 - acc: 0.8362 - val_loss: 0.5060 - val_acc: 0.8229\n",
      "Epoch 75/100\n",
      "60000/60000 [==============================] - 4s 64us/step - loss: 0.4685 - acc: 0.8369 - val_loss: 0.5049 - val_acc: 0.8230\n",
      "Epoch 76/100\n",
      "60000/60000 [==============================] - 4s 65us/step - loss: 0.4669 - acc: 0.8378 - val_loss: 0.5038 - val_acc: 0.8239\n",
      "Epoch 77/100\n",
      "60000/60000 [==============================] - 4s 67us/step - loss: 0.4659 - acc: 0.8378 - val_loss: 0.5027 - val_acc: 0.8234\n",
      "Epoch 78/100\n",
      "60000/60000 [==============================] - 4s 64us/step - loss: 0.4644 - acc: 0.8388 - val_loss: 0.5017 - val_acc: 0.8240\n",
      "Epoch 79/100\n",
      "60000/60000 [==============================] - 4s 68us/step - loss: 0.4634 - acc: 0.8381 - val_loss: 0.5007 - val_acc: 0.8242\n",
      "Epoch 80/100\n",
      "60000/60000 [==============================] - 4s 68us/step - loss: 0.4623 - acc: 0.8393 - val_loss: 0.4997 - val_acc: 0.8250\n",
      "Epoch 81/100\n",
      "60000/60000 [==============================] - 4s 68us/step - loss: 0.4611 - acc: 0.8390 - val_loss: 0.4988 - val_acc: 0.8254\n",
      "Epoch 82/100\n",
      "60000/60000 [==============================] - 4s 66us/step - loss: 0.4600 - acc: 0.8397 - val_loss: 0.4978 - val_acc: 0.8257\n",
      "Epoch 83/100\n",
      "60000/60000 [==============================] - 4s 65us/step - loss: 0.4590 - acc: 0.8397 - val_loss: 0.4968 - val_acc: 0.8266\n",
      "Epoch 84/100\n",
      "60000/60000 [==============================] - 5s 83us/step - loss: 0.4583 - acc: 0.8404 - val_loss: 0.4959 - val_acc: 0.8265\n",
      "Epoch 85/100\n",
      "60000/60000 [==============================] - 8s 129us/step - loss: 0.4570 - acc: 0.8409 - val_loss: 0.4950 - val_acc: 0.8262\n",
      "Epoch 86/100\n",
      "60000/60000 [==============================] - 8s 127us/step - loss: 0.4559 - acc: 0.8413 - val_loss: 0.4941 - val_acc: 0.8268\n",
      "Epoch 87/100\n",
      "60000/60000 [==============================] - 5s 80us/step - loss: 0.4549 - acc: 0.8417 - val_loss: 0.4932 - val_acc: 0.8271\n",
      "Epoch 88/100\n",
      "60000/60000 [==============================] - 4s 69us/step - loss: 0.4536 - acc: 0.8411 - val_loss: 0.4923 - val_acc: 0.8281\n",
      "Epoch 89/100\n",
      "60000/60000 [==============================] - 4s 69us/step - loss: 0.4528 - acc: 0.8419 - val_loss: 0.4914 - val_acc: 0.8284\n",
      "Epoch 90/100\n",
      "60000/60000 [==============================] - 4s 70us/step - loss: 0.4520 - acc: 0.8418 - val_loss: 0.4906 - val_acc: 0.8281\n",
      "Epoch 91/100\n",
      "60000/60000 [==============================] - 4s 75us/step - loss: 0.4509 - acc: 0.8430 - val_loss: 0.4897 - val_acc: 0.8279\n",
      "Epoch 92/100\n",
      "60000/60000 [==============================] - 4s 72us/step - loss: 0.4500 - acc: 0.8424 - val_loss: 0.4889 - val_acc: 0.8288\n",
      "Epoch 93/100\n",
      "60000/60000 [==============================] - 4s 73us/step - loss: 0.4491 - acc: 0.8433 - val_loss: 0.4881 - val_acc: 0.8285\n",
      "Epoch 94/100\n",
      "60000/60000 [==============================] - 4s 74us/step - loss: 0.4483 - acc: 0.8433 - val_loss: 0.4874 - val_acc: 0.8289\n",
      "Epoch 95/100\n",
      "60000/60000 [==============================] - 4s 72us/step - loss: 0.4473 - acc: 0.8438 - val_loss: 0.4866 - val_acc: 0.8288\n",
      "Epoch 96/100\n",
      "60000/60000 [==============================] - 4s 72us/step - loss: 0.4463 - acc: 0.8440 - val_loss: 0.4858 - val_acc: 0.8287\n",
      "Epoch 97/100\n",
      "60000/60000 [==============================] - 5s 77us/step - loss: 0.4454 - acc: 0.8453 - val_loss: 0.4849 - val_acc: 0.8294\n",
      "Epoch 98/100\n",
      "60000/60000 [==============================] - 5s 77us/step - loss: 0.4444 - acc: 0.8447 - val_loss: 0.4842 - val_acc: 0.8299\n",
      "Epoch 99/100\n",
      "60000/60000 [==============================] - 5s 79us/step - loss: 0.4436 - acc: 0.8454 - val_loss: 0.4835 - val_acc: 0.8298\n",
      "Epoch 100/100\n",
      "60000/60000 [==============================] - 5s 81us/step - loss: 0.4432 - acc: 0.8451 - val_loss: 0.4827 - val_acc: 0.8306\n"
     ]
    },
    {
     "data": {
      "text/plain": [
       "<keras.callbacks.History at 0x55bacc0>"
      ]
     },
     "execution_count": 16,
     "metadata": {},
     "output_type": "execute_result"
    }
   ],
   "source": [
    "model.fit(trainX, trainY, epochs=100, batch_size=600, validation_data=(testX, testY))"
   ]
  },
  {
   "cell_type": "markdown",
   "metadata": {
    "colab_type": "text",
    "id": "j9CSqKvpOIVk",
    "slideshow": {
     "slide_type": "slide"
    }
   },
   "source": [
    "### Build the Neural Network model with 3 Dense layers with 100,100,10 neurons respectively in each layer. Use cross entropy loss function and singmoid as activation in the hidden layers and softmax as activation function in the output layer. Use sgd optimizer with learning rate 0.03."
   ]
  },
  {
   "cell_type": "code",
   "execution_count": 21,
   "metadata": {
    "colab": {},
    "colab_type": "code",
    "id": "GGAad54JOIVm"
   },
   "outputs": [],
   "source": [
    "from keras.layers.normalization import BatchNormalization\n",
    "from keras.optimizers import SGD\n",
    "\n",
    "model = Sequential()\n",
    "model.add(Flatten())\n",
    "model.add(Dense(100, activation='sigmoid'))\n",
    "model.add(BatchNormalization())\n",
    "model.add(Dense(100, activation='sigmoid'))\n",
    "model.add(BatchNormalization())\n",
    "model.add(Dense(10, activation='softmax'))\n",
    "sgd = SGD(lr=0.03)\n",
    "model.compile(loss='categorical_crossentropy', optimizer=sgd, metrics=['accuracy'])"
   ]
  },
  {
   "cell_type": "code",
   "execution_count": 22,
   "metadata": {
    "colab": {},
    "colab_type": "code",
    "id": "MQ7oIymROIVp"
   },
   "outputs": [
    {
     "name": "stdout",
     "output_type": "stream",
     "text": [
      "Train on 60000 samples, validate on 10000 samples\n",
      "Epoch 1/100\n",
      "60000/60000 [==============================] - 8s 134us/step - loss: 0.7455 - acc: 0.7503 - val_loss: 0.6073 - val_acc: 0.7897\n",
      "Epoch 2/100\n",
      "60000/60000 [==============================] - 5s 77us/step - loss: 0.5239 - acc: 0.8186 - val_loss: 0.5504 - val_acc: 0.8078\n",
      "Epoch 3/100\n",
      "60000/60000 [==============================] - 5s 89us/step - loss: 0.4842 - acc: 0.8318 - val_loss: 0.5158 - val_acc: 0.8216\n",
      "Epoch 4/100\n",
      "60000/60000 [==============================] - 5s 89us/step - loss: 0.4626 - acc: 0.8388 - val_loss: 0.4935 - val_acc: 0.8309\n",
      "Epoch 5/100\n",
      "60000/60000 [==============================] - 6s 94us/step - loss: 0.4482 - acc: 0.8432 - val_loss: 0.4842 - val_acc: 0.8327\n",
      "Epoch 6/100\n",
      "60000/60000 [==============================] - 6s 97us/step - loss: 0.4367 - acc: 0.8470 - val_loss: 0.4749 - val_acc: 0.8366\n",
      "Epoch 7/100\n",
      "60000/60000 [==============================] - 5s 91us/step - loss: 0.4278 - acc: 0.8495 - val_loss: 0.4654 - val_acc: 0.8404\n",
      "Epoch 8/100\n",
      "60000/60000 [==============================] - 5s 85us/step - loss: 0.4201 - acc: 0.8528 - val_loss: 0.4603 - val_acc: 0.8414\n",
      "Epoch 9/100\n",
      "60000/60000 [==============================] - 5s 88us/step - loss: 0.4138 - acc: 0.8546 - val_loss: 0.4567 - val_acc: 0.8422\n",
      "Epoch 10/100\n",
      "60000/60000 [==============================] - 6s 98us/step - loss: 0.4094 - acc: 0.8563 - val_loss: 0.4536 - val_acc: 0.8446\n",
      "Epoch 11/100\n",
      "60000/60000 [==============================] - 6s 94us/step - loss: 0.4041 - acc: 0.8587 - val_loss: 0.4486 - val_acc: 0.8458\n",
      "Epoch 12/100\n",
      "60000/60000 [==============================] - 6s 97us/step - loss: 0.3999 - acc: 0.8593 - val_loss: 0.4475 - val_acc: 0.8460\n",
      "Epoch 13/100\n",
      "60000/60000 [==============================] - 6s 95us/step - loss: 0.3961 - acc: 0.8604 - val_loss: 0.4454 - val_acc: 0.8451\n",
      "Epoch 14/100\n",
      "60000/60000 [==============================] - 6s 98us/step - loss: 0.3926 - acc: 0.8617 - val_loss: 0.4445 - val_acc: 0.8456\n",
      "Epoch 15/100\n",
      "60000/60000 [==============================] - 6s 100us/step - loss: 0.3887 - acc: 0.8632 - val_loss: 0.4409 - val_acc: 0.8466\n",
      "Epoch 16/100\n",
      "60000/60000 [==============================] - 6s 108us/step - loss: 0.3864 - acc: 0.8633 - val_loss: 0.4389 - val_acc: 0.8480\n",
      "Epoch 17/100\n",
      "60000/60000 [==============================] - 7s 114us/step - loss: 0.3833 - acc: 0.8648 - val_loss: 0.4375 - val_acc: 0.8488\n",
      "Epoch 18/100\n",
      "60000/60000 [==============================] - 7s 120us/step - loss: 0.3801 - acc: 0.8659 - val_loss: 0.4342 - val_acc: 0.8498\n",
      "Epoch 19/100\n",
      "60000/60000 [==============================] - 7s 118us/step - loss: 0.3778 - acc: 0.8658 - val_loss: 0.4320 - val_acc: 0.8512\n",
      "Epoch 20/100\n",
      "60000/60000 [==============================] - 7s 119us/step - loss: 0.3755 - acc: 0.8676 - val_loss: 0.4358 - val_acc: 0.8477\n",
      "Epoch 21/100\n",
      "60000/60000 [==============================] - 7s 120us/step - loss: 0.3735 - acc: 0.8683 - val_loss: 0.4316 - val_acc: 0.8518\n",
      "Epoch 22/100\n",
      "60000/60000 [==============================] - 7s 119us/step - loss: 0.3704 - acc: 0.8686 - val_loss: 0.4314 - val_acc: 0.8512\n",
      "Epoch 23/100\n",
      "60000/60000 [==============================] - 7s 120us/step - loss: 0.3689 - acc: 0.8692 - val_loss: 0.4293 - val_acc: 0.8498\n",
      "Epoch 24/100\n",
      "60000/60000 [==============================] - 7s 123us/step - loss: 0.3667 - acc: 0.8705 - val_loss: 0.4287 - val_acc: 0.8512\n",
      "Epoch 25/100\n",
      "60000/60000 [==============================] - 7s 124us/step - loss: 0.3644 - acc: 0.8715 - val_loss: 0.4243 - val_acc: 0.8523\n",
      "Epoch 26/100\n",
      "60000/60000 [==============================] - 7s 122us/step - loss: 0.3628 - acc: 0.8715 - val_loss: 0.4256 - val_acc: 0.8524\n",
      "Epoch 27/100\n",
      "60000/60000 [==============================] - 7s 120us/step - loss: 0.3609 - acc: 0.8727 - val_loss: 0.4333 - val_acc: 0.8492\n",
      "Epoch 28/100\n",
      "60000/60000 [==============================] - 7s 122us/step - loss: 0.3585 - acc: 0.8733 - val_loss: 0.4237 - val_acc: 0.8525\n",
      "Epoch 29/100\n",
      "60000/60000 [==============================] - 7s 121us/step - loss: 0.3572 - acc: 0.8740 - val_loss: 0.4203 - val_acc: 0.8547\n",
      "Epoch 30/100\n",
      "60000/60000 [==============================] - 7s 122us/step - loss: 0.3551 - acc: 0.8744 - val_loss: 0.4233 - val_acc: 0.8526\n",
      "Epoch 31/100\n",
      "60000/60000 [==============================] - 8s 125us/step - loss: 0.3530 - acc: 0.8750 - val_loss: 0.4224 - val_acc: 0.8545\n",
      "Epoch 32/100\n",
      "60000/60000 [==============================] - 7s 124us/step - loss: 0.3514 - acc: 0.8752 - val_loss: 0.4216 - val_acc: 0.8526\n",
      "Epoch 33/100\n",
      "60000/60000 [==============================] - 8s 132us/step - loss: 0.3498 - acc: 0.8756 - val_loss: 0.4181 - val_acc: 0.8551\n",
      "Epoch 34/100\n",
      "60000/60000 [==============================] - 7s 122us/step - loss: 0.3484 - acc: 0.8763 - val_loss: 0.4184 - val_acc: 0.8527\n",
      "Epoch 35/100\n",
      "60000/60000 [==============================] - 7s 122us/step - loss: 0.3461 - acc: 0.8777 - val_loss: 0.4166 - val_acc: 0.8550\n",
      "Epoch 36/100\n",
      "60000/60000 [==============================] - 8s 127us/step - loss: 0.3445 - acc: 0.8784 - val_loss: 0.4141 - val_acc: 0.8562\n",
      "Epoch 37/100\n",
      "60000/60000 [==============================] - 8s 133us/step - loss: 0.3434 - acc: 0.8777 - val_loss: 0.4140 - val_acc: 0.8569\n",
      "Epoch 38/100\n",
      "60000/60000 [==============================] - 8s 136us/step - loss: 0.3411 - acc: 0.8780 - val_loss: 0.4122 - val_acc: 0.8569\n",
      "Epoch 39/100\n",
      "60000/60000 [==============================] - 7s 124us/step - loss: 0.3392 - acc: 0.8789 - val_loss: 0.4144 - val_acc: 0.8562\n",
      "Epoch 40/100\n",
      "60000/60000 [==============================] - 8s 127us/step - loss: 0.3377 - acc: 0.8792 - val_loss: 0.4115 - val_acc: 0.8549\n",
      "Epoch 41/100\n",
      "60000/60000 [==============================] - 8s 128us/step - loss: 0.3358 - acc: 0.8808 - val_loss: 0.4139 - val_acc: 0.8581\n",
      "Epoch 42/100\n",
      "60000/60000 [==============================] - 8s 132us/step - loss: 0.3347 - acc: 0.8811 - val_loss: 0.4066 - val_acc: 0.8591\n",
      "Epoch 43/100\n",
      "60000/60000 [==============================] - 8s 139us/step - loss: 0.3331 - acc: 0.8812 - val_loss: 0.4128 - val_acc: 0.8579\n",
      "Epoch 44/100\n",
      "60000/60000 [==============================] - 8s 129us/step - loss: 0.3309 - acc: 0.8819 - val_loss: 0.4073 - val_acc: 0.8584\n",
      "Epoch 45/100\n",
      "60000/60000 [==============================] - 7s 124us/step - loss: 0.3294 - acc: 0.8828 - val_loss: 0.4042 - val_acc: 0.8597\n",
      "Epoch 46/100\n",
      "60000/60000 [==============================] - 8s 134us/step - loss: 0.3288 - acc: 0.8836 - val_loss: 0.4089 - val_acc: 0.8585\n",
      "Epoch 47/100\n",
      "60000/60000 [==============================] - 8s 133us/step - loss: 0.3270 - acc: 0.8835 - val_loss: 0.4031 - val_acc: 0.8603\n",
      "Epoch 48/100\n",
      "60000/60000 [==============================] - 9s 142us/step - loss: 0.3261 - acc: 0.8842 - val_loss: 0.4014 - val_acc: 0.8605\n",
      "Epoch 49/100\n",
      "60000/60000 [==============================] - 9s 145us/step - loss: 0.3238 - acc: 0.8845 - val_loss: 0.4043 - val_acc: 0.8588\n",
      "Epoch 50/100\n",
      "60000/60000 [==============================] - 13s 211us/step - loss: 0.3222 - acc: 0.8853 - val_loss: 0.4022 - val_acc: 0.8614\n",
      "Epoch 51/100\n",
      "60000/60000 [==============================] - 9s 151us/step - loss: 0.3208 - acc: 0.8853 - val_loss: 0.4011 - val_acc: 0.8595\n",
      "Epoch 52/100\n",
      "60000/60000 [==============================] - 15s 250us/step - loss: 0.3190 - acc: 0.8862 - val_loss: 0.3989 - val_acc: 0.8612\n",
      "Epoch 53/100\n",
      "60000/60000 [==============================] - 13s 213us/step - loss: 0.3174 - acc: 0.8863 - val_loss: 0.3966 - val_acc: 0.8616\n",
      "Epoch 54/100\n",
      "60000/60000 [==============================] - 12s 192us/step - loss: 0.3161 - acc: 0.8875 - val_loss: 0.4062 - val_acc: 0.8581\n",
      "Epoch 55/100\n",
      "60000/60000 [==============================] - 13s 221us/step - loss: 0.3147 - acc: 0.8878 - val_loss: 0.3983 - val_acc: 0.8613\n",
      "Epoch 56/100\n",
      "60000/60000 [==============================] - 14s 229us/step - loss: 0.3136 - acc: 0.8884 - val_loss: 0.3950 - val_acc: 0.8625\n",
      "Epoch 57/100\n",
      "60000/60000 [==============================] - 10s 166us/step - loss: 0.3124 - acc: 0.8882 - val_loss: 0.3932 - val_acc: 0.8627\n",
      "Epoch 58/100\n",
      "60000/60000 [==============================] - 13s 215us/step - loss: 0.3106 - acc: 0.8893 - val_loss: 0.3951 - val_acc: 0.8617\n",
      "Epoch 59/100\n",
      "60000/60000 [==============================] - 19s 324us/step - loss: 0.3089 - acc: 0.8899 - val_loss: 0.3928 - val_acc: 0.8635\n",
      "Epoch 60/100\n",
      "60000/60000 [==============================] - 11s 177us/step - loss: 0.3078 - acc: 0.8907 - val_loss: 0.3942 - val_acc: 0.8631\n",
      "Epoch 61/100\n",
      "60000/60000 [==============================] - 10s 165us/step - loss: 0.3065 - acc: 0.8907 - val_loss: 0.3929 - val_acc: 0.8620\n",
      "Epoch 62/100\n",
      "60000/60000 [==============================] - 5s 89us/step - loss: 0.3049 - acc: 0.8911 - val_loss: 0.3929 - val_acc: 0.8611\n",
      "Epoch 63/100\n",
      "60000/60000 [==============================] - 6s 94us/step - loss: 0.3037 - acc: 0.8915 - val_loss: 0.3904 - val_acc: 0.8627\n",
      "Epoch 64/100\n",
      "60000/60000 [==============================] - 7s 121us/step - loss: 0.3025 - acc: 0.8923 - val_loss: 0.3900 - val_acc: 0.8635\n",
      "Epoch 65/100\n",
      "60000/60000 [==============================] - 7s 124us/step - loss: 0.3008 - acc: 0.8932 - val_loss: 0.3891 - val_acc: 0.8631\n",
      "Epoch 66/100\n",
      "60000/60000 [==============================] - 6s 106us/step - loss: 0.2996 - acc: 0.8936 - val_loss: 0.3880 - val_acc: 0.8648\n",
      "Epoch 67/100\n",
      "60000/60000 [==============================] - 5s 79us/step - loss: 0.2984 - acc: 0.8934 - val_loss: 0.3894 - val_acc: 0.8600\n",
      "Epoch 68/100\n",
      "60000/60000 [==============================] - 8s 129us/step - loss: 0.2965 - acc: 0.8949 - val_loss: 0.3873 - val_acc: 0.8640\n",
      "Epoch 69/100\n",
      "60000/60000 [==============================] - 4s 72us/step - loss: 0.2950 - acc: 0.8957 - val_loss: 0.3856 - val_acc: 0.8622\n",
      "Epoch 70/100\n",
      "60000/60000 [==============================] - 4s 68us/step - loss: 0.2942 - acc: 0.8951 - val_loss: 0.3881 - val_acc: 0.8642\n",
      "Epoch 71/100\n",
      "60000/60000 [==============================] - 4s 66us/step - loss: 0.2935 - acc: 0.8960 - val_loss: 0.3861 - val_acc: 0.8632\n",
      "Epoch 72/100\n",
      "60000/60000 [==============================] - 5s 90us/step - loss: 0.2918 - acc: 0.8953 - val_loss: 0.3883 - val_acc: 0.8628\n",
      "Epoch 73/100\n",
      "60000/60000 [==============================] - 4s 70us/step - loss: 0.2915 - acc: 0.8966 - val_loss: 0.3871 - val_acc: 0.8613\n",
      "Epoch 74/100\n",
      "60000/60000 [==============================] - 5s 79us/step - loss: 0.2901 - acc: 0.8968 - val_loss: 0.3875 - val_acc: 0.8637\n",
      "Epoch 75/100\n",
      "60000/60000 [==============================] - 5s 82us/step - loss: 0.2887 - acc: 0.8971 - val_loss: 0.3851 - val_acc: 0.8624\n",
      "Epoch 76/100\n",
      "60000/60000 [==============================] - 6s 108us/step - loss: 0.2872 - acc: 0.8970 - val_loss: 0.3859 - val_acc: 0.8653\n",
      "Epoch 77/100\n",
      "60000/60000 [==============================] - 6s 98us/step - loss: 0.2862 - acc: 0.8976 - val_loss: 0.3813 - val_acc: 0.8642\n",
      "Epoch 78/100\n",
      "60000/60000 [==============================] - 4s 74us/step - loss: 0.2845 - acc: 0.8986 - val_loss: 0.3840 - val_acc: 0.8625\n",
      "Epoch 79/100\n",
      "60000/60000 [==============================] - 4s 72us/step - loss: 0.2843 - acc: 0.8987 - val_loss: 0.3801 - val_acc: 0.8648\n",
      "Epoch 80/100\n",
      "60000/60000 [==============================] - 5s 91us/step - loss: 0.2822 - acc: 0.8996 - val_loss: 0.3836 - val_acc: 0.8653\n",
      "Epoch 81/100\n",
      "60000/60000 [==============================] - 5s 80us/step - loss: 0.2818 - acc: 0.8993 - val_loss: 0.3805 - val_acc: 0.8658\n",
      "Epoch 82/100\n",
      "60000/60000 [==============================] - 6s 94us/step - loss: 0.2805 - acc: 0.9009 - val_loss: 0.3796 - val_acc: 0.8642\n",
      "Epoch 83/100\n",
      "60000/60000 [==============================] - 5s 79us/step - loss: 0.2791 - acc: 0.9001 - val_loss: 0.3786 - val_acc: 0.8664\n",
      "Epoch 84/100\n",
      "60000/60000 [==============================] - 4s 75us/step - loss: 0.2793 - acc: 0.9004 - val_loss: 0.3781 - val_acc: 0.8658\n",
      "Epoch 85/100\n",
      "60000/60000 [==============================] - 6s 104us/step - loss: 0.2774 - acc: 0.9009 - val_loss: 0.3788 - val_acc: 0.8656\n",
      "Epoch 86/100\n",
      "60000/60000 [==============================] - 5s 79us/step - loss: 0.2762 - acc: 0.9015 - val_loss: 0.3804 - val_acc: 0.8657\n",
      "Epoch 87/100\n",
      "60000/60000 [==============================] - 4s 74us/step - loss: 0.2749 - acc: 0.9024 - val_loss: 0.3767 - val_acc: 0.8663\n",
      "Epoch 88/100\n",
      "60000/60000 [==============================] - 4s 62us/step - loss: 0.2742 - acc: 0.9028 - val_loss: 0.3844 - val_acc: 0.8639\n",
      "Epoch 89/100\n",
      "60000/60000 [==============================] - 4s 65us/step - loss: 0.2729 - acc: 0.9026 - val_loss: 0.3816 - val_acc: 0.8655\n",
      "Epoch 90/100\n",
      "60000/60000 [==============================] - 4s 63us/step - loss: 0.2717 - acc: 0.9025 - val_loss: 0.3786 - val_acc: 0.8667\n",
      "Epoch 91/100\n",
      "60000/60000 [==============================] - 4s 62us/step - loss: 0.2708 - acc: 0.9038 - val_loss: 0.3812 - val_acc: 0.8662\n",
      "Epoch 92/100\n",
      "60000/60000 [==============================] - 4s 63us/step - loss: 0.2700 - acc: 0.9027 - val_loss: 0.3758 - val_acc: 0.8679\n",
      "Epoch 93/100\n",
      "60000/60000 [==============================] - 5s 80us/step - loss: 0.2692 - acc: 0.9038 - val_loss: 0.3746 - val_acc: 0.8677\n",
      "Epoch 94/100\n",
      "60000/60000 [==============================] - 4s 68us/step - loss: 0.2677 - acc: 0.9045 - val_loss: 0.3773 - val_acc: 0.8652\n",
      "Epoch 95/100\n",
      "60000/60000 [==============================] - 5s 78us/step - loss: 0.2672 - acc: 0.9049 - val_loss: 0.3744 - val_acc: 0.8672\n",
      "Epoch 96/100\n",
      "60000/60000 [==============================] - 5s 82us/step - loss: 0.2661 - acc: 0.9047 - val_loss: 0.3742 - val_acc: 0.8683\n",
      "Epoch 97/100\n",
      "60000/60000 [==============================] - 5s 84us/step - loss: 0.2647 - acc: 0.9062 - val_loss: 0.3731 - val_acc: 0.8688\n",
      "Epoch 98/100\n",
      "60000/60000 [==============================] - 8s 126us/step - loss: 0.2644 - acc: 0.9058 - val_loss: 0.3736 - val_acc: 0.8696\n",
      "Epoch 99/100\n",
      "60000/60000 [==============================] - 8s 129us/step - loss: 0.2638 - acc: 0.9060 - val_loss: 0.3750 - val_acc: 0.8662\n",
      "Epoch 100/100\n",
      "60000/60000 [==============================] - 7s 121us/step - loss: 0.2627 - acc: 0.9058 - val_loss: 0.3725 - val_acc: 0.8682\n"
     ]
    },
    {
     "data": {
      "text/plain": [
       "<keras.callbacks.History at 0x3615aef0>"
      ]
     },
     "execution_count": 22,
     "metadata": {},
     "output_type": "execute_result"
    }
   ],
   "source": [
    "model.fit(trainX, trainY, epochs=100, batch_size=600, validation_data=(testX, testY))"
   ]
  },
  {
   "cell_type": "markdown",
   "metadata": {
    "colab_type": "text",
    "id": "Nr2YsZV0OIV0",
    "slideshow": {
     "slide_type": "slide"
    }
   },
   "source": [
    "## Review model"
   ]
  },
  {
   "cell_type": "code",
   "execution_count": 27,
   "metadata": {},
   "outputs": [
    {
     "name": "stdout",
     "output_type": "stream",
     "text": [
      "10000/10000 [==============================] - 1s 141us/step\n"
     ]
    },
    {
     "data": {
      "text/plain": [
       "86.82"
      ]
     },
     "execution_count": 27,
     "metadata": {},
     "output_type": "execute_result"
    }
   ],
   "source": [
    "scores = model.evaluate(testX, testY)\n",
    "scores[1]*100"
   ]
  },
  {
   "cell_type": "code",
   "execution_count": 28,
   "metadata": {},
   "outputs": [
    {
     "name": "stdout",
     "output_type": "stream",
     "text": [
      "60000/60000 [==============================] - 8s 125us/step\n"
     ]
    },
    {
     "data": {
      "text/plain": [
       "90.88000000000001"
      ]
     },
     "execution_count": 28,
     "metadata": {},
     "output_type": "execute_result"
    }
   ],
   "source": [
    "scores = model.evaluate(trainX, trainY)\n",
    "scores[1]*100"
   ]
  },
  {
   "cell_type": "code",
   "execution_count": null,
   "metadata": {
    "colab": {},
    "colab_type": "code",
    "id": "bIkbMEN5OIV7"
   },
   "outputs": [],
   "source": []
  }
 ],
 "metadata": {
  "colab": {
   "name": "R6_ExternalLab_AIML.ipynb",
   "provenance": [],
   "version": "0.3.2"
  },
  "kernelspec": {
   "display_name": "Python 3",
   "language": "python",
   "name": "python3"
  },
  "language_info": {
   "codemirror_mode": {
    "name": "ipython",
    "version": 3
   },
   "file_extension": ".py",
   "mimetype": "text/x-python",
   "name": "python",
   "nbconvert_exporter": "python",
   "pygments_lexer": "ipython3",
   "version": "3.7.1"
  }
 },
 "nbformat": 4,
 "nbformat_minor": 1
}
