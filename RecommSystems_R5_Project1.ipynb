{
 "cells": [
  {
   "cell_type": "markdown",
   "metadata": {},
   "source": [
    "## Build your own recommendation system for products on an e-commerce website like Amazon.com. \n",
    "\n",
    "* Dataset columns - first three columns are userId, productId, and ratings and the fourth column is timestamp. You can discard the timestamp column as in this case you may not need to use it.\n",
    "\n",
    "* Source - Amazon Reviews data (http://jmcauley.ucsd.edu/data/amazon/).\n",
    "\n",
    "* Dataset Link - https://drive.google.com/file/d/1ClBptsK3V5KgKXtK2GSRzFNAW7GnTPDW/view?usp=sharing"
   ]
  },
  {
   "cell_type": "markdown",
   "metadata": {},
   "source": [
    "### 1.Read and explore the given dataset.  ( Rename column/add headers, plot histograms, find data characteristics)"
   ]
  },
  {
   "cell_type": "code",
   "execution_count": 1,
   "metadata": {},
   "outputs": [],
   "source": [
    "import numpy as np\n",
    "import pandas as pd\n",
    "import matplotlib.pyplot as plt\n",
    "%matplotlib inline"
   ]
  },
  {
   "cell_type": "code",
   "execution_count": 2,
   "metadata": {},
   "outputs": [
    {
     "data": {
      "text/html": [
       "<div>\n",
       "<style scoped>\n",
       "    .dataframe tbody tr th:only-of-type {\n",
       "        vertical-align: middle;\n",
       "    }\n",
       "\n",
       "    .dataframe tbody tr th {\n",
       "        vertical-align: top;\n",
       "    }\n",
       "\n",
       "    .dataframe thead th {\n",
       "        text-align: right;\n",
       "    }\n",
       "</style>\n",
       "<table border=\"1\" class=\"dataframe\">\n",
       "  <thead>\n",
       "    <tr style=\"text-align: right;\">\n",
       "      <th></th>\n",
       "      <th>userId</th>\n",
       "      <th>productId</th>\n",
       "      <th>ratings</th>\n",
       "    </tr>\n",
       "  </thead>\n",
       "  <tbody>\n",
       "    <tr>\n",
       "      <th>0</th>\n",
       "      <td>AKM1MP6P0OYPR</td>\n",
       "      <td>0132793040</td>\n",
       "      <td>5.0</td>\n",
       "    </tr>\n",
       "    <tr>\n",
       "      <th>1</th>\n",
       "      <td>A2CX7LUOHB2NDG</td>\n",
       "      <td>0321732944</td>\n",
       "      <td>5.0</td>\n",
       "    </tr>\n",
       "    <tr>\n",
       "      <th>2</th>\n",
       "      <td>A2NWSAGRHCP8N5</td>\n",
       "      <td>0439886341</td>\n",
       "      <td>1.0</td>\n",
       "    </tr>\n",
       "    <tr>\n",
       "      <th>3</th>\n",
       "      <td>A2WNBOD3WNDNKT</td>\n",
       "      <td>0439886341</td>\n",
       "      <td>3.0</td>\n",
       "    </tr>\n",
       "    <tr>\n",
       "      <th>4</th>\n",
       "      <td>A1GI0U4ZRJA8WN</td>\n",
       "      <td>0439886341</td>\n",
       "      <td>1.0</td>\n",
       "    </tr>\n",
       "  </tbody>\n",
       "</table>\n",
       "</div>"
      ],
      "text/plain": [
       "           userId   productId  ratings\n",
       "0   AKM1MP6P0OYPR  0132793040      5.0\n",
       "1  A2CX7LUOHB2NDG  0321732944      5.0\n",
       "2  A2NWSAGRHCP8N5  0439886341      1.0\n",
       "3  A2WNBOD3WNDNKT  0439886341      3.0\n",
       "4  A1GI0U4ZRJA8WN  0439886341      1.0"
      ]
     },
     "execution_count": 2,
     "metadata": {},
     "output_type": "execute_result"
    }
   ],
   "source": [
    "amazon_cols = ['userId', 'productId', 'ratings', 'timestamp']\n",
    "amazon_cols_required = ['userId', 'productId', 'ratings']\n",
    "amazon = pd.read_csv(\"ratings_Electronics.csv\", names=amazon_cols, usecols=amazon_cols_required)\n",
    "amazon.head()"
   ]
  },
  {
   "cell_type": "code",
   "execution_count": 3,
   "metadata": {},
   "outputs": [
    {
     "name": "stdout",
     "output_type": "stream",
     "text": [
      "<class 'pandas.core.frame.DataFrame'>\n",
      "RangeIndex: 7824482 entries, 0 to 7824481\n",
      "Data columns (total 3 columns):\n",
      "userId       object\n",
      "productId    object\n",
      "ratings      float64\n",
      "dtypes: float64(1), object(2)\n",
      "memory usage: 179.1+ MB\n"
     ]
    }
   ],
   "source": [
    "amazon.info()"
   ]
  },
  {
   "cell_type": "code",
   "execution_count": 4,
   "metadata": {},
   "outputs": [],
   "source": [
    "amazon.ratings = amazon.ratings.astype('int32')"
   ]
  },
  {
   "cell_type": "code",
   "execution_count": 5,
   "metadata": {},
   "outputs": [
    {
     "data": {
      "text/html": [
       "<div>\n",
       "<style scoped>\n",
       "    .dataframe tbody tr th:only-of-type {\n",
       "        vertical-align: middle;\n",
       "    }\n",
       "\n",
       "    .dataframe tbody tr th {\n",
       "        vertical-align: top;\n",
       "    }\n",
       "\n",
       "    .dataframe thead th {\n",
       "        text-align: right;\n",
       "    }\n",
       "</style>\n",
       "<table border=\"1\" class=\"dataframe\">\n",
       "  <thead>\n",
       "    <tr style=\"text-align: right;\">\n",
       "      <th></th>\n",
       "      <th>ratings</th>\n",
       "    </tr>\n",
       "  </thead>\n",
       "  <tbody>\n",
       "    <tr>\n",
       "      <th>count</th>\n",
       "      <td>7.824482e+06</td>\n",
       "    </tr>\n",
       "    <tr>\n",
       "      <th>mean</th>\n",
       "      <td>4.012337e+00</td>\n",
       "    </tr>\n",
       "    <tr>\n",
       "      <th>std</th>\n",
       "      <td>1.380910e+00</td>\n",
       "    </tr>\n",
       "    <tr>\n",
       "      <th>min</th>\n",
       "      <td>1.000000e+00</td>\n",
       "    </tr>\n",
       "    <tr>\n",
       "      <th>25%</th>\n",
       "      <td>3.000000e+00</td>\n",
       "    </tr>\n",
       "    <tr>\n",
       "      <th>50%</th>\n",
       "      <td>5.000000e+00</td>\n",
       "    </tr>\n",
       "    <tr>\n",
       "      <th>75%</th>\n",
       "      <td>5.000000e+00</td>\n",
       "    </tr>\n",
       "    <tr>\n",
       "      <th>max</th>\n",
       "      <td>5.000000e+00</td>\n",
       "    </tr>\n",
       "  </tbody>\n",
       "</table>\n",
       "</div>"
      ],
      "text/plain": [
       "            ratings\n",
       "count  7.824482e+06\n",
       "mean   4.012337e+00\n",
       "std    1.380910e+00\n",
       "min    1.000000e+00\n",
       "25%    3.000000e+00\n",
       "50%    5.000000e+00\n",
       "75%    5.000000e+00\n",
       "max    5.000000e+00"
      ]
     },
     "execution_count": 5,
     "metadata": {},
     "output_type": "execute_result"
    }
   ],
   "source": [
    "amazon.describe()"
   ]
  },
  {
   "cell_type": "code",
   "execution_count": 6,
   "metadata": {},
   "outputs": [
    {
     "data": {
      "image/png": "[encoded data removed]",
      "text/plain": [
       "<Figure size 432x288 with 1 Axes>"
      ]
     },
     "metadata": {
      "needs_background": "light"
     },
     "output_type": "display_data"
    }
   ],
   "source": [
    "plt.hist(amazon['ratings'])\n",
    "plt.show()"
   ]
  },
  {
   "cell_type": "markdown",
   "metadata": {},
   "source": [
    "### 2.Take a subset of the dataset to make it less sparse/ denser. ( For example, keep the users only who has given 50 or more number of ratings )"
   ]
  },
  {
   "cell_type": "code",
   "execution_count": 7,
   "metadata": {},
   "outputs": [],
   "source": [
    "higher_rate_df = amazon.loc[amazon['ratings'] > 4] \n",
    "higher_rate_df.reset_index(drop=True, inplace=True)"
   ]
  },
  {
   "cell_type": "markdown",
   "metadata": {},
   "source": [
    "### 3.Split the data randomly into train and test dataset ( For example, split it in 70/30 ratio)"
   ]
  },
  {
   "cell_type": "code",
   "execution_count": 8,
   "metadata": {},
   "outputs": [],
   "source": [
    "from sklearn.model_selection import train_test_split\n",
    "train_data, test_data = train_test_split(higher_rate_df, test_size = 0.30, random_state=0)"
   ]
  },
  {
   "cell_type": "markdown",
   "metadata": {},
   "source": [
    "### 4.Build Popularity Recommender model."
   ]
  },
  {
   "cell_type": "code",
   "execution_count": 9,
   "metadata": {},
   "outputs": [],
   "source": [
    "def popular_recommendation(userId, num_recommendations=5):\n",
    "    product_grouped_by_rating = higher_rate_df.groupby(['productId']).agg({'ratings': 'count'}).reset_index()\n",
    "    sorted_product = product_grouped_by_rating.sort_values(['ratings'], ascending = False) # ratings in descending order\n",
    "    df = sorted_product.reset_index(drop=True)\n",
    "    recommendataions = df.head(num_recommendations)\n",
    "    recommendataions.userId = userId\n",
    "    return recommendataions.productId"
   ]
  },
  {
   "cell_type": "code",
   "execution_count": 10,
   "metadata": {},
   "outputs": [
    {
     "name": "stdout",
     "output_type": "stream",
     "text": [
      "0    B0074BW614\n",
      "1    B007WTAJTO\n",
      "2    B0019EHU8G\n",
      "3    B003ES5ZUU\n",
      "4    B00DR0PDNE\n",
      "Name: productId, dtype: object\n"
     ]
    }
   ],
   "source": [
    "print(popular_recommendation('A2CX7LUOHB2NDG'))"
   ]
  },
  {
   "cell_type": "code",
   "execution_count": 11,
   "metadata": {},
   "outputs": [
    {
     "name": "stdout",
     "output_type": "stream",
     "text": [
      "0    B0074BW614\n",
      "1    B007WTAJTO\n",
      "2    B0019EHU8G\n",
      "3    B003ES5ZUU\n",
      "4    B00DR0PDNE\n",
      "Name: productId, dtype: object\n"
     ]
    }
   ],
   "source": [
    "print(popular_recommendation('A2WNBOD3WNDNKT'))"
   ]
  },
  {
   "cell_type": "code",
   "execution_count": 12,
   "metadata": {},
   "outputs": [],
   "source": [
    "# since it is popularity based recommendation system, it returns the same list of the popular products for all users"
   ]
  },
  {
   "cell_type": "markdown",
   "metadata": {},
   "source": [
    "### 5.Build Collaborative Filtering model."
   ]
  },
  {
   "cell_type": "code",
   "execution_count": 13,
   "metadata": {},
   "outputs": [],
   "source": [
    "collaborative_filter = higher_rate_df.head(10000)"
   ]
  },
  {
   "cell_type": "code",
   "execution_count": 14,
   "metadata": {},
   "outputs": [
    {
     "data": {
      "text/html": [
       "<div>\n",
       "<style scoped>\n",
       "    .dataframe tbody tr th:only-of-type {\n",
       "        vertical-align: middle;\n",
       "    }\n",
       "\n",
       "    .dataframe tbody tr th {\n",
       "        vertical-align: top;\n",
       "    }\n",
       "\n",
       "    .dataframe thead th {\n",
       "        text-align: right;\n",
       "    }\n",
       "</style>\n",
       "<table border=\"1\" class=\"dataframe\">\n",
       "  <thead>\n",
       "    <tr style=\"text-align: right;\">\n",
       "      <th></th>\n",
       "      <th>userId</th>\n",
       "      <th>productId</th>\n",
       "      <th>ratings</th>\n",
       "    </tr>\n",
       "  </thead>\n",
       "  <tbody>\n",
       "    <tr>\n",
       "      <th>0</th>\n",
       "      <td>AKM1MP6P0OYPR</td>\n",
       "      <td>0132793040</td>\n",
       "      <td>5</td>\n",
       "    </tr>\n",
       "    <tr>\n",
       "      <th>1</th>\n",
       "      <td>A2CX7LUOHB2NDG</td>\n",
       "      <td>0321732944</td>\n",
       "      <td>5</td>\n",
       "    </tr>\n",
       "    <tr>\n",
       "      <th>2</th>\n",
       "      <td>A1QGNMC6O1VW39</td>\n",
       "      <td>0511189877</td>\n",
       "      <td>5</td>\n",
       "    </tr>\n",
       "    <tr>\n",
       "      <th>3</th>\n",
       "      <td>A2TY0BTJOTENPG</td>\n",
       "      <td>0511189877</td>\n",
       "      <td>5</td>\n",
       "    </tr>\n",
       "    <tr>\n",
       "      <th>4</th>\n",
       "      <td>A34ATBPOK6HCHY</td>\n",
       "      <td>0511189877</td>\n",
       "      <td>5</td>\n",
       "    </tr>\n",
       "  </tbody>\n",
       "</table>\n",
       "</div>"
      ],
      "text/plain": [
       "           userId   productId  ratings\n",
       "0   AKM1MP6P0OYPR  0132793040        5\n",
       "1  A2CX7LUOHB2NDG  0321732944        5\n",
       "2  A1QGNMC6O1VW39  0511189877        5\n",
       "3  A2TY0BTJOTENPG  0511189877        5\n",
       "4  A34ATBPOK6HCHY  0511189877        5"
      ]
     },
     "execution_count": 14,
     "metadata": {},
     "output_type": "execute_result"
    }
   ],
   "source": [
    "collaborative_filter.head()"
   ]
  },
  {
   "cell_type": "code",
   "execution_count": 15,
   "metadata": {},
   "outputs": [
    {
     "data": {
      "text/html": [
       "<div>\n",
       "<style scoped>\n",
       "    .dataframe tbody tr th:only-of-type {\n",
       "        vertical-align: middle;\n",
       "    }\n",
       "\n",
       "    .dataframe tbody tr th {\n",
       "        vertical-align: top;\n",
       "    }\n",
       "\n",
       "    .dataframe thead th {\n",
       "        text-align: right;\n",
       "    }\n",
       "</style>\n",
       "<table border=\"1\" class=\"dataframe\">\n",
       "  <thead>\n",
       "    <tr style=\"text-align: right;\">\n",
       "      <th>productId</th>\n",
       "      <th>0132793040</th>\n",
       "      <th>0321732944</th>\n",
       "      <th>0511189877</th>\n",
       "      <th>0528881469</th>\n",
       "      <th>059400232X</th>\n",
       "      <th>0594012015</th>\n",
       "      <th>0594033896</th>\n",
       "      <th>0594033926</th>\n",
       "      <th>0594033934</th>\n",
       "      <th>0594287995</th>\n",
       "      <th>...</th>\n",
       "      <th>B00000K0ZX</th>\n",
       "      <th>B00000K102</th>\n",
       "      <th>B00000K10E</th>\n",
       "      <th>B00000K10G</th>\n",
       "      <th>B00000K12U</th>\n",
       "      <th>B00000K12X</th>\n",
       "      <th>B00000K135</th>\n",
       "      <th>B00000K137</th>\n",
       "      <th>B00000K139</th>\n",
       "      <th>B00000K13A</th>\n",
       "    </tr>\n",
       "    <tr>\n",
       "      <th>userId</th>\n",
       "      <th></th>\n",
       "      <th></th>\n",
       "      <th></th>\n",
       "      <th></th>\n",
       "      <th></th>\n",
       "      <th></th>\n",
       "      <th></th>\n",
       "      <th></th>\n",
       "      <th></th>\n",
       "      <th></th>\n",
       "      <th></th>\n",
       "      <th></th>\n",
       "      <th></th>\n",
       "      <th></th>\n",
       "      <th></th>\n",
       "      <th></th>\n",
       "      <th></th>\n",
       "      <th></th>\n",
       "      <th></th>\n",
       "      <th></th>\n",
       "      <th></th>\n",
       "    </tr>\n",
       "  </thead>\n",
       "  <tbody>\n",
       "    <tr>\n",
       "      <th>A00766851QZZUBOVF4JFT</th>\n",
       "      <td>0.0</td>\n",
       "      <td>0.0</td>\n",
       "      <td>0.0</td>\n",
       "      <td>0.0</td>\n",
       "      <td>0.0</td>\n",
       "      <td>0.0</td>\n",
       "      <td>0.0</td>\n",
       "      <td>0.0</td>\n",
       "      <td>0.0</td>\n",
       "      <td>0.0</td>\n",
       "      <td>...</td>\n",
       "      <td>0.0</td>\n",
       "      <td>0.0</td>\n",
       "      <td>0.0</td>\n",
       "      <td>0.0</td>\n",
       "      <td>0.0</td>\n",
       "      <td>0.0</td>\n",
       "      <td>0.0</td>\n",
       "      <td>0.0</td>\n",
       "      <td>0.0</td>\n",
       "      <td>0.0</td>\n",
       "    </tr>\n",
       "    <tr>\n",
       "      <th>A01255851ZO1U93P8RKGE</th>\n",
       "      <td>0.0</td>\n",
       "      <td>0.0</td>\n",
       "      <td>0.0</td>\n",
       "      <td>0.0</td>\n",
       "      <td>0.0</td>\n",
       "      <td>0.0</td>\n",
       "      <td>0.0</td>\n",
       "      <td>0.0</td>\n",
       "      <td>0.0</td>\n",
       "      <td>0.0</td>\n",
       "      <td>...</td>\n",
       "      <td>0.0</td>\n",
       "      <td>0.0</td>\n",
       "      <td>0.0</td>\n",
       "      <td>0.0</td>\n",
       "      <td>0.0</td>\n",
       "      <td>0.0</td>\n",
       "      <td>0.0</td>\n",
       "      <td>0.0</td>\n",
       "      <td>0.0</td>\n",
       "      <td>0.0</td>\n",
       "    </tr>\n",
       "    <tr>\n",
       "      <th>A0266076X6KPZ6CCHGVS</th>\n",
       "      <td>0.0</td>\n",
       "      <td>0.0</td>\n",
       "      <td>0.0</td>\n",
       "      <td>0.0</td>\n",
       "      <td>0.0</td>\n",
       "      <td>0.0</td>\n",
       "      <td>0.0</td>\n",
       "      <td>0.0</td>\n",
       "      <td>0.0</td>\n",
       "      <td>0.0</td>\n",
       "      <td>...</td>\n",
       "      <td>0.0</td>\n",
       "      <td>0.0</td>\n",
       "      <td>0.0</td>\n",
       "      <td>0.0</td>\n",
       "      <td>0.0</td>\n",
       "      <td>0.0</td>\n",
       "      <td>0.0</td>\n",
       "      <td>0.0</td>\n",
       "      <td>0.0</td>\n",
       "      <td>0.0</td>\n",
       "    </tr>\n",
       "    <tr>\n",
       "      <th>A0293130VTX2ZXA70JQS</th>\n",
       "      <td>0.0</td>\n",
       "      <td>0.0</td>\n",
       "      <td>0.0</td>\n",
       "      <td>0.0</td>\n",
       "      <td>0.0</td>\n",
       "      <td>0.0</td>\n",
       "      <td>0.0</td>\n",
       "      <td>0.0</td>\n",
       "      <td>0.0</td>\n",
       "      <td>0.0</td>\n",
       "      <td>...</td>\n",
       "      <td>0.0</td>\n",
       "      <td>0.0</td>\n",
       "      <td>0.0</td>\n",
       "      <td>0.0</td>\n",
       "      <td>0.0</td>\n",
       "      <td>0.0</td>\n",
       "      <td>0.0</td>\n",
       "      <td>0.0</td>\n",
       "      <td>0.0</td>\n",
       "      <td>0.0</td>\n",
       "    </tr>\n",
       "    <tr>\n",
       "      <th>A0402564TCEO67AUZFJO</th>\n",
       "      <td>0.0</td>\n",
       "      <td>0.0</td>\n",
       "      <td>0.0</td>\n",
       "      <td>0.0</td>\n",
       "      <td>0.0</td>\n",
       "      <td>0.0</td>\n",
       "      <td>0.0</td>\n",
       "      <td>0.0</td>\n",
       "      <td>0.0</td>\n",
       "      <td>0.0</td>\n",
       "      <td>...</td>\n",
       "      <td>0.0</td>\n",
       "      <td>0.0</td>\n",
       "      <td>0.0</td>\n",
       "      <td>0.0</td>\n",
       "      <td>0.0</td>\n",
       "      <td>0.0</td>\n",
       "      <td>0.0</td>\n",
       "      <td>0.0</td>\n",
       "      <td>0.0</td>\n",
       "      <td>0.0</td>\n",
       "    </tr>\n",
       "  </tbody>\n",
       "</table>\n",
       "<p>5 rows × 1406 columns</p>\n",
       "</div>"
      ],
      "text/plain": [
       "productId              0132793040  0321732944  0511189877  0528881469  \\\n",
       "userId                                                                  \n",
       "A00766851QZZUBOVF4JFT         0.0         0.0         0.0         0.0   \n",
       "A01255851ZO1U93P8RKGE         0.0         0.0         0.0         0.0   \n",
       "A0266076X6KPZ6CCHGVS          0.0         0.0         0.0         0.0   \n",
       "A0293130VTX2ZXA70JQS          0.0         0.0         0.0         0.0   \n",
       "A0402564TCEO67AUZFJO          0.0         0.0         0.0         0.0   \n",
       "\n",
       "productId              059400232X  0594012015  0594033896  0594033926  \\\n",
       "userId                                                                  \n",
       "A00766851QZZUBOVF4JFT         0.0         0.0         0.0         0.0   \n",
       "A01255851ZO1U93P8RKGE         0.0         0.0         0.0         0.0   \n",
       "A0266076X6KPZ6CCHGVS          0.0         0.0         0.0         0.0   \n",
       "A0293130VTX2ZXA70JQS          0.0         0.0         0.0         0.0   \n",
       "A0402564TCEO67AUZFJO          0.0         0.0         0.0         0.0   \n",
       "\n",
       "productId              0594033934  0594287995     ...      B00000K0ZX  \\\n",
       "userId                                            ...                   \n",
       "A00766851QZZUBOVF4JFT         0.0         0.0     ...             0.0   \n",
       "A01255851ZO1U93P8RKGE         0.0         0.0     ...             0.0   \n",
       "A0266076X6KPZ6CCHGVS          0.0         0.0     ...             0.0   \n",
       "A0293130VTX2ZXA70JQS          0.0         0.0     ...             0.0   \n",
       "A0402564TCEO67AUZFJO          0.0         0.0     ...             0.0   \n",
       "\n",
       "productId              B00000K102  B00000K10E  B00000K10G  B00000K12U  \\\n",
       "userId                                                                  \n",
       "A00766851QZZUBOVF4JFT         0.0         0.0         0.0         0.0   \n",
       "A01255851ZO1U93P8RKGE         0.0         0.0         0.0         0.0   \n",
       "A0266076X6KPZ6CCHGVS          0.0         0.0         0.0         0.0   \n",
       "A0293130VTX2ZXA70JQS          0.0         0.0         0.0         0.0   \n",
       "A0402564TCEO67AUZFJO          0.0         0.0         0.0         0.0   \n",
       "\n",
       "productId              B00000K12X  B00000K135  B00000K137  B00000K139  \\\n",
       "userId                                                                  \n",
       "A00766851QZZUBOVF4JFT         0.0         0.0         0.0         0.0   \n",
       "A01255851ZO1U93P8RKGE         0.0         0.0         0.0         0.0   \n",
       "A0266076X6KPZ6CCHGVS          0.0         0.0         0.0         0.0   \n",
       "A0293130VTX2ZXA70JQS          0.0         0.0         0.0         0.0   \n",
       "A0402564TCEO67AUZFJO          0.0         0.0         0.0         0.0   \n",
       "\n",
       "productId              B00000K13A  \n",
       "userId                             \n",
       "A00766851QZZUBOVF4JFT         0.0  \n",
       "A01255851ZO1U93P8RKGE         0.0  \n",
       "A0266076X6KPZ6CCHGVS          0.0  \n",
       "A0293130VTX2ZXA70JQS          0.0  \n",
       "A0402564TCEO67AUZFJO          0.0  \n",
       "\n",
       "[5 rows x 1406 columns]"
      ]
     },
     "execution_count": 15,
     "metadata": {},
     "output_type": "execute_result"
    }
   ],
   "source": [
    "pivot_df= collaborative_filter.pivot(index = 'userId', columns ='productId', values = 'ratings').fillna(0)\n",
    "pivot_df.head()"
   ]
  },
  {
   "cell_type": "code",
   "execution_count": 16,
   "metadata": {},
   "outputs": [
    {
     "data": {
      "text/plain": [
       "(9731, 1406)"
      ]
     },
     "execution_count": 16,
     "metadata": {},
     "output_type": "execute_result"
    }
   ],
   "source": [
    "pivot_df.shape"
   ]
  },
  {
   "cell_type": "code",
   "execution_count": 17,
   "metadata": {},
   "outputs": [],
   "source": [
    "from scipy.sparse.linalg import svds\n",
    "U, sigma, Vt = svds(pivot_df, k = 50)\n",
    "sigma = np.diag(sigma)"
   ]
  },
  {
   "cell_type": "code",
   "execution_count": 18,
   "metadata": {},
   "outputs": [
    {
     "data": {
      "text/html": [
       "<div>\n",
       "<style scoped>\n",
       "    .dataframe tbody tr th:only-of-type {\n",
       "        vertical-align: middle;\n",
       "    }\n",
       "\n",
       "    .dataframe tbody tr th {\n",
       "        vertical-align: top;\n",
       "    }\n",
       "\n",
       "    .dataframe thead th {\n",
       "        text-align: right;\n",
       "    }\n",
       "</style>\n",
       "<table border=\"1\" class=\"dataframe\">\n",
       "  <thead>\n",
       "    <tr style=\"text-align: right;\">\n",
       "      <th>productId</th>\n",
       "      <th>0132793040</th>\n",
       "      <th>0321732944</th>\n",
       "      <th>0511189877</th>\n",
       "      <th>0528881469</th>\n",
       "      <th>059400232X</th>\n",
       "      <th>0594012015</th>\n",
       "      <th>0594033896</th>\n",
       "      <th>0594033926</th>\n",
       "      <th>0594033934</th>\n",
       "      <th>0594287995</th>\n",
       "      <th>...</th>\n",
       "      <th>B00000K0ZX</th>\n",
       "      <th>B00000K102</th>\n",
       "      <th>B00000K10E</th>\n",
       "      <th>B00000K10G</th>\n",
       "      <th>B00000K12U</th>\n",
       "      <th>B00000K12X</th>\n",
       "      <th>B00000K135</th>\n",
       "      <th>B00000K137</th>\n",
       "      <th>B00000K139</th>\n",
       "      <th>B00000K13A</th>\n",
       "    </tr>\n",
       "  </thead>\n",
       "  <tbody>\n",
       "    <tr>\n",
       "      <th>0</th>\n",
       "      <td>2.585856e-33</td>\n",
       "      <td>4.748990e-36</td>\n",
       "      <td>5.683327e-32</td>\n",
       "      <td>-1.140966e-31</td>\n",
       "      <td>8.383428e-33</td>\n",
       "      <td>9.496710e-33</td>\n",
       "      <td>-2.713106e-32</td>\n",
       "      <td>1.226273e-18</td>\n",
       "      <td>-1.054847e-32</td>\n",
       "      <td>-1.576722e-33</td>\n",
       "      <td>...</td>\n",
       "      <td>-7.455358e-33</td>\n",
       "      <td>1.964542e-33</td>\n",
       "      <td>-5.040748e-33</td>\n",
       "      <td>3.399772e-18</td>\n",
       "      <td>-2.530965e-32</td>\n",
       "      <td>1.105108e-32</td>\n",
       "      <td>8.046362e-17</td>\n",
       "      <td>-5.036311e-32</td>\n",
       "      <td>-2.752748e-19</td>\n",
       "      <td>-3.393370e-17</td>\n",
       "    </tr>\n",
       "    <tr>\n",
       "      <th>1</th>\n",
       "      <td>1.940635e-32</td>\n",
       "      <td>4.059670e-35</td>\n",
       "      <td>-4.888957e-32</td>\n",
       "      <td>6.881059e-33</td>\n",
       "      <td>5.831307e-33</td>\n",
       "      <td>-3.013492e-32</td>\n",
       "      <td>9.476792e-32</td>\n",
       "      <td>-8.504668e-19</td>\n",
       "      <td>3.408907e-32</td>\n",
       "      <td>-1.375614e-32</td>\n",
       "      <td>...</td>\n",
       "      <td>1.405109e-32</td>\n",
       "      <td>1.742629e-32</td>\n",
       "      <td>1.863838e-32</td>\n",
       "      <td>-5.436626e-19</td>\n",
       "      <td>7.411520e-32</td>\n",
       "      <td>-2.546176e-32</td>\n",
       "      <td>9.558697e-17</td>\n",
       "      <td>-3.832371e-32</td>\n",
       "      <td>3.804656e-19</td>\n",
       "      <td>1.286155e-16</td>\n",
       "    </tr>\n",
       "    <tr>\n",
       "      <th>2</th>\n",
       "      <td>3.741339e-17</td>\n",
       "      <td>7.520866e-20</td>\n",
       "      <td>-1.148472e-16</td>\n",
       "      <td>-4.850074e-18</td>\n",
       "      <td>5.036955e-18</td>\n",
       "      <td>-1.958087e-17</td>\n",
       "      <td>5.740402e-17</td>\n",
       "      <td>-2.176831e-08</td>\n",
       "      <td>2.495857e-17</td>\n",
       "      <td>-2.666252e-17</td>\n",
       "      <td>...</td>\n",
       "      <td>-6.147021e-17</td>\n",
       "      <td>3.300999e-17</td>\n",
       "      <td>-1.056985e-17</td>\n",
       "      <td>9.205567e-10</td>\n",
       "      <td>4.256543e-17</td>\n",
       "      <td>1.392761e-16</td>\n",
       "      <td>1.199834e-09</td>\n",
       "      <td>-2.386973e-17</td>\n",
       "      <td>1.219202e-05</td>\n",
       "      <td>-3.520010e-08</td>\n",
       "    </tr>\n",
       "    <tr>\n",
       "      <th>3</th>\n",
       "      <td>-1.277945e-16</td>\n",
       "      <td>-2.712445e-19</td>\n",
       "      <td>1.887148e-16</td>\n",
       "      <td>1.337173e-16</td>\n",
       "      <td>-3.102434e-17</td>\n",
       "      <td>8.698922e-17</td>\n",
       "      <td>-2.578638e-16</td>\n",
       "      <td>-3.299400e-05</td>\n",
       "      <td>-9.507487e-17</td>\n",
       "      <td>9.206684e-17</td>\n",
       "      <td>...</td>\n",
       "      <td>-7.609102e-17</td>\n",
       "      <td>-1.153500e-16</td>\n",
       "      <td>-8.394778e-17</td>\n",
       "      <td>1.025412e-10</td>\n",
       "      <td>-2.136983e-16</td>\n",
       "      <td>1.485925e-16</td>\n",
       "      <td>-3.521554e-09</td>\n",
       "      <td>1.791933e-16</td>\n",
       "      <td>-3.036110e-05</td>\n",
       "      <td>-8.552320e-05</td>\n",
       "    </tr>\n",
       "    <tr>\n",
       "      <th>4</th>\n",
       "      <td>1.054920e-32</td>\n",
       "      <td>2.207583e-35</td>\n",
       "      <td>-2.706233e-32</td>\n",
       "      <td>4.591988e-33</td>\n",
       "      <td>3.265004e-33</td>\n",
       "      <td>-1.739516e-32</td>\n",
       "      <td>5.457722e-32</td>\n",
       "      <td>-4.948493e-19</td>\n",
       "      <td>1.962890e-32</td>\n",
       "      <td>-7.466373e-33</td>\n",
       "      <td>...</td>\n",
       "      <td>8.115525e-33</td>\n",
       "      <td>9.481481e-33</td>\n",
       "      <td>9.636184e-33</td>\n",
       "      <td>-2.195222e-19</td>\n",
       "      <td>4.260601e-32</td>\n",
       "      <td>-1.477187e-32</td>\n",
       "      <td>5.504471e-17</td>\n",
       "      <td>-2.151645e-32</td>\n",
       "      <td>2.309971e-19</td>\n",
       "      <td>7.517575e-17</td>\n",
       "    </tr>\n",
       "  </tbody>\n",
       "</table>\n",
       "<p>5 rows × 1406 columns</p>\n",
       "</div>"
      ],
      "text/plain": [
       "productId    0132793040    0321732944    0511189877    0528881469  \\\n",
       "0          2.585856e-33  4.748990e-36  5.683327e-32 -1.140966e-31   \n",
       "1          1.940635e-32  4.059670e-35 -4.888957e-32  6.881059e-33   \n",
       "2          3.741339e-17  7.520866e-20 -1.148472e-16 -4.850074e-18   \n",
       "3         -1.277945e-16 -2.712445e-19  1.887148e-16  1.337173e-16   \n",
       "4          1.054920e-32  2.207583e-35 -2.706233e-32  4.591988e-33   \n",
       "\n",
       "productId    059400232X    0594012015    0594033896    0594033926  \\\n",
       "0          8.383428e-33  9.496710e-33 -2.713106e-32  1.226273e-18   \n",
       "1          5.831307e-33 -3.013492e-32  9.476792e-32 -8.504668e-19   \n",
       "2          5.036955e-18 -1.958087e-17  5.740402e-17 -2.176831e-08   \n",
       "3         -3.102434e-17  8.698922e-17 -2.578638e-16 -3.299400e-05   \n",
       "4          3.265004e-33 -1.739516e-32  5.457722e-32 -4.948493e-19   \n",
       "\n",
       "productId    0594033934    0594287995      ...         B00000K0ZX  \\\n",
       "0         -1.054847e-32 -1.576722e-33      ...      -7.455358e-33   \n",
       "1          3.408907e-32 -1.375614e-32      ...       1.405109e-32   \n",
       "2          2.495857e-17 -2.666252e-17      ...      -6.147021e-17   \n",
       "3         -9.507487e-17  9.206684e-17      ...      -7.609102e-17   \n",
       "4          1.962890e-32 -7.466373e-33      ...       8.115525e-33   \n",
       "\n",
       "productId    B00000K102    B00000K10E    B00000K10G    B00000K12U  \\\n",
       "0          1.964542e-33 -5.040748e-33  3.399772e-18 -2.530965e-32   \n",
       "1          1.742629e-32  1.863838e-32 -5.436626e-19  7.411520e-32   \n",
       "2          3.300999e-17 -1.056985e-17  9.205567e-10  4.256543e-17   \n",
       "3         -1.153500e-16 -8.394778e-17  1.025412e-10 -2.136983e-16   \n",
       "4          9.481481e-33  9.636184e-33 -2.195222e-19  4.260601e-32   \n",
       "\n",
       "productId    B00000K12X    B00000K135    B00000K137    B00000K139  \\\n",
       "0          1.105108e-32  8.046362e-17 -5.036311e-32 -2.752748e-19   \n",
       "1         -2.546176e-32  9.558697e-17 -3.832371e-32  3.804656e-19   \n",
       "2          1.392761e-16  1.199834e-09 -2.386973e-17  1.219202e-05   \n",
       "3          1.485925e-16 -3.521554e-09  1.791933e-16 -3.036110e-05   \n",
       "4         -1.477187e-32  5.504471e-17 -2.151645e-32  2.309971e-19   \n",
       "\n",
       "productId    B00000K13A  \n",
       "0         -3.393370e-17  \n",
       "1          1.286155e-16  \n",
       "2         -3.520010e-08  \n",
       "3         -8.552320e-05  \n",
       "4          7.517575e-17  \n",
       "\n",
       "[5 rows x 1406 columns]"
      ]
     },
     "execution_count": 18,
     "metadata": {},
     "output_type": "execute_result"
    }
   ],
   "source": [
    "all_user_predicted_ratings = np.dot(np.dot(U, sigma), Vt) \n",
    "predictions_df = pd.DataFrame(all_user_predicted_ratings, columns = pivot_df.columns)\n",
    "predictions_df.head()"
   ]
  },
  {
   "cell_type": "code",
   "execution_count": 48,
   "metadata": {},
   "outputs": [],
   "source": [
    "def recommend_item(userID, pivot_df, predictions_df, num_recommendations=5):\n",
    "    user_idx = userID-1\n",
    "    sort_prod_by_ratings = pivot_df.iloc[user_idx].sort_values(ascending=False)\n",
    "    sort_prod_by_predictions = predictions_df.iloc[user_idx].sort_values(ascending=False)\n",
    "    \n",
    "    ratings_df = pd.concat([sort_prod_by_ratings, sort_prod_by_predictions], axis=1)\n",
    "    ratings_df.index.name = 'Recommended Items'\n",
    "    ratings_df.columns = ['prod_by_ratings', 'prod_by_predictions']\n",
    "    ratings_df = ratings_df.loc[ratings_df.prod_by_ratings == 0]   \n",
    "    ratings_df = ratings_df.sort_values('prod_by_predictions', ascending=False)\n",
    "    print('\\nBelow are the recommended items:\\n')\n",
    "    print(ratings_df.head(num_recommendations))"
   ]
  },
  {
   "cell_type": "code",
   "execution_count": 49,
   "metadata": {},
   "outputs": [
    {
     "name": "stdout",
     "output_type": "stream",
     "text": [
      "\n",
      "Below are the recommended items:\n",
      "\n",
      "                   prod_by_ratings  prod_by_predictions\n",
      "Recommended Items                                      \n",
      "9575871979                     0.0         9.550089e-17\n",
      "9888002198                     0.0         8.438619e-17\n",
      "B00000K135                     0.0         4.942736e-17\n",
      "7214047977                     0.0         3.726323e-17\n",
      "B00000J1UQ                     0.0         3.543282e-17\n"
     ]
    },
    {
     "name": "stderr",
     "output_type": "stream",
     "text": [
      "D:\\Softwares\\anaconda3\\lib\\site-packages\\ipykernel_launcher.py:6: FutureWarning: Sorting because non-concatenation axis is not aligned. A future version\n",
      "of pandas will change to not sort by default.\n",
      "\n",
      "To accept the future behavior, pass 'sort=False'.\n",
      "\n",
      "To retain the current behavior and silence the warning, pass 'sort=True'.\n",
      "\n",
      "  \n"
     ]
    }
   ],
   "source": [
    "recommend_item(121, pivot_df, predictions_df)"
   ]
  },
  {
   "cell_type": "markdown",
   "metadata": {},
   "source": [
    "### 6.Evaluate both the models. ( Once the model is trained on the training data, it can be used to compute the error (like RMSE) on predictions made on the test data.) You can also use a different method to evaluate the models."
   ]
  },
  {
   "cell_type": "code",
   "execution_count": 51,
   "metadata": {},
   "outputs": [
    {
     "data": {
      "text/plain": [
       "0.00318"
      ]
     },
     "execution_count": 51,
     "metadata": {},
     "output_type": "execute_result"
    }
   ],
   "source": [
    "rmse_df = pd.concat([pivot_df.mean(), predictions_df.mean()], axis=1)\n",
    "rmse_df.columns = ['Avg_actual_ratings', 'Avg_predicted_ratings']\n",
    "rmse = round((((rmse_df.Avg_actual_ratings - rmse_df.Avg_predicted_ratings) ** 2).mean() ** 0.5), 5)\n",
    "rmse"
   ]
  },
  {
   "cell_type": "markdown",
   "metadata": {},
   "source": [
    "### 7.Get top - K ( K = 5) recommendations. Since our goal is to recommend new products to each user based on his/her habits, we will recommend 5 new products."
   ]
  },
  {
   "cell_type": "code",
   "execution_count": 50,
   "metadata": {},
   "outputs": [
    {
     "name": "stdout",
     "output_type": "stream",
     "text": [
      "\n",
      "Below are the recommended items:\n",
      "\n",
      "                   prod_by_ratings  prod_by_predictions\n",
      "Recommended Items                                      \n",
      "B00000JD34                     0.0             0.020968\n",
      "B00000JCT8                     0.0             0.001806\n",
      "9989485623                     0.0             0.000598\n",
      "B00000JCTO                     0.0             0.000163\n",
      "B00000J3WQ                     0.0             0.000061\n"
     ]
    },
    {
     "name": "stderr",
     "output_type": "stream",
     "text": [
      "D:\\Softwares\\anaconda3\\lib\\site-packages\\ipykernel_launcher.py:6: FutureWarning: Sorting because non-concatenation axis is not aligned. A future version\n",
      "of pandas will change to not sort by default.\n",
      "\n",
      "To accept the future behavior, pass 'sort=False'.\n",
      "\n",
      "To retain the current behavior and silence the warning, pass 'sort=True'.\n",
      "\n",
      "  \n"
     ]
    }
   ],
   "source": [
    "recommend_item(200, pivot_df, predictions_df)"
   ]
  },
  {
   "cell_type": "markdown",
   "metadata": {},
   "source": [
    "### 8.Summarise your insights."
   ]
  },
  {
   "cell_type": "code",
   "execution_count": null,
   "metadata": {},
   "outputs": [],
   "source": [
    "#The collaborative filtering algorithm uses User Behavior for recommending items. \n",
    "#This algorithm first finds the similarity score between users. Based on this similarity score, \n",
    "#it then picks out the most similar users and recommends products which these similar users have liked or bought previously.\n",
    "# Users having higher correlation will tend to be similar."
   ]
  }
 ],
 "metadata": {
  "kernelspec": {
   "display_name": "Python 3",
   "language": "python",
   "name": "python3"
  },
  "language_info": {
   "codemirror_mode": {
    "name": "ipython",
    "version": 3
   },
   "file_extension": ".py",
   "mimetype": "text/x-python",
   "name": "python",
   "nbconvert_exporter": "python",
   "pygments_lexer": "ipython3",
   "version": "3.7.1"
  }
 },
 "nbformat": 4,
 "nbformat_minor": 2
}
